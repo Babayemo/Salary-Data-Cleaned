{
  "nbformat": 4,
  "nbformat_minor": 0,
  "metadata": {
    "colab": {
      "name": "Salary_Data Cleanning_1.ipynb",
      "provenance": [],
      "collapsed_sections": []
    },
    "kernelspec": {
      "name": "python3",
      "display_name": "Python 3"
    },
    "language_info": {
      "name": "python"
    }
  },
  "cells": [
    {
      "cell_type": "markdown",
      "source": [
        "# **Import Pandas**"
      ],
      "metadata": {
        "id": "U6alqEg4yCp7"
      }
    },
    {
      "cell_type": "code",
      "execution_count": 12,
      "metadata": {
        "id": "M5fpuXfhhHLf"
      },
      "outputs": [],
      "source": [
        "import pandas as pd\n",
        "import matplotlib.pyplot as plt\n"
      ]
    },
    {
      "cell_type": "markdown",
      "source": [
        "# **Read in the Dataset**"
      ],
      "metadata": {
        "id": "UNHTeh9iyOsx"
      }
    },
    {
      "cell_type": "code",
      "source": [
        "salary_df = pd.read_csv('Salary_Data.csv')\n",
        "salary_df.head()"
      ],
      "metadata": {
        "colab": {
          "base_uri": "https://localhost:8080/",
          "height": 476
        },
        "id": "Gfl13cBYir_R",
        "outputId": "e7485e99-01d8-42eb-f272-e167293e51d0"
      },
      "execution_count": 13,
      "outputs": [
        {
          "output_type": "execute_result",
          "data": {
            "text/html": [
              "\n",
              "  <div id=\"df-1b6d1afd-a835-4073-925f-ce42923afd89\">\n",
              "    <div class=\"colab-df-container\">\n",
              "      <div>\n",
              "<style scoped>\n",
              "    .dataframe tbody tr th:only-of-type {\n",
              "        vertical-align: middle;\n",
              "    }\n",
              "\n",
              "    .dataframe tbody tr th {\n",
              "        vertical-align: top;\n",
              "    }\n",
              "\n",
              "    .dataframe thead th {\n",
              "        text-align: right;\n",
              "    }\n",
              "</style>\n",
              "<table border=\"1\" class=\"dataframe\">\n",
              "  <thead>\n",
              "    <tr style=\"text-align: right;\">\n",
              "      <th></th>\n",
              "      <th>Timestamp</th>\n",
              "      <th>How old are you?</th>\n",
              "      <th>Industry</th>\n",
              "      <th>Job title</th>\n",
              "      <th>Additional context on job title</th>\n",
              "      <th>Annual salary</th>\n",
              "      <th>Other monetary comp</th>\n",
              "      <th>Currency</th>\n",
              "      <th>Currency - other</th>\n",
              "      <th>Additional context on income</th>\n",
              "      <th>Country</th>\n",
              "      <th>State</th>\n",
              "      <th>City</th>\n",
              "      <th>Overall years of professional experience</th>\n",
              "      <th>Years of experience in field</th>\n",
              "      <th>Highest level of education completed</th>\n",
              "      <th>Gender</th>\n",
              "      <th>Race</th>\n",
              "    </tr>\n",
              "  </thead>\n",
              "  <tbody>\n",
              "    <tr>\n",
              "      <th>0</th>\n",
              "      <td>4/27/2021 11:02:10</td>\n",
              "      <td>25-34</td>\n",
              "      <td>Education (Higher Education)</td>\n",
              "      <td>Research and Instruction Librarian</td>\n",
              "      <td>NaN</td>\n",
              "      <td>55,000</td>\n",
              "      <td>0.0</td>\n",
              "      <td>USD</td>\n",
              "      <td>NaN</td>\n",
              "      <td>NaN</td>\n",
              "      <td>United States</td>\n",
              "      <td>Massachusetts</td>\n",
              "      <td>Boston</td>\n",
              "      <td>5-7 years</td>\n",
              "      <td>5-7 years</td>\n",
              "      <td>Master's degree</td>\n",
              "      <td>Woman</td>\n",
              "      <td>White</td>\n",
              "    </tr>\n",
              "    <tr>\n",
              "      <th>1</th>\n",
              "      <td>4/27/2021 11:02:22</td>\n",
              "      <td>25-34</td>\n",
              "      <td>Computing or Tech</td>\n",
              "      <td>Change &amp; Internal Communications Manager</td>\n",
              "      <td>NaN</td>\n",
              "      <td>54,600</td>\n",
              "      <td>4000.0</td>\n",
              "      <td>GBP</td>\n",
              "      <td>NaN</td>\n",
              "      <td>NaN</td>\n",
              "      <td>United Kingdom</td>\n",
              "      <td>NaN</td>\n",
              "      <td>Cambridge</td>\n",
              "      <td>8 - 10 years</td>\n",
              "      <td>5-7 years</td>\n",
              "      <td>College degree</td>\n",
              "      <td>Non-binary</td>\n",
              "      <td>White</td>\n",
              "    </tr>\n",
              "    <tr>\n",
              "      <th>2</th>\n",
              "      <td>4/27/2021 11:02:38</td>\n",
              "      <td>25-34</td>\n",
              "      <td>Accounting, Banking &amp; Finance</td>\n",
              "      <td>Marketing Specialist</td>\n",
              "      <td>NaN</td>\n",
              "      <td>34,000</td>\n",
              "      <td>NaN</td>\n",
              "      <td>USD</td>\n",
              "      <td>NaN</td>\n",
              "      <td>NaN</td>\n",
              "      <td>US</td>\n",
              "      <td>Tennessee</td>\n",
              "      <td>Chattanooga</td>\n",
              "      <td>2 - 4 years</td>\n",
              "      <td>2 - 4 years</td>\n",
              "      <td>College degree</td>\n",
              "      <td>Woman</td>\n",
              "      <td>White</td>\n",
              "    </tr>\n",
              "    <tr>\n",
              "      <th>3</th>\n",
              "      <td>4/27/2021 11:02:41</td>\n",
              "      <td>25-34</td>\n",
              "      <td>Nonprofits</td>\n",
              "      <td>Program Manager</td>\n",
              "      <td>NaN</td>\n",
              "      <td>62,000</td>\n",
              "      <td>3000.0</td>\n",
              "      <td>USD</td>\n",
              "      <td>NaN</td>\n",
              "      <td>NaN</td>\n",
              "      <td>USA</td>\n",
              "      <td>Wisconsin</td>\n",
              "      <td>Milwaukee</td>\n",
              "      <td>8 - 10 years</td>\n",
              "      <td>5-7 years</td>\n",
              "      <td>College degree</td>\n",
              "      <td>Woman</td>\n",
              "      <td>White</td>\n",
              "    </tr>\n",
              "    <tr>\n",
              "      <th>4</th>\n",
              "      <td>4/27/2021 11:02:42</td>\n",
              "      <td>25-34</td>\n",
              "      <td>Accounting, Banking &amp; Finance</td>\n",
              "      <td>Accounting Manager</td>\n",
              "      <td>NaN</td>\n",
              "      <td>60,000</td>\n",
              "      <td>7000.0</td>\n",
              "      <td>USD</td>\n",
              "      <td>NaN</td>\n",
              "      <td>NaN</td>\n",
              "      <td>US</td>\n",
              "      <td>South Carolina</td>\n",
              "      <td>Greenville</td>\n",
              "      <td>8 - 10 years</td>\n",
              "      <td>5-7 years</td>\n",
              "      <td>College degree</td>\n",
              "      <td>Woman</td>\n",
              "      <td>White</td>\n",
              "    </tr>\n",
              "  </tbody>\n",
              "</table>\n",
              "</div>\n",
              "      <button class=\"colab-df-convert\" onclick=\"convertToInteractive('df-1b6d1afd-a835-4073-925f-ce42923afd89')\"\n",
              "              title=\"Convert this dataframe to an interactive table.\"\n",
              "              style=\"display:none;\">\n",
              "        \n",
              "  <svg xmlns=\"http://www.w3.org/2000/svg\" height=\"24px\"viewBox=\"0 0 24 24\"\n",
              "       width=\"24px\">\n",
              "    <path d=\"M0 0h24v24H0V0z\" fill=\"none\"/>\n",
              "    <path d=\"M18.56 5.44l.94 2.06.94-2.06 2.06-.94-2.06-.94-.94-2.06-.94 2.06-2.06.94zm-11 1L8.5 8.5l.94-2.06 2.06-.94-2.06-.94L8.5 2.5l-.94 2.06-2.06.94zm10 10l.94 2.06.94-2.06 2.06-.94-2.06-.94-.94-2.06-.94 2.06-2.06.94z\"/><path d=\"M17.41 7.96l-1.37-1.37c-.4-.4-.92-.59-1.43-.59-.52 0-1.04.2-1.43.59L10.3 9.45l-7.72 7.72c-.78.78-.78 2.05 0 2.83L4 21.41c.39.39.9.59 1.41.59.51 0 1.02-.2 1.41-.59l7.78-7.78 2.81-2.81c.8-.78.8-2.07 0-2.86zM5.41 20L4 18.59l7.72-7.72 1.47 1.35L5.41 20z\"/>\n",
              "  </svg>\n",
              "      </button>\n",
              "      \n",
              "  <style>\n",
              "    .colab-df-container {\n",
              "      display:flex;\n",
              "      flex-wrap:wrap;\n",
              "      gap: 12px;\n",
              "    }\n",
              "\n",
              "    .colab-df-convert {\n",
              "      background-color: #E8F0FE;\n",
              "      border: none;\n",
              "      border-radius: 50%;\n",
              "      cursor: pointer;\n",
              "      display: none;\n",
              "      fill: #1967D2;\n",
              "      height: 32px;\n",
              "      padding: 0 0 0 0;\n",
              "      width: 32px;\n",
              "    }\n",
              "\n",
              "    .colab-df-convert:hover {\n",
              "      background-color: #E2EBFA;\n",
              "      box-shadow: 0px 1px 2px rgba(60, 64, 67, 0.3), 0px 1px 3px 1px rgba(60, 64, 67, 0.15);\n",
              "      fill: #174EA6;\n",
              "    }\n",
              "\n",
              "    [theme=dark] .colab-df-convert {\n",
              "      background-color: #3B4455;\n",
              "      fill: #D2E3FC;\n",
              "    }\n",
              "\n",
              "    [theme=dark] .colab-df-convert:hover {\n",
              "      background-color: #434B5C;\n",
              "      box-shadow: 0px 1px 3px 1px rgba(0, 0, 0, 0.15);\n",
              "      filter: drop-shadow(0px 1px 2px rgba(0, 0, 0, 0.3));\n",
              "      fill: #FFFFFF;\n",
              "    }\n",
              "  </style>\n",
              "\n",
              "      <script>\n",
              "        const buttonEl =\n",
              "          document.querySelector('#df-1b6d1afd-a835-4073-925f-ce42923afd89 button.colab-df-convert');\n",
              "        buttonEl.style.display =\n",
              "          google.colab.kernel.accessAllowed ? 'block' : 'none';\n",
              "\n",
              "        async function convertToInteractive(key) {\n",
              "          const element = document.querySelector('#df-1b6d1afd-a835-4073-925f-ce42923afd89');\n",
              "          const dataTable =\n",
              "            await google.colab.kernel.invokeFunction('convertToInteractive',\n",
              "                                                     [key], {});\n",
              "          if (!dataTable) return;\n",
              "\n",
              "          const docLinkHtml = 'Like what you see? Visit the ' +\n",
              "            '<a target=\"_blank\" href=https://colab.research.google.com/notebooks/data_table.ipynb>data table notebook</a>'\n",
              "            + ' to learn more about interactive tables.';\n",
              "          element.innerHTML = '';\n",
              "          dataTable['output_type'] = 'display_data';\n",
              "          await google.colab.output.renderOutput(dataTable, element);\n",
              "          const docLink = document.createElement('div');\n",
              "          docLink.innerHTML = docLinkHtml;\n",
              "          element.appendChild(docLink);\n",
              "        }\n",
              "      </script>\n",
              "    </div>\n",
              "  </div>\n",
              "  "
            ],
            "text/plain": [
              "            Timestamp How old are you?  ...      Gender   Race\n",
              "0  4/27/2021 11:02:10            25-34  ...       Woman  White\n",
              "1  4/27/2021 11:02:22            25-34  ...  Non-binary  White\n",
              "2  4/27/2021 11:02:38            25-34  ...       Woman  White\n",
              "3  4/27/2021 11:02:41            25-34  ...       Woman  White\n",
              "4  4/27/2021 11:02:42            25-34  ...       Woman  White\n",
              "\n",
              "[5 rows x 18 columns]"
            ]
          },
          "metadata": {},
          "execution_count": 13
        }
      ]
    },
    {
      "cell_type": "markdown",
      "source": [
        "# **Remove all the whitespaces and the commas in the Salary Column so as to convert it to int64**"
      ],
      "metadata": {
        "id": "9tStn8Jayfkr"
      }
    },
    {
      "cell_type": "code",
      "source": [
        "salary_df['Annual salary'] = salary_df['Annual salary'].str.replace(r'\\W' , \"\")\n",
        "\n",
        "salary_df"
      ],
      "metadata": {
        "id": "wN7IjC1yjCog",
        "colab": {
          "base_uri": "https://localhost:8080/",
          "height": 974
        },
        "outputId": "57e6dbc3-d3c3-40f9-8d11-81ae51c03bc2"
      },
      "execution_count": 14,
      "outputs": [
        {
          "output_type": "execute_result",
          "data": {
            "text/html": [
              "\n",
              "  <div id=\"df-d80b0822-9d67-4c0b-892f-323c0a6f0086\">\n",
              "    <div class=\"colab-df-container\">\n",
              "      <div>\n",
              "<style scoped>\n",
              "    .dataframe tbody tr th:only-of-type {\n",
              "        vertical-align: middle;\n",
              "    }\n",
              "\n",
              "    .dataframe tbody tr th {\n",
              "        vertical-align: top;\n",
              "    }\n",
              "\n",
              "    .dataframe thead th {\n",
              "        text-align: right;\n",
              "    }\n",
              "</style>\n",
              "<table border=\"1\" class=\"dataframe\">\n",
              "  <thead>\n",
              "    <tr style=\"text-align: right;\">\n",
              "      <th></th>\n",
              "      <th>Timestamp</th>\n",
              "      <th>How old are you?</th>\n",
              "      <th>Industry</th>\n",
              "      <th>Job title</th>\n",
              "      <th>Additional context on job title</th>\n",
              "      <th>Annual salary</th>\n",
              "      <th>Other monetary comp</th>\n",
              "      <th>Currency</th>\n",
              "      <th>Currency - other</th>\n",
              "      <th>Additional context on income</th>\n",
              "      <th>Country</th>\n",
              "      <th>State</th>\n",
              "      <th>City</th>\n",
              "      <th>Overall years of professional experience</th>\n",
              "      <th>Years of experience in field</th>\n",
              "      <th>Highest level of education completed</th>\n",
              "      <th>Gender</th>\n",
              "      <th>Race</th>\n",
              "    </tr>\n",
              "  </thead>\n",
              "  <tbody>\n",
              "    <tr>\n",
              "      <th>0</th>\n",
              "      <td>4/27/2021 11:02:10</td>\n",
              "      <td>25-34</td>\n",
              "      <td>Education (Higher Education)</td>\n",
              "      <td>Research and Instruction Librarian</td>\n",
              "      <td>NaN</td>\n",
              "      <td>55000</td>\n",
              "      <td>0.0</td>\n",
              "      <td>USD</td>\n",
              "      <td>NaN</td>\n",
              "      <td>NaN</td>\n",
              "      <td>United States</td>\n",
              "      <td>Massachusetts</td>\n",
              "      <td>Boston</td>\n",
              "      <td>5-7 years</td>\n",
              "      <td>5-7 years</td>\n",
              "      <td>Master's degree</td>\n",
              "      <td>Woman</td>\n",
              "      <td>White</td>\n",
              "    </tr>\n",
              "    <tr>\n",
              "      <th>1</th>\n",
              "      <td>4/27/2021 11:02:22</td>\n",
              "      <td>25-34</td>\n",
              "      <td>Computing or Tech</td>\n",
              "      <td>Change &amp; Internal Communications Manager</td>\n",
              "      <td>NaN</td>\n",
              "      <td>54600</td>\n",
              "      <td>4000.0</td>\n",
              "      <td>GBP</td>\n",
              "      <td>NaN</td>\n",
              "      <td>NaN</td>\n",
              "      <td>United Kingdom</td>\n",
              "      <td>NaN</td>\n",
              "      <td>Cambridge</td>\n",
              "      <td>8 - 10 years</td>\n",
              "      <td>5-7 years</td>\n",
              "      <td>College degree</td>\n",
              "      <td>Non-binary</td>\n",
              "      <td>White</td>\n",
              "    </tr>\n",
              "    <tr>\n",
              "      <th>2</th>\n",
              "      <td>4/27/2021 11:02:38</td>\n",
              "      <td>25-34</td>\n",
              "      <td>Accounting, Banking &amp; Finance</td>\n",
              "      <td>Marketing Specialist</td>\n",
              "      <td>NaN</td>\n",
              "      <td>34000</td>\n",
              "      <td>NaN</td>\n",
              "      <td>USD</td>\n",
              "      <td>NaN</td>\n",
              "      <td>NaN</td>\n",
              "      <td>US</td>\n",
              "      <td>Tennessee</td>\n",
              "      <td>Chattanooga</td>\n",
              "      <td>2 - 4 years</td>\n",
              "      <td>2 - 4 years</td>\n",
              "      <td>College degree</td>\n",
              "      <td>Woman</td>\n",
              "      <td>White</td>\n",
              "    </tr>\n",
              "    <tr>\n",
              "      <th>3</th>\n",
              "      <td>4/27/2021 11:02:41</td>\n",
              "      <td>25-34</td>\n",
              "      <td>Nonprofits</td>\n",
              "      <td>Program Manager</td>\n",
              "      <td>NaN</td>\n",
              "      <td>62000</td>\n",
              "      <td>3000.0</td>\n",
              "      <td>USD</td>\n",
              "      <td>NaN</td>\n",
              "      <td>NaN</td>\n",
              "      <td>USA</td>\n",
              "      <td>Wisconsin</td>\n",
              "      <td>Milwaukee</td>\n",
              "      <td>8 - 10 years</td>\n",
              "      <td>5-7 years</td>\n",
              "      <td>College degree</td>\n",
              "      <td>Woman</td>\n",
              "      <td>White</td>\n",
              "    </tr>\n",
              "    <tr>\n",
              "      <th>4</th>\n",
              "      <td>4/27/2021 11:02:42</td>\n",
              "      <td>25-34</td>\n",
              "      <td>Accounting, Banking &amp; Finance</td>\n",
              "      <td>Accounting Manager</td>\n",
              "      <td>NaN</td>\n",
              "      <td>60000</td>\n",
              "      <td>7000.0</td>\n",
              "      <td>USD</td>\n",
              "      <td>NaN</td>\n",
              "      <td>NaN</td>\n",
              "      <td>US</td>\n",
              "      <td>South Carolina</td>\n",
              "      <td>Greenville</td>\n",
              "      <td>8 - 10 years</td>\n",
              "      <td>5-7 years</td>\n",
              "      <td>College degree</td>\n",
              "      <td>Woman</td>\n",
              "      <td>White</td>\n",
              "    </tr>\n",
              "    <tr>\n",
              "      <th>...</th>\n",
              "      <td>...</td>\n",
              "      <td>...</td>\n",
              "      <td>...</td>\n",
              "      <td>...</td>\n",
              "      <td>...</td>\n",
              "      <td>...</td>\n",
              "      <td>...</td>\n",
              "      <td>...</td>\n",
              "      <td>...</td>\n",
              "      <td>...</td>\n",
              "      <td>...</td>\n",
              "      <td>...</td>\n",
              "      <td>...</td>\n",
              "      <td>...</td>\n",
              "      <td>...</td>\n",
              "      <td>...</td>\n",
              "      <td>...</td>\n",
              "      <td>...</td>\n",
              "    </tr>\n",
              "    <tr>\n",
              "      <th>27592</th>\n",
              "      <td>12/28/2021 18:15:37</td>\n",
              "      <td>45-54</td>\n",
              "      <td>NaN</td>\n",
              "      <td>Associate professor</td>\n",
              "      <td>Tenured</td>\n",
              "      <td>80000</td>\n",
              "      <td>0.0</td>\n",
              "      <td>USD</td>\n",
              "      <td>NaN</td>\n",
              "      <td>Humanities, regional state college</td>\n",
              "      <td>USA</td>\n",
              "      <td>New Hampshire</td>\n",
              "      <td>Keene</td>\n",
              "      <td>11 - 20 years</td>\n",
              "      <td>11 - 20 years</td>\n",
              "      <td>PhD</td>\n",
              "      <td>Woman</td>\n",
              "      <td>White</td>\n",
              "    </tr>\n",
              "    <tr>\n",
              "      <th>27593</th>\n",
              "      <td>12/29/2021 0:42:19</td>\n",
              "      <td>25-34</td>\n",
              "      <td>Marketing, Advertising &amp; PR</td>\n",
              "      <td>Marketing Manager</td>\n",
              "      <td>NaN</td>\n",
              "      <td>91000</td>\n",
              "      <td>NaN</td>\n",
              "      <td>CAD</td>\n",
              "      <td>NaN</td>\n",
              "      <td>NaN</td>\n",
              "      <td>Canada</td>\n",
              "      <td>NaN</td>\n",
              "      <td>Swift current</td>\n",
              "      <td>5-7 years</td>\n",
              "      <td>5-7 years</td>\n",
              "      <td>Master's degree</td>\n",
              "      <td>Man</td>\n",
              "      <td>White</td>\n",
              "    </tr>\n",
              "    <tr>\n",
              "      <th>27594</th>\n",
              "      <td>12/29/2021 6:55:29</td>\n",
              "      <td>25-34</td>\n",
              "      <td>Engineering or Manufacturing</td>\n",
              "      <td>Operational Planner</td>\n",
              "      <td>Compliance and asset management</td>\n",
              "      <td>70000</td>\n",
              "      <td>0.0</td>\n",
              "      <td>USD</td>\n",
              "      <td>NaN</td>\n",
              "      <td>Employed by third-party contract firm with inc...</td>\n",
              "      <td>US</td>\n",
              "      <td>North Dakota</td>\n",
              "      <td>Fargo</td>\n",
              "      <td>5-7 years</td>\n",
              "      <td>1 year or less</td>\n",
              "      <td>College degree</td>\n",
              "      <td>Other or prefer not to answer</td>\n",
              "      <td>White</td>\n",
              "    </tr>\n",
              "    <tr>\n",
              "      <th>27595</th>\n",
              "      <td>12/29/2021 16:12:49</td>\n",
              "      <td>25-34</td>\n",
              "      <td>Health care</td>\n",
              "      <td>Office Coordinator</td>\n",
              "      <td>NaN</td>\n",
              "      <td>36500</td>\n",
              "      <td>0.0</td>\n",
              "      <td>USD</td>\n",
              "      <td>NaN</td>\n",
              "      <td>NaN</td>\n",
              "      <td>United States</td>\n",
              "      <td>Mississippi</td>\n",
              "      <td>Jackson</td>\n",
              "      <td>8 - 10 years</td>\n",
              "      <td>2 - 4 years</td>\n",
              "      <td>Some college</td>\n",
              "      <td>Woman</td>\n",
              "      <td>White</td>\n",
              "    </tr>\n",
              "    <tr>\n",
              "      <th>27596</th>\n",
              "      <td>12/31/2021 20:57:28</td>\n",
              "      <td>35-44</td>\n",
              "      <td>Social Work</td>\n",
              "      <td>Licensed social worker</td>\n",
              "      <td>NaN</td>\n",
              "      <td>85000</td>\n",
              "      <td>0.0</td>\n",
              "      <td>USD</td>\n",
              "      <td>NaN</td>\n",
              "      <td>NaN</td>\n",
              "      <td>USA</td>\n",
              "      <td>New York</td>\n",
              "      <td>New York</td>\n",
              "      <td>8 - 10 years</td>\n",
              "      <td>2 - 4 years</td>\n",
              "      <td>College degree</td>\n",
              "      <td>Woman</td>\n",
              "      <td>Hispanic, Latino, or Spanish origin</td>\n",
              "    </tr>\n",
              "  </tbody>\n",
              "</table>\n",
              "<p>27597 rows × 18 columns</p>\n",
              "</div>\n",
              "      <button class=\"colab-df-convert\" onclick=\"convertToInteractive('df-d80b0822-9d67-4c0b-892f-323c0a6f0086')\"\n",
              "              title=\"Convert this dataframe to an interactive table.\"\n",
              "              style=\"display:none;\">\n",
              "        \n",
              "  <svg xmlns=\"http://www.w3.org/2000/svg\" height=\"24px\"viewBox=\"0 0 24 24\"\n",
              "       width=\"24px\">\n",
              "    <path d=\"M0 0h24v24H0V0z\" fill=\"none\"/>\n",
              "    <path d=\"M18.56 5.44l.94 2.06.94-2.06 2.06-.94-2.06-.94-.94-2.06-.94 2.06-2.06.94zm-11 1L8.5 8.5l.94-2.06 2.06-.94-2.06-.94L8.5 2.5l-.94 2.06-2.06.94zm10 10l.94 2.06.94-2.06 2.06-.94-2.06-.94-.94-2.06-.94 2.06-2.06.94z\"/><path d=\"M17.41 7.96l-1.37-1.37c-.4-.4-.92-.59-1.43-.59-.52 0-1.04.2-1.43.59L10.3 9.45l-7.72 7.72c-.78.78-.78 2.05 0 2.83L4 21.41c.39.39.9.59 1.41.59.51 0 1.02-.2 1.41-.59l7.78-7.78 2.81-2.81c.8-.78.8-2.07 0-2.86zM5.41 20L4 18.59l7.72-7.72 1.47 1.35L5.41 20z\"/>\n",
              "  </svg>\n",
              "      </button>\n",
              "      \n",
              "  <style>\n",
              "    .colab-df-container {\n",
              "      display:flex;\n",
              "      flex-wrap:wrap;\n",
              "      gap: 12px;\n",
              "    }\n",
              "\n",
              "    .colab-df-convert {\n",
              "      background-color: #E8F0FE;\n",
              "      border: none;\n",
              "      border-radius: 50%;\n",
              "      cursor: pointer;\n",
              "      display: none;\n",
              "      fill: #1967D2;\n",
              "      height: 32px;\n",
              "      padding: 0 0 0 0;\n",
              "      width: 32px;\n",
              "    }\n",
              "\n",
              "    .colab-df-convert:hover {\n",
              "      background-color: #E2EBFA;\n",
              "      box-shadow: 0px 1px 2px rgba(60, 64, 67, 0.3), 0px 1px 3px 1px rgba(60, 64, 67, 0.15);\n",
              "      fill: #174EA6;\n",
              "    }\n",
              "\n",
              "    [theme=dark] .colab-df-convert {\n",
              "      background-color: #3B4455;\n",
              "      fill: #D2E3FC;\n",
              "    }\n",
              "\n",
              "    [theme=dark] .colab-df-convert:hover {\n",
              "      background-color: #434B5C;\n",
              "      box-shadow: 0px 1px 3px 1px rgba(0, 0, 0, 0.15);\n",
              "      filter: drop-shadow(0px 1px 2px rgba(0, 0, 0, 0.3));\n",
              "      fill: #FFFFFF;\n",
              "    }\n",
              "  </style>\n",
              "\n",
              "      <script>\n",
              "        const buttonEl =\n",
              "          document.querySelector('#df-d80b0822-9d67-4c0b-892f-323c0a6f0086 button.colab-df-convert');\n",
              "        buttonEl.style.display =\n",
              "          google.colab.kernel.accessAllowed ? 'block' : 'none';\n",
              "\n",
              "        async function convertToInteractive(key) {\n",
              "          const element = document.querySelector('#df-d80b0822-9d67-4c0b-892f-323c0a6f0086');\n",
              "          const dataTable =\n",
              "            await google.colab.kernel.invokeFunction('convertToInteractive',\n",
              "                                                     [key], {});\n",
              "          if (!dataTable) return;\n",
              "\n",
              "          const docLinkHtml = 'Like what you see? Visit the ' +\n",
              "            '<a target=\"_blank\" href=https://colab.research.google.com/notebooks/data_table.ipynb>data table notebook</a>'\n",
              "            + ' to learn more about interactive tables.';\n",
              "          element.innerHTML = '';\n",
              "          dataTable['output_type'] = 'display_data';\n",
              "          await google.colab.output.renderOutput(dataTable, element);\n",
              "          const docLink = document.createElement('div');\n",
              "          docLink.innerHTML = docLinkHtml;\n",
              "          element.appendChild(docLink);\n",
              "        }\n",
              "      </script>\n",
              "    </div>\n",
              "  </div>\n",
              "  "
            ],
            "text/plain": [
              "                 Timestamp  ...                                 Race\n",
              "0       4/27/2021 11:02:10  ...                                White\n",
              "1       4/27/2021 11:02:22  ...                                White\n",
              "2       4/27/2021 11:02:38  ...                                White\n",
              "3       4/27/2021 11:02:41  ...                                White\n",
              "4       4/27/2021 11:02:42  ...                                White\n",
              "...                    ...  ...                                  ...\n",
              "27592  12/28/2021 18:15:37  ...                                White\n",
              "27593   12/29/2021 0:42:19  ...                                White\n",
              "27594   12/29/2021 6:55:29  ...                                White\n",
              "27595  12/29/2021 16:12:49  ...                                White\n",
              "27596  12/31/2021 20:57:28  ...  Hispanic, Latino, or Spanish origin\n",
              "\n",
              "[27597 rows x 18 columns]"
            ]
          },
          "metadata": {},
          "execution_count": 14
        }
      ]
    },
    {
      "cell_type": "markdown",
      "source": [
        "# **Remove Columns that don't have relevant data and are not important to the analysis**"
      ],
      "metadata": {
        "id": "Ja3SZmr7yqFW"
      }
    },
    {
      "cell_type": "code",
      "source": [
        "salary_df = salary_df.drop(columns=['Additional context on job title', 'Currency - other', 'Other monetary comp', 'Additional context on income'])\n",
        "salary_df"
      ],
      "metadata": {
        "colab": {
          "base_uri": "https://localhost:8080/",
          "height": 815
        },
        "id": "KffxwiMjze4k",
        "outputId": "11201361-5cd7-4cef-87fa-fa5f5b09deaf"
      },
      "execution_count": 15,
      "outputs": [
        {
          "output_type": "execute_result",
          "data": {
            "text/html": [
              "\n",
              "  <div id=\"df-bee2144b-e57d-464f-8b67-4bd174007497\">\n",
              "    <div class=\"colab-df-container\">\n",
              "      <div>\n",
              "<style scoped>\n",
              "    .dataframe tbody tr th:only-of-type {\n",
              "        vertical-align: middle;\n",
              "    }\n",
              "\n",
              "    .dataframe tbody tr th {\n",
              "        vertical-align: top;\n",
              "    }\n",
              "\n",
              "    .dataframe thead th {\n",
              "        text-align: right;\n",
              "    }\n",
              "</style>\n",
              "<table border=\"1\" class=\"dataframe\">\n",
              "  <thead>\n",
              "    <tr style=\"text-align: right;\">\n",
              "      <th></th>\n",
              "      <th>Timestamp</th>\n",
              "      <th>How old are you?</th>\n",
              "      <th>Industry</th>\n",
              "      <th>Job title</th>\n",
              "      <th>Annual salary</th>\n",
              "      <th>Currency</th>\n",
              "      <th>Country</th>\n",
              "      <th>State</th>\n",
              "      <th>City</th>\n",
              "      <th>Overall years of professional experience</th>\n",
              "      <th>Years of experience in field</th>\n",
              "      <th>Highest level of education completed</th>\n",
              "      <th>Gender</th>\n",
              "      <th>Race</th>\n",
              "    </tr>\n",
              "  </thead>\n",
              "  <tbody>\n",
              "    <tr>\n",
              "      <th>0</th>\n",
              "      <td>4/27/2021 11:02:10</td>\n",
              "      <td>25-34</td>\n",
              "      <td>Education (Higher Education)</td>\n",
              "      <td>Research and Instruction Librarian</td>\n",
              "      <td>55000</td>\n",
              "      <td>USD</td>\n",
              "      <td>United States</td>\n",
              "      <td>Massachusetts</td>\n",
              "      <td>Boston</td>\n",
              "      <td>5-7 years</td>\n",
              "      <td>5-7 years</td>\n",
              "      <td>Master's degree</td>\n",
              "      <td>Woman</td>\n",
              "      <td>White</td>\n",
              "    </tr>\n",
              "    <tr>\n",
              "      <th>1</th>\n",
              "      <td>4/27/2021 11:02:22</td>\n",
              "      <td>25-34</td>\n",
              "      <td>Computing or Tech</td>\n",
              "      <td>Change &amp; Internal Communications Manager</td>\n",
              "      <td>54600</td>\n",
              "      <td>GBP</td>\n",
              "      <td>United Kingdom</td>\n",
              "      <td>NaN</td>\n",
              "      <td>Cambridge</td>\n",
              "      <td>8 - 10 years</td>\n",
              "      <td>5-7 years</td>\n",
              "      <td>College degree</td>\n",
              "      <td>Non-binary</td>\n",
              "      <td>White</td>\n",
              "    </tr>\n",
              "    <tr>\n",
              "      <th>2</th>\n",
              "      <td>4/27/2021 11:02:38</td>\n",
              "      <td>25-34</td>\n",
              "      <td>Accounting, Banking &amp; Finance</td>\n",
              "      <td>Marketing Specialist</td>\n",
              "      <td>34000</td>\n",
              "      <td>USD</td>\n",
              "      <td>US</td>\n",
              "      <td>Tennessee</td>\n",
              "      <td>Chattanooga</td>\n",
              "      <td>2 - 4 years</td>\n",
              "      <td>2 - 4 years</td>\n",
              "      <td>College degree</td>\n",
              "      <td>Woman</td>\n",
              "      <td>White</td>\n",
              "    </tr>\n",
              "    <tr>\n",
              "      <th>3</th>\n",
              "      <td>4/27/2021 11:02:41</td>\n",
              "      <td>25-34</td>\n",
              "      <td>Nonprofits</td>\n",
              "      <td>Program Manager</td>\n",
              "      <td>62000</td>\n",
              "      <td>USD</td>\n",
              "      <td>USA</td>\n",
              "      <td>Wisconsin</td>\n",
              "      <td>Milwaukee</td>\n",
              "      <td>8 - 10 years</td>\n",
              "      <td>5-7 years</td>\n",
              "      <td>College degree</td>\n",
              "      <td>Woman</td>\n",
              "      <td>White</td>\n",
              "    </tr>\n",
              "    <tr>\n",
              "      <th>4</th>\n",
              "      <td>4/27/2021 11:02:42</td>\n",
              "      <td>25-34</td>\n",
              "      <td>Accounting, Banking &amp; Finance</td>\n",
              "      <td>Accounting Manager</td>\n",
              "      <td>60000</td>\n",
              "      <td>USD</td>\n",
              "      <td>US</td>\n",
              "      <td>South Carolina</td>\n",
              "      <td>Greenville</td>\n",
              "      <td>8 - 10 years</td>\n",
              "      <td>5-7 years</td>\n",
              "      <td>College degree</td>\n",
              "      <td>Woman</td>\n",
              "      <td>White</td>\n",
              "    </tr>\n",
              "    <tr>\n",
              "      <th>...</th>\n",
              "      <td>...</td>\n",
              "      <td>...</td>\n",
              "      <td>...</td>\n",
              "      <td>...</td>\n",
              "      <td>...</td>\n",
              "      <td>...</td>\n",
              "      <td>...</td>\n",
              "      <td>...</td>\n",
              "      <td>...</td>\n",
              "      <td>...</td>\n",
              "      <td>...</td>\n",
              "      <td>...</td>\n",
              "      <td>...</td>\n",
              "      <td>...</td>\n",
              "    </tr>\n",
              "    <tr>\n",
              "      <th>27592</th>\n",
              "      <td>12/28/2021 18:15:37</td>\n",
              "      <td>45-54</td>\n",
              "      <td>NaN</td>\n",
              "      <td>Associate professor</td>\n",
              "      <td>80000</td>\n",
              "      <td>USD</td>\n",
              "      <td>USA</td>\n",
              "      <td>New Hampshire</td>\n",
              "      <td>Keene</td>\n",
              "      <td>11 - 20 years</td>\n",
              "      <td>11 - 20 years</td>\n",
              "      <td>PhD</td>\n",
              "      <td>Woman</td>\n",
              "      <td>White</td>\n",
              "    </tr>\n",
              "    <tr>\n",
              "      <th>27593</th>\n",
              "      <td>12/29/2021 0:42:19</td>\n",
              "      <td>25-34</td>\n",
              "      <td>Marketing, Advertising &amp; PR</td>\n",
              "      <td>Marketing Manager</td>\n",
              "      <td>91000</td>\n",
              "      <td>CAD</td>\n",
              "      <td>Canada</td>\n",
              "      <td>NaN</td>\n",
              "      <td>Swift current</td>\n",
              "      <td>5-7 years</td>\n",
              "      <td>5-7 years</td>\n",
              "      <td>Master's degree</td>\n",
              "      <td>Man</td>\n",
              "      <td>White</td>\n",
              "    </tr>\n",
              "    <tr>\n",
              "      <th>27594</th>\n",
              "      <td>12/29/2021 6:55:29</td>\n",
              "      <td>25-34</td>\n",
              "      <td>Engineering or Manufacturing</td>\n",
              "      <td>Operational Planner</td>\n",
              "      <td>70000</td>\n",
              "      <td>USD</td>\n",
              "      <td>US</td>\n",
              "      <td>North Dakota</td>\n",
              "      <td>Fargo</td>\n",
              "      <td>5-7 years</td>\n",
              "      <td>1 year or less</td>\n",
              "      <td>College degree</td>\n",
              "      <td>Other or prefer not to answer</td>\n",
              "      <td>White</td>\n",
              "    </tr>\n",
              "    <tr>\n",
              "      <th>27595</th>\n",
              "      <td>12/29/2021 16:12:49</td>\n",
              "      <td>25-34</td>\n",
              "      <td>Health care</td>\n",
              "      <td>Office Coordinator</td>\n",
              "      <td>36500</td>\n",
              "      <td>USD</td>\n",
              "      <td>United States</td>\n",
              "      <td>Mississippi</td>\n",
              "      <td>Jackson</td>\n",
              "      <td>8 - 10 years</td>\n",
              "      <td>2 - 4 years</td>\n",
              "      <td>Some college</td>\n",
              "      <td>Woman</td>\n",
              "      <td>White</td>\n",
              "    </tr>\n",
              "    <tr>\n",
              "      <th>27596</th>\n",
              "      <td>12/31/2021 20:57:28</td>\n",
              "      <td>35-44</td>\n",
              "      <td>Social Work</td>\n",
              "      <td>Licensed social worker</td>\n",
              "      <td>85000</td>\n",
              "      <td>USD</td>\n",
              "      <td>USA</td>\n",
              "      <td>New York</td>\n",
              "      <td>New York</td>\n",
              "      <td>8 - 10 years</td>\n",
              "      <td>2 - 4 years</td>\n",
              "      <td>College degree</td>\n",
              "      <td>Woman</td>\n",
              "      <td>Hispanic, Latino, or Spanish origin</td>\n",
              "    </tr>\n",
              "  </tbody>\n",
              "</table>\n",
              "<p>27597 rows × 14 columns</p>\n",
              "</div>\n",
              "      <button class=\"colab-df-convert\" onclick=\"convertToInteractive('df-bee2144b-e57d-464f-8b67-4bd174007497')\"\n",
              "              title=\"Convert this dataframe to an interactive table.\"\n",
              "              style=\"display:none;\">\n",
              "        \n",
              "  <svg xmlns=\"http://www.w3.org/2000/svg\" height=\"24px\"viewBox=\"0 0 24 24\"\n",
              "       width=\"24px\">\n",
              "    <path d=\"M0 0h24v24H0V0z\" fill=\"none\"/>\n",
              "    <path d=\"M18.56 5.44l.94 2.06.94-2.06 2.06-.94-2.06-.94-.94-2.06-.94 2.06-2.06.94zm-11 1L8.5 8.5l.94-2.06 2.06-.94-2.06-.94L8.5 2.5l-.94 2.06-2.06.94zm10 10l.94 2.06.94-2.06 2.06-.94-2.06-.94-.94-2.06-.94 2.06-2.06.94z\"/><path d=\"M17.41 7.96l-1.37-1.37c-.4-.4-.92-.59-1.43-.59-.52 0-1.04.2-1.43.59L10.3 9.45l-7.72 7.72c-.78.78-.78 2.05 0 2.83L4 21.41c.39.39.9.59 1.41.59.51 0 1.02-.2 1.41-.59l7.78-7.78 2.81-2.81c.8-.78.8-2.07 0-2.86zM5.41 20L4 18.59l7.72-7.72 1.47 1.35L5.41 20z\"/>\n",
              "  </svg>\n",
              "      </button>\n",
              "      \n",
              "  <style>\n",
              "    .colab-df-container {\n",
              "      display:flex;\n",
              "      flex-wrap:wrap;\n",
              "      gap: 12px;\n",
              "    }\n",
              "\n",
              "    .colab-df-convert {\n",
              "      background-color: #E8F0FE;\n",
              "      border: none;\n",
              "      border-radius: 50%;\n",
              "      cursor: pointer;\n",
              "      display: none;\n",
              "      fill: #1967D2;\n",
              "      height: 32px;\n",
              "      padding: 0 0 0 0;\n",
              "      width: 32px;\n",
              "    }\n",
              "\n",
              "    .colab-df-convert:hover {\n",
              "      background-color: #E2EBFA;\n",
              "      box-shadow: 0px 1px 2px rgba(60, 64, 67, 0.3), 0px 1px 3px 1px rgba(60, 64, 67, 0.15);\n",
              "      fill: #174EA6;\n",
              "    }\n",
              "\n",
              "    [theme=dark] .colab-df-convert {\n",
              "      background-color: #3B4455;\n",
              "      fill: #D2E3FC;\n",
              "    }\n",
              "\n",
              "    [theme=dark] .colab-df-convert:hover {\n",
              "      background-color: #434B5C;\n",
              "      box-shadow: 0px 1px 3px 1px rgba(0, 0, 0, 0.15);\n",
              "      filter: drop-shadow(0px 1px 2px rgba(0, 0, 0, 0.3));\n",
              "      fill: #FFFFFF;\n",
              "    }\n",
              "  </style>\n",
              "\n",
              "      <script>\n",
              "        const buttonEl =\n",
              "          document.querySelector('#df-bee2144b-e57d-464f-8b67-4bd174007497 button.colab-df-convert');\n",
              "        buttonEl.style.display =\n",
              "          google.colab.kernel.accessAllowed ? 'block' : 'none';\n",
              "\n",
              "        async function convertToInteractive(key) {\n",
              "          const element = document.querySelector('#df-bee2144b-e57d-464f-8b67-4bd174007497');\n",
              "          const dataTable =\n",
              "            await google.colab.kernel.invokeFunction('convertToInteractive',\n",
              "                                                     [key], {});\n",
              "          if (!dataTable) return;\n",
              "\n",
              "          const docLinkHtml = 'Like what you see? Visit the ' +\n",
              "            '<a target=\"_blank\" href=https://colab.research.google.com/notebooks/data_table.ipynb>data table notebook</a>'\n",
              "            + ' to learn more about interactive tables.';\n",
              "          element.innerHTML = '';\n",
              "          dataTable['output_type'] = 'display_data';\n",
              "          await google.colab.output.renderOutput(dataTable, element);\n",
              "          const docLink = document.createElement('div');\n",
              "          docLink.innerHTML = docLinkHtml;\n",
              "          element.appendChild(docLink);\n",
              "        }\n",
              "      </script>\n",
              "    </div>\n",
              "  </div>\n",
              "  "
            ],
            "text/plain": [
              "                 Timestamp  ...                                 Race\n",
              "0       4/27/2021 11:02:10  ...                                White\n",
              "1       4/27/2021 11:02:22  ...                                White\n",
              "2       4/27/2021 11:02:38  ...                                White\n",
              "3       4/27/2021 11:02:41  ...                                White\n",
              "4       4/27/2021 11:02:42  ...                                White\n",
              "...                    ...  ...                                  ...\n",
              "27592  12/28/2021 18:15:37  ...                                White\n",
              "27593   12/29/2021 0:42:19  ...                                White\n",
              "27594   12/29/2021 6:55:29  ...                                White\n",
              "27595  12/29/2021 16:12:49  ...                                White\n",
              "27596  12/31/2021 20:57:28  ...  Hispanic, Latino, or Spanish origin\n",
              "\n",
              "[27597 rows x 14 columns]"
            ]
          },
          "metadata": {},
          "execution_count": 15
        }
      ]
    },
    {
      "cell_type": "code",
      "source": [
        ""
      ],
      "metadata": {
        "id": "glduvJViKiDy"
      },
      "execution_count": 15,
      "outputs": []
    },
    {
      "cell_type": "markdown",
      "source": [
        "# **Convert the Salary Column datatype to Int64**"
      ],
      "metadata": {
        "id": "P77zkc4_yzyf"
      }
    },
    {
      "cell_type": "code",
      "source": [
        "salary_df[\"Annual salary\"] = salary_df[\"Annual salary\"].astype('int64')"
      ],
      "metadata": {
        "id": "ABBlRetdhHbd"
      },
      "execution_count": 16,
      "outputs": []
    },
    {
      "cell_type": "code",
      "source": [
        ""
      ],
      "metadata": {
        "id": "1wWJBKkRbEZj"
      },
      "execution_count": 16,
      "outputs": []
    },
    {
      "cell_type": "markdown",
      "source": [
        "# **Get all the different types of currency present in the Currency Column**"
      ],
      "metadata": {
        "id": "jo7eMXnEy5ma"
      }
    },
    {
      "cell_type": "code",
      "source": [
        "salary_df.info()"
      ],
      "metadata": {
        "colab": {
          "base_uri": "https://localhost:8080/"
        },
        "id": "NKrF356xpEnV",
        "outputId": "871a6fb0-bd84-4dbb-cbcd-8fdb1d818710"
      },
      "execution_count": 17,
      "outputs": [
        {
          "output_type": "stream",
          "name": "stdout",
          "text": [
            "<class 'pandas.core.frame.DataFrame'>\n",
            "RangeIndex: 27597 entries, 0 to 27596\n",
            "Data columns (total 14 columns):\n",
            " #   Column                                    Non-Null Count  Dtype \n",
            "---  ------                                    --------------  ----- \n",
            " 0   Timestamp                                 27597 non-null  object\n",
            " 1   How old are you?                          27597 non-null  object\n",
            " 2   Industry                                  27528 non-null  object\n",
            " 3   Job title                                 27597 non-null  object\n",
            " 4   Annual salary                             27597 non-null  int64 \n",
            " 5   Currency                                  27597 non-null  object\n",
            " 6   Country                                   27597 non-null  object\n",
            " 7   State                                     22689 non-null  object\n",
            " 8   City                                      27522 non-null  object\n",
            " 9   Overall years of professional experience  27597 non-null  object\n",
            " 10  Years of experience in field              27597 non-null  object\n",
            " 11  Highest level of education completed      27390 non-null  object\n",
            " 12  Gender                                    27433 non-null  object\n",
            " 13  Race                                      27438 non-null  object\n",
            "dtypes: int64(1), object(13)\n",
            "memory usage: 2.9+ MB\n"
          ]
        }
      ]
    },
    {
      "cell_type": "code",
      "source": [
        ""
      ],
      "metadata": {
        "id": "gBY3scddbGNc"
      },
      "execution_count": 17,
      "outputs": []
    },
    {
      "cell_type": "markdown",
      "source": [
        "# **Checking number of NaN values**"
      ],
      "metadata": {
        "id": "4x0WDYBVpQg8"
      }
    },
    {
      "cell_type": "code",
      "source": [
        "salary_df.isnull().sum()"
      ],
      "metadata": {
        "colab": {
          "base_uri": "https://localhost:8080/"
        },
        "id": "6qZ8l-7-n9Vt",
        "outputId": "78f62142-2abc-4d42-959a-e78bc43d4bb2"
      },
      "execution_count": 18,
      "outputs": [
        {
          "output_type": "execute_result",
          "data": {
            "text/plain": [
              "Timestamp                                      0\n",
              "How old are you?                               0\n",
              "Industry                                      69\n",
              "Job title                                      0\n",
              "Annual salary                                  0\n",
              "Currency                                       0\n",
              "Country                                        0\n",
              "State                                       4908\n",
              "City                                          75\n",
              "Overall years of professional experience       0\n",
              "Years of experience in field                   0\n",
              "Highest level of education completed         207\n",
              "Gender                                       164\n",
              "Race                                         159\n",
              "dtype: int64"
            ]
          },
          "metadata": {},
          "execution_count": 18
        }
      ]
    },
    {
      "cell_type": "code",
      "source": [
        ""
      ],
      "metadata": {
        "id": "LLvYDGvvn80Z"
      },
      "execution_count": 18,
      "outputs": []
    },
    {
      "cell_type": "markdown",
      "source": [
        "# **I realized i can work on the State Column that has 4988 missing values by matching the City column with the country Column using google to map out the states for the corresponding Cities**"
      ],
      "metadata": {
        "id": "E3Qtg_Mhpo6r"
      }
    },
    {
      "cell_type": "markdown",
      "source": [
        "# **I then get rid of all the other rows that have NaN values that can't be replaced**"
      ],
      "metadata": {
        "id": "DXOf2jbDqJmu"
      }
    },
    {
      "cell_type": "code",
      "source": [
        "salary_df.dropna(how = 'any', inplace=True, subset= ['City', 'Industry', 'Highest level of education completed', 'Gender', 'Race'])"
      ],
      "metadata": {
        "id": "7OWNink7oVDV"
      },
      "execution_count": 19,
      "outputs": []
    },
    {
      "cell_type": "code",
      "source": [
        "salary_df.isnull().sum()"
      ],
      "metadata": {
        "colab": {
          "base_uri": "https://localhost:8080/"
        },
        "id": "_63Yj_fDoU6w",
        "outputId": "35768329-6d30-4f21-edfb-8cc8cf547cc0"
      },
      "execution_count": 20,
      "outputs": [
        {
          "output_type": "execute_result",
          "data": {
            "text/plain": [
              "Timestamp                                      0\n",
              "How old are you?                               0\n",
              "Industry                                       0\n",
              "Job title                                      0\n",
              "Annual salary                                  0\n",
              "Currency                                       0\n",
              "Country                                        0\n",
              "State                                       4762\n",
              "City                                           0\n",
              "Overall years of professional experience       0\n",
              "Years of experience in field                   0\n",
              "Highest level of education completed           0\n",
              "Gender                                         0\n",
              "Race                                           0\n",
              "dtype: int64"
            ]
          },
          "metadata": {},
          "execution_count": 20
        }
      ]
    },
    {
      "cell_type": "code",
      "source": [
        ""
      ],
      "metadata": {
        "id": "bp_bi2VVqRkT"
      },
      "execution_count": 20,
      "outputs": []
    },
    {
      "cell_type": "markdown",
      "source": [
        "# **Checking to make sure we have the right datatype for the Salary Column**"
      ],
      "metadata": {
        "id": "5rXQ-71bzAkc"
      }
    },
    {
      "cell_type": "code",
      "source": [
        "salary_df['Currency'].unique()"
      ],
      "metadata": {
        "colab": {
          "base_uri": "https://localhost:8080/"
        },
        "id": "BR6U874UwWhe",
        "outputId": "77ef53b6-f753-4257-eed9-32046aaaaa59"
      },
      "execution_count": 21,
      "outputs": [
        {
          "output_type": "execute_result",
          "data": {
            "text/plain": [
              "array(['USD', 'GBP', 'CAD', 'EUR', 'AUD/NZD', 'Other', 'CHF', 'ZAR',\n",
              "       'SEK', 'HKD', 'JPY'], dtype=object)"
            ]
          },
          "metadata": {},
          "execution_count": 21
        }
      ]
    },
    {
      "cell_type": "code",
      "source": [
        ""
      ],
      "metadata": {
        "id": "0rzSogXohVGA"
      },
      "execution_count": 21,
      "outputs": []
    },
    {
      "cell_type": "markdown",
      "source": [
        "# **Use the Currency Column as the index to convert all the other Currency to Dollars**"
      ],
      "metadata": {
        "id": "ksBfCSSAzKlv"
      }
    },
    {
      "cell_type": "code",
      "source": [
        "salary_df.set_index(keys = [\"Currency\"], inplace = True)\n"
      ],
      "metadata": {
        "id": "72yaOwocr2Gr"
      },
      "execution_count": 22,
      "outputs": []
    },
    {
      "cell_type": "code",
      "source": [
        ""
      ],
      "metadata": {
        "id": "8aNsxTK2bKMR"
      },
      "execution_count": 22,
      "outputs": []
    },
    {
      "cell_type": "markdown",
      "source": [
        "# **Sorting the Currency Index to arrange all the currencies in alphabetical others**"
      ],
      "metadata": {
        "id": "xzEXVtizzUKN"
      }
    },
    {
      "cell_type": "code",
      "source": [
        "salary_df.sort_index(inplace = True)\n",
        "\n",
        "salary_df"
      ],
      "metadata": {
        "colab": {
          "base_uri": "https://localhost:8080/",
          "height": 742
        },
        "id": "vkYGcDh0hJF3",
        "outputId": "57f226e4-4992-4ddb-9bde-d903c042a33f"
      },
      "execution_count": 23,
      "outputs": [
        {
          "output_type": "execute_result",
          "data": {
            "text/html": [
              "\n",
              "  <div id=\"df-5258d426-fe27-4c83-b4a2-dfbe4a532460\">\n",
              "    <div class=\"colab-df-container\">\n",
              "      <div>\n",
              "<style scoped>\n",
              "    .dataframe tbody tr th:only-of-type {\n",
              "        vertical-align: middle;\n",
              "    }\n",
              "\n",
              "    .dataframe tbody tr th {\n",
              "        vertical-align: top;\n",
              "    }\n",
              "\n",
              "    .dataframe thead th {\n",
              "        text-align: right;\n",
              "    }\n",
              "</style>\n",
              "<table border=\"1\" class=\"dataframe\">\n",
              "  <thead>\n",
              "    <tr style=\"text-align: right;\">\n",
              "      <th></th>\n",
              "      <th>Timestamp</th>\n",
              "      <th>How old are you?</th>\n",
              "      <th>Industry</th>\n",
              "      <th>Job title</th>\n",
              "      <th>Annual salary</th>\n",
              "      <th>Country</th>\n",
              "      <th>State</th>\n",
              "      <th>City</th>\n",
              "      <th>Overall years of professional experience</th>\n",
              "      <th>Years of experience in field</th>\n",
              "      <th>Highest level of education completed</th>\n",
              "      <th>Gender</th>\n",
              "      <th>Race</th>\n",
              "    </tr>\n",
              "    <tr>\n",
              "      <th>Currency</th>\n",
              "      <th></th>\n",
              "      <th></th>\n",
              "      <th></th>\n",
              "      <th></th>\n",
              "      <th></th>\n",
              "      <th></th>\n",
              "      <th></th>\n",
              "      <th></th>\n",
              "      <th></th>\n",
              "      <th></th>\n",
              "      <th></th>\n",
              "      <th></th>\n",
              "      <th></th>\n",
              "    </tr>\n",
              "  </thead>\n",
              "  <tbody>\n",
              "    <tr>\n",
              "      <th>AUD/NZD</th>\n",
              "      <td>4/28/2021 4:12:50</td>\n",
              "      <td>45-54</td>\n",
              "      <td>Education (Higher Education)</td>\n",
              "      <td>ESOL Teacher</td>\n",
              "      <td>167000</td>\n",
              "      <td>Australia</td>\n",
              "      <td>NaN</td>\n",
              "      <td>Sydney</td>\n",
              "      <td>31 - 40 years</td>\n",
              "      <td>2 - 4 years</td>\n",
              "      <td>Master's degree</td>\n",
              "      <td>Woman</td>\n",
              "      <td>White</td>\n",
              "    </tr>\n",
              "    <tr>\n",
              "      <th>AUD/NZD</th>\n",
              "      <td>5/5/2021 22:19:51</td>\n",
              "      <td>25-34</td>\n",
              "      <td>Education (Primary/Secondary)</td>\n",
              "      <td>Teacher</td>\n",
              "      <td>74717</td>\n",
              "      <td>Australia</td>\n",
              "      <td>NaN</td>\n",
              "      <td>Melbourne</td>\n",
              "      <td>8 - 10 years</td>\n",
              "      <td>2 - 4 years</td>\n",
              "      <td>Master's degree</td>\n",
              "      <td>Woman</td>\n",
              "      <td>White</td>\n",
              "    </tr>\n",
              "    <tr>\n",
              "      <th>AUD/NZD</th>\n",
              "      <td>4/28/2021 5:45:11</td>\n",
              "      <td>45-54</td>\n",
              "      <td>Health care</td>\n",
              "      <td>Executive Assistant</td>\n",
              "      <td>63000</td>\n",
              "      <td>Australia</td>\n",
              "      <td>NaN</td>\n",
              "      <td>Adelaide</td>\n",
              "      <td>21 - 30 years</td>\n",
              "      <td>21 - 30 years</td>\n",
              "      <td>Some college</td>\n",
              "      <td>Woman</td>\n",
              "      <td>White</td>\n",
              "    </tr>\n",
              "    <tr>\n",
              "      <th>AUD/NZD</th>\n",
              "      <td>4/29/2021 7:22:57</td>\n",
              "      <td>25-34</td>\n",
              "      <td>Leisure, Sport &amp; Tourism</td>\n",
              "      <td>Business Development Officer</td>\n",
              "      <td>50000</td>\n",
              "      <td>Australia</td>\n",
              "      <td>NaN</td>\n",
              "      <td>Adelaide</td>\n",
              "      <td>2 - 4 years</td>\n",
              "      <td>2 - 4 years</td>\n",
              "      <td>College degree</td>\n",
              "      <td>Woman</td>\n",
              "      <td>White</td>\n",
              "    </tr>\n",
              "    <tr>\n",
              "      <th>AUD/NZD</th>\n",
              "      <td>5/5/2021 22:33:49</td>\n",
              "      <td>18-24</td>\n",
              "      <td>Marketing, Advertising &amp; PR</td>\n",
              "      <td>Platform Executive</td>\n",
              "      <td>45000</td>\n",
              "      <td>Australia</td>\n",
              "      <td>NaN</td>\n",
              "      <td>Brisbane</td>\n",
              "      <td>2 - 4 years</td>\n",
              "      <td>1 year or less</td>\n",
              "      <td>College degree</td>\n",
              "      <td>Woman</td>\n",
              "      <td>White</td>\n",
              "    </tr>\n",
              "    <tr>\n",
              "      <th>...</th>\n",
              "      <td>...</td>\n",
              "      <td>...</td>\n",
              "      <td>...</td>\n",
              "      <td>...</td>\n",
              "      <td>...</td>\n",
              "      <td>...</td>\n",
              "      <td>...</td>\n",
              "      <td>...</td>\n",
              "      <td>...</td>\n",
              "      <td>...</td>\n",
              "      <td>...</td>\n",
              "      <td>...</td>\n",
              "      <td>...</td>\n",
              "    </tr>\n",
              "    <tr>\n",
              "      <th>ZAR</th>\n",
              "      <td>4/27/2021 11:53:46</td>\n",
              "      <td>25-34</td>\n",
              "      <td>Media &amp; Digital</td>\n",
              "      <td>SEO Specialist</td>\n",
              "      <td>543000</td>\n",
              "      <td>South Africa</td>\n",
              "      <td>NaN</td>\n",
              "      <td>Cape Town</td>\n",
              "      <td>8 - 10 years</td>\n",
              "      <td>2 - 4 years</td>\n",
              "      <td>College degree</td>\n",
              "      <td>Woman</td>\n",
              "      <td>Another option not listed here or prefer not t...</td>\n",
              "    </tr>\n",
              "    <tr>\n",
              "      <th>ZAR</th>\n",
              "      <td>4/28/2021 17:09:35</td>\n",
              "      <td>35-44</td>\n",
              "      <td>Accounting, Banking &amp; Finance</td>\n",
              "      <td>Business Analyst</td>\n",
              "      <td>805000</td>\n",
              "      <td>South africa</td>\n",
              "      <td>NaN</td>\n",
              "      <td>Cape town</td>\n",
              "      <td>11 - 20 years</td>\n",
              "      <td>8 - 10 years</td>\n",
              "      <td>College degree</td>\n",
              "      <td>Man</td>\n",
              "      <td>Black or African American</td>\n",
              "    </tr>\n",
              "    <tr>\n",
              "      <th>ZAR</th>\n",
              "      <td>4/27/2021 14:36:47</td>\n",
              "      <td>35-44</td>\n",
              "      <td>Education (Higher Education)</td>\n",
              "      <td>Associate Professor</td>\n",
              "      <td>974400</td>\n",
              "      <td>South Africa</td>\n",
              "      <td>NaN</td>\n",
              "      <td>Cape Town</td>\n",
              "      <td>21 - 30 years</td>\n",
              "      <td>11 - 20 years</td>\n",
              "      <td>Professional degree (MD, JD, etc.)</td>\n",
              "      <td>Woman</td>\n",
              "      <td>Asian or Asian American</td>\n",
              "    </tr>\n",
              "    <tr>\n",
              "      <th>ZAR</th>\n",
              "      <td>4/29/2021 14:39:01</td>\n",
              "      <td>45-54</td>\n",
              "      <td>Engineering or Manufacturing</td>\n",
              "      <td>Account Manager</td>\n",
              "      <td>400000</td>\n",
              "      <td>South Africa</td>\n",
              "      <td>NaN</td>\n",
              "      <td>Pietermaritzburg</td>\n",
              "      <td>11 - 20 years</td>\n",
              "      <td>2 - 4 years</td>\n",
              "      <td>College degree</td>\n",
              "      <td>Woman</td>\n",
              "      <td>White</td>\n",
              "    </tr>\n",
              "    <tr>\n",
              "      <th>ZAR</th>\n",
              "      <td>4/27/2021 12:05:46</td>\n",
              "      <td>18-24</td>\n",
              "      <td>Nonprofits</td>\n",
              "      <td>System administration and project manager</td>\n",
              "      <td>240000</td>\n",
              "      <td>South Africa</td>\n",
              "      <td>NaN</td>\n",
              "      <td>Gauteng</td>\n",
              "      <td>2 - 4 years</td>\n",
              "      <td>2 - 4 years</td>\n",
              "      <td>College degree</td>\n",
              "      <td>Woman</td>\n",
              "      <td>White</td>\n",
              "    </tr>\n",
              "  </tbody>\n",
              "</table>\n",
              "<p>27025 rows × 13 columns</p>\n",
              "</div>\n",
              "      <button class=\"colab-df-convert\" onclick=\"convertToInteractive('df-5258d426-fe27-4c83-b4a2-dfbe4a532460')\"\n",
              "              title=\"Convert this dataframe to an interactive table.\"\n",
              "              style=\"display:none;\">\n",
              "        \n",
              "  <svg xmlns=\"http://www.w3.org/2000/svg\" height=\"24px\"viewBox=\"0 0 24 24\"\n",
              "       width=\"24px\">\n",
              "    <path d=\"M0 0h24v24H0V0z\" fill=\"none\"/>\n",
              "    <path d=\"M18.56 5.44l.94 2.06.94-2.06 2.06-.94-2.06-.94-.94-2.06-.94 2.06-2.06.94zm-11 1L8.5 8.5l.94-2.06 2.06-.94-2.06-.94L8.5 2.5l-.94 2.06-2.06.94zm10 10l.94 2.06.94-2.06 2.06-.94-2.06-.94-.94-2.06-.94 2.06-2.06.94z\"/><path d=\"M17.41 7.96l-1.37-1.37c-.4-.4-.92-.59-1.43-.59-.52 0-1.04.2-1.43.59L10.3 9.45l-7.72 7.72c-.78.78-.78 2.05 0 2.83L4 21.41c.39.39.9.59 1.41.59.51 0 1.02-.2 1.41-.59l7.78-7.78 2.81-2.81c.8-.78.8-2.07 0-2.86zM5.41 20L4 18.59l7.72-7.72 1.47 1.35L5.41 20z\"/>\n",
              "  </svg>\n",
              "      </button>\n",
              "      \n",
              "  <style>\n",
              "    .colab-df-container {\n",
              "      display:flex;\n",
              "      flex-wrap:wrap;\n",
              "      gap: 12px;\n",
              "    }\n",
              "\n",
              "    .colab-df-convert {\n",
              "      background-color: #E8F0FE;\n",
              "      border: none;\n",
              "      border-radius: 50%;\n",
              "      cursor: pointer;\n",
              "      display: none;\n",
              "      fill: #1967D2;\n",
              "      height: 32px;\n",
              "      padding: 0 0 0 0;\n",
              "      width: 32px;\n",
              "    }\n",
              "\n",
              "    .colab-df-convert:hover {\n",
              "      background-color: #E2EBFA;\n",
              "      box-shadow: 0px 1px 2px rgba(60, 64, 67, 0.3), 0px 1px 3px 1px rgba(60, 64, 67, 0.15);\n",
              "      fill: #174EA6;\n",
              "    }\n",
              "\n",
              "    [theme=dark] .colab-df-convert {\n",
              "      background-color: #3B4455;\n",
              "      fill: #D2E3FC;\n",
              "    }\n",
              "\n",
              "    [theme=dark] .colab-df-convert:hover {\n",
              "      background-color: #434B5C;\n",
              "      box-shadow: 0px 1px 3px 1px rgba(0, 0, 0, 0.15);\n",
              "      filter: drop-shadow(0px 1px 2px rgba(0, 0, 0, 0.3));\n",
              "      fill: #FFFFFF;\n",
              "    }\n",
              "  </style>\n",
              "\n",
              "      <script>\n",
              "        const buttonEl =\n",
              "          document.querySelector('#df-5258d426-fe27-4c83-b4a2-dfbe4a532460 button.colab-df-convert');\n",
              "        buttonEl.style.display =\n",
              "          google.colab.kernel.accessAllowed ? 'block' : 'none';\n",
              "\n",
              "        async function convertToInteractive(key) {\n",
              "          const element = document.querySelector('#df-5258d426-fe27-4c83-b4a2-dfbe4a532460');\n",
              "          const dataTable =\n",
              "            await google.colab.kernel.invokeFunction('convertToInteractive',\n",
              "                                                     [key], {});\n",
              "          if (!dataTable) return;\n",
              "\n",
              "          const docLinkHtml = 'Like what you see? Visit the ' +\n",
              "            '<a target=\"_blank\" href=https://colab.research.google.com/notebooks/data_table.ipynb>data table notebook</a>'\n",
              "            + ' to learn more about interactive tables.';\n",
              "          element.innerHTML = '';\n",
              "          dataTable['output_type'] = 'display_data';\n",
              "          await google.colab.output.renderOutput(dataTable, element);\n",
              "          const docLink = document.createElement('div');\n",
              "          docLink.innerHTML = docLinkHtml;\n",
              "          element.appendChild(docLink);\n",
              "        }\n",
              "      </script>\n",
              "    </div>\n",
              "  </div>\n",
              "  "
            ],
            "text/plain": [
              "                   Timestamp  ...                                               Race\n",
              "Currency                      ...                                                   \n",
              "AUD/NZD    4/28/2021 4:12:50  ...                                              White\n",
              "AUD/NZD    5/5/2021 22:19:51  ...                                              White\n",
              "AUD/NZD    4/28/2021 5:45:11  ...                                              White\n",
              "AUD/NZD    4/29/2021 7:22:57  ...                                              White\n",
              "AUD/NZD    5/5/2021 22:33:49  ...                                              White\n",
              "...                      ...  ...                                                ...\n",
              "ZAR       4/27/2021 11:53:46  ...  Another option not listed here or prefer not t...\n",
              "ZAR       4/28/2021 17:09:35  ...                          Black or African American\n",
              "ZAR       4/27/2021 14:36:47  ...                            Asian or Asian American\n",
              "ZAR       4/29/2021 14:39:01  ...                                              White\n",
              "ZAR       4/27/2021 12:05:46  ...                                              White\n",
              "\n",
              "[27025 rows x 13 columns]"
            ]
          },
          "metadata": {},
          "execution_count": 23
        }
      ]
    },
    {
      "cell_type": "code",
      "source": [
        ""
      ],
      "metadata": {
        "id": "aJrqAHqjbNJj"
      },
      "execution_count": 23,
      "outputs": []
    },
    {
      "cell_type": "markdown",
      "source": [
        "# **Start converting all the other currencies in the Annual Salary to Dollars**"
      ],
      "metadata": {
        "id": "QKhLVWPdzth0"
      }
    },
    {
      "cell_type": "code",
      "source": [
        "salary_df.loc[(\"AUD/NZD\"), \"Annual salary\"] = salary_df.loc[(\"AUD/NZD\"), \"Annual salary\"].mul(0.9)"
      ],
      "metadata": {
        "id": "sF3l4ogRtXJD"
      },
      "execution_count": 24,
      "outputs": []
    },
    {
      "cell_type": "code",
      "source": [
        "salary_df.loc[(\"GBP\"), \"Annual salary\"] = salary_df.loc[(\"GBP\"), \"Annual salary\"].mul(1.35)"
      ],
      "metadata": {
        "id": "kSuE96rLkxab"
      },
      "execution_count": 25,
      "outputs": []
    },
    {
      "cell_type": "code",
      "source": [
        "salary_df.loc[(\"CAD\"), \"Annual salary\"] = salary_df.loc[(\"CAD\"), \"Annual salary\"].mul(0.79)"
      ],
      "metadata": {
        "id": "4kzb2L8U7GgR"
      },
      "execution_count": 26,
      "outputs": []
    },
    {
      "cell_type": "code",
      "source": [
        "salary_df.loc[(\"EUR\"), \"Annual salary\"] = salary_df.loc[(\"EUR\"), \"Annual salary\"].mul(1.13)"
      ],
      "metadata": {
        "id": "ByQMVGCG7JoS"
      },
      "execution_count": 27,
      "outputs": []
    },
    {
      "cell_type": "code",
      "source": [
        "salary_df.loc[(\"CHF\"), \"Annual salary\"] = salary_df.loc[(\"CHF\"), \"Annual salary\"].mul(1.09)"
      ],
      "metadata": {
        "id": "P_eqUncv7NU1"
      },
      "execution_count": 28,
      "outputs": []
    },
    {
      "cell_type": "code",
      "source": [
        "salary_df.loc[(\"ZAR\"), \"Annual salary\"] = salary_df.loc[(\"ZAR\"), \"Annual salary\"].mul(0.065)"
      ],
      "metadata": {
        "id": "Wog6bOnh7P_3"
      },
      "execution_count": 29,
      "outputs": []
    },
    {
      "cell_type": "code",
      "source": [
        "salary_df.loc[(\"SEK\"), \"Annual salary\"] = salary_df.loc[(\"SEK\"), \"Annual salary\"].mul(0.11)"
      ],
      "metadata": {
        "id": "6At3dVRp7S8z"
      },
      "execution_count": 30,
      "outputs": []
    },
    {
      "cell_type": "code",
      "source": [
        "salary_df.loc[(\"HKD\"), \"Annual salary\"] = salary_df.loc[(\"HKD\"), \"Annual salary\"].mul(0.13)"
      ],
      "metadata": {
        "id": "gTPtM5Lj7Vne"
      },
      "execution_count": 31,
      "outputs": []
    },
    {
      "cell_type": "code",
      "source": [
        "salary_df.loc[(\"JPY\"), \"Annual salary\"] = salary_df.loc[(\"JPY\"), \"Annual salary\"].mul(0.0088)"
      ],
      "metadata": {
        "id": "dfzOuYgikxW7"
      },
      "execution_count": 32,
      "outputs": []
    },
    {
      "cell_type": "code",
      "source": [
        ""
      ],
      "metadata": {
        "id": "IvGSJpmXbOKp"
      },
      "execution_count": 32,
      "outputs": []
    },
    {
      "cell_type": "markdown",
      "source": [
        "# **There are some other inputs that dosen't have their currency assigned, So i will have to look into the Country column to get their corresponding currencies and convert to Dollars**"
      ],
      "metadata": {
        "id": "pFT43ZaG0Atv"
      }
    },
    {
      "cell_type": "code",
      "source": [
        "salary_df.loc[(\"Other\"), \"Country\"].unique()"
      ],
      "metadata": {
        "colab": {
          "base_uri": "https://localhost:8080/"
        },
        "id": "yTrXh3ttkxIA",
        "outputId": "df636772-657c-44a1-e132-a83e3b4c010f"
      },
      "execution_count": 33,
      "outputs": [
        {
          "output_type": "execute_result",
          "data": {
            "text/plain": [
              "array(['India', 'Argentina', 'Denmark', 'U.S.A.', 'South Korea',\n",
              "       'Saudi Arabia', 'Czech republic',\n",
              "       \"I work for an US based company but I'm from Argentina.\",\n",
              "       'Malaysia', 'Thailand', 'Czechia', 'czech republic', 'Singapore',\n",
              "       'USA', 'US', 'Taiwan', 'Norway', 'Poland', 'Israel', 'China',\n",
              "       'USA ', 'Singapore ', 'Denmark ', 'Philippines', 'Indonesia',\n",
              "       'Czech Republic ', 'Brazil ', 'denmark', 'Australia', 'Brazil',\n",
              "       'Mainland China', 'Ireland', 'Mexico', 'Trinidad and Tobago',\n",
              "       'Czech Republic', 'Brasil', 'Australia ', 'New Zealand', 'croatia',\n",
              "       'Hungary', 'ARGENTINA BUT MY ORG IS IN THAILAND', 'Switzerland',\n",
              "       'United States', 'Sri Lanka', 'Norway ', 'UK', 'Canada',\n",
              "       'South Africa', 'Turkey', 'México', 'Scotland', 'Sweden '],\n",
              "      dtype=object)"
            ]
          },
          "metadata": {},
          "execution_count": 33
        }
      ]
    },
    {
      "cell_type": "code",
      "source": [
        ""
      ],
      "metadata": {
        "id": "jNHLbCx9bPX_"
      },
      "execution_count": 33,
      "outputs": []
    },
    {
      "cell_type": "markdown",
      "source": [
        "# **To do that, i will have to reset the column back to numeric**"
      ],
      "metadata": {
        "id": "A-sFyf_l0KEc"
      }
    },
    {
      "cell_type": "code",
      "source": [
        "salary_df.reset_index(inplace = True)\n",
        "salary_df"
      ],
      "metadata": {
        "colab": {
          "base_uri": "https://localhost:8080/",
          "height": 763
        },
        "id": "VlGcGIlE_kYu",
        "outputId": "20266d47-0c45-4288-c35c-67440286b7de"
      },
      "execution_count": 34,
      "outputs": [
        {
          "output_type": "execute_result",
          "data": {
            "text/html": [
              "\n",
              "  <div id=\"df-d5addfc6-d85d-4556-9f07-c2996f4a9826\">\n",
              "    <div class=\"colab-df-container\">\n",
              "      <div>\n",
              "<style scoped>\n",
              "    .dataframe tbody tr th:only-of-type {\n",
              "        vertical-align: middle;\n",
              "    }\n",
              "\n",
              "    .dataframe tbody tr th {\n",
              "        vertical-align: top;\n",
              "    }\n",
              "\n",
              "    .dataframe thead th {\n",
              "        text-align: right;\n",
              "    }\n",
              "</style>\n",
              "<table border=\"1\" class=\"dataframe\">\n",
              "  <thead>\n",
              "    <tr style=\"text-align: right;\">\n",
              "      <th></th>\n",
              "      <th>Currency</th>\n",
              "      <th>Timestamp</th>\n",
              "      <th>How old are you?</th>\n",
              "      <th>Industry</th>\n",
              "      <th>Job title</th>\n",
              "      <th>Annual salary</th>\n",
              "      <th>Country</th>\n",
              "      <th>State</th>\n",
              "      <th>City</th>\n",
              "      <th>Overall years of professional experience</th>\n",
              "      <th>Years of experience in field</th>\n",
              "      <th>Highest level of education completed</th>\n",
              "      <th>Gender</th>\n",
              "      <th>Race</th>\n",
              "    </tr>\n",
              "  </thead>\n",
              "  <tbody>\n",
              "    <tr>\n",
              "      <th>0</th>\n",
              "      <td>AUD/NZD</td>\n",
              "      <td>4/28/2021 4:12:50</td>\n",
              "      <td>45-54</td>\n",
              "      <td>Education (Higher Education)</td>\n",
              "      <td>ESOL Teacher</td>\n",
              "      <td>150300.0</td>\n",
              "      <td>Australia</td>\n",
              "      <td>NaN</td>\n",
              "      <td>Sydney</td>\n",
              "      <td>31 - 40 years</td>\n",
              "      <td>2 - 4 years</td>\n",
              "      <td>Master's degree</td>\n",
              "      <td>Woman</td>\n",
              "      <td>White</td>\n",
              "    </tr>\n",
              "    <tr>\n",
              "      <th>1</th>\n",
              "      <td>AUD/NZD</td>\n",
              "      <td>5/5/2021 22:19:51</td>\n",
              "      <td>25-34</td>\n",
              "      <td>Education (Primary/Secondary)</td>\n",
              "      <td>Teacher</td>\n",
              "      <td>67245.3</td>\n",
              "      <td>Australia</td>\n",
              "      <td>NaN</td>\n",
              "      <td>Melbourne</td>\n",
              "      <td>8 - 10 years</td>\n",
              "      <td>2 - 4 years</td>\n",
              "      <td>Master's degree</td>\n",
              "      <td>Woman</td>\n",
              "      <td>White</td>\n",
              "    </tr>\n",
              "    <tr>\n",
              "      <th>2</th>\n",
              "      <td>AUD/NZD</td>\n",
              "      <td>4/28/2021 5:45:11</td>\n",
              "      <td>45-54</td>\n",
              "      <td>Health care</td>\n",
              "      <td>Executive Assistant</td>\n",
              "      <td>56700.0</td>\n",
              "      <td>Australia</td>\n",
              "      <td>NaN</td>\n",
              "      <td>Adelaide</td>\n",
              "      <td>21 - 30 years</td>\n",
              "      <td>21 - 30 years</td>\n",
              "      <td>Some college</td>\n",
              "      <td>Woman</td>\n",
              "      <td>White</td>\n",
              "    </tr>\n",
              "    <tr>\n",
              "      <th>3</th>\n",
              "      <td>AUD/NZD</td>\n",
              "      <td>4/29/2021 7:22:57</td>\n",
              "      <td>25-34</td>\n",
              "      <td>Leisure, Sport &amp; Tourism</td>\n",
              "      <td>Business Development Officer</td>\n",
              "      <td>45000.0</td>\n",
              "      <td>Australia</td>\n",
              "      <td>NaN</td>\n",
              "      <td>Adelaide</td>\n",
              "      <td>2 - 4 years</td>\n",
              "      <td>2 - 4 years</td>\n",
              "      <td>College degree</td>\n",
              "      <td>Woman</td>\n",
              "      <td>White</td>\n",
              "    </tr>\n",
              "    <tr>\n",
              "      <th>4</th>\n",
              "      <td>AUD/NZD</td>\n",
              "      <td>5/5/2021 22:33:49</td>\n",
              "      <td>18-24</td>\n",
              "      <td>Marketing, Advertising &amp; PR</td>\n",
              "      <td>Platform Executive</td>\n",
              "      <td>40500.0</td>\n",
              "      <td>Australia</td>\n",
              "      <td>NaN</td>\n",
              "      <td>Brisbane</td>\n",
              "      <td>2 - 4 years</td>\n",
              "      <td>1 year or less</td>\n",
              "      <td>College degree</td>\n",
              "      <td>Woman</td>\n",
              "      <td>White</td>\n",
              "    </tr>\n",
              "    <tr>\n",
              "      <th>...</th>\n",
              "      <td>...</td>\n",
              "      <td>...</td>\n",
              "      <td>...</td>\n",
              "      <td>...</td>\n",
              "      <td>...</td>\n",
              "      <td>...</td>\n",
              "      <td>...</td>\n",
              "      <td>...</td>\n",
              "      <td>...</td>\n",
              "      <td>...</td>\n",
              "      <td>...</td>\n",
              "      <td>...</td>\n",
              "      <td>...</td>\n",
              "      <td>...</td>\n",
              "    </tr>\n",
              "    <tr>\n",
              "      <th>27020</th>\n",
              "      <td>ZAR</td>\n",
              "      <td>4/27/2021 11:53:46</td>\n",
              "      <td>25-34</td>\n",
              "      <td>Media &amp; Digital</td>\n",
              "      <td>SEO Specialist</td>\n",
              "      <td>35295.0</td>\n",
              "      <td>South Africa</td>\n",
              "      <td>NaN</td>\n",
              "      <td>Cape Town</td>\n",
              "      <td>8 - 10 years</td>\n",
              "      <td>2 - 4 years</td>\n",
              "      <td>College degree</td>\n",
              "      <td>Woman</td>\n",
              "      <td>Another option not listed here or prefer not t...</td>\n",
              "    </tr>\n",
              "    <tr>\n",
              "      <th>27021</th>\n",
              "      <td>ZAR</td>\n",
              "      <td>4/28/2021 17:09:35</td>\n",
              "      <td>35-44</td>\n",
              "      <td>Accounting, Banking &amp; Finance</td>\n",
              "      <td>Business Analyst</td>\n",
              "      <td>52325.0</td>\n",
              "      <td>South africa</td>\n",
              "      <td>NaN</td>\n",
              "      <td>Cape town</td>\n",
              "      <td>11 - 20 years</td>\n",
              "      <td>8 - 10 years</td>\n",
              "      <td>College degree</td>\n",
              "      <td>Man</td>\n",
              "      <td>Black or African American</td>\n",
              "    </tr>\n",
              "    <tr>\n",
              "      <th>27022</th>\n",
              "      <td>ZAR</td>\n",
              "      <td>4/27/2021 14:36:47</td>\n",
              "      <td>35-44</td>\n",
              "      <td>Education (Higher Education)</td>\n",
              "      <td>Associate Professor</td>\n",
              "      <td>63336.0</td>\n",
              "      <td>South Africa</td>\n",
              "      <td>NaN</td>\n",
              "      <td>Cape Town</td>\n",
              "      <td>21 - 30 years</td>\n",
              "      <td>11 - 20 years</td>\n",
              "      <td>Professional degree (MD, JD, etc.)</td>\n",
              "      <td>Woman</td>\n",
              "      <td>Asian or Asian American</td>\n",
              "    </tr>\n",
              "    <tr>\n",
              "      <th>27023</th>\n",
              "      <td>ZAR</td>\n",
              "      <td>4/29/2021 14:39:01</td>\n",
              "      <td>45-54</td>\n",
              "      <td>Engineering or Manufacturing</td>\n",
              "      <td>Account Manager</td>\n",
              "      <td>26000.0</td>\n",
              "      <td>South Africa</td>\n",
              "      <td>NaN</td>\n",
              "      <td>Pietermaritzburg</td>\n",
              "      <td>11 - 20 years</td>\n",
              "      <td>2 - 4 years</td>\n",
              "      <td>College degree</td>\n",
              "      <td>Woman</td>\n",
              "      <td>White</td>\n",
              "    </tr>\n",
              "    <tr>\n",
              "      <th>27024</th>\n",
              "      <td>ZAR</td>\n",
              "      <td>4/27/2021 12:05:46</td>\n",
              "      <td>18-24</td>\n",
              "      <td>Nonprofits</td>\n",
              "      <td>System administration and project manager</td>\n",
              "      <td>15600.0</td>\n",
              "      <td>South Africa</td>\n",
              "      <td>NaN</td>\n",
              "      <td>Gauteng</td>\n",
              "      <td>2 - 4 years</td>\n",
              "      <td>2 - 4 years</td>\n",
              "      <td>College degree</td>\n",
              "      <td>Woman</td>\n",
              "      <td>White</td>\n",
              "    </tr>\n",
              "  </tbody>\n",
              "</table>\n",
              "<p>27025 rows × 14 columns</p>\n",
              "</div>\n",
              "      <button class=\"colab-df-convert\" onclick=\"convertToInteractive('df-d5addfc6-d85d-4556-9f07-c2996f4a9826')\"\n",
              "              title=\"Convert this dataframe to an interactive table.\"\n",
              "              style=\"display:none;\">\n",
              "        \n",
              "  <svg xmlns=\"http://www.w3.org/2000/svg\" height=\"24px\"viewBox=\"0 0 24 24\"\n",
              "       width=\"24px\">\n",
              "    <path d=\"M0 0h24v24H0V0z\" fill=\"none\"/>\n",
              "    <path d=\"M18.56 5.44l.94 2.06.94-2.06 2.06-.94-2.06-.94-.94-2.06-.94 2.06-2.06.94zm-11 1L8.5 8.5l.94-2.06 2.06-.94-2.06-.94L8.5 2.5l-.94 2.06-2.06.94zm10 10l.94 2.06.94-2.06 2.06-.94-2.06-.94-.94-2.06-.94 2.06-2.06.94z\"/><path d=\"M17.41 7.96l-1.37-1.37c-.4-.4-.92-.59-1.43-.59-.52 0-1.04.2-1.43.59L10.3 9.45l-7.72 7.72c-.78.78-.78 2.05 0 2.83L4 21.41c.39.39.9.59 1.41.59.51 0 1.02-.2 1.41-.59l7.78-7.78 2.81-2.81c.8-.78.8-2.07 0-2.86zM5.41 20L4 18.59l7.72-7.72 1.47 1.35L5.41 20z\"/>\n",
              "  </svg>\n",
              "      </button>\n",
              "      \n",
              "  <style>\n",
              "    .colab-df-container {\n",
              "      display:flex;\n",
              "      flex-wrap:wrap;\n",
              "      gap: 12px;\n",
              "    }\n",
              "\n",
              "    .colab-df-convert {\n",
              "      background-color: #E8F0FE;\n",
              "      border: none;\n",
              "      border-radius: 50%;\n",
              "      cursor: pointer;\n",
              "      display: none;\n",
              "      fill: #1967D2;\n",
              "      height: 32px;\n",
              "      padding: 0 0 0 0;\n",
              "      width: 32px;\n",
              "    }\n",
              "\n",
              "    .colab-df-convert:hover {\n",
              "      background-color: #E2EBFA;\n",
              "      box-shadow: 0px 1px 2px rgba(60, 64, 67, 0.3), 0px 1px 3px 1px rgba(60, 64, 67, 0.15);\n",
              "      fill: #174EA6;\n",
              "    }\n",
              "\n",
              "    [theme=dark] .colab-df-convert {\n",
              "      background-color: #3B4455;\n",
              "      fill: #D2E3FC;\n",
              "    }\n",
              "\n",
              "    [theme=dark] .colab-df-convert:hover {\n",
              "      background-color: #434B5C;\n",
              "      box-shadow: 0px 1px 3px 1px rgba(0, 0, 0, 0.15);\n",
              "      filter: drop-shadow(0px 1px 2px rgba(0, 0, 0, 0.3));\n",
              "      fill: #FFFFFF;\n",
              "    }\n",
              "  </style>\n",
              "\n",
              "      <script>\n",
              "        const buttonEl =\n",
              "          document.querySelector('#df-d5addfc6-d85d-4556-9f07-c2996f4a9826 button.colab-df-convert');\n",
              "        buttonEl.style.display =\n",
              "          google.colab.kernel.accessAllowed ? 'block' : 'none';\n",
              "\n",
              "        async function convertToInteractive(key) {\n",
              "          const element = document.querySelector('#df-d5addfc6-d85d-4556-9f07-c2996f4a9826');\n",
              "          const dataTable =\n",
              "            await google.colab.kernel.invokeFunction('convertToInteractive',\n",
              "                                                     [key], {});\n",
              "          if (!dataTable) return;\n",
              "\n",
              "          const docLinkHtml = 'Like what you see? Visit the ' +\n",
              "            '<a target=\"_blank\" href=https://colab.research.google.com/notebooks/data_table.ipynb>data table notebook</a>'\n",
              "            + ' to learn more about interactive tables.';\n",
              "          element.innerHTML = '';\n",
              "          dataTable['output_type'] = 'display_data';\n",
              "          await google.colab.output.renderOutput(dataTable, element);\n",
              "          const docLink = document.createElement('div');\n",
              "          docLink.innerHTML = docLinkHtml;\n",
              "          element.appendChild(docLink);\n",
              "        }\n",
              "      </script>\n",
              "    </div>\n",
              "  </div>\n",
              "  "
            ],
            "text/plain": [
              "      Currency  ...                                               Race\n",
              "0      AUD/NZD  ...                                              White\n",
              "1      AUD/NZD  ...                                              White\n",
              "2      AUD/NZD  ...                                              White\n",
              "3      AUD/NZD  ...                                              White\n",
              "4      AUD/NZD  ...                                              White\n",
              "...        ...  ...                                                ...\n",
              "27020      ZAR  ...  Another option not listed here or prefer not t...\n",
              "27021      ZAR  ...                          Black or African American\n",
              "27022      ZAR  ...                            Asian or Asian American\n",
              "27023      ZAR  ...                                              White\n",
              "27024      ZAR  ...                                              White\n",
              "\n",
              "[27025 rows x 14 columns]"
            ]
          },
          "metadata": {},
          "execution_count": 34
        }
      ]
    },
    {
      "cell_type": "code",
      "source": [
        ""
      ],
      "metadata": {
        "id": "cmkofG93bQ24"
      },
      "execution_count": 34,
      "outputs": []
    },
    {
      "cell_type": "markdown",
      "source": [
        "# **Then set the Currency and the Country column as the new index**"
      ],
      "metadata": {
        "id": "tLit-H980RSF"
      }
    },
    {
      "cell_type": "code",
      "source": [
        "salary_df.set_index(keys = [\"Currency\", \"Country\"], inplace = True)"
      ],
      "metadata": {
        "id": "sctgPsou_kS3"
      },
      "execution_count": 35,
      "outputs": []
    },
    {
      "cell_type": "code",
      "source": [
        "salary_df"
      ],
      "metadata": {
        "colab": {
          "base_uri": "https://localhost:8080/",
          "height": 742
        },
        "id": "BI1RYb7z_kQK",
        "outputId": "d98ee478-ac1a-4d1d-955e-8de8c490c8ca"
      },
      "execution_count": 36,
      "outputs": [
        {
          "output_type": "execute_result",
          "data": {
            "text/html": [
              "\n",
              "  <div id=\"df-23f72413-00f6-44ca-b412-b67a9a5def90\">\n",
              "    <div class=\"colab-df-container\">\n",
              "      <div>\n",
              "<style scoped>\n",
              "    .dataframe tbody tr th:only-of-type {\n",
              "        vertical-align: middle;\n",
              "    }\n",
              "\n",
              "    .dataframe tbody tr th {\n",
              "        vertical-align: top;\n",
              "    }\n",
              "\n",
              "    .dataframe thead th {\n",
              "        text-align: right;\n",
              "    }\n",
              "</style>\n",
              "<table border=\"1\" class=\"dataframe\">\n",
              "  <thead>\n",
              "    <tr style=\"text-align: right;\">\n",
              "      <th></th>\n",
              "      <th></th>\n",
              "      <th>Timestamp</th>\n",
              "      <th>How old are you?</th>\n",
              "      <th>Industry</th>\n",
              "      <th>Job title</th>\n",
              "      <th>Annual salary</th>\n",
              "      <th>State</th>\n",
              "      <th>City</th>\n",
              "      <th>Overall years of professional experience</th>\n",
              "      <th>Years of experience in field</th>\n",
              "      <th>Highest level of education completed</th>\n",
              "      <th>Gender</th>\n",
              "      <th>Race</th>\n",
              "    </tr>\n",
              "    <tr>\n",
              "      <th>Currency</th>\n",
              "      <th>Country</th>\n",
              "      <th></th>\n",
              "      <th></th>\n",
              "      <th></th>\n",
              "      <th></th>\n",
              "      <th></th>\n",
              "      <th></th>\n",
              "      <th></th>\n",
              "      <th></th>\n",
              "      <th></th>\n",
              "      <th></th>\n",
              "      <th></th>\n",
              "      <th></th>\n",
              "    </tr>\n",
              "  </thead>\n",
              "  <tbody>\n",
              "    <tr>\n",
              "      <th rowspan=\"5\" valign=\"top\">AUD/NZD</th>\n",
              "      <th>Australia</th>\n",
              "      <td>4/28/2021 4:12:50</td>\n",
              "      <td>45-54</td>\n",
              "      <td>Education (Higher Education)</td>\n",
              "      <td>ESOL Teacher</td>\n",
              "      <td>150300.0</td>\n",
              "      <td>NaN</td>\n",
              "      <td>Sydney</td>\n",
              "      <td>31 - 40 years</td>\n",
              "      <td>2 - 4 years</td>\n",
              "      <td>Master's degree</td>\n",
              "      <td>Woman</td>\n",
              "      <td>White</td>\n",
              "    </tr>\n",
              "    <tr>\n",
              "      <th>Australia</th>\n",
              "      <td>5/5/2021 22:19:51</td>\n",
              "      <td>25-34</td>\n",
              "      <td>Education (Primary/Secondary)</td>\n",
              "      <td>Teacher</td>\n",
              "      <td>67245.3</td>\n",
              "      <td>NaN</td>\n",
              "      <td>Melbourne</td>\n",
              "      <td>8 - 10 years</td>\n",
              "      <td>2 - 4 years</td>\n",
              "      <td>Master's degree</td>\n",
              "      <td>Woman</td>\n",
              "      <td>White</td>\n",
              "    </tr>\n",
              "    <tr>\n",
              "      <th>Australia</th>\n",
              "      <td>4/28/2021 5:45:11</td>\n",
              "      <td>45-54</td>\n",
              "      <td>Health care</td>\n",
              "      <td>Executive Assistant</td>\n",
              "      <td>56700.0</td>\n",
              "      <td>NaN</td>\n",
              "      <td>Adelaide</td>\n",
              "      <td>21 - 30 years</td>\n",
              "      <td>21 - 30 years</td>\n",
              "      <td>Some college</td>\n",
              "      <td>Woman</td>\n",
              "      <td>White</td>\n",
              "    </tr>\n",
              "    <tr>\n",
              "      <th>Australia</th>\n",
              "      <td>4/29/2021 7:22:57</td>\n",
              "      <td>25-34</td>\n",
              "      <td>Leisure, Sport &amp; Tourism</td>\n",
              "      <td>Business Development Officer</td>\n",
              "      <td>45000.0</td>\n",
              "      <td>NaN</td>\n",
              "      <td>Adelaide</td>\n",
              "      <td>2 - 4 years</td>\n",
              "      <td>2 - 4 years</td>\n",
              "      <td>College degree</td>\n",
              "      <td>Woman</td>\n",
              "      <td>White</td>\n",
              "    </tr>\n",
              "    <tr>\n",
              "      <th>Australia</th>\n",
              "      <td>5/5/2021 22:33:49</td>\n",
              "      <td>18-24</td>\n",
              "      <td>Marketing, Advertising &amp; PR</td>\n",
              "      <td>Platform Executive</td>\n",
              "      <td>40500.0</td>\n",
              "      <td>NaN</td>\n",
              "      <td>Brisbane</td>\n",
              "      <td>2 - 4 years</td>\n",
              "      <td>1 year or less</td>\n",
              "      <td>College degree</td>\n",
              "      <td>Woman</td>\n",
              "      <td>White</td>\n",
              "    </tr>\n",
              "    <tr>\n",
              "      <th>...</th>\n",
              "      <th>...</th>\n",
              "      <td>...</td>\n",
              "      <td>...</td>\n",
              "      <td>...</td>\n",
              "      <td>...</td>\n",
              "      <td>...</td>\n",
              "      <td>...</td>\n",
              "      <td>...</td>\n",
              "      <td>...</td>\n",
              "      <td>...</td>\n",
              "      <td>...</td>\n",
              "      <td>...</td>\n",
              "      <td>...</td>\n",
              "    </tr>\n",
              "    <tr>\n",
              "      <th rowspan=\"5\" valign=\"top\">ZAR</th>\n",
              "      <th>South Africa</th>\n",
              "      <td>4/27/2021 11:53:46</td>\n",
              "      <td>25-34</td>\n",
              "      <td>Media &amp; Digital</td>\n",
              "      <td>SEO Specialist</td>\n",
              "      <td>35295.0</td>\n",
              "      <td>NaN</td>\n",
              "      <td>Cape Town</td>\n",
              "      <td>8 - 10 years</td>\n",
              "      <td>2 - 4 years</td>\n",
              "      <td>College degree</td>\n",
              "      <td>Woman</td>\n",
              "      <td>Another option not listed here or prefer not t...</td>\n",
              "    </tr>\n",
              "    <tr>\n",
              "      <th>South africa</th>\n",
              "      <td>4/28/2021 17:09:35</td>\n",
              "      <td>35-44</td>\n",
              "      <td>Accounting, Banking &amp; Finance</td>\n",
              "      <td>Business Analyst</td>\n",
              "      <td>52325.0</td>\n",
              "      <td>NaN</td>\n",
              "      <td>Cape town</td>\n",
              "      <td>11 - 20 years</td>\n",
              "      <td>8 - 10 years</td>\n",
              "      <td>College degree</td>\n",
              "      <td>Man</td>\n",
              "      <td>Black or African American</td>\n",
              "    </tr>\n",
              "    <tr>\n",
              "      <th>South Africa</th>\n",
              "      <td>4/27/2021 14:36:47</td>\n",
              "      <td>35-44</td>\n",
              "      <td>Education (Higher Education)</td>\n",
              "      <td>Associate Professor</td>\n",
              "      <td>63336.0</td>\n",
              "      <td>NaN</td>\n",
              "      <td>Cape Town</td>\n",
              "      <td>21 - 30 years</td>\n",
              "      <td>11 - 20 years</td>\n",
              "      <td>Professional degree (MD, JD, etc.)</td>\n",
              "      <td>Woman</td>\n",
              "      <td>Asian or Asian American</td>\n",
              "    </tr>\n",
              "    <tr>\n",
              "      <th>South Africa</th>\n",
              "      <td>4/29/2021 14:39:01</td>\n",
              "      <td>45-54</td>\n",
              "      <td>Engineering or Manufacturing</td>\n",
              "      <td>Account Manager</td>\n",
              "      <td>26000.0</td>\n",
              "      <td>NaN</td>\n",
              "      <td>Pietermaritzburg</td>\n",
              "      <td>11 - 20 years</td>\n",
              "      <td>2 - 4 years</td>\n",
              "      <td>College degree</td>\n",
              "      <td>Woman</td>\n",
              "      <td>White</td>\n",
              "    </tr>\n",
              "    <tr>\n",
              "      <th>South Africa</th>\n",
              "      <td>4/27/2021 12:05:46</td>\n",
              "      <td>18-24</td>\n",
              "      <td>Nonprofits</td>\n",
              "      <td>System administration and project manager</td>\n",
              "      <td>15600.0</td>\n",
              "      <td>NaN</td>\n",
              "      <td>Gauteng</td>\n",
              "      <td>2 - 4 years</td>\n",
              "      <td>2 - 4 years</td>\n",
              "      <td>College degree</td>\n",
              "      <td>Woman</td>\n",
              "      <td>White</td>\n",
              "    </tr>\n",
              "  </tbody>\n",
              "</table>\n",
              "<p>27025 rows × 12 columns</p>\n",
              "</div>\n",
              "      <button class=\"colab-df-convert\" onclick=\"convertToInteractive('df-23f72413-00f6-44ca-b412-b67a9a5def90')\"\n",
              "              title=\"Convert this dataframe to an interactive table.\"\n",
              "              style=\"display:none;\">\n",
              "        \n",
              "  <svg xmlns=\"http://www.w3.org/2000/svg\" height=\"24px\"viewBox=\"0 0 24 24\"\n",
              "       width=\"24px\">\n",
              "    <path d=\"M0 0h24v24H0V0z\" fill=\"none\"/>\n",
              "    <path d=\"M18.56 5.44l.94 2.06.94-2.06 2.06-.94-2.06-.94-.94-2.06-.94 2.06-2.06.94zm-11 1L8.5 8.5l.94-2.06 2.06-.94-2.06-.94L8.5 2.5l-.94 2.06-2.06.94zm10 10l.94 2.06.94-2.06 2.06-.94-2.06-.94-.94-2.06-.94 2.06-2.06.94z\"/><path d=\"M17.41 7.96l-1.37-1.37c-.4-.4-.92-.59-1.43-.59-.52 0-1.04.2-1.43.59L10.3 9.45l-7.72 7.72c-.78.78-.78 2.05 0 2.83L4 21.41c.39.39.9.59 1.41.59.51 0 1.02-.2 1.41-.59l7.78-7.78 2.81-2.81c.8-.78.8-2.07 0-2.86zM5.41 20L4 18.59l7.72-7.72 1.47 1.35L5.41 20z\"/>\n",
              "  </svg>\n",
              "      </button>\n",
              "      \n",
              "  <style>\n",
              "    .colab-df-container {\n",
              "      display:flex;\n",
              "      flex-wrap:wrap;\n",
              "      gap: 12px;\n",
              "    }\n",
              "\n",
              "    .colab-df-convert {\n",
              "      background-color: #E8F0FE;\n",
              "      border: none;\n",
              "      border-radius: 50%;\n",
              "      cursor: pointer;\n",
              "      display: none;\n",
              "      fill: #1967D2;\n",
              "      height: 32px;\n",
              "      padding: 0 0 0 0;\n",
              "      width: 32px;\n",
              "    }\n",
              "\n",
              "    .colab-df-convert:hover {\n",
              "      background-color: #E2EBFA;\n",
              "      box-shadow: 0px 1px 2px rgba(60, 64, 67, 0.3), 0px 1px 3px 1px rgba(60, 64, 67, 0.15);\n",
              "      fill: #174EA6;\n",
              "    }\n",
              "\n",
              "    [theme=dark] .colab-df-convert {\n",
              "      background-color: #3B4455;\n",
              "      fill: #D2E3FC;\n",
              "    }\n",
              "\n",
              "    [theme=dark] .colab-df-convert:hover {\n",
              "      background-color: #434B5C;\n",
              "      box-shadow: 0px 1px 3px 1px rgba(0, 0, 0, 0.15);\n",
              "      filter: drop-shadow(0px 1px 2px rgba(0, 0, 0, 0.3));\n",
              "      fill: #FFFFFF;\n",
              "    }\n",
              "  </style>\n",
              "\n",
              "      <script>\n",
              "        const buttonEl =\n",
              "          document.querySelector('#df-23f72413-00f6-44ca-b412-b67a9a5def90 button.colab-df-convert');\n",
              "        buttonEl.style.display =\n",
              "          google.colab.kernel.accessAllowed ? 'block' : 'none';\n",
              "\n",
              "        async function convertToInteractive(key) {\n",
              "          const element = document.querySelector('#df-23f72413-00f6-44ca-b412-b67a9a5def90');\n",
              "          const dataTable =\n",
              "            await google.colab.kernel.invokeFunction('convertToInteractive',\n",
              "                                                     [key], {});\n",
              "          if (!dataTable) return;\n",
              "\n",
              "          const docLinkHtml = 'Like what you see? Visit the ' +\n",
              "            '<a target=\"_blank\" href=https://colab.research.google.com/notebooks/data_table.ipynb>data table notebook</a>'\n",
              "            + ' to learn more about interactive tables.';\n",
              "          element.innerHTML = '';\n",
              "          dataTable['output_type'] = 'display_data';\n",
              "          await google.colab.output.renderOutput(dataTable, element);\n",
              "          const docLink = document.createElement('div');\n",
              "          docLink.innerHTML = docLinkHtml;\n",
              "          element.appendChild(docLink);\n",
              "        }\n",
              "      </script>\n",
              "    </div>\n",
              "  </div>\n",
              "  "
            ],
            "text/plain": [
              "                                 Timestamp  ...                                               Race\n",
              "Currency Country                            ...                                                   \n",
              "AUD/NZD  Australia       4/28/2021 4:12:50  ...                                              White\n",
              "         Australia       5/5/2021 22:19:51  ...                                              White\n",
              "         Australia       4/28/2021 5:45:11  ...                                              White\n",
              "         Australia       4/29/2021 7:22:57  ...                                              White\n",
              "         Australia       5/5/2021 22:33:49  ...                                              White\n",
              "...                                    ...  ...                                                ...\n",
              "ZAR      South Africa   4/27/2021 11:53:46  ...  Another option not listed here or prefer not t...\n",
              "         South africa   4/28/2021 17:09:35  ...                          Black or African American\n",
              "         South Africa   4/27/2021 14:36:47  ...                            Asian or Asian American\n",
              "         South Africa   4/29/2021 14:39:01  ...                                              White\n",
              "         South Africa   4/27/2021 12:05:46  ...                                              White\n",
              "\n",
              "[27025 rows x 12 columns]"
            ]
          },
          "metadata": {},
          "execution_count": 36
        }
      ]
    },
    {
      "cell_type": "code",
      "source": [
        ""
      ],
      "metadata": {
        "id": "Nvp9dGFZbTfz"
      },
      "execution_count": 36,
      "outputs": []
    },
    {
      "cell_type": "markdown",
      "source": [
        "# **Check all the Salaries that has no value and are set as other**"
      ],
      "metadata": {
        "id": "MkcjIfNR0hQZ"
      }
    },
    {
      "cell_type": "code",
      "source": [
        "salary_df.loc[(\"Other\"), \"Annual salary\"]"
      ],
      "metadata": {
        "colab": {
          "base_uri": "https://localhost:8080/"
        },
        "id": "Z16zdUA5DLX6",
        "outputId": "c4b8dd12-9c82-4d12-faa1-18f3c6184034"
      },
      "execution_count": 37,
      "outputs": [
        {
          "output_type": "stream",
          "name": "stderr",
          "text": [
            "/usr/local/lib/python3.7/dist-packages/ipykernel_launcher.py:1: PerformanceWarning: indexing past lexsort depth may impact performance.\n",
            "  \"\"\"Entry point for launching an IPython kernel.\n"
          ]
        },
        {
          "output_type": "execute_result",
          "data": {
            "text/plain": [
              "Country\n",
              "India           1200000.0\n",
              "Argentina        780000.0\n",
              "Denmark          556200.0\n",
              "India           1465000.0\n",
              "U.S.A.            76500.0\n",
              "                  ...    \n",
              "USA               64000.0\n",
              "Sweden           318000.0\n",
              "South Korea    43800000.0\n",
              "Malaysia          38760.0\n",
              "Denmark          510000.0\n",
              "Name: Annual salary, Length: 138, dtype: float64"
            ]
          },
          "metadata": {},
          "execution_count": 37
        }
      ]
    },
    {
      "cell_type": "code",
      "source": [
        ""
      ],
      "metadata": {
        "id": "YKzEBQ_0bVUz"
      },
      "execution_count": 37,
      "outputs": []
    },
    {
      "cell_type": "code",
      "source": [
        "salary_df.loc[(\"Other\", \"Taiwan\"), \"Annual salary\"]"
      ],
      "metadata": {
        "colab": {
          "base_uri": "https://localhost:8080/"
        },
        "id": "U5a4x-zCDLUf",
        "outputId": "50524052-0b4e-4972-8f21-aaaa9a75101e"
      },
      "execution_count": 38,
      "outputs": [
        {
          "output_type": "stream",
          "name": "stderr",
          "text": [
            "/usr/local/lib/python3.7/dist-packages/pandas/core/indexing.py:873: PerformanceWarning: indexing past lexsort depth may impact performance.\n",
            "  return self._getitem_tuple(key)\n"
          ]
        },
        {
          "output_type": "execute_result",
          "data": {
            "text/plain": [
              "Currency  Country\n",
              "Other     Taiwan      732000.0\n",
              "          Taiwan     1000000.0\n",
              "Name: Annual salary, dtype: float64"
            ]
          },
          "metadata": {},
          "execution_count": 38
        }
      ]
    },
    {
      "cell_type": "code",
      "source": [
        ""
      ],
      "metadata": {
        "id": "fMC79mH3bWHP"
      },
      "execution_count": 38,
      "outputs": []
    },
    {
      "cell_type": "markdown",
      "source": [
        "# **Now use the country column to get the right currency for the Annual Salaries that dosn't have an input in the currency column**"
      ],
      "metadata": {
        "id": "-_UzOjKP0vmL"
      }
    },
    {
      "cell_type": "code",
      "source": [
        "salary_df.loc[(\"Other\", \"Taiwan\"), \"Annual salary\"] = salary_df.loc[(\"Other\", \"Taiwan\"), \"Annual salary\"].mul(0.036)"
      ],
      "metadata": {
        "colab": {
          "base_uri": "https://localhost:8080/"
        },
        "id": "QA3ysgJ2DLRx",
        "outputId": "e7d65c85-a474-4ef4-cd23-9ec774a9acea"
      },
      "execution_count": 39,
      "outputs": [
        {
          "output_type": "stream",
          "name": "stderr",
          "text": [
            "/usr/local/lib/python3.7/dist-packages/pandas/core/indexing.py:873: PerformanceWarning: indexing past lexsort depth may impact performance.\n",
            "  return self._getitem_tuple(key)\n",
            "/usr/local/lib/python3.7/dist-packages/ipykernel/zmqshell.py:537: PerformanceWarning: indexing past lexsort depth may impact performance.\n",
            "  return super(ZMQInteractiveShell, self).run_cell(*args, **kwargs)\n"
          ]
        }
      ]
    },
    {
      "cell_type": "code",
      "source": [
        "salary_df.loc[(\"Other\", \"Taiwan\"), \"Annual salary\"]"
      ],
      "metadata": {
        "colab": {
          "base_uri": "https://localhost:8080/"
        },
        "id": "KVjUPmYTp1hY",
        "outputId": "c070ca83-4dde-462b-8681-413566899361"
      },
      "execution_count": 40,
      "outputs": [
        {
          "output_type": "stream",
          "name": "stderr",
          "text": [
            "/usr/local/lib/python3.7/dist-packages/pandas/core/indexing.py:873: PerformanceWarning: indexing past lexsort depth may impact performance.\n",
            "  return self._getitem_tuple(key)\n"
          ]
        },
        {
          "output_type": "execute_result",
          "data": {
            "text/plain": [
              "Currency  Country\n",
              "Other     Taiwan     26352.0\n",
              "          Taiwan     36000.0\n",
              "Name: Annual salary, dtype: float64"
            ]
          },
          "metadata": {},
          "execution_count": 40
        }
      ]
    },
    {
      "cell_type": "code",
      "source": [
        ""
      ],
      "metadata": {
        "id": "__3v5UPwbZxF"
      },
      "execution_count": 40,
      "outputs": []
    },
    {
      "cell_type": "code",
      "source": [
        "salary_df.loc[(\"Other\", \"India\"), \"Annual salary\"]"
      ],
      "metadata": {
        "colab": {
          "base_uri": "https://localhost:8080/"
        },
        "id": "h6zC1EitO_5e",
        "outputId": "77e9f760-aca8-487c-8e27-64920580b782"
      },
      "execution_count": 41,
      "outputs": [
        {
          "output_type": "stream",
          "name": "stderr",
          "text": [
            "/usr/local/lib/python3.7/dist-packages/pandas/core/indexing.py:873: PerformanceWarning: indexing past lexsort depth may impact performance.\n",
            "  return self._getitem_tuple(key)\n"
          ]
        },
        {
          "output_type": "execute_result",
          "data": {
            "text/plain": [
              "Currency  Country\n",
              "Other     India      1200000.0\n",
              "          India      1465000.0\n",
              "          India      2800000.0\n",
              "          India       500000.0\n",
              "          India       750000.0\n",
              "          India      2100000.0\n",
              "          India       885000.0\n",
              "          India       945000.0\n",
              "          India      4000000.0\n",
              "Name: Annual salary, dtype: float64"
            ]
          },
          "metadata": {},
          "execution_count": 41
        }
      ]
    },
    {
      "cell_type": "code",
      "source": [
        "salary_df.loc[(\"Other\", \"India\"), \"Annual salary\"] = salary_df.loc[(\"Other\", \"India\"), \"Annual salary\"].mul(0.013)"
      ],
      "metadata": {
        "colab": {
          "base_uri": "https://localhost:8080/"
        },
        "id": "PfvuZS8gDLPa",
        "outputId": "5d2803e5-5b4a-4b22-8897-138223cc2273"
      },
      "execution_count": 42,
      "outputs": [
        {
          "output_type": "stream",
          "name": "stderr",
          "text": [
            "/usr/local/lib/python3.7/dist-packages/pandas/core/indexing.py:873: PerformanceWarning: indexing past lexsort depth may impact performance.\n",
            "  return self._getitem_tuple(key)\n",
            "/usr/local/lib/python3.7/dist-packages/ipykernel/zmqshell.py:537: PerformanceWarning: indexing past lexsort depth may impact performance.\n",
            "  return super(ZMQInteractiveShell, self).run_cell(*args, **kwargs)\n"
          ]
        }
      ]
    },
    {
      "cell_type": "code",
      "source": [
        "salary_df.loc[(\"Other\", \"India\"), \"Annual salary\"]"
      ],
      "metadata": {
        "colab": {
          "base_uri": "https://localhost:8080/"
        },
        "id": "KSr0GswDO0yF",
        "outputId": "090d93db-e4a7-4526-c424-89ff41a544fc"
      },
      "execution_count": 43,
      "outputs": [
        {
          "output_type": "stream",
          "name": "stderr",
          "text": [
            "/usr/local/lib/python3.7/dist-packages/pandas/core/indexing.py:873: PerformanceWarning: indexing past lexsort depth may impact performance.\n",
            "  return self._getitem_tuple(key)\n"
          ]
        },
        {
          "output_type": "execute_result",
          "data": {
            "text/plain": [
              "Currency  Country\n",
              "Other     India      15600.0\n",
              "          India      19045.0\n",
              "          India      36400.0\n",
              "          India       6500.0\n",
              "          India       9750.0\n",
              "          India      27300.0\n",
              "          India      11505.0\n",
              "          India      12285.0\n",
              "          India      52000.0\n",
              "Name: Annual salary, dtype: float64"
            ]
          },
          "metadata": {},
          "execution_count": 43
        }
      ]
    },
    {
      "cell_type": "code",
      "source": [
        ""
      ],
      "metadata": {
        "id": "wcqpwrGxba9S"
      },
      "execution_count": 43,
      "outputs": []
    },
    {
      "cell_type": "code",
      "source": [
        "salary_df.loc[(\"Other\", \"South Korea\"), \"Annual salary\"]"
      ],
      "metadata": {
        "colab": {
          "base_uri": "https://localhost:8080/"
        },
        "id": "eFkSoFmVPHNl",
        "outputId": "d3f92364-cbe9-4fc5-dbe4-1c61440f4299"
      },
      "execution_count": 44,
      "outputs": [
        {
          "output_type": "stream",
          "name": "stderr",
          "text": [
            "/usr/local/lib/python3.7/dist-packages/pandas/core/indexing.py:873: PerformanceWarning: indexing past lexsort depth may impact performance.\n",
            "  return self._getitem_tuple(key)\n"
          ]
        },
        {
          "output_type": "execute_result",
          "data": {
            "text/plain": [
              "Currency  Country    \n",
              "Other     South Korea    27000000.0\n",
              "          South Korea    38000000.0\n",
              "          South Korea    36000000.0\n",
              "          South Korea    43800000.0\n",
              "Name: Annual salary, dtype: float64"
            ]
          },
          "metadata": {},
          "execution_count": 44
        }
      ]
    },
    {
      "cell_type": "code",
      "source": [
        "salary_df.loc[(\"Other\", \"South Korea\"), \"Annual salary\"] = salary_df.loc[(\"Other\", \"South Korea\"), \"Annual salary\"].mul(0.00083)"
      ],
      "metadata": {
        "colab": {
          "base_uri": "https://localhost:8080/"
        },
        "id": "2K77moiXDLMe",
        "outputId": "3124268a-0bfe-466f-a670-bc4b62c01043"
      },
      "execution_count": 45,
      "outputs": [
        {
          "output_type": "stream",
          "name": "stderr",
          "text": [
            "/usr/local/lib/python3.7/dist-packages/pandas/core/indexing.py:873: PerformanceWarning: indexing past lexsort depth may impact performance.\n",
            "  return self._getitem_tuple(key)\n",
            "/usr/local/lib/python3.7/dist-packages/ipykernel/zmqshell.py:537: PerformanceWarning: indexing past lexsort depth may impact performance.\n",
            "  return super(ZMQInteractiveShell, self).run_cell(*args, **kwargs)\n"
          ]
        }
      ]
    },
    {
      "cell_type": "code",
      "source": [
        "salary_df.loc[(\"Other\", \"South Korea\"), \"Annual salary\"]"
      ],
      "metadata": {
        "colab": {
          "base_uri": "https://localhost:8080/"
        },
        "id": "k-0tvR1pPMj1",
        "outputId": "421ddb51-ba7d-4fb9-8b19-93d0fbbddf1a"
      },
      "execution_count": 46,
      "outputs": [
        {
          "output_type": "stream",
          "name": "stderr",
          "text": [
            "/usr/local/lib/python3.7/dist-packages/pandas/core/indexing.py:873: PerformanceWarning: indexing past lexsort depth may impact performance.\n",
            "  return self._getitem_tuple(key)\n"
          ]
        },
        {
          "output_type": "execute_result",
          "data": {
            "text/plain": [
              "Currency  Country    \n",
              "Other     South Korea    22410.0\n",
              "          South Korea    31540.0\n",
              "          South Korea    29880.0\n",
              "          South Korea    36354.0\n",
              "Name: Annual salary, dtype: float64"
            ]
          },
          "metadata": {},
          "execution_count": 46
        }
      ]
    },
    {
      "cell_type": "code",
      "source": [
        ""
      ],
      "metadata": {
        "id": "N6XQGTuEbb_V"
      },
      "execution_count": 46,
      "outputs": []
    },
    {
      "cell_type": "code",
      "source": [
        "salary_df.loc[(\"Other\", \"New Zealand\"), \"Annual salary\"]"
      ],
      "metadata": {
        "colab": {
          "base_uri": "https://localhost:8080/"
        },
        "id": "7696WeM7POoq",
        "outputId": "1d4d1ca0-dbb5-4e98-9de0-a3fee108db62"
      },
      "execution_count": 47,
      "outputs": [
        {
          "output_type": "stream",
          "name": "stderr",
          "text": [
            "/usr/local/lib/python3.7/dist-packages/pandas/core/indexing.py:873: PerformanceWarning: indexing past lexsort depth may impact performance.\n",
            "  return self._getitem_tuple(key)\n"
          ]
        },
        {
          "output_type": "execute_result",
          "data": {
            "text/plain": [
              "Currency  Country    \n",
              "Other     New Zealand    65000.0\n",
              "          New Zealand    86000.0\n",
              "Name: Annual salary, dtype: float64"
            ]
          },
          "metadata": {},
          "execution_count": 47
        }
      ]
    },
    {
      "cell_type": "code",
      "source": [
        "salary_df.loc[(\"Other\", \"New Zealand\"), \"Annual salary\"] = salary_df.loc[(\"Other\", \"New Zealand\"), \"Annual salary\"].mul(0.67)"
      ],
      "metadata": {
        "colab": {
          "base_uri": "https://localhost:8080/"
        },
        "id": "7v74UQ0xDLJz",
        "outputId": "cf2d7aa4-9916-47b5-f090-3ddd559aefe2"
      },
      "execution_count": 48,
      "outputs": [
        {
          "output_type": "stream",
          "name": "stderr",
          "text": [
            "/usr/local/lib/python3.7/dist-packages/pandas/core/indexing.py:873: PerformanceWarning: indexing past lexsort depth may impact performance.\n",
            "  return self._getitem_tuple(key)\n",
            "/usr/local/lib/python3.7/dist-packages/ipykernel/zmqshell.py:537: PerformanceWarning: indexing past lexsort depth may impact performance.\n",
            "  return super(ZMQInteractiveShell, self).run_cell(*args, **kwargs)\n"
          ]
        }
      ]
    },
    {
      "cell_type": "code",
      "source": [
        "salary_df.loc[(\"Other\", \"New Zealand\"), \"Annual salary\"]"
      ],
      "metadata": {
        "colab": {
          "base_uri": "https://localhost:8080/"
        },
        "id": "dajLrakKPUTF",
        "outputId": "5b256a1d-0ed7-4b75-ed50-21b8e9d33f77"
      },
      "execution_count": 49,
      "outputs": [
        {
          "output_type": "stream",
          "name": "stderr",
          "text": [
            "/usr/local/lib/python3.7/dist-packages/pandas/core/indexing.py:873: PerformanceWarning: indexing past lexsort depth may impact performance.\n",
            "  return self._getitem_tuple(key)\n"
          ]
        },
        {
          "output_type": "execute_result",
          "data": {
            "text/plain": [
              "Currency  Country    \n",
              "Other     New Zealand    43550.0\n",
              "          New Zealand    57620.0\n",
              "Name: Annual salary, dtype: float64"
            ]
          },
          "metadata": {},
          "execution_count": 49
        }
      ]
    },
    {
      "cell_type": "code",
      "source": [
        ""
      ],
      "metadata": {
        "id": "GfeClex2bdMw"
      },
      "execution_count": 49,
      "outputs": []
    },
    {
      "cell_type": "code",
      "source": [
        "salary_df.loc[(\"Other\", \"Poland\"), \"Annual salary\"]"
      ],
      "metadata": {
        "colab": {
          "base_uri": "https://localhost:8080/"
        },
        "id": "-TtcRy1oPVnd",
        "outputId": "38779401-5b2d-4f3f-dbf0-ca8e8f916b25"
      },
      "execution_count": 50,
      "outputs": [
        {
          "output_type": "stream",
          "name": "stderr",
          "text": [
            "/usr/local/lib/python3.7/dist-packages/pandas/core/indexing.py:873: PerformanceWarning: indexing past lexsort depth may impact performance.\n",
            "  return self._getitem_tuple(key)\n"
          ]
        },
        {
          "output_type": "execute_result",
          "data": {
            "text/plain": [
              "Currency  Country\n",
              "Other     Poland      72000.0\n",
              "          Poland     180000.0\n",
              "          Poland      60000.0\n",
              "          Poland      66500.0\n",
              "          Poland     145000.0\n",
              "          Poland      37200.0\n",
              "Name: Annual salary, dtype: float64"
            ]
          },
          "metadata": {},
          "execution_count": 50
        }
      ]
    },
    {
      "cell_type": "code",
      "source": [
        "salary_df.loc[(\"Other\", \"Poland\"), \"Annual salary\"] = salary_df.loc[(\"Other\", \"Poland\"), \"Annual salary\"].mul(0.25)"
      ],
      "metadata": {
        "colab": {
          "base_uri": "https://localhost:8080/"
        },
        "id": "DykgDMAfDLG2",
        "outputId": "1bfe9757-30f3-4adc-eb02-fee852163dba"
      },
      "execution_count": 51,
      "outputs": [
        {
          "output_type": "stream",
          "name": "stderr",
          "text": [
            "/usr/local/lib/python3.7/dist-packages/pandas/core/indexing.py:873: PerformanceWarning: indexing past lexsort depth may impact performance.\n",
            "  return self._getitem_tuple(key)\n",
            "/usr/local/lib/python3.7/dist-packages/ipykernel/zmqshell.py:537: PerformanceWarning: indexing past lexsort depth may impact performance.\n",
            "  return super(ZMQInteractiveShell, self).run_cell(*args, **kwargs)\n"
          ]
        }
      ]
    },
    {
      "cell_type": "code",
      "source": [
        "salary_df.loc[(\"Other\", \"Poland\"), \"Annual salary\"]"
      ],
      "metadata": {
        "colab": {
          "base_uri": "https://localhost:8080/"
        },
        "id": "EPezVHzwPZqU",
        "outputId": "624dd691-eb35-4dfc-f4d5-f256f108065d"
      },
      "execution_count": 52,
      "outputs": [
        {
          "output_type": "stream",
          "name": "stderr",
          "text": [
            "/usr/local/lib/python3.7/dist-packages/pandas/core/indexing.py:873: PerformanceWarning: indexing past lexsort depth may impact performance.\n",
            "  return self._getitem_tuple(key)\n"
          ]
        },
        {
          "output_type": "execute_result",
          "data": {
            "text/plain": [
              "Currency  Country\n",
              "Other     Poland     18000.0\n",
              "          Poland     45000.0\n",
              "          Poland     15000.0\n",
              "          Poland     16625.0\n",
              "          Poland     36250.0\n",
              "          Poland      9300.0\n",
              "Name: Annual salary, dtype: float64"
            ]
          },
          "metadata": {},
          "execution_count": 52
        }
      ]
    },
    {
      "cell_type": "code",
      "source": [
        ""
      ],
      "metadata": {
        "id": "BsUgaZx0beW2"
      },
      "execution_count": 52,
      "outputs": []
    },
    {
      "cell_type": "code",
      "source": [
        "salary_df.loc[(\"Other\", \"China\"), \"Annual salary\"]"
      ],
      "metadata": {
        "colab": {
          "base_uri": "https://localhost:8080/"
        },
        "id": "iXHkNOudPax1",
        "outputId": "34cf4bac-59eb-437f-f487-85c45abb121c"
      },
      "execution_count": 53,
      "outputs": [
        {
          "output_type": "stream",
          "name": "stderr",
          "text": [
            "/usr/local/lib/python3.7/dist-packages/pandas/core/indexing.py:873: PerformanceWarning: indexing past lexsort depth may impact performance.\n",
            "  return self._getitem_tuple(key)\n"
          ]
        },
        {
          "output_type": "execute_result",
          "data": {
            "text/plain": [
              "Currency  Country\n",
              "Other     China      260000.0\n",
              "          China      390000.0\n",
              "          China      250000.0\n",
              "Name: Annual salary, dtype: float64"
            ]
          },
          "metadata": {},
          "execution_count": 53
        }
      ]
    },
    {
      "cell_type": "code",
      "source": [
        "salary_df.loc[(\"Other\", \"China\"), \"Annual salary\"] = salary_df.loc[(\"Other\", \"China\"), \"Annual salary\"].mul(0.16)"
      ],
      "metadata": {
        "colab": {
          "base_uri": "https://localhost:8080/"
        },
        "id": "cKyCDKlJkw-l",
        "outputId": "6f052acb-0438-4e32-eaaa-30c891d2abcb"
      },
      "execution_count": 54,
      "outputs": [
        {
          "output_type": "stream",
          "name": "stderr",
          "text": [
            "/usr/local/lib/python3.7/dist-packages/pandas/core/indexing.py:873: PerformanceWarning: indexing past lexsort depth may impact performance.\n",
            "  return self._getitem_tuple(key)\n",
            "/usr/local/lib/python3.7/dist-packages/ipykernel/zmqshell.py:537: PerformanceWarning: indexing past lexsort depth may impact performance.\n",
            "  return super(ZMQInteractiveShell, self).run_cell(*args, **kwargs)\n"
          ]
        }
      ]
    },
    {
      "cell_type": "code",
      "source": [
        "salary_df.loc[(\"Other\", \"China\"), \"Annual salary\"]"
      ],
      "metadata": {
        "colab": {
          "base_uri": "https://localhost:8080/"
        },
        "id": "FSEzQ4GLPgwD",
        "outputId": "964b93cd-aed4-4ee5-95c3-b97ed7c7ff32"
      },
      "execution_count": 55,
      "outputs": [
        {
          "output_type": "stream",
          "name": "stderr",
          "text": [
            "/usr/local/lib/python3.7/dist-packages/pandas/core/indexing.py:873: PerformanceWarning: indexing past lexsort depth may impact performance.\n",
            "  return self._getitem_tuple(key)\n"
          ]
        },
        {
          "output_type": "execute_result",
          "data": {
            "text/plain": [
              "Currency  Country\n",
              "Other     China      41600.0\n",
              "          China      62400.0\n",
              "          China      40000.0\n",
              "Name: Annual salary, dtype: float64"
            ]
          },
          "metadata": {},
          "execution_count": 55
        }
      ]
    },
    {
      "cell_type": "code",
      "source": [
        ""
      ],
      "metadata": {
        "id": "8AJtJWp7bfTo"
      },
      "execution_count": 55,
      "outputs": []
    },
    {
      "cell_type": "code",
      "source": [
        "salary_df.loc[(\"Other\", \"Singapore \"), \"Annual salary\"]"
      ],
      "metadata": {
        "colab": {
          "base_uri": "https://localhost:8080/"
        },
        "id": "sly69Cv-PrZ-",
        "outputId": "868f6387-137c-4e6b-c1ff-d75510d15cb8"
      },
      "execution_count": 56,
      "outputs": [
        {
          "output_type": "stream",
          "name": "stderr",
          "text": [
            "/usr/local/lib/python3.7/dist-packages/pandas/core/indexing.py:873: PerformanceWarning: indexing past lexsort depth may impact performance.\n",
            "  return self._getitem_tuple(key)\n"
          ]
        },
        {
          "output_type": "execute_result",
          "data": {
            "text/plain": [
              "Currency  Country   \n",
              "Other     Singapore     135000.0\n",
              "          Singapore      92580.0\n",
              "Name: Annual salary, dtype: float64"
            ]
          },
          "metadata": {},
          "execution_count": 56
        }
      ]
    },
    {
      "cell_type": "code",
      "source": [
        "salary_df.loc[(\"Other\", \"Singapore \"), \"Annual salary\"] = salary_df.loc[(\"Other\", \"Singapore \"), \"Annual salary\"].mul(0.74)"
      ],
      "metadata": {
        "colab": {
          "base_uri": "https://localhost:8080/"
        },
        "id": "pVRiWo8tMsCt",
        "outputId": "8b29267e-b0bc-4991-eb19-e8b0a2816a21"
      },
      "execution_count": 57,
      "outputs": [
        {
          "output_type": "stream",
          "name": "stderr",
          "text": [
            "/usr/local/lib/python3.7/dist-packages/pandas/core/indexing.py:873: PerformanceWarning: indexing past lexsort depth may impact performance.\n",
            "  return self._getitem_tuple(key)\n",
            "/usr/local/lib/python3.7/dist-packages/ipykernel/zmqshell.py:537: PerformanceWarning: indexing past lexsort depth may impact performance.\n",
            "  return super(ZMQInteractiveShell, self).run_cell(*args, **kwargs)\n"
          ]
        }
      ]
    },
    {
      "cell_type": "code",
      "source": [
        "salary_df.loc[(\"Other\", \"Singapore \"), \"Annual salary\"]"
      ],
      "metadata": {
        "colab": {
          "base_uri": "https://localhost:8080/"
        },
        "id": "g9UensLxPxB6",
        "outputId": "078932bc-0c09-4d9e-f244-a5ff514b8f7f"
      },
      "execution_count": 58,
      "outputs": [
        {
          "output_type": "stream",
          "name": "stderr",
          "text": [
            "/usr/local/lib/python3.7/dist-packages/pandas/core/indexing.py:873: PerformanceWarning: indexing past lexsort depth may impact performance.\n",
            "  return self._getitem_tuple(key)\n"
          ]
        },
        {
          "output_type": "execute_result",
          "data": {
            "text/plain": [
              "Currency  Country   \n",
              "Other     Singapore     99900.0\n",
              "          Singapore     68509.2\n",
              "Name: Annual salary, dtype: float64"
            ]
          },
          "metadata": {},
          "execution_count": 58
        }
      ]
    },
    {
      "cell_type": "code",
      "source": [
        ""
      ],
      "metadata": {
        "id": "p7fZbBZZbixj"
      },
      "execution_count": 58,
      "outputs": []
    },
    {
      "cell_type": "code",
      "source": [
        "salary_df.loc[(\"Other\", \"I work for an US based company but I'm from Argentina.\"), \"Annual salary\"]"
      ],
      "metadata": {
        "colab": {
          "base_uri": "https://localhost:8080/"
        },
        "id": "4K1KGswfPxzm",
        "outputId": "7c3f5558-267b-4c61-f636-69c8c5a3406d"
      },
      "execution_count": 59,
      "outputs": [
        {
          "output_type": "stream",
          "name": "stderr",
          "text": [
            "/usr/local/lib/python3.7/dist-packages/pandas/core/indexing.py:873: PerformanceWarning: indexing past lexsort depth may impact performance.\n",
            "  return self._getitem_tuple(key)\n"
          ]
        },
        {
          "output_type": "execute_result",
          "data": {
            "text/plain": [
              "Currency  Country                                               \n",
              "Other     I work for an US based company but I'm from Argentina.    240000.0\n",
              "Name: Annual salary, dtype: float64"
            ]
          },
          "metadata": {},
          "execution_count": 59
        }
      ]
    },
    {
      "cell_type": "code",
      "source": [
        "salary_df.loc[(\"Other\", \"I work for an US based company but I'm from Argentina.\"), \"Annual salary\"] = salary_df.loc[(\"Other\", \"I work for an US based company but I'm from Argentina.\"), \"Annual salary\"].mul(0.0096)"
      ],
      "metadata": {
        "colab": {
          "base_uri": "https://localhost:8080/"
        },
        "id": "CeRKxKUUMr_P",
        "outputId": "608c6b3a-6181-4ebc-f321-29a7812480ed"
      },
      "execution_count": 60,
      "outputs": [
        {
          "output_type": "stream",
          "name": "stderr",
          "text": [
            "/usr/local/lib/python3.7/dist-packages/pandas/core/indexing.py:873: PerformanceWarning: indexing past lexsort depth may impact performance.\n",
            "  return self._getitem_tuple(key)\n",
            "/usr/local/lib/python3.7/dist-packages/ipykernel/zmqshell.py:537: PerformanceWarning: indexing past lexsort depth may impact performance.\n",
            "  return super(ZMQInteractiveShell, self).run_cell(*args, **kwargs)\n"
          ]
        }
      ]
    },
    {
      "cell_type": "code",
      "source": [
        "salary_df.loc[(\"Other\", \"I work for an US based company but I'm from Argentina.\"), \"Annual salary\"]"
      ],
      "metadata": {
        "colab": {
          "base_uri": "https://localhost:8080/"
        },
        "id": "ts3_H2k8P5WV",
        "outputId": "0b674165-5ae5-4618-e858-8b40844e4e80"
      },
      "execution_count": 61,
      "outputs": [
        {
          "output_type": "stream",
          "name": "stderr",
          "text": [
            "/usr/local/lib/python3.7/dist-packages/pandas/core/indexing.py:873: PerformanceWarning: indexing past lexsort depth may impact performance.\n",
            "  return self._getitem_tuple(key)\n"
          ]
        },
        {
          "output_type": "execute_result",
          "data": {
            "text/plain": [
              "Currency  Country                                               \n",
              "Other     I work for an US based company but I'm from Argentina.    2304.0\n",
              "Name: Annual salary, dtype: float64"
            ]
          },
          "metadata": {},
          "execution_count": 61
        }
      ]
    },
    {
      "cell_type": "code",
      "source": [
        ""
      ],
      "metadata": {
        "id": "ENM13qX9bj8P"
      },
      "execution_count": 61,
      "outputs": []
    },
    {
      "cell_type": "code",
      "source": [
        "salary_df.loc[(\"Other\", \"Norway\"), \"Annual salary\"]"
      ],
      "metadata": {
        "colab": {
          "base_uri": "https://localhost:8080/"
        },
        "id": "ALl3bW3mP8Ta",
        "outputId": "33ab4e7e-8f85-41d0-8736-f2e75ab6a3eb"
      },
      "execution_count": 62,
      "outputs": [
        {
          "output_type": "stream",
          "name": "stderr",
          "text": [
            "/usr/local/lib/python3.7/dist-packages/pandas/core/indexing.py:873: PerformanceWarning: indexing past lexsort depth may impact performance.\n",
            "  return self._getitem_tuple(key)\n"
          ]
        },
        {
          "output_type": "execute_result",
          "data": {
            "text/plain": [
              "Currency  Country\n",
              "Other     Norway      955000.0\n",
              "          Norway      700000.0\n",
              "          Norway      660000.0\n",
              "          Norway      813000.0\n",
              "          Norway     1150000.0\n",
              "          Norway      950000.0\n",
              "          Norway      669500.0\n",
              "          Norway      800000.0\n",
              "          Norway      586500.0\n",
              "Name: Annual salary, dtype: float64"
            ]
          },
          "metadata": {},
          "execution_count": 62
        }
      ]
    },
    {
      "cell_type": "code",
      "source": [
        "salary_df.loc[(\"Other\", \"Norway\"), \"Annual salary\"] = salary_df.loc[(\"Other\", \"Norway\"), \"Annual salary\"].mul(0.11)"
      ],
      "metadata": {
        "colab": {
          "base_uri": "https://localhost:8080/"
        },
        "id": "AsApAQELMr8s",
        "outputId": "9634d835-b937-4435-b31a-40fa89b3fd61"
      },
      "execution_count": 63,
      "outputs": [
        {
          "output_type": "stream",
          "name": "stderr",
          "text": [
            "/usr/local/lib/python3.7/dist-packages/pandas/core/indexing.py:873: PerformanceWarning: indexing past lexsort depth may impact performance.\n",
            "  return self._getitem_tuple(key)\n",
            "/usr/local/lib/python3.7/dist-packages/ipykernel/zmqshell.py:537: PerformanceWarning: indexing past lexsort depth may impact performance.\n",
            "  return super(ZMQInteractiveShell, self).run_cell(*args, **kwargs)\n"
          ]
        }
      ]
    },
    {
      "cell_type": "code",
      "source": [
        "salary_df.loc[(\"Other\", \"Norway\"), \"Annual salary\"]"
      ],
      "metadata": {
        "colab": {
          "base_uri": "https://localhost:8080/"
        },
        "id": "R5IFhzt0QCnA",
        "outputId": "acc1cc3a-cd85-4101-9557-3258c289f608"
      },
      "execution_count": 64,
      "outputs": [
        {
          "output_type": "stream",
          "name": "stderr",
          "text": [
            "/usr/local/lib/python3.7/dist-packages/pandas/core/indexing.py:873: PerformanceWarning: indexing past lexsort depth may impact performance.\n",
            "  return self._getitem_tuple(key)\n"
          ]
        },
        {
          "output_type": "execute_result",
          "data": {
            "text/plain": [
              "Currency  Country\n",
              "Other     Norway     105050.0\n",
              "          Norway      77000.0\n",
              "          Norway      72600.0\n",
              "          Norway      89430.0\n",
              "          Norway     126500.0\n",
              "          Norway     104500.0\n",
              "          Norway      73645.0\n",
              "          Norway      88000.0\n",
              "          Norway      64515.0\n",
              "Name: Annual salary, dtype: float64"
            ]
          },
          "metadata": {},
          "execution_count": 64
        }
      ]
    },
    {
      "cell_type": "code",
      "source": [
        ""
      ],
      "metadata": {
        "id": "jeY1-iRXblIQ"
      },
      "execution_count": 64,
      "outputs": []
    },
    {
      "cell_type": "code",
      "source": [
        "salary_df.loc[(\"Other\", \"Singapore\"), \"Annual salary\"]"
      ],
      "metadata": {
        "colab": {
          "base_uri": "https://localhost:8080/"
        },
        "id": "6CblnHOFQEUH",
        "outputId": "9ee18bfc-b0e9-4382-8b5a-3013b991c5ff"
      },
      "execution_count": 65,
      "outputs": [
        {
          "output_type": "stream",
          "name": "stderr",
          "text": [
            "/usr/local/lib/python3.7/dist-packages/pandas/core/indexing.py:873: PerformanceWarning: indexing past lexsort depth may impact performance.\n",
            "  return self._getitem_tuple(key)\n"
          ]
        },
        {
          "output_type": "execute_result",
          "data": {
            "text/plain": [
              "Currency  Country  \n",
              "Other     Singapore     80000.0\n",
              "          Singapore    186000.0\n",
              "          Singapore     46980.0\n",
              "          Singapore     44200.0\n",
              "          Singapore     37800.0\n",
              "          Singapore    126000.0\n",
              "Name: Annual salary, dtype: float64"
            ]
          },
          "metadata": {},
          "execution_count": 65
        }
      ]
    },
    {
      "cell_type": "code",
      "source": [
        "salary_df.loc[(\"Other\", \"Singapore\"), \"Annual salary\"] = salary_df.loc[(\"Other\", \"Singapore\"), \"Annual salary\"].mul(0.74)"
      ],
      "metadata": {
        "colab": {
          "base_uri": "https://localhost:8080/"
        },
        "id": "U2uL6fvTMr6A",
        "outputId": "7bf4d304-8c01-405d-bcaf-1bd8200a250f"
      },
      "execution_count": 66,
      "outputs": [
        {
          "output_type": "stream",
          "name": "stderr",
          "text": [
            "/usr/local/lib/python3.7/dist-packages/pandas/core/indexing.py:873: PerformanceWarning: indexing past lexsort depth may impact performance.\n",
            "  return self._getitem_tuple(key)\n",
            "/usr/local/lib/python3.7/dist-packages/ipykernel/zmqshell.py:537: PerformanceWarning: indexing past lexsort depth may impact performance.\n",
            "  return super(ZMQInteractiveShell, self).run_cell(*args, **kwargs)\n"
          ]
        }
      ]
    },
    {
      "cell_type": "code",
      "source": [
        "salary_df.loc[(\"Other\", \"Singapore\"), \"Annual salary\"]"
      ],
      "metadata": {
        "colab": {
          "base_uri": "https://localhost:8080/"
        },
        "id": "vv7m9uyeQI8m",
        "outputId": "90dfd836-5693-4887-8049-2fbeaef767fa"
      },
      "execution_count": 67,
      "outputs": [
        {
          "output_type": "stream",
          "name": "stderr",
          "text": [
            "/usr/local/lib/python3.7/dist-packages/pandas/core/indexing.py:873: PerformanceWarning: indexing past lexsort depth may impact performance.\n",
            "  return self._getitem_tuple(key)\n"
          ]
        },
        {
          "output_type": "execute_result",
          "data": {
            "text/plain": [
              "Currency  Country  \n",
              "Other     Singapore     59200.0\n",
              "          Singapore    137640.0\n",
              "          Singapore     34765.2\n",
              "          Singapore     32708.0\n",
              "          Singapore     27972.0\n",
              "          Singapore     93240.0\n",
              "Name: Annual salary, dtype: float64"
            ]
          },
          "metadata": {},
          "execution_count": 67
        }
      ]
    },
    {
      "cell_type": "code",
      "source": [
        ""
      ],
      "metadata": {
        "id": "cgbBYgUJbmu6"
      },
      "execution_count": 67,
      "outputs": []
    },
    {
      "cell_type": "code",
      "source": [
        "salary_df.loc[(\"Other\", \"Argentina\"), \"Annual salary\"]"
      ],
      "metadata": {
        "colab": {
          "base_uri": "https://localhost:8080/"
        },
        "id": "wvtp60hvQJ-v",
        "outputId": "f11141a6-8a63-4e2f-f362-2d5f0839cb1b"
      },
      "execution_count": 68,
      "outputs": [
        {
          "output_type": "stream",
          "name": "stderr",
          "text": [
            "/usr/local/lib/python3.7/dist-packages/pandas/core/indexing.py:873: PerformanceWarning: indexing past lexsort depth may impact performance.\n",
            "  return self._getitem_tuple(key)\n"
          ]
        },
        {
          "output_type": "execute_result",
          "data": {
            "text/plain": [
              "Currency  Country  \n",
              "Other     Argentina     780000.0\n",
              "          Argentina    1080000.0\n",
              "          Argentina     845000.0\n",
              "          Argentina    1500000.0\n",
              "Name: Annual salary, dtype: float64"
            ]
          },
          "metadata": {},
          "execution_count": 68
        }
      ]
    },
    {
      "cell_type": "code",
      "source": [
        "salary_df.loc[(\"Other\", \"Argentina\"), \"Annual salary\"] = salary_df.loc[(\"Other\", \"Argentina\"), \"Annual salary\"].mul(0.0096)"
      ],
      "metadata": {
        "colab": {
          "base_uri": "https://localhost:8080/"
        },
        "id": "_h3rp5jXMr3v",
        "outputId": "c61b905b-c141-435e-8c44-c3e4753f4a42"
      },
      "execution_count": 69,
      "outputs": [
        {
          "output_type": "stream",
          "name": "stderr",
          "text": [
            "/usr/local/lib/python3.7/dist-packages/pandas/core/indexing.py:873: PerformanceWarning: indexing past lexsort depth may impact performance.\n",
            "  return self._getitem_tuple(key)\n",
            "/usr/local/lib/python3.7/dist-packages/ipykernel/zmqshell.py:537: PerformanceWarning: indexing past lexsort depth may impact performance.\n",
            "  return super(ZMQInteractiveShell, self).run_cell(*args, **kwargs)\n"
          ]
        }
      ]
    },
    {
      "cell_type": "code",
      "source": [
        "salary_df.loc[(\"Other\", \"Argentina\"), \"Annual salary\"]"
      ],
      "metadata": {
        "colab": {
          "base_uri": "https://localhost:8080/"
        },
        "id": "jLIds0IaQPU-",
        "outputId": "b80c8bc8-4feb-47e6-963d-430c266f7fde"
      },
      "execution_count": 70,
      "outputs": [
        {
          "output_type": "stream",
          "name": "stderr",
          "text": [
            "/usr/local/lib/python3.7/dist-packages/pandas/core/indexing.py:873: PerformanceWarning: indexing past lexsort depth may impact performance.\n",
            "  return self._getitem_tuple(key)\n"
          ]
        },
        {
          "output_type": "execute_result",
          "data": {
            "text/plain": [
              "Currency  Country  \n",
              "Other     Argentina     7488.0\n",
              "          Argentina    10368.0\n",
              "          Argentina     8112.0\n",
              "          Argentina    14400.0\n",
              "Name: Annual salary, dtype: float64"
            ]
          },
          "metadata": {},
          "execution_count": 70
        }
      ]
    },
    {
      "cell_type": "code",
      "source": [
        ""
      ],
      "metadata": {
        "id": "V-C-jbabbn3p"
      },
      "execution_count": 70,
      "outputs": []
    },
    {
      "cell_type": "code",
      "source": [
        "salary_df.loc[(\"Other\", \"Malaysia\"), \"Annual salary\"]"
      ],
      "metadata": {
        "colab": {
          "base_uri": "https://localhost:8080/"
        },
        "id": "fn-HHGKLQQdn",
        "outputId": "17ef2f03-31a2-4255-f1e9-b043eb0a991e"
      },
      "execution_count": 71,
      "outputs": [
        {
          "output_type": "stream",
          "name": "stderr",
          "text": [
            "/usr/local/lib/python3.7/dist-packages/pandas/core/indexing.py:873: PerformanceWarning: indexing past lexsort depth may impact performance.\n",
            "  return self._getitem_tuple(key)\n"
          ]
        },
        {
          "output_type": "execute_result",
          "data": {
            "text/plain": [
              "Currency  Country \n",
              "Other     Malaysia     50000.0\n",
              "          Malaysia    288000.0\n",
              "          Malaysia     48000.0\n",
              "          Malaysia    100000.0\n",
              "          Malaysia     97000.0\n",
              "          Malaysia     36000.0\n",
              "          Malaysia     40000.0\n",
              "          Malaysia    130000.0\n",
              "          Malaysia     42000.0\n",
              "          Malaysia     80640.0\n",
              "          Malaysia     38760.0\n",
              "Name: Annual salary, dtype: float64"
            ]
          },
          "metadata": {},
          "execution_count": 71
        }
      ]
    },
    {
      "cell_type": "code",
      "source": [
        "salary_df.loc[(\"Other\", \"Malaysia\"), \"Annual salary\"] = salary_df.loc[(\"Other\", \"Malaysia\"), \"Annual salary\"].mul(0.24)"
      ],
      "metadata": {
        "colab": {
          "base_uri": "https://localhost:8080/"
        },
        "id": "3LdjTMuRMr1B",
        "outputId": "c6053922-c533-4b04-d2f6-1ab8bf9a1af4"
      },
      "execution_count": 72,
      "outputs": [
        {
          "output_type": "stream",
          "name": "stderr",
          "text": [
            "/usr/local/lib/python3.7/dist-packages/pandas/core/indexing.py:873: PerformanceWarning: indexing past lexsort depth may impact performance.\n",
            "  return self._getitem_tuple(key)\n",
            "/usr/local/lib/python3.7/dist-packages/ipykernel/zmqshell.py:537: PerformanceWarning: indexing past lexsort depth may impact performance.\n",
            "  return super(ZMQInteractiveShell, self).run_cell(*args, **kwargs)\n"
          ]
        }
      ]
    },
    {
      "cell_type": "code",
      "source": [
        "salary_df.loc[(\"Other\", \"Malaysia\"), \"Annual salary\"]"
      ],
      "metadata": {
        "colab": {
          "base_uri": "https://localhost:8080/"
        },
        "id": "YP03sEGdQVNs",
        "outputId": "26b26a15-f746-4ca8-f3d3-c445eb21cce1"
      },
      "execution_count": 73,
      "outputs": [
        {
          "output_type": "stream",
          "name": "stderr",
          "text": [
            "/usr/local/lib/python3.7/dist-packages/pandas/core/indexing.py:873: PerformanceWarning: indexing past lexsort depth may impact performance.\n",
            "  return self._getitem_tuple(key)\n"
          ]
        },
        {
          "output_type": "execute_result",
          "data": {
            "text/plain": [
              "Currency  Country \n",
              "Other     Malaysia    12000.0\n",
              "          Malaysia    69120.0\n",
              "          Malaysia    11520.0\n",
              "          Malaysia    24000.0\n",
              "          Malaysia    23280.0\n",
              "          Malaysia     8640.0\n",
              "          Malaysia     9600.0\n",
              "          Malaysia    31200.0\n",
              "          Malaysia    10080.0\n",
              "          Malaysia    19353.6\n",
              "          Malaysia     9302.4\n",
              "Name: Annual salary, dtype: float64"
            ]
          },
          "metadata": {},
          "execution_count": 73
        }
      ]
    },
    {
      "cell_type": "code",
      "source": [
        ""
      ],
      "metadata": {
        "id": "bSKt49oSbo5W"
      },
      "execution_count": 73,
      "outputs": []
    },
    {
      "cell_type": "code",
      "source": [
        "salary_df.loc[(\"Other\", \"México\"), \"Annual salary\"]"
      ],
      "metadata": {
        "colab": {
          "base_uri": "https://localhost:8080/"
        },
        "id": "GGx8yhrdQWEg",
        "outputId": "8999edf6-a0fb-4d99-e040-8b9e5903b2da"
      },
      "execution_count": 74,
      "outputs": [
        {
          "output_type": "stream",
          "name": "stderr",
          "text": [
            "/usr/local/lib/python3.7/dist-packages/pandas/core/indexing.py:873: PerformanceWarning: indexing past lexsort depth may impact performance.\n",
            "  return self._getitem_tuple(key)\n"
          ]
        },
        {
          "output_type": "execute_result",
          "data": {
            "text/plain": [
              "Currency  Country\n",
              "Other     México     504000.0\n",
              "Name: Annual salary, dtype: float64"
            ]
          },
          "metadata": {},
          "execution_count": 74
        }
      ]
    },
    {
      "cell_type": "code",
      "source": [
        "salary_df.loc[(\"Other\", \"México\"), \"Annual salary\"] = salary_df.loc[(\"Other\", \"México\"), \"Annual salary\"].mul(0.048)"
      ],
      "metadata": {
        "colab": {
          "base_uri": "https://localhost:8080/"
        },
        "id": "t9xvtb5BMryN",
        "outputId": "f1cb11de-a8fb-4d8b-d045-50a95ccda326"
      },
      "execution_count": 75,
      "outputs": [
        {
          "output_type": "stream",
          "name": "stderr",
          "text": [
            "/usr/local/lib/python3.7/dist-packages/pandas/core/indexing.py:873: PerformanceWarning: indexing past lexsort depth may impact performance.\n",
            "  return self._getitem_tuple(key)\n",
            "/usr/local/lib/python3.7/dist-packages/ipykernel/zmqshell.py:537: PerformanceWarning: indexing past lexsort depth may impact performance.\n",
            "  return super(ZMQInteractiveShell, self).run_cell(*args, **kwargs)\n"
          ]
        }
      ]
    },
    {
      "cell_type": "code",
      "source": [
        "salary_df.loc[(\"Other\", \"México\"), \"Annual salary\"]"
      ],
      "metadata": {
        "colab": {
          "base_uri": "https://localhost:8080/"
        },
        "id": "TrLldrg7Qdlz",
        "outputId": "0aaa383a-bc30-4b6a-e8d8-10c190041198"
      },
      "execution_count": 76,
      "outputs": [
        {
          "output_type": "stream",
          "name": "stderr",
          "text": [
            "/usr/local/lib/python3.7/dist-packages/pandas/core/indexing.py:873: PerformanceWarning: indexing past lexsort depth may impact performance.\n",
            "  return self._getitem_tuple(key)\n"
          ]
        },
        {
          "output_type": "execute_result",
          "data": {
            "text/plain": [
              "Currency  Country\n",
              "Other     México     24192.0\n",
              "Name: Annual salary, dtype: float64"
            ]
          },
          "metadata": {},
          "execution_count": 76
        }
      ]
    },
    {
      "cell_type": "code",
      "source": [
        ""
      ],
      "metadata": {
        "id": "eB8Ndny_bp_F"
      },
      "execution_count": 76,
      "outputs": []
    },
    {
      "cell_type": "code",
      "source": [
        "salary_df.loc[(\"Other\", \"Brazil\"), \"Annual salary\"]"
      ],
      "metadata": {
        "colab": {
          "base_uri": "https://localhost:8080/"
        },
        "id": "aDgYskmVQexK",
        "outputId": "e127dc81-2154-4ce3-b619-88b0c90f3246"
      },
      "execution_count": 77,
      "outputs": [
        {
          "output_type": "stream",
          "name": "stderr",
          "text": [
            "/usr/local/lib/python3.7/dist-packages/pandas/core/indexing.py:873: PerformanceWarning: indexing past lexsort depth may impact performance.\n",
            "  return self._getitem_tuple(key)\n"
          ]
        },
        {
          "output_type": "execute_result",
          "data": {
            "text/plain": [
              "Currency  Country\n",
              "Other     Brazil     102000.0\n",
              "          Brazil      30238.0\n",
              "          Brazil     221000.0\n",
              "          Brazil     226800.0\n",
              "          Brazil     156000.0\n",
              "          Brazil     253000.0\n",
              "Name: Annual salary, dtype: float64"
            ]
          },
          "metadata": {},
          "execution_count": 77
        }
      ]
    },
    {
      "cell_type": "code",
      "source": [
        "salary_df.loc[(\"Other\", \"Brazil\"), \"Annual salary\"] = salary_df.loc[(\"Other\", \"Brazil\"), \"Annual salary\"].mul(0.18)"
      ],
      "metadata": {
        "colab": {
          "base_uri": "https://localhost:8080/"
        },
        "id": "U1cwHu0zMrvk",
        "outputId": "d7e46319-2873-4c39-b3b7-c03828960d5c"
      },
      "execution_count": 78,
      "outputs": [
        {
          "output_type": "stream",
          "name": "stderr",
          "text": [
            "/usr/local/lib/python3.7/dist-packages/pandas/core/indexing.py:873: PerformanceWarning: indexing past lexsort depth may impact performance.\n",
            "  return self._getitem_tuple(key)\n",
            "/usr/local/lib/python3.7/dist-packages/ipykernel/zmqshell.py:537: PerformanceWarning: indexing past lexsort depth may impact performance.\n",
            "  return super(ZMQInteractiveShell, self).run_cell(*args, **kwargs)\n"
          ]
        }
      ]
    },
    {
      "cell_type": "code",
      "source": [
        "salary_df.loc[(\"Other\", \"Brazil\"), \"Annual salary\"]"
      ],
      "metadata": {
        "colab": {
          "base_uri": "https://localhost:8080/"
        },
        "id": "6DriIaCGQiyM",
        "outputId": "8364673d-3df1-4638-f0b2-88024a5be997"
      },
      "execution_count": 79,
      "outputs": [
        {
          "output_type": "stream",
          "name": "stderr",
          "text": [
            "/usr/local/lib/python3.7/dist-packages/pandas/core/indexing.py:873: PerformanceWarning: indexing past lexsort depth may impact performance.\n",
            "  return self._getitem_tuple(key)\n"
          ]
        },
        {
          "output_type": "execute_result",
          "data": {
            "text/plain": [
              "Currency  Country\n",
              "Other     Brazil     18360.00\n",
              "          Brazil      5442.84\n",
              "          Brazil     39780.00\n",
              "          Brazil     40824.00\n",
              "          Brazil     28080.00\n",
              "          Brazil     45540.00\n",
              "Name: Annual salary, dtype: float64"
            ]
          },
          "metadata": {},
          "execution_count": 79
        }
      ]
    },
    {
      "cell_type": "code",
      "source": [
        ""
      ],
      "metadata": {
        "id": "Li30dAPybrSM"
      },
      "execution_count": 79,
      "outputs": []
    },
    {
      "cell_type": "code",
      "source": [
        "salary_df.loc[(\"Other\", \"Denmark\"), \"Annual salary\"]"
      ],
      "metadata": {
        "colab": {
          "base_uri": "https://localhost:8080/"
        },
        "id": "WgVIVj8YQjlr",
        "outputId": "3daa6902-c2c3-4e1d-8a88-acde9cb1f475"
      },
      "execution_count": 80,
      "outputs": [
        {
          "output_type": "stream",
          "name": "stderr",
          "text": [
            "/usr/local/lib/python3.7/dist-packages/pandas/core/indexing.py:873: PerformanceWarning: indexing past lexsort depth may impact performance.\n",
            "  return self._getitem_tuple(key)\n"
          ]
        },
        {
          "output_type": "execute_result",
          "data": {
            "text/plain": [
              "Currency  Country\n",
              "Other     Denmark     556200.0\n",
              "          Denmark     700000.0\n",
              "          Denmark    1400000.0\n",
              "          Denmark     550000.0\n",
              "          Denmark     600000.0\n",
              "          Denmark     325000.0\n",
              "          Denmark     428000.0\n",
              "          Denmark     510000.0\n",
              "Name: Annual salary, dtype: float64"
            ]
          },
          "metadata": {},
          "execution_count": 80
        }
      ]
    },
    {
      "cell_type": "code",
      "source": [
        "salary_df.loc[(\"Other\", \"Denmark\"), \"Annual salary\"] = salary_df.loc[(\"Other\", \"Denmark\"), \"Annual salary\"].mul(0.15)"
      ],
      "metadata": {
        "colab": {
          "base_uri": "https://localhost:8080/"
        },
        "id": "aOh8htqhMrtQ",
        "outputId": "31b02956-e8de-42ac-e782-7f4386deeaf1"
      },
      "execution_count": 81,
      "outputs": [
        {
          "output_type": "stream",
          "name": "stderr",
          "text": [
            "/usr/local/lib/python3.7/dist-packages/pandas/core/indexing.py:873: PerformanceWarning: indexing past lexsort depth may impact performance.\n",
            "  return self._getitem_tuple(key)\n",
            "/usr/local/lib/python3.7/dist-packages/ipykernel/zmqshell.py:537: PerformanceWarning: indexing past lexsort depth may impact performance.\n",
            "  return super(ZMQInteractiveShell, self).run_cell(*args, **kwargs)\n"
          ]
        }
      ]
    },
    {
      "cell_type": "code",
      "source": [
        "salary_df.loc[(\"Other\", \"Denmark\"), \"Annual salary\"]"
      ],
      "metadata": {
        "colab": {
          "base_uri": "https://localhost:8080/"
        },
        "id": "WPfiQbE8QolA",
        "outputId": "3daf4c1a-4272-4c23-b8f4-552051b295ba"
      },
      "execution_count": 82,
      "outputs": [
        {
          "output_type": "stream",
          "name": "stderr",
          "text": [
            "/usr/local/lib/python3.7/dist-packages/pandas/core/indexing.py:873: PerformanceWarning: indexing past lexsort depth may impact performance.\n",
            "  return self._getitem_tuple(key)\n"
          ]
        },
        {
          "output_type": "execute_result",
          "data": {
            "text/plain": [
              "Currency  Country\n",
              "Other     Denmark     83430.0\n",
              "          Denmark    105000.0\n",
              "          Denmark    210000.0\n",
              "          Denmark     82500.0\n",
              "          Denmark     90000.0\n",
              "          Denmark     48750.0\n",
              "          Denmark     64200.0\n",
              "          Denmark     76500.0\n",
              "Name: Annual salary, dtype: float64"
            ]
          },
          "metadata": {},
          "execution_count": 82
        }
      ]
    },
    {
      "cell_type": "code",
      "source": [
        ""
      ],
      "metadata": {
        "id": "H5pPlllNbtFV"
      },
      "execution_count": 82,
      "outputs": []
    },
    {
      "cell_type": "code",
      "source": [
        "salary_df.loc[(\"Other\", \"Denmark \"), \"Annual salary\"]"
      ],
      "metadata": {
        "colab": {
          "base_uri": "https://localhost:8080/"
        },
        "id": "az57QuIEQpoQ",
        "outputId": "6f2ed7b4-39a2-4b3d-b7db-11ce45b48c7b"
      },
      "execution_count": 83,
      "outputs": [
        {
          "output_type": "stream",
          "name": "stderr",
          "text": [
            "/usr/local/lib/python3.7/dist-packages/pandas/core/indexing.py:873: PerformanceWarning: indexing past lexsort depth may impact performance.\n",
            "  return self._getitem_tuple(key)\n"
          ]
        },
        {
          "output_type": "execute_result",
          "data": {
            "text/plain": [
              "Currency  Country \n",
              "Other     Denmark     829500.0\n",
              "          Denmark     288000.0\n",
              "Name: Annual salary, dtype: float64"
            ]
          },
          "metadata": {},
          "execution_count": 83
        }
      ]
    },
    {
      "cell_type": "code",
      "source": [
        "salary_df.loc[(\"Other\", \"Denmark \"), \"Annual salary\"] = salary_df.loc[(\"Other\", \"Denmark \"), \"Annual salary\"].mul(0.15)"
      ],
      "metadata": {
        "colab": {
          "base_uri": "https://localhost:8080/"
        },
        "id": "m19Ybo7EMrq2",
        "outputId": "0a73f4ba-57a0-4300-f354-605e91195522"
      },
      "execution_count": 84,
      "outputs": [
        {
          "output_type": "stream",
          "name": "stderr",
          "text": [
            "/usr/local/lib/python3.7/dist-packages/pandas/core/indexing.py:873: PerformanceWarning: indexing past lexsort depth may impact performance.\n",
            "  return self._getitem_tuple(key)\n",
            "/usr/local/lib/python3.7/dist-packages/ipykernel/zmqshell.py:537: PerformanceWarning: indexing past lexsort depth may impact performance.\n",
            "  return super(ZMQInteractiveShell, self).run_cell(*args, **kwargs)\n"
          ]
        }
      ]
    },
    {
      "cell_type": "code",
      "source": [
        "salary_df.loc[(\"Other\", \"Denmark \"), \"Annual salary\"]"
      ],
      "metadata": {
        "colab": {
          "base_uri": "https://localhost:8080/"
        },
        "id": "LVQHlx_KQtGR",
        "outputId": "d1578b5a-b6e0-4d51-f973-070730944c37"
      },
      "execution_count": 85,
      "outputs": [
        {
          "output_type": "stream",
          "name": "stderr",
          "text": [
            "/usr/local/lib/python3.7/dist-packages/pandas/core/indexing.py:873: PerformanceWarning: indexing past lexsort depth may impact performance.\n",
            "  return self._getitem_tuple(key)\n"
          ]
        },
        {
          "output_type": "execute_result",
          "data": {
            "text/plain": [
              "Currency  Country \n",
              "Other     Denmark     124425.0\n",
              "          Denmark      43200.0\n",
              "Name: Annual salary, dtype: float64"
            ]
          },
          "metadata": {},
          "execution_count": 85
        }
      ]
    },
    {
      "cell_type": "code",
      "source": [
        ""
      ],
      "metadata": {
        "id": "ksKP8jsMbupj"
      },
      "execution_count": 85,
      "outputs": []
    },
    {
      "cell_type": "code",
      "source": [
        "salary_df.loc[(\"Other\", \"Switzerland\"), \"Annual salary\"]"
      ],
      "metadata": {
        "colab": {
          "base_uri": "https://localhost:8080/"
        },
        "id": "x1lK-qwSQt8l",
        "outputId": "a173f296-a57c-4517-d007-e29d150647a2"
      },
      "execution_count": 86,
      "outputs": [
        {
          "output_type": "stream",
          "name": "stderr",
          "text": [
            "/usr/local/lib/python3.7/dist-packages/pandas/core/indexing.py:873: PerformanceWarning: indexing past lexsort depth may impact performance.\n",
            "  return self._getitem_tuple(key)\n"
          ]
        },
        {
          "output_type": "execute_result",
          "data": {
            "text/plain": [
              "Currency  Country    \n",
              "Other     Switzerland    60000.0\n",
              "Name: Annual salary, dtype: float64"
            ]
          },
          "metadata": {},
          "execution_count": 86
        }
      ]
    },
    {
      "cell_type": "code",
      "source": [
        "salary_df.loc[(\"Other\", \"Switzerland\"), \"Annual salary\"] = salary_df.loc[(\"Other\", \"Switzerland\"), \"Annual salary\"].mul(1.09)"
      ],
      "metadata": {
        "colab": {
          "base_uri": "https://localhost:8080/"
        },
        "id": "_IaEEEtNMroB",
        "outputId": "2dba82d8-44aa-4311-c27d-5774055f4a63"
      },
      "execution_count": 87,
      "outputs": [
        {
          "output_type": "stream",
          "name": "stderr",
          "text": [
            "/usr/local/lib/python3.7/dist-packages/pandas/core/indexing.py:873: PerformanceWarning: indexing past lexsort depth may impact performance.\n",
            "  return self._getitem_tuple(key)\n",
            "/usr/local/lib/python3.7/dist-packages/ipykernel/zmqshell.py:537: PerformanceWarning: indexing past lexsort depth may impact performance.\n",
            "  return super(ZMQInteractiveShell, self).run_cell(*args, **kwargs)\n"
          ]
        }
      ]
    },
    {
      "cell_type": "code",
      "source": [
        "salary_df.loc[(\"Other\", \"Switzerland\"), \"Annual salary\"]"
      ],
      "metadata": {
        "colab": {
          "base_uri": "https://localhost:8080/"
        },
        "id": "Z89Bg94FQ2N7",
        "outputId": "4c9fe6ab-4da6-48d2-9d5f-9fdbd9cae309"
      },
      "execution_count": 88,
      "outputs": [
        {
          "output_type": "stream",
          "name": "stderr",
          "text": [
            "/usr/local/lib/python3.7/dist-packages/pandas/core/indexing.py:873: PerformanceWarning: indexing past lexsort depth may impact performance.\n",
            "  return self._getitem_tuple(key)\n"
          ]
        },
        {
          "output_type": "execute_result",
          "data": {
            "text/plain": [
              "Currency  Country    \n",
              "Other     Switzerland    65400.0\n",
              "Name: Annual salary, dtype: float64"
            ]
          },
          "metadata": {},
          "execution_count": 88
        }
      ]
    },
    {
      "cell_type": "code",
      "source": [
        ""
      ],
      "metadata": {
        "id": "6DHyQnTPbv_0"
      },
      "execution_count": 88,
      "outputs": []
    },
    {
      "cell_type": "code",
      "source": [
        "salary_df.loc[(\"Other\", \"Australia \"), \"Annual salary\"]"
      ],
      "metadata": {
        "colab": {
          "base_uri": "https://localhost:8080/"
        },
        "id": "BEtv8M4KQ3A-",
        "outputId": "890a78e5-cdce-4559-dc4a-5531ab3498ae"
      },
      "execution_count": 89,
      "outputs": [
        {
          "output_type": "stream",
          "name": "stderr",
          "text": [
            "/usr/local/lib/python3.7/dist-packages/pandas/core/indexing.py:873: PerformanceWarning: indexing past lexsort depth may impact performance.\n",
            "  return self._getitem_tuple(key)\n"
          ]
        },
        {
          "output_type": "execute_result",
          "data": {
            "text/plain": [
              "Currency  Country   \n",
              "Other     Australia     83000.0\n",
              "          Australia     91800.0\n",
              "Name: Annual salary, dtype: float64"
            ]
          },
          "metadata": {},
          "execution_count": 89
        }
      ]
    },
    {
      "cell_type": "code",
      "source": [
        "salary_df.loc[(\"Other\", \"Australia \"), \"Annual salary\"] = salary_df.loc[(\"Other\", \"Australia \"), \"Annual salary\"].mul(0.71)"
      ],
      "metadata": {
        "colab": {
          "base_uri": "https://localhost:8080/"
        },
        "id": "E1wG-BeePV2c",
        "outputId": "cfef425f-cedb-4461-e73f-02ac8c9f82d9"
      },
      "execution_count": 90,
      "outputs": [
        {
          "output_type": "stream",
          "name": "stderr",
          "text": [
            "/usr/local/lib/python3.7/dist-packages/pandas/core/indexing.py:873: PerformanceWarning: indexing past lexsort depth may impact performance.\n",
            "  return self._getitem_tuple(key)\n",
            "/usr/local/lib/python3.7/dist-packages/ipykernel/zmqshell.py:537: PerformanceWarning: indexing past lexsort depth may impact performance.\n",
            "  return super(ZMQInteractiveShell, self).run_cell(*args, **kwargs)\n"
          ]
        }
      ]
    },
    {
      "cell_type": "code",
      "source": [
        "salary_df.loc[(\"Other\", \"Australia \"), \"Annual salary\"]"
      ],
      "metadata": {
        "colab": {
          "base_uri": "https://localhost:8080/"
        },
        "id": "lcinqH5EQ7QH",
        "outputId": "25fcecb4-8b62-451a-daff-e12366e7575a"
      },
      "execution_count": 91,
      "outputs": [
        {
          "output_type": "stream",
          "name": "stderr",
          "text": [
            "/usr/local/lib/python3.7/dist-packages/pandas/core/indexing.py:873: PerformanceWarning: indexing past lexsort depth may impact performance.\n",
            "  return self._getitem_tuple(key)\n"
          ]
        },
        {
          "output_type": "execute_result",
          "data": {
            "text/plain": [
              "Currency  Country   \n",
              "Other     Australia     58930.0\n",
              "          Australia     65178.0\n",
              "Name: Annual salary, dtype: float64"
            ]
          },
          "metadata": {},
          "execution_count": 91
        }
      ]
    },
    {
      "cell_type": "code",
      "source": [
        ""
      ],
      "metadata": {
        "id": "uGJjA7jgbw9v"
      },
      "execution_count": 91,
      "outputs": []
    },
    {
      "cell_type": "code",
      "source": [
        "salary_df.loc[(\"Other\", \"denmark\"), \"Annual salary\"]"
      ],
      "metadata": {
        "colab": {
          "base_uri": "https://localhost:8080/"
        },
        "id": "QnRQY9JbQ8Oj",
        "outputId": "0bc8ff08-80d5-4b36-c920-eaa7e1022a25"
      },
      "execution_count": 92,
      "outputs": [
        {
          "output_type": "stream",
          "name": "stderr",
          "text": [
            "/usr/local/lib/python3.7/dist-packages/pandas/core/indexing.py:873: PerformanceWarning: indexing past lexsort depth may impact performance.\n",
            "  return self._getitem_tuple(key)\n"
          ]
        },
        {
          "output_type": "execute_result",
          "data": {
            "text/plain": [
              "Currency  Country\n",
              "Other     denmark    760000.0\n",
              "Name: Annual salary, dtype: float64"
            ]
          },
          "metadata": {},
          "execution_count": 92
        }
      ]
    },
    {
      "cell_type": "code",
      "source": [
        "salary_df.loc[(\"Other\", \"denmark\"), \"Annual salary\"] = salary_df.loc[(\"Other\", \"denmark\"), \"Annual salary\"].mul(0.15)"
      ],
      "metadata": {
        "colab": {
          "base_uri": "https://localhost:8080/"
        },
        "id": "iwTs0DqbPVzE",
        "outputId": "7ef69191-2e06-4a01-d4f1-43ab1ab7369f"
      },
      "execution_count": 93,
      "outputs": [
        {
          "output_type": "stream",
          "name": "stderr",
          "text": [
            "/usr/local/lib/python3.7/dist-packages/pandas/core/indexing.py:873: PerformanceWarning: indexing past lexsort depth may impact performance.\n",
            "  return self._getitem_tuple(key)\n",
            "/usr/local/lib/python3.7/dist-packages/ipykernel/zmqshell.py:537: PerformanceWarning: indexing past lexsort depth may impact performance.\n",
            "  return super(ZMQInteractiveShell, self).run_cell(*args, **kwargs)\n"
          ]
        }
      ]
    },
    {
      "cell_type": "code",
      "source": [
        "salary_df.loc[(\"Other\", \"denmark\"), \"Annual salary\"]"
      ],
      "metadata": {
        "colab": {
          "base_uri": "https://localhost:8080/"
        },
        "id": "AI93RsNcQ_aL",
        "outputId": "f7f12800-f9fe-4bd5-d555-e2ed32a9a37b"
      },
      "execution_count": 94,
      "outputs": [
        {
          "output_type": "stream",
          "name": "stderr",
          "text": [
            "/usr/local/lib/python3.7/dist-packages/pandas/core/indexing.py:873: PerformanceWarning: indexing past lexsort depth may impact performance.\n",
            "  return self._getitem_tuple(key)\n"
          ]
        },
        {
          "output_type": "execute_result",
          "data": {
            "text/plain": [
              "Currency  Country\n",
              "Other     denmark    114000.0\n",
              "Name: Annual salary, dtype: float64"
            ]
          },
          "metadata": {},
          "execution_count": 94
        }
      ]
    },
    {
      "cell_type": "code",
      "source": [
        ""
      ],
      "metadata": {
        "id": "Aqx1P_kubx8x"
      },
      "execution_count": 94,
      "outputs": []
    },
    {
      "cell_type": "code",
      "source": [
        "salary_df.loc[(\"Other\", \"Czechia\"), \"Annual salary\"]"
      ],
      "metadata": {
        "colab": {
          "base_uri": "https://localhost:8080/"
        },
        "id": "INLs0n6WRAvH",
        "outputId": "9f7304b8-262f-4637-9d38-b6d36c3e7383"
      },
      "execution_count": 95,
      "outputs": [
        {
          "output_type": "stream",
          "name": "stderr",
          "text": [
            "/usr/local/lib/python3.7/dist-packages/pandas/core/indexing.py:873: PerformanceWarning: indexing past lexsort depth may impact performance.\n",
            "  return self._getitem_tuple(key)\n"
          ]
        },
        {
          "output_type": "execute_result",
          "data": {
            "text/plain": [
              "Currency  Country\n",
              "Other     Czechia    1200000.0\n",
              "Name: Annual salary, dtype: float64"
            ]
          },
          "metadata": {},
          "execution_count": 95
        }
      ]
    },
    {
      "cell_type": "code",
      "source": [
        "salary_df.loc[(\"Other\", \"Czechia\"), \"Annual salary\"] = salary_df.loc[(\"Other\", \"Czechia\"), \"Annual salary\"].mul(0.046)"
      ],
      "metadata": {
        "colab": {
          "base_uri": "https://localhost:8080/"
        },
        "id": "Xpcl5C3SPVwg",
        "outputId": "9907b58a-5914-401c-a405-86e8ed7cbf85"
      },
      "execution_count": 96,
      "outputs": [
        {
          "output_type": "stream",
          "name": "stderr",
          "text": [
            "/usr/local/lib/python3.7/dist-packages/pandas/core/indexing.py:873: PerformanceWarning: indexing past lexsort depth may impact performance.\n",
            "  return self._getitem_tuple(key)\n",
            "/usr/local/lib/python3.7/dist-packages/ipykernel/zmqshell.py:537: PerformanceWarning: indexing past lexsort depth may impact performance.\n",
            "  return super(ZMQInteractiveShell, self).run_cell(*args, **kwargs)\n"
          ]
        }
      ]
    },
    {
      "cell_type": "code",
      "source": [
        "salary_df.loc[(\"Other\", \"Czechia\"), \"Annual salary\"]"
      ],
      "metadata": {
        "colab": {
          "base_uri": "https://localhost:8080/"
        },
        "id": "rFgBQ8V7RDQ8",
        "outputId": "97eb67c3-6bd8-44f6-f551-e2a5134b09de"
      },
      "execution_count": 97,
      "outputs": [
        {
          "output_type": "stream",
          "name": "stderr",
          "text": [
            "/usr/local/lib/python3.7/dist-packages/pandas/core/indexing.py:873: PerformanceWarning: indexing past lexsort depth may impact performance.\n",
            "  return self._getitem_tuple(key)\n"
          ]
        },
        {
          "output_type": "execute_result",
          "data": {
            "text/plain": [
              "Currency  Country\n",
              "Other     Czechia    55200.0\n",
              "Name: Annual salary, dtype: float64"
            ]
          },
          "metadata": {},
          "execution_count": 97
        }
      ]
    },
    {
      "cell_type": "code",
      "source": [
        ""
      ],
      "metadata": {
        "id": "McPYuQC2by_-"
      },
      "execution_count": 97,
      "outputs": []
    },
    {
      "cell_type": "code",
      "source": [
        "salary_df.loc[(\"Other\", \"Philippines\"), \"Annual salary\"]"
      ],
      "metadata": {
        "colab": {
          "base_uri": "https://localhost:8080/"
        },
        "id": "2rJu2OxDRD-I",
        "outputId": "d47ae8a4-1af3-4b77-dddd-b0d97ce72964"
      },
      "execution_count": 98,
      "outputs": [
        {
          "output_type": "stream",
          "name": "stderr",
          "text": [
            "/usr/local/lib/python3.7/dist-packages/pandas/core/indexing.py:873: PerformanceWarning: indexing past lexsort depth may impact performance.\n",
            "  return self._getitem_tuple(key)\n"
          ]
        },
        {
          "output_type": "execute_result",
          "data": {
            "text/plain": [
              "Currency  Country    \n",
              "Other     Philippines     600000.0\n",
              "          Philippines     402000.0\n",
              "          Philippines        264.0\n",
              "          Philippines     360000.0\n",
              "          Philippines     300000.0\n",
              "          Philippines    1100000.0\n",
              "Name: Annual salary, dtype: float64"
            ]
          },
          "metadata": {},
          "execution_count": 98
        }
      ]
    },
    {
      "cell_type": "code",
      "source": [
        "salary_df.loc[(\"Other\", \"Philippines\"), \"Annual salary\"] = salary_df.loc[(\"Other\", \"Philippines\"), \"Annual salary\"].mul(0.020)"
      ],
      "metadata": {
        "colab": {
          "base_uri": "https://localhost:8080/"
        },
        "id": "ve362B1WPVt-",
        "outputId": "079ff800-cbac-4b98-d110-e6f5aa39d460"
      },
      "execution_count": 99,
      "outputs": [
        {
          "output_type": "stream",
          "name": "stderr",
          "text": [
            "/usr/local/lib/python3.7/dist-packages/pandas/core/indexing.py:873: PerformanceWarning: indexing past lexsort depth may impact performance.\n",
            "  return self._getitem_tuple(key)\n",
            "/usr/local/lib/python3.7/dist-packages/ipykernel/zmqshell.py:537: PerformanceWarning: indexing past lexsort depth may impact performance.\n",
            "  return super(ZMQInteractiveShell, self).run_cell(*args, **kwargs)\n"
          ]
        }
      ]
    },
    {
      "cell_type": "code",
      "source": [
        "salary_df.loc[(\"Other\", \"Philippines\"), \"Annual salary\"]"
      ],
      "metadata": {
        "colab": {
          "base_uri": "https://localhost:8080/"
        },
        "id": "1L8AOVXzRHL0",
        "outputId": "c333e6c8-2ca6-467e-d227-273a4a9ca6a0"
      },
      "execution_count": 100,
      "outputs": [
        {
          "output_type": "stream",
          "name": "stderr",
          "text": [
            "/usr/local/lib/python3.7/dist-packages/pandas/core/indexing.py:873: PerformanceWarning: indexing past lexsort depth may impact performance.\n",
            "  return self._getitem_tuple(key)\n"
          ]
        },
        {
          "output_type": "execute_result",
          "data": {
            "text/plain": [
              "Currency  Country    \n",
              "Other     Philippines    12000.00\n",
              "          Philippines     8040.00\n",
              "          Philippines        5.28\n",
              "          Philippines     7200.00\n",
              "          Philippines     6000.00\n",
              "          Philippines    22000.00\n",
              "Name: Annual salary, dtype: float64"
            ]
          },
          "metadata": {},
          "execution_count": 100
        }
      ]
    },
    {
      "cell_type": "code",
      "source": [
        ""
      ],
      "metadata": {
        "id": "qVqDuXCpb0Kw"
      },
      "execution_count": 100,
      "outputs": []
    },
    {
      "cell_type": "code",
      "source": [
        "salary_df.loc[(\"Other\", \"Mexico\"), \"Annual salary\"]"
      ],
      "metadata": {
        "colab": {
          "base_uri": "https://localhost:8080/"
        },
        "id": "MVfywR9YRIA2",
        "outputId": "7b5ca291-8942-4cac-d473-d0e48487ac42"
      },
      "execution_count": 101,
      "outputs": [
        {
          "output_type": "stream",
          "name": "stderr",
          "text": [
            "/usr/local/lib/python3.7/dist-packages/pandas/core/indexing.py:873: PerformanceWarning: indexing past lexsort depth may impact performance.\n",
            "  return self._getitem_tuple(key)\n"
          ]
        },
        {
          "output_type": "execute_result",
          "data": {
            "text/plain": [
              "Currency  Country\n",
              "Other     Mexico      230000.0\n",
              "          Mexico     1300000.0\n",
              "          Mexico      534300.0\n",
              "Name: Annual salary, dtype: float64"
            ]
          },
          "metadata": {},
          "execution_count": 101
        }
      ]
    },
    {
      "cell_type": "code",
      "source": [
        "salary_df.loc[(\"Other\", \"Mexico\"), \"Annual salary\"] = salary_df.loc[(\"Other\", \"Mexico\"), \"Annual salary\"].mul(0.048)"
      ],
      "metadata": {
        "colab": {
          "base_uri": "https://localhost:8080/"
        },
        "id": "ScbvWX5cPVri",
        "outputId": "fc74400e-21b2-4c4b-a124-cf14bd02be2a"
      },
      "execution_count": 102,
      "outputs": [
        {
          "output_type": "stream",
          "name": "stderr",
          "text": [
            "/usr/local/lib/python3.7/dist-packages/pandas/core/indexing.py:873: PerformanceWarning: indexing past lexsort depth may impact performance.\n",
            "  return self._getitem_tuple(key)\n",
            "/usr/local/lib/python3.7/dist-packages/ipykernel/zmqshell.py:537: PerformanceWarning: indexing past lexsort depth may impact performance.\n",
            "  return super(ZMQInteractiveShell, self).run_cell(*args, **kwargs)\n"
          ]
        }
      ]
    },
    {
      "cell_type": "code",
      "source": [
        "salary_df.loc[(\"Other\", \"Mexico\"), \"Annual salary\"]"
      ],
      "metadata": {
        "colab": {
          "base_uri": "https://localhost:8080/"
        },
        "id": "lUR5ammfRLLt",
        "outputId": "61963666-e148-42e9-f92d-f32a20b2268a"
      },
      "execution_count": 103,
      "outputs": [
        {
          "output_type": "stream",
          "name": "stderr",
          "text": [
            "/usr/local/lib/python3.7/dist-packages/pandas/core/indexing.py:873: PerformanceWarning: indexing past lexsort depth may impact performance.\n",
            "  return self._getitem_tuple(key)\n"
          ]
        },
        {
          "output_type": "execute_result",
          "data": {
            "text/plain": [
              "Currency  Country\n",
              "Other     Mexico     11040.0\n",
              "          Mexico     62400.0\n",
              "          Mexico     25646.4\n",
              "Name: Annual salary, dtype: float64"
            ]
          },
          "metadata": {},
          "execution_count": 103
        }
      ]
    },
    {
      "cell_type": "code",
      "source": [
        ""
      ],
      "metadata": {
        "id": "gV7o71kVb1Kg"
      },
      "execution_count": 103,
      "outputs": []
    },
    {
      "cell_type": "code",
      "source": [
        "salary_df.loc[(\"Other\", \"Sweden \"), \"Annual salary\"]"
      ],
      "metadata": {
        "colab": {
          "base_uri": "https://localhost:8080/"
        },
        "id": "aE2uoczyRMGA",
        "outputId": "34787e42-377b-45e5-b4fa-ed357783932f"
      },
      "execution_count": 104,
      "outputs": [
        {
          "output_type": "stream",
          "name": "stderr",
          "text": [
            "/usr/local/lib/python3.7/dist-packages/pandas/core/indexing.py:873: PerformanceWarning: indexing past lexsort depth may impact performance.\n",
            "  return self._getitem_tuple(key)\n"
          ]
        },
        {
          "output_type": "execute_result",
          "data": {
            "text/plain": [
              "Currency  Country\n",
              "Other     Sweden     318000.0\n",
              "Name: Annual salary, dtype: float64"
            ]
          },
          "metadata": {},
          "execution_count": 104
        }
      ]
    },
    {
      "cell_type": "code",
      "source": [
        "salary_df.loc[(\"Other\", \"Sweden \"), \"Annual salary\"] = salary_df.loc[(\"Other\", \"Sweden \"), \"Annual salary\"].mul(0.11)"
      ],
      "metadata": {
        "colab": {
          "base_uri": "https://localhost:8080/"
        },
        "id": "1EwlamFIPVor",
        "outputId": "f523503f-732b-44a1-947f-9d708e9eec6b"
      },
      "execution_count": 105,
      "outputs": [
        {
          "output_type": "stream",
          "name": "stderr",
          "text": [
            "/usr/local/lib/python3.7/dist-packages/pandas/core/indexing.py:873: PerformanceWarning: indexing past lexsort depth may impact performance.\n",
            "  return self._getitem_tuple(key)\n",
            "/usr/local/lib/python3.7/dist-packages/ipykernel/zmqshell.py:537: PerformanceWarning: indexing past lexsort depth may impact performance.\n",
            "  return super(ZMQInteractiveShell, self).run_cell(*args, **kwargs)\n"
          ]
        }
      ]
    },
    {
      "cell_type": "code",
      "source": [
        "salary_df.loc[(\"Other\", \"Sweden \"), \"Annual salary\"]"
      ],
      "metadata": {
        "colab": {
          "base_uri": "https://localhost:8080/"
        },
        "id": "5BASd4TlRPEY",
        "outputId": "7ed78079-ce96-48c9-cbfd-ad3f2fc8c1da"
      },
      "execution_count": 106,
      "outputs": [
        {
          "output_type": "stream",
          "name": "stderr",
          "text": [
            "/usr/local/lib/python3.7/dist-packages/pandas/core/indexing.py:873: PerformanceWarning: indexing past lexsort depth may impact performance.\n",
            "  return self._getitem_tuple(key)\n"
          ]
        },
        {
          "output_type": "execute_result",
          "data": {
            "text/plain": [
              "Currency  Country\n",
              "Other     Sweden     34980.0\n",
              "Name: Annual salary, dtype: float64"
            ]
          },
          "metadata": {},
          "execution_count": 106
        }
      ]
    },
    {
      "cell_type": "code",
      "source": [
        ""
      ],
      "metadata": {
        "id": "LNYOcigub2q3"
      },
      "execution_count": 106,
      "outputs": []
    },
    {
      "cell_type": "code",
      "source": [
        "salary_df.loc[(\"Other\", \"Norway \"), \"Annual salary\"]"
      ],
      "metadata": {
        "colab": {
          "base_uri": "https://localhost:8080/"
        },
        "id": "k_x2JcpeRP2V",
        "outputId": "9075856b-ad5d-4311-8176-c23905bdaaff"
      },
      "execution_count": 107,
      "outputs": [
        {
          "output_type": "stream",
          "name": "stderr",
          "text": [
            "/usr/local/lib/python3.7/dist-packages/pandas/core/indexing.py:873: PerformanceWarning: indexing past lexsort depth may impact performance.\n",
            "  return self._getitem_tuple(key)\n"
          ]
        },
        {
          "output_type": "execute_result",
          "data": {
            "text/plain": [
              "Currency  Country\n",
              "Other     Norway     1115000.0\n",
              "Name: Annual salary, dtype: float64"
            ]
          },
          "metadata": {},
          "execution_count": 107
        }
      ]
    },
    {
      "cell_type": "code",
      "source": [
        "salary_df.loc[(\"Other\", \"Norway \"), \"Annual salary\"] = salary_df.loc[(\"Other\", \"Norway \"), \"Annual salary\"].mul(0.11)"
      ],
      "metadata": {
        "colab": {
          "base_uri": "https://localhost:8080/"
        },
        "id": "A6W5-W0aPVmT",
        "outputId": "125d3ad0-3e3d-4db7-9eac-36e1beb8d1b5"
      },
      "execution_count": 108,
      "outputs": [
        {
          "output_type": "stream",
          "name": "stderr",
          "text": [
            "/usr/local/lib/python3.7/dist-packages/pandas/core/indexing.py:873: PerformanceWarning: indexing past lexsort depth may impact performance.\n",
            "  return self._getitem_tuple(key)\n",
            "/usr/local/lib/python3.7/dist-packages/ipykernel/zmqshell.py:537: PerformanceWarning: indexing past lexsort depth may impact performance.\n",
            "  return super(ZMQInteractiveShell, self).run_cell(*args, **kwargs)\n"
          ]
        }
      ]
    },
    {
      "cell_type": "code",
      "source": [
        "salary_df.loc[(\"Other\", \"Norway \"), \"Annual salary\"]"
      ],
      "metadata": {
        "colab": {
          "base_uri": "https://localhost:8080/"
        },
        "id": "GKtZAoirRUUT",
        "outputId": "31dcef8a-f911-4c7d-b44d-f167e1181d20"
      },
      "execution_count": 109,
      "outputs": [
        {
          "output_type": "stream",
          "name": "stderr",
          "text": [
            "/usr/local/lib/python3.7/dist-packages/pandas/core/indexing.py:873: PerformanceWarning: indexing past lexsort depth may impact performance.\n",
            "  return self._getitem_tuple(key)\n"
          ]
        },
        {
          "output_type": "execute_result",
          "data": {
            "text/plain": [
              "Currency  Country\n",
              "Other     Norway     122650.0\n",
              "Name: Annual salary, dtype: float64"
            ]
          },
          "metadata": {},
          "execution_count": 109
        }
      ]
    },
    {
      "cell_type": "code",
      "source": [
        ""
      ],
      "metadata": {
        "id": "oAhDrk0Ob3tK"
      },
      "execution_count": 109,
      "outputs": []
    },
    {
      "cell_type": "code",
      "source": [
        "salary_df.loc[(\"Other\", \"Saudi Arabia\"), \"Annual salary\"]"
      ],
      "metadata": {
        "colab": {
          "base_uri": "https://localhost:8080/"
        },
        "id": "m8IIVjR1RVE7",
        "outputId": "7434484f-f5d8-4e51-97c0-2a9d2d488ab4"
      },
      "execution_count": 110,
      "outputs": [
        {
          "output_type": "stream",
          "name": "stderr",
          "text": [
            "/usr/local/lib/python3.7/dist-packages/pandas/core/indexing.py:873: PerformanceWarning: indexing past lexsort depth may impact performance.\n",
            "  return self._getitem_tuple(key)\n"
          ]
        },
        {
          "output_type": "execute_result",
          "data": {
            "text/plain": [
              "Currency  Country     \n",
              "Other     Saudi Arabia    163200.0\n",
              "Name: Annual salary, dtype: float64"
            ]
          },
          "metadata": {},
          "execution_count": 110
        }
      ]
    },
    {
      "cell_type": "code",
      "source": [
        "salary_df.loc[(\"Other\", \"Saudi Arabia\"), \"Annual salary\"] = salary_df.loc[(\"Other\", \"Saudi Arabia\"), \"Annual salary\"].mul(0.27)"
      ],
      "metadata": {
        "colab": {
          "base_uri": "https://localhost:8080/"
        },
        "id": "FWlxXNrFPVjw",
        "outputId": "8d4b9af5-639e-4c88-af87-f7b4ef96e620"
      },
      "execution_count": 111,
      "outputs": [
        {
          "output_type": "stream",
          "name": "stderr",
          "text": [
            "/usr/local/lib/python3.7/dist-packages/pandas/core/indexing.py:873: PerformanceWarning: indexing past lexsort depth may impact performance.\n",
            "  return self._getitem_tuple(key)\n",
            "/usr/local/lib/python3.7/dist-packages/ipykernel/zmqshell.py:537: PerformanceWarning: indexing past lexsort depth may impact performance.\n",
            "  return super(ZMQInteractiveShell, self).run_cell(*args, **kwargs)\n"
          ]
        }
      ]
    },
    {
      "cell_type": "code",
      "source": [
        "salary_df.loc[(\"Other\", \"Saudi Arabia\"), \"Annual salary\"]"
      ],
      "metadata": {
        "colab": {
          "base_uri": "https://localhost:8080/"
        },
        "id": "Q0ZDDuZ6RX_M",
        "outputId": "01ef833f-8663-463c-b105-49036ba1608d"
      },
      "execution_count": 112,
      "outputs": [
        {
          "output_type": "stream",
          "name": "stderr",
          "text": [
            "/usr/local/lib/python3.7/dist-packages/pandas/core/indexing.py:873: PerformanceWarning: indexing past lexsort depth may impact performance.\n",
            "  return self._getitem_tuple(key)\n"
          ]
        },
        {
          "output_type": "execute_result",
          "data": {
            "text/plain": [
              "Currency  Country     \n",
              "Other     Saudi Arabia    44064.0\n",
              "Name: Annual salary, dtype: float64"
            ]
          },
          "metadata": {},
          "execution_count": 112
        }
      ]
    },
    {
      "cell_type": "code",
      "source": [
        ""
      ],
      "metadata": {
        "id": "oZBU_whGb5MV"
      },
      "execution_count": 112,
      "outputs": []
    },
    {
      "cell_type": "code",
      "source": [
        "salary_df.loc[(\"Other\", \"Brazil \"), \"Annual salary\"]"
      ],
      "metadata": {
        "colab": {
          "base_uri": "https://localhost:8080/"
        },
        "id": "YqfilZFsRYxy",
        "outputId": "3d10f813-4935-4acb-85f3-85ff4ea03b09"
      },
      "execution_count": 113,
      "outputs": [
        {
          "output_type": "stream",
          "name": "stderr",
          "text": [
            "/usr/local/lib/python3.7/dist-packages/pandas/core/indexing.py:873: PerformanceWarning: indexing past lexsort depth may impact performance.\n",
            "  return self._getitem_tuple(key)\n"
          ]
        },
        {
          "output_type": "execute_result",
          "data": {
            "text/plain": [
              "Currency  Country\n",
              "Other     Brazil     102.0\n",
              "Name: Annual salary, dtype: float64"
            ]
          },
          "metadata": {},
          "execution_count": 113
        }
      ]
    },
    {
      "cell_type": "code",
      "source": [
        "salary_df.loc[(\"Other\", \"Brazil \"), \"Annual salary\"] = salary_df.loc[(\"Other\", \"Brazil \"), \"Annual salary\"].mul(0.18)"
      ],
      "metadata": {
        "colab": {
          "base_uri": "https://localhost:8080/"
        },
        "id": "ucuVtLCNPVg7",
        "outputId": "1b8a235a-45e3-4d50-f7df-a669a651ffdf"
      },
      "execution_count": 114,
      "outputs": [
        {
          "output_type": "stream",
          "name": "stderr",
          "text": [
            "/usr/local/lib/python3.7/dist-packages/pandas/core/indexing.py:873: PerformanceWarning: indexing past lexsort depth may impact performance.\n",
            "  return self._getitem_tuple(key)\n",
            "/usr/local/lib/python3.7/dist-packages/ipykernel/zmqshell.py:537: PerformanceWarning: indexing past lexsort depth may impact performance.\n",
            "  return super(ZMQInteractiveShell, self).run_cell(*args, **kwargs)\n"
          ]
        }
      ]
    },
    {
      "cell_type": "code",
      "source": [
        "salary_df.loc[(\"Other\", \"Brazil \"), \"Annual salary\"]"
      ],
      "metadata": {
        "colab": {
          "base_uri": "https://localhost:8080/"
        },
        "id": "jcR9R0YCRcTv",
        "outputId": "18e6664d-002e-434c-840a-75db5c034cf6"
      },
      "execution_count": 115,
      "outputs": [
        {
          "output_type": "stream",
          "name": "stderr",
          "text": [
            "/usr/local/lib/python3.7/dist-packages/pandas/core/indexing.py:873: PerformanceWarning: indexing past lexsort depth may impact performance.\n",
            "  return self._getitem_tuple(key)\n"
          ]
        },
        {
          "output_type": "execute_result",
          "data": {
            "text/plain": [
              "Currency  Country\n",
              "Other     Brazil     18.36\n",
              "Name: Annual salary, dtype: float64"
            ]
          },
          "metadata": {},
          "execution_count": 115
        }
      ]
    },
    {
      "cell_type": "code",
      "source": [
        ""
      ],
      "metadata": {
        "id": "J8UTUFjcb6c_"
      },
      "execution_count": 115,
      "outputs": []
    },
    {
      "cell_type": "code",
      "source": [
        "salary_df.loc[(\"Other\", \"Thailand\"), \"Annual salary\"]"
      ],
      "metadata": {
        "colab": {
          "base_uri": "https://localhost:8080/"
        },
        "id": "Dl7BEcDaRdbl",
        "outputId": "933452b8-5696-4fec-811b-c25d6101253c"
      },
      "execution_count": 116,
      "outputs": [
        {
          "output_type": "stream",
          "name": "stderr",
          "text": [
            "/usr/local/lib/python3.7/dist-packages/pandas/core/indexing.py:873: PerformanceWarning: indexing past lexsort depth may impact performance.\n",
            "  return self._getitem_tuple(key)\n"
          ]
        },
        {
          "output_type": "execute_result",
          "data": {
            "text/plain": [
              "Currency  Country \n",
              "Other     Thailand    720000.0\n",
              "          Thailand    800000.0\n",
              "Name: Annual salary, dtype: float64"
            ]
          },
          "metadata": {},
          "execution_count": 116
        }
      ]
    },
    {
      "cell_type": "code",
      "source": [
        "salary_df.loc[(\"Other\", \"Thailand\"), \"Annual salary\"] = salary_df.loc[(\"Other\", \"Thailand\"), \"Annual salary\"].mul(0.030)"
      ],
      "metadata": {
        "colab": {
          "base_uri": "https://localhost:8080/"
        },
        "id": "O9e0ohDGPVd_",
        "outputId": "371e1c29-1f9e-4047-8c57-7e0cc3cf699b"
      },
      "execution_count": 117,
      "outputs": [
        {
          "output_type": "stream",
          "name": "stderr",
          "text": [
            "/usr/local/lib/python3.7/dist-packages/pandas/core/indexing.py:873: PerformanceWarning: indexing past lexsort depth may impact performance.\n",
            "  return self._getitem_tuple(key)\n",
            "/usr/local/lib/python3.7/dist-packages/ipykernel/zmqshell.py:537: PerformanceWarning: indexing past lexsort depth may impact performance.\n",
            "  return super(ZMQInteractiveShell, self).run_cell(*args, **kwargs)\n"
          ]
        }
      ]
    },
    {
      "cell_type": "code",
      "source": [
        "salary_df.loc[(\"Other\", \"Thailand\"), \"Annual salary\"]"
      ],
      "metadata": {
        "colab": {
          "base_uri": "https://localhost:8080/"
        },
        "id": "oSUsvT9kRg0g",
        "outputId": "2248fe9c-8622-4adf-b4d5-501362126b36"
      },
      "execution_count": 118,
      "outputs": [
        {
          "output_type": "stream",
          "name": "stderr",
          "text": [
            "/usr/local/lib/python3.7/dist-packages/pandas/core/indexing.py:873: PerformanceWarning: indexing past lexsort depth may impact performance.\n",
            "  return self._getitem_tuple(key)\n"
          ]
        },
        {
          "output_type": "execute_result",
          "data": {
            "text/plain": [
              "Currency  Country \n",
              "Other     Thailand    21600.0\n",
              "          Thailand    24000.0\n",
              "Name: Annual salary, dtype: float64"
            ]
          },
          "metadata": {},
          "execution_count": 118
        }
      ]
    },
    {
      "cell_type": "code",
      "source": [
        ""
      ],
      "metadata": {
        "id": "iBidIR9Ib7vl"
      },
      "execution_count": 118,
      "outputs": []
    },
    {
      "cell_type": "code",
      "source": [
        "salary_df.loc[(\"Other\", \"Hungary\"), \"Annual salary\"]"
      ],
      "metadata": {
        "colab": {
          "base_uri": "https://localhost:8080/"
        },
        "id": "25l3B8VoRiCe",
        "outputId": "071199a3-8a9f-4ba9-9284-ca2420374236"
      },
      "execution_count": 119,
      "outputs": [
        {
          "output_type": "stream",
          "name": "stderr",
          "text": [
            "/usr/local/lib/python3.7/dist-packages/pandas/core/indexing.py:873: PerformanceWarning: indexing past lexsort depth may impact performance.\n",
            "  return self._getitem_tuple(key)\n"
          ]
        },
        {
          "output_type": "execute_result",
          "data": {
            "text/plain": [
              "Currency  Country\n",
              "Other     Hungary    45480.0\n",
              "Name: Annual salary, dtype: float64"
            ]
          },
          "metadata": {},
          "execution_count": 119
        }
      ]
    },
    {
      "cell_type": "code",
      "source": [
        "salary_df.loc[(\"Other\", \"Hungary\"), \"Annual salary\"] = salary_df.loc[(\"Other\", \"Hungary\"), \"Annual salary\"].mul(0.0031)"
      ],
      "metadata": {
        "colab": {
          "base_uri": "https://localhost:8080/"
        },
        "id": "oc7Wk8jHpd8O",
        "outputId": "39f414bd-af04-415a-f6f1-5e0021717807"
      },
      "execution_count": 120,
      "outputs": [
        {
          "output_type": "stream",
          "name": "stderr",
          "text": [
            "/usr/local/lib/python3.7/dist-packages/pandas/core/indexing.py:873: PerformanceWarning: indexing past lexsort depth may impact performance.\n",
            "  return self._getitem_tuple(key)\n",
            "/usr/local/lib/python3.7/dist-packages/ipykernel/zmqshell.py:537: PerformanceWarning: indexing past lexsort depth may impact performance.\n",
            "  return super(ZMQInteractiveShell, self).run_cell(*args, **kwargs)\n"
          ]
        }
      ]
    },
    {
      "cell_type": "code",
      "source": [
        "salary_df.loc[(\"Other\", \"Hungary\"), \"Annual salary\"]"
      ],
      "metadata": {
        "colab": {
          "base_uri": "https://localhost:8080/"
        },
        "id": "GRhCkbcMRmWS",
        "outputId": "d021034b-3f08-4e85-c071-ef205c26bfca"
      },
      "execution_count": 121,
      "outputs": [
        {
          "output_type": "stream",
          "name": "stderr",
          "text": [
            "/usr/local/lib/python3.7/dist-packages/pandas/core/indexing.py:873: PerformanceWarning: indexing past lexsort depth may impact performance.\n",
            "  return self._getitem_tuple(key)\n"
          ]
        },
        {
          "output_type": "execute_result",
          "data": {
            "text/plain": [
              "Currency  Country\n",
              "Other     Hungary    140.988\n",
              "Name: Annual salary, dtype: float64"
            ]
          },
          "metadata": {},
          "execution_count": 121
        }
      ]
    },
    {
      "cell_type": "code",
      "source": [
        ""
      ],
      "metadata": {
        "id": "kPD3qR00b815"
      },
      "execution_count": 121,
      "outputs": []
    },
    {
      "cell_type": "code",
      "source": [
        "salary_df.loc[(\"Other\", \"czech republic\"), \"Annual salary\"]"
      ],
      "metadata": {
        "colab": {
          "base_uri": "https://localhost:8080/"
        },
        "id": "4pdnkfegRoAX",
        "outputId": "37f77709-cc6f-4dc6-8078-e7b6c8a0f316"
      },
      "execution_count": 122,
      "outputs": [
        {
          "output_type": "stream",
          "name": "stderr",
          "text": [
            "/usr/local/lib/python3.7/dist-packages/pandas/core/indexing.py:873: PerformanceWarning: indexing past lexsort depth may impact performance.\n",
            "  return self._getitem_tuple(key)\n"
          ]
        },
        {
          "output_type": "execute_result",
          "data": {
            "text/plain": [
              "Currency  Country       \n",
              "Other     czech republic    360000.0\n",
              "Name: Annual salary, dtype: float64"
            ]
          },
          "metadata": {},
          "execution_count": 122
        }
      ]
    },
    {
      "cell_type": "code",
      "source": [
        "salary_df.loc[(\"Other\", \"czech republic\"), \"Annual salary\"] = salary_df.loc[(\"Other\", \"czech republic\"), \"Annual salary\"].mul(0.046)"
      ],
      "metadata": {
        "colab": {
          "base_uri": "https://localhost:8080/"
        },
        "id": "Zur3Fm3upd4x",
        "outputId": "f96baa7b-8134-4e84-8beb-1272a47eee9d"
      },
      "execution_count": 123,
      "outputs": [
        {
          "output_type": "stream",
          "name": "stderr",
          "text": [
            "/usr/local/lib/python3.7/dist-packages/pandas/core/indexing.py:873: PerformanceWarning: indexing past lexsort depth may impact performance.\n",
            "  return self._getitem_tuple(key)\n",
            "/usr/local/lib/python3.7/dist-packages/ipykernel/zmqshell.py:537: PerformanceWarning: indexing past lexsort depth may impact performance.\n",
            "  return super(ZMQInteractiveShell, self).run_cell(*args, **kwargs)\n"
          ]
        }
      ]
    },
    {
      "cell_type": "code",
      "source": [
        "salary_df.loc[(\"Other\", \"czech republic\"), \"Annual salary\"]"
      ],
      "metadata": {
        "colab": {
          "base_uri": "https://localhost:8080/"
        },
        "id": "F9077qvjRrCL",
        "outputId": "de064b06-af89-4f85-efb2-cabb81c6d97f"
      },
      "execution_count": 124,
      "outputs": [
        {
          "output_type": "stream",
          "name": "stderr",
          "text": [
            "/usr/local/lib/python3.7/dist-packages/pandas/core/indexing.py:873: PerformanceWarning: indexing past lexsort depth may impact performance.\n",
            "  return self._getitem_tuple(key)\n"
          ]
        },
        {
          "output_type": "execute_result",
          "data": {
            "text/plain": [
              "Currency  Country       \n",
              "Other     czech republic    16560.0\n",
              "Name: Annual salary, dtype: float64"
            ]
          },
          "metadata": {},
          "execution_count": 124
        }
      ]
    },
    {
      "cell_type": "code",
      "source": [
        ""
      ],
      "metadata": {
        "id": "_K3hjdojb97A"
      },
      "execution_count": 124,
      "outputs": []
    },
    {
      "cell_type": "code",
      "source": [
        "salary_df.loc[(\"Other\", \"Israel\"), \"Annual salary\"]"
      ],
      "metadata": {
        "colab": {
          "base_uri": "https://localhost:8080/"
        },
        "id": "GEx0-1_7RsKH",
        "outputId": "cda345aa-4f7e-47e9-ee09-58173a79d827"
      },
      "execution_count": 125,
      "outputs": [
        {
          "output_type": "stream",
          "name": "stderr",
          "text": [
            "/usr/local/lib/python3.7/dist-packages/pandas/core/indexing.py:873: PerformanceWarning: indexing past lexsort depth may impact performance.\n",
            "  return self._getitem_tuple(key)\n"
          ]
        },
        {
          "output_type": "execute_result",
          "data": {
            "text/plain": [
              "Currency  Country\n",
              "Other     Israel     276000.0\n",
              "          Israel     240000.0\n",
              "          Israel     504000.0\n",
              "          Israel     180000.0\n",
              "          Israel     210000.0\n",
              "          Israel     580000.0\n",
              "Name: Annual salary, dtype: float64"
            ]
          },
          "metadata": {},
          "execution_count": 125
        }
      ]
    },
    {
      "cell_type": "code",
      "source": [
        "salary_df.loc[(\"Other\", \"Israel\"), \"Annual salary\"] = salary_df.loc[(\"Other\", \"Israel\"), \"Annual salary\"].mul(0.31)"
      ],
      "metadata": {
        "colab": {
          "base_uri": "https://localhost:8080/"
        },
        "id": "KkPtdMMHpd2O",
        "outputId": "a3c0abb8-021a-45f5-a717-9e8852a08363"
      },
      "execution_count": 126,
      "outputs": [
        {
          "output_type": "stream",
          "name": "stderr",
          "text": [
            "/usr/local/lib/python3.7/dist-packages/pandas/core/indexing.py:873: PerformanceWarning: indexing past lexsort depth may impact performance.\n",
            "  return self._getitem_tuple(key)\n",
            "/usr/local/lib/python3.7/dist-packages/ipykernel/zmqshell.py:537: PerformanceWarning: indexing past lexsort depth may impact performance.\n",
            "  return super(ZMQInteractiveShell, self).run_cell(*args, **kwargs)\n"
          ]
        }
      ]
    },
    {
      "cell_type": "code",
      "source": [
        "salary_df.loc[(\"Other\", \"Israel\"), \"Annual salary\"]"
      ],
      "metadata": {
        "colab": {
          "base_uri": "https://localhost:8080/"
        },
        "id": "wg90VZgjRvwE",
        "outputId": "b9e360a6-cfbc-422c-a3be-23457c6e92a7"
      },
      "execution_count": 127,
      "outputs": [
        {
          "output_type": "stream",
          "name": "stderr",
          "text": [
            "/usr/local/lib/python3.7/dist-packages/pandas/core/indexing.py:873: PerformanceWarning: indexing past lexsort depth may impact performance.\n",
            "  return self._getitem_tuple(key)\n"
          ]
        },
        {
          "output_type": "execute_result",
          "data": {
            "text/plain": [
              "Currency  Country\n",
              "Other     Israel      85560.0\n",
              "          Israel      74400.0\n",
              "          Israel     156240.0\n",
              "          Israel      55800.0\n",
              "          Israel      65100.0\n",
              "          Israel     179800.0\n",
              "Name: Annual salary, dtype: float64"
            ]
          },
          "metadata": {},
          "execution_count": 127
        }
      ]
    },
    {
      "cell_type": "code",
      "source": [
        ""
      ],
      "metadata": {
        "id": "WmH22WPLb_CE"
      },
      "execution_count": 127,
      "outputs": []
    },
    {
      "cell_type": "code",
      "source": [
        "salary_df.loc[(\"Other\", \"China\"), \"Annual salary\"]"
      ],
      "metadata": {
        "colab": {
          "base_uri": "https://localhost:8080/"
        },
        "id": "YME4ssPiRwjT",
        "outputId": "cb684c86-ab9f-4191-805c-7526deae5f97"
      },
      "execution_count": 128,
      "outputs": [
        {
          "output_type": "stream",
          "name": "stderr",
          "text": [
            "/usr/local/lib/python3.7/dist-packages/pandas/core/indexing.py:873: PerformanceWarning: indexing past lexsort depth may impact performance.\n",
            "  return self._getitem_tuple(key)\n"
          ]
        },
        {
          "output_type": "execute_result",
          "data": {
            "text/plain": [
              "Currency  Country\n",
              "Other     China      41600.0\n",
              "          China      62400.0\n",
              "          China      40000.0\n",
              "Name: Annual salary, dtype: float64"
            ]
          },
          "metadata": {},
          "execution_count": 128
        }
      ]
    },
    {
      "cell_type": "code",
      "source": [
        "salary_df.loc[(\"Other\", \"China\"), \"Annual salary\"] = salary_df.loc[(\"Other\", \"China\"), \"Annual salary\"].mul(0.16)"
      ],
      "metadata": {
        "colab": {
          "base_uri": "https://localhost:8080/"
        },
        "id": "FBjsemGepdzy",
        "outputId": "8caeb867-287c-4d2e-c0c3-9d7325ad1a92"
      },
      "execution_count": 129,
      "outputs": [
        {
          "output_type": "stream",
          "name": "stderr",
          "text": [
            "/usr/local/lib/python3.7/dist-packages/pandas/core/indexing.py:873: PerformanceWarning: indexing past lexsort depth may impact performance.\n",
            "  return self._getitem_tuple(key)\n",
            "/usr/local/lib/python3.7/dist-packages/ipykernel/zmqshell.py:537: PerformanceWarning: indexing past lexsort depth may impact performance.\n",
            "  return super(ZMQInteractiveShell, self).run_cell(*args, **kwargs)\n"
          ]
        }
      ]
    },
    {
      "cell_type": "code",
      "source": [
        "salary_df.loc[(\"Other\", \"China\"), \"Annual salary\"]"
      ],
      "metadata": {
        "colab": {
          "base_uri": "https://localhost:8080/"
        },
        "id": "ESr1rVTyR0iL",
        "outputId": "402d46e3-cf09-41a8-f028-96ee5a416d9a"
      },
      "execution_count": 130,
      "outputs": [
        {
          "output_type": "stream",
          "name": "stderr",
          "text": [
            "/usr/local/lib/python3.7/dist-packages/pandas/core/indexing.py:873: PerformanceWarning: indexing past lexsort depth may impact performance.\n",
            "  return self._getitem_tuple(key)\n"
          ]
        },
        {
          "output_type": "execute_result",
          "data": {
            "text/plain": [
              "Currency  Country\n",
              "Other     China      6656.0\n",
              "          China      9984.0\n",
              "          China      6400.0\n",
              "Name: Annual salary, dtype: float64"
            ]
          },
          "metadata": {},
          "execution_count": 130
        }
      ]
    },
    {
      "cell_type": "code",
      "source": [
        ""
      ],
      "metadata": {
        "id": "waUckhHgcADw"
      },
      "execution_count": 130,
      "outputs": []
    },
    {
      "cell_type": "code",
      "source": [
        "salary_df.loc[(\"Other\", \"ARGENTINA BUT MY ORG IS IN THAILAND\"), \"Annual salary\"]"
      ],
      "metadata": {
        "colab": {
          "base_uri": "https://localhost:8080/"
        },
        "id": "SkcJ0ZeUR1UV",
        "outputId": "d290128d-d571-4baa-a784-a3d857cfbb18"
      },
      "execution_count": 131,
      "outputs": [
        {
          "output_type": "stream",
          "name": "stderr",
          "text": [
            "/usr/local/lib/python3.7/dist-packages/pandas/core/indexing.py:873: PerformanceWarning: indexing past lexsort depth may impact performance.\n",
            "  return self._getitem_tuple(key)\n"
          ]
        },
        {
          "output_type": "execute_result",
          "data": {
            "text/plain": [
              "Currency  Country                            \n",
              "Other     ARGENTINA BUT MY ORG IS IN THAILAND    804000.0\n",
              "Name: Annual salary, dtype: float64"
            ]
          },
          "metadata": {},
          "execution_count": 131
        }
      ]
    },
    {
      "cell_type": "code",
      "source": [
        "salary_df.loc[(\"Other\", \"ARGENTINA BUT MY ORG IS IN THAILAND\"), \"Annual salary\"] = salary_df.loc[(\"Other\", \"ARGENTINA BUT MY ORG IS IN THAILAND\"), \"Annual salary\"].mul(0.0096)"
      ],
      "metadata": {
        "colab": {
          "base_uri": "https://localhost:8080/"
        },
        "id": "fBHZYD61pdxL",
        "outputId": "e9cfb584-047b-4ac8-b789-5b25f25320a5"
      },
      "execution_count": 132,
      "outputs": [
        {
          "output_type": "stream",
          "name": "stderr",
          "text": [
            "/usr/local/lib/python3.7/dist-packages/pandas/core/indexing.py:873: PerformanceWarning: indexing past lexsort depth may impact performance.\n",
            "  return self._getitem_tuple(key)\n",
            "/usr/local/lib/python3.7/dist-packages/ipykernel/zmqshell.py:537: PerformanceWarning: indexing past lexsort depth may impact performance.\n",
            "  return super(ZMQInteractiveShell, self).run_cell(*args, **kwargs)\n"
          ]
        }
      ]
    },
    {
      "cell_type": "code",
      "source": [
        "salary_df.loc[(\"Other\", \"ARGENTINA BUT MY ORG IS IN THAILAND\"), \"Annual salary\"]"
      ],
      "metadata": {
        "colab": {
          "base_uri": "https://localhost:8080/"
        },
        "id": "Tc4ohEVYR6A0",
        "outputId": "9ebe9866-0596-4d50-c63a-4bf5e802fe82"
      },
      "execution_count": 133,
      "outputs": [
        {
          "output_type": "stream",
          "name": "stderr",
          "text": [
            "/usr/local/lib/python3.7/dist-packages/pandas/core/indexing.py:873: PerformanceWarning: indexing past lexsort depth may impact performance.\n",
            "  return self._getitem_tuple(key)\n"
          ]
        },
        {
          "output_type": "execute_result",
          "data": {
            "text/plain": [
              "Currency  Country                            \n",
              "Other     ARGENTINA BUT MY ORG IS IN THAILAND    7718.4\n",
              "Name: Annual salary, dtype: float64"
            ]
          },
          "metadata": {},
          "execution_count": 133
        }
      ]
    },
    {
      "cell_type": "code",
      "source": [
        ""
      ],
      "metadata": {
        "id": "J5DcBkQ_cBCm"
      },
      "execution_count": 133,
      "outputs": []
    },
    {
      "cell_type": "code",
      "source": [
        "salary_df.loc[(\"Other\", \"UK\"), \"Annual salary\"]"
      ],
      "metadata": {
        "colab": {
          "base_uri": "https://localhost:8080/"
        },
        "id": "0N8q-eo-R67C",
        "outputId": "8793bb43-4b87-4f9f-9159-eb180a8d8c94"
      },
      "execution_count": 134,
      "outputs": [
        {
          "output_type": "stream",
          "name": "stderr",
          "text": [
            "/usr/local/lib/python3.7/dist-packages/pandas/core/indexing.py:873: PerformanceWarning: indexing past lexsort depth may impact performance.\n",
            "  return self._getitem_tuple(key)\n"
          ]
        },
        {
          "output_type": "execute_result",
          "data": {
            "text/plain": [
              "Currency  Country\n",
              "Other     UK         28000.0\n",
              "Name: Annual salary, dtype: float64"
            ]
          },
          "metadata": {},
          "execution_count": 134
        }
      ]
    },
    {
      "cell_type": "code",
      "source": [
        "salary_df.loc[(\"Other\", \"UK\"), \"Annual salary\"] = salary_df.loc[(\"Other\", \"UK\"), \"Annual salary\"].mul(1.35)"
      ],
      "metadata": {
        "colab": {
          "base_uri": "https://localhost:8080/"
        },
        "id": "O-0Jcghzpdul",
        "outputId": "609cb532-998d-45a7-bebe-a9050bf3f673"
      },
      "execution_count": 135,
      "outputs": [
        {
          "output_type": "stream",
          "name": "stderr",
          "text": [
            "/usr/local/lib/python3.7/dist-packages/pandas/core/indexing.py:873: PerformanceWarning: indexing past lexsort depth may impact performance.\n",
            "  return self._getitem_tuple(key)\n",
            "/usr/local/lib/python3.7/dist-packages/ipykernel/zmqshell.py:537: PerformanceWarning: indexing past lexsort depth may impact performance.\n",
            "  return super(ZMQInteractiveShell, self).run_cell(*args, **kwargs)\n"
          ]
        }
      ]
    },
    {
      "cell_type": "code",
      "source": [
        "salary_df.loc[(\"Other\", \"UK\"), \"Annual salary\"]"
      ],
      "metadata": {
        "colab": {
          "base_uri": "https://localhost:8080/"
        },
        "id": "SJUaz2aLR-Mj",
        "outputId": "6c5b1fb3-8ad1-4537-843c-f0b944a24f69"
      },
      "execution_count": 136,
      "outputs": [
        {
          "output_type": "stream",
          "name": "stderr",
          "text": [
            "/usr/local/lib/python3.7/dist-packages/pandas/core/indexing.py:873: PerformanceWarning: indexing past lexsort depth may impact performance.\n",
            "  return self._getitem_tuple(key)\n"
          ]
        },
        {
          "output_type": "execute_result",
          "data": {
            "text/plain": [
              "Currency  Country\n",
              "Other     UK         37800.0\n",
              "Name: Annual salary, dtype: float64"
            ]
          },
          "metadata": {},
          "execution_count": 136
        }
      ]
    },
    {
      "cell_type": "code",
      "source": [
        ""
      ],
      "metadata": {
        "id": "3_-8xuDacCkX"
      },
      "execution_count": 136,
      "outputs": []
    },
    {
      "cell_type": "code",
      "source": [
        "salary_df.loc[(\"Other\", \"Czech Republic \"), \"Annual salary\"]"
      ],
      "metadata": {
        "colab": {
          "base_uri": "https://localhost:8080/"
        },
        "id": "_yh5WIDDR--x",
        "outputId": "5811297b-2436-43e6-958c-9ae219f6b2fc"
      },
      "execution_count": 137,
      "outputs": [
        {
          "output_type": "stream",
          "name": "stderr",
          "text": [
            "/usr/local/lib/python3.7/dist-packages/pandas/core/indexing.py:873: PerformanceWarning: indexing past lexsort depth may impact performance.\n",
            "  return self._getitem_tuple(key)\n"
          ]
        },
        {
          "output_type": "execute_result",
          "data": {
            "text/plain": [
              "Currency  Country        \n",
              "Other     Czech Republic     525000.0\n",
              "Name: Annual salary, dtype: float64"
            ]
          },
          "metadata": {},
          "execution_count": 137
        }
      ]
    },
    {
      "cell_type": "code",
      "source": [
        "salary_df.loc[(\"Other\", \"Czech Republic \"), \"Annual salary\"] = salary_df.loc[(\"Other\", \"Czech Republic \"), \"Annual salary\"].mul(0.046)"
      ],
      "metadata": {
        "colab": {
          "base_uri": "https://localhost:8080/"
        },
        "id": "umKKuHYspdsP",
        "outputId": "c9b10580-b82f-4140-e58c-03a73c02289d"
      },
      "execution_count": 138,
      "outputs": [
        {
          "output_type": "stream",
          "name": "stderr",
          "text": [
            "/usr/local/lib/python3.7/dist-packages/pandas/core/indexing.py:873: PerformanceWarning: indexing past lexsort depth may impact performance.\n",
            "  return self._getitem_tuple(key)\n",
            "/usr/local/lib/python3.7/dist-packages/ipykernel/zmqshell.py:537: PerformanceWarning: indexing past lexsort depth may impact performance.\n",
            "  return super(ZMQInteractiveShell, self).run_cell(*args, **kwargs)\n"
          ]
        }
      ]
    },
    {
      "cell_type": "code",
      "source": [
        "salary_df.loc[(\"Other\", \"Czech Republic \"), \"Annual salary\"]"
      ],
      "metadata": {
        "colab": {
          "base_uri": "https://localhost:8080/"
        },
        "id": "tHtjwmYdSFXu",
        "outputId": "e5364c51-c829-4023-c151-e8cef466fe31"
      },
      "execution_count": 139,
      "outputs": [
        {
          "output_type": "stream",
          "name": "stderr",
          "text": [
            "/usr/local/lib/python3.7/dist-packages/pandas/core/indexing.py:873: PerformanceWarning: indexing past lexsort depth may impact performance.\n",
            "  return self._getitem_tuple(key)\n"
          ]
        },
        {
          "output_type": "execute_result",
          "data": {
            "text/plain": [
              "Currency  Country        \n",
              "Other     Czech Republic     24150.0\n",
              "Name: Annual salary, dtype: float64"
            ]
          },
          "metadata": {},
          "execution_count": 139
        }
      ]
    },
    {
      "cell_type": "code",
      "source": [
        ""
      ],
      "metadata": {
        "id": "LrHPFXbzcD7H"
      },
      "execution_count": 139,
      "outputs": []
    },
    {
      "cell_type": "code",
      "source": [
        "salary_df.loc[(\"Other\", \"Czech Republic\"), \"Annual salary\"]"
      ],
      "metadata": {
        "colab": {
          "base_uri": "https://localhost:8080/"
        },
        "id": "9D3bwbpHSGLg",
        "outputId": "08817de7-e52e-4b24-dd9d-172b1efd131f"
      },
      "execution_count": 140,
      "outputs": [
        {
          "output_type": "stream",
          "name": "stderr",
          "text": [
            "/usr/local/lib/python3.7/dist-packages/pandas/core/indexing.py:873: PerformanceWarning: indexing past lexsort depth may impact performance.\n",
            "  return self._getitem_tuple(key)\n"
          ]
        },
        {
          "output_type": "execute_result",
          "data": {
            "text/plain": [
              "Currency  Country       \n",
              "Other     Czech Republic    1300000.0\n",
              "          Czech Republic     233160.0\n",
              "Name: Annual salary, dtype: float64"
            ]
          },
          "metadata": {},
          "execution_count": 140
        }
      ]
    },
    {
      "cell_type": "code",
      "source": [
        "salary_df.loc[(\"Other\", \"Czech Republic\"), \"Annual salary\"] = salary_df.loc[(\"Other\", \"Czech Republic\"), \"Annual salary\"].mul(0.046)"
      ],
      "metadata": {
        "colab": {
          "base_uri": "https://localhost:8080/"
        },
        "id": "fbRtJUoqpdp1",
        "outputId": "9d8bbcd3-e250-4e05-883b-6dc8c7e7e76d"
      },
      "execution_count": 141,
      "outputs": [
        {
          "output_type": "stream",
          "name": "stderr",
          "text": [
            "/usr/local/lib/python3.7/dist-packages/pandas/core/indexing.py:873: PerformanceWarning: indexing past lexsort depth may impact performance.\n",
            "  return self._getitem_tuple(key)\n",
            "/usr/local/lib/python3.7/dist-packages/ipykernel/zmqshell.py:537: PerformanceWarning: indexing past lexsort depth may impact performance.\n",
            "  return super(ZMQInteractiveShell, self).run_cell(*args, **kwargs)\n"
          ]
        }
      ]
    },
    {
      "cell_type": "code",
      "source": [
        "salary_df.loc[(\"Other\", \"Czech Republic\"), \"Annual salary\"]"
      ],
      "metadata": {
        "colab": {
          "base_uri": "https://localhost:8080/"
        },
        "id": "3Bt4mCJ-SL9j",
        "outputId": "248b132a-861b-4462-8fa8-0c529b643f3c"
      },
      "execution_count": 142,
      "outputs": [
        {
          "output_type": "stream",
          "name": "stderr",
          "text": [
            "/usr/local/lib/python3.7/dist-packages/pandas/core/indexing.py:873: PerformanceWarning: indexing past lexsort depth may impact performance.\n",
            "  return self._getitem_tuple(key)\n"
          ]
        },
        {
          "output_type": "execute_result",
          "data": {
            "text/plain": [
              "Currency  Country       \n",
              "Other     Czech Republic    59800.00\n",
              "          Czech Republic    10725.36\n",
              "Name: Annual salary, dtype: float64"
            ]
          },
          "metadata": {},
          "execution_count": 142
        }
      ]
    },
    {
      "cell_type": "code",
      "source": [
        ""
      ],
      "metadata": {
        "id": "KruLFhCscE8K"
      },
      "execution_count": 142,
      "outputs": []
    },
    {
      "cell_type": "code",
      "source": [
        "salary_df.loc[(\"Other\", \"croatia\"), \"Annual salary\"]"
      ],
      "metadata": {
        "colab": {
          "base_uri": "https://localhost:8080/"
        },
        "id": "nSDeLPouSMvD",
        "outputId": "6fb4f5e1-a4b7-4f60-accb-fc00677c61e5"
      },
      "execution_count": 143,
      "outputs": [
        {
          "output_type": "stream",
          "name": "stderr",
          "text": [
            "/usr/local/lib/python3.7/dist-packages/pandas/core/indexing.py:873: PerformanceWarning: indexing past lexsort depth may impact performance.\n",
            "  return self._getitem_tuple(key)\n"
          ]
        },
        {
          "output_type": "execute_result",
          "data": {
            "text/plain": [
              "Currency  Country\n",
              "Other     croatia    50000.0\n",
              "Name: Annual salary, dtype: float64"
            ]
          },
          "metadata": {},
          "execution_count": 143
        }
      ]
    },
    {
      "cell_type": "code",
      "source": [
        "salary_df.loc[(\"Other\", \"croatia\"), \"Annual salary\"] = salary_df.loc[(\"Other\", \"croatia\"), \"Annual salary\"].mul(0.15)"
      ],
      "metadata": {
        "colab": {
          "base_uri": "https://localhost:8080/"
        },
        "id": "4AxUa-IvpdnB",
        "outputId": "eb08cc1c-e0a8-4870-89ac-8ad8777f122d"
      },
      "execution_count": 144,
      "outputs": [
        {
          "output_type": "stream",
          "name": "stderr",
          "text": [
            "/usr/local/lib/python3.7/dist-packages/pandas/core/indexing.py:873: PerformanceWarning: indexing past lexsort depth may impact performance.\n",
            "  return self._getitem_tuple(key)\n",
            "/usr/local/lib/python3.7/dist-packages/ipykernel/zmqshell.py:537: PerformanceWarning: indexing past lexsort depth may impact performance.\n",
            "  return super(ZMQInteractiveShell, self).run_cell(*args, **kwargs)\n"
          ]
        }
      ]
    },
    {
      "cell_type": "code",
      "source": [
        "salary_df.loc[(\"Other\", \"croatia\"), \"Annual salary\"]"
      ],
      "metadata": {
        "colab": {
          "base_uri": "https://localhost:8080/"
        },
        "id": "uBIrdWMLSRky",
        "outputId": "bc0879bb-a8df-4174-c4bc-7e9c4a5cb8c3"
      },
      "execution_count": 145,
      "outputs": [
        {
          "output_type": "stream",
          "name": "stderr",
          "text": [
            "/usr/local/lib/python3.7/dist-packages/pandas/core/indexing.py:873: PerformanceWarning: indexing past lexsort depth may impact performance.\n",
            "  return self._getitem_tuple(key)\n"
          ]
        },
        {
          "output_type": "execute_result",
          "data": {
            "text/plain": [
              "Currency  Country\n",
              "Other     croatia    7500.0\n",
              "Name: Annual salary, dtype: float64"
            ]
          },
          "metadata": {},
          "execution_count": 145
        }
      ]
    },
    {
      "cell_type": "code",
      "source": [
        ""
      ],
      "metadata": {
        "id": "mh8MPvRncF5a"
      },
      "execution_count": 145,
      "outputs": []
    },
    {
      "cell_type": "code",
      "source": [
        "salary_df.loc[(\"Other\", \"Indonesia\"), \"Annual salary\"]"
      ],
      "metadata": {
        "colab": {
          "base_uri": "https://localhost:8080/"
        },
        "id": "gx_DUJPDSSuG",
        "outputId": "bfe1cda4-7cd7-46a4-b57e-00d9169a8136"
      },
      "execution_count": 146,
      "outputs": [
        {
          "output_type": "stream",
          "name": "stderr",
          "text": [
            "/usr/local/lib/python3.7/dist-packages/pandas/core/indexing.py:873: PerformanceWarning: indexing past lexsort depth may impact performance.\n",
            "  return self._getitem_tuple(key)\n"
          ]
        },
        {
          "output_type": "execute_result",
          "data": {
            "text/plain": [
              "Currency  Country  \n",
              "Other     Indonesia    870000000.0\n",
              "          Indonesia    180000000.0\n",
              "Name: Annual salary, dtype: float64"
            ]
          },
          "metadata": {},
          "execution_count": 146
        }
      ]
    },
    {
      "cell_type": "code",
      "source": [
        "salary_df.loc[(\"Other\", \"Indonesia\"), \"Annual salary\"] = salary_df.loc[(\"Other\", \"Indonesia\"), \"Annual salary\"].mul(0.000070)"
      ],
      "metadata": {
        "colab": {
          "base_uri": "https://localhost:8080/"
        },
        "id": "Z5zbTaN1pdkX",
        "outputId": "3ed81052-ba42-4ad1-caca-02310e37e3c9"
      },
      "execution_count": 147,
      "outputs": [
        {
          "output_type": "stream",
          "name": "stderr",
          "text": [
            "/usr/local/lib/python3.7/dist-packages/pandas/core/indexing.py:873: PerformanceWarning: indexing past lexsort depth may impact performance.\n",
            "  return self._getitem_tuple(key)\n",
            "/usr/local/lib/python3.7/dist-packages/ipykernel/zmqshell.py:537: PerformanceWarning: indexing past lexsort depth may impact performance.\n",
            "  return super(ZMQInteractiveShell, self).run_cell(*args, **kwargs)\n"
          ]
        }
      ]
    },
    {
      "cell_type": "code",
      "source": [
        "salary_df.loc[(\"Other\", \"Indonesia\"), \"Annual salary\"]"
      ],
      "metadata": {
        "colab": {
          "base_uri": "https://localhost:8080/"
        },
        "id": "C51k0rUBSWuf",
        "outputId": "b706bcaa-9b66-4402-992d-56bf8bd733de"
      },
      "execution_count": 148,
      "outputs": [
        {
          "output_type": "stream",
          "name": "stderr",
          "text": [
            "/usr/local/lib/python3.7/dist-packages/pandas/core/indexing.py:873: PerformanceWarning: indexing past lexsort depth may impact performance.\n",
            "  return self._getitem_tuple(key)\n"
          ]
        },
        {
          "output_type": "execute_result",
          "data": {
            "text/plain": [
              "Currency  Country  \n",
              "Other     Indonesia    60900.0\n",
              "          Indonesia    12600.0\n",
              "Name: Annual salary, dtype: float64"
            ]
          },
          "metadata": {},
          "execution_count": 148
        }
      ]
    },
    {
      "cell_type": "code",
      "source": [
        ""
      ],
      "metadata": {
        "id": "fX47hMPOcG3Y"
      },
      "execution_count": 148,
      "outputs": []
    },
    {
      "cell_type": "code",
      "source": [
        "salary_df.loc[(\"Other\", \"Ireland\"), \"Annual salary\"]"
      ],
      "metadata": {
        "colab": {
          "base_uri": "https://localhost:8080/"
        },
        "id": "-e8pcBDPSXg1",
        "outputId": "70d632af-b319-4adf-ea7b-9ff27110ed95"
      },
      "execution_count": 149,
      "outputs": [
        {
          "output_type": "stream",
          "name": "stderr",
          "text": [
            "/usr/local/lib/python3.7/dist-packages/pandas/core/indexing.py:873: PerformanceWarning: indexing past lexsort depth may impact performance.\n",
            "  return self._getitem_tuple(key)\n"
          ]
        },
        {
          "output_type": "execute_result",
          "data": {
            "text/plain": [
              "Currency  Country\n",
              "Other     Ireland    59100.0\n",
              "Name: Annual salary, dtype: float64"
            ]
          },
          "metadata": {},
          "execution_count": 149
        }
      ]
    },
    {
      "cell_type": "code",
      "source": [
        "salary_df.loc[(\"Other\", \"Ireland\"), \"Annual salary\"] = salary_df.loc[(\"Other\", \"Ireland\"), \"Annual salary\"].mul(1.13)"
      ],
      "metadata": {
        "colab": {
          "base_uri": "https://localhost:8080/"
        },
        "id": "0Zq15KmbrpPU",
        "outputId": "03d37b8e-70e7-4ace-8d98-ff8d86de5f56"
      },
      "execution_count": 150,
      "outputs": [
        {
          "output_type": "stream",
          "name": "stderr",
          "text": [
            "/usr/local/lib/python3.7/dist-packages/pandas/core/indexing.py:873: PerformanceWarning: indexing past lexsort depth may impact performance.\n",
            "  return self._getitem_tuple(key)\n",
            "/usr/local/lib/python3.7/dist-packages/ipykernel/zmqshell.py:537: PerformanceWarning: indexing past lexsort depth may impact performance.\n",
            "  return super(ZMQInteractiveShell, self).run_cell(*args, **kwargs)\n"
          ]
        }
      ]
    },
    {
      "cell_type": "code",
      "source": [
        "salary_df.loc[(\"Other\", \"Ireland\"), \"Annual salary\"]"
      ],
      "metadata": {
        "colab": {
          "base_uri": "https://localhost:8080/"
        },
        "id": "f795pc5TSbUE",
        "outputId": "e9eb26a1-d45a-4242-b2e5-a21667a61e1c"
      },
      "execution_count": 151,
      "outputs": [
        {
          "output_type": "stream",
          "name": "stderr",
          "text": [
            "/usr/local/lib/python3.7/dist-packages/pandas/core/indexing.py:873: PerformanceWarning: indexing past lexsort depth may impact performance.\n",
            "  return self._getitem_tuple(key)\n"
          ]
        },
        {
          "output_type": "execute_result",
          "data": {
            "text/plain": [
              "Currency  Country\n",
              "Other     Ireland    66783.0\n",
              "Name: Annual salary, dtype: float64"
            ]
          },
          "metadata": {},
          "execution_count": 151
        }
      ]
    },
    {
      "cell_type": "code",
      "source": [
        ""
      ],
      "metadata": {
        "id": "s0iTC49wcH_2"
      },
      "execution_count": 151,
      "outputs": []
    },
    {
      "cell_type": "code",
      "source": [
        "salary_df.loc[(\"Other\", \"Trinidad and Tobago\"), \"Annual salary\"]"
      ],
      "metadata": {
        "colab": {
          "base_uri": "https://localhost:8080/"
        },
        "id": "WUfkCqXaScLf",
        "outputId": "0dee7033-6398-44ca-ec73-068904704ae5"
      },
      "execution_count": 152,
      "outputs": [
        {
          "output_type": "stream",
          "name": "stderr",
          "text": [
            "/usr/local/lib/python3.7/dist-packages/pandas/core/indexing.py:873: PerformanceWarning: indexing past lexsort depth may impact performance.\n",
            "  return self._getitem_tuple(key)\n"
          ]
        },
        {
          "output_type": "execute_result",
          "data": {
            "text/plain": [
              "Currency  Country            \n",
              "Other     Trinidad and Tobago    62400.0\n",
              "Name: Annual salary, dtype: float64"
            ]
          },
          "metadata": {},
          "execution_count": 152
        }
      ]
    },
    {
      "cell_type": "code",
      "source": [
        "salary_df.loc[(\"Other\", \"Trinidad and Tobago\"), \"Annual salary\"] = salary_df.loc[(\"Other\", \"Trinidad and Tobago\"), \"Annual salary\"].mul(0.15)"
      ],
      "metadata": {
        "colab": {
          "base_uri": "https://localhost:8080/"
        },
        "id": "G-504q0crpL9",
        "outputId": "94dd556f-67af-4700-c1f2-d9222dde777f"
      },
      "execution_count": 153,
      "outputs": [
        {
          "output_type": "stream",
          "name": "stderr",
          "text": [
            "/usr/local/lib/python3.7/dist-packages/pandas/core/indexing.py:873: PerformanceWarning: indexing past lexsort depth may impact performance.\n",
            "  return self._getitem_tuple(key)\n",
            "/usr/local/lib/python3.7/dist-packages/ipykernel/zmqshell.py:537: PerformanceWarning: indexing past lexsort depth may impact performance.\n",
            "  return super(ZMQInteractiveShell, self).run_cell(*args, **kwargs)\n"
          ]
        }
      ]
    },
    {
      "cell_type": "code",
      "source": [
        "salary_df.loc[(\"Other\", \"Trinidad and Tobago\"), \"Annual salary\"]"
      ],
      "metadata": {
        "colab": {
          "base_uri": "https://localhost:8080/"
        },
        "id": "1lPSh88FSiPK",
        "outputId": "aa96a26e-6eeb-471c-c7c7-a3fb51bc9d61"
      },
      "execution_count": 154,
      "outputs": [
        {
          "output_type": "stream",
          "name": "stderr",
          "text": [
            "/usr/local/lib/python3.7/dist-packages/pandas/core/indexing.py:873: PerformanceWarning: indexing past lexsort depth may impact performance.\n",
            "  return self._getitem_tuple(key)\n"
          ]
        },
        {
          "output_type": "execute_result",
          "data": {
            "text/plain": [
              "Currency  Country            \n",
              "Other     Trinidad and Tobago    9360.0\n",
              "Name: Annual salary, dtype: float64"
            ]
          },
          "metadata": {},
          "execution_count": 154
        }
      ]
    },
    {
      "cell_type": "code",
      "source": [
        ""
      ],
      "metadata": {
        "id": "RkBJR0Q1cJwc"
      },
      "execution_count": 154,
      "outputs": []
    },
    {
      "cell_type": "code",
      "source": [
        "salary_df.loc[(\"Other\", \"Turkey\"), \"Annual salary\"]"
      ],
      "metadata": {
        "colab": {
          "base_uri": "https://localhost:8080/"
        },
        "id": "U4krdSu0SjCq",
        "outputId": "e227b4d4-3b18-4213-fddc-05fc67813566"
      },
      "execution_count": 155,
      "outputs": [
        {
          "output_type": "stream",
          "name": "stderr",
          "text": [
            "/usr/local/lib/python3.7/dist-packages/pandas/core/indexing.py:873: PerformanceWarning: indexing past lexsort depth may impact performance.\n",
            "  return self._getitem_tuple(key)\n"
          ]
        },
        {
          "output_type": "execute_result",
          "data": {
            "text/plain": [
              "Currency  Country\n",
              "Other     Turkey     72.0\n",
              "Name: Annual salary, dtype: float64"
            ]
          },
          "metadata": {},
          "execution_count": 155
        }
      ]
    },
    {
      "cell_type": "code",
      "source": [
        "salary_df.loc[(\"Other\", \"Turkey\"), \"Annual salary\"] = salary_df.loc[(\"Other\", \"Turkey\"), \"Annual salary\"].mul(0.074)"
      ],
      "metadata": {
        "colab": {
          "base_uri": "https://localhost:8080/"
        },
        "id": "Lr8hrYKorpJF",
        "outputId": "01f2b050-374a-4ff7-aef8-b52f43232f85"
      },
      "execution_count": 156,
      "outputs": [
        {
          "output_type": "stream",
          "name": "stderr",
          "text": [
            "/usr/local/lib/python3.7/dist-packages/pandas/core/indexing.py:873: PerformanceWarning: indexing past lexsort depth may impact performance.\n",
            "  return self._getitem_tuple(key)\n",
            "/usr/local/lib/python3.7/dist-packages/ipykernel/zmqshell.py:537: PerformanceWarning: indexing past lexsort depth may impact performance.\n",
            "  return super(ZMQInteractiveShell, self).run_cell(*args, **kwargs)\n"
          ]
        }
      ]
    },
    {
      "cell_type": "code",
      "source": [
        "salary_df.loc[(\"Other\", \"Turkey\"), \"Annual salary\"]"
      ],
      "metadata": {
        "colab": {
          "base_uri": "https://localhost:8080/"
        },
        "id": "UDrjVzOBSmhW",
        "outputId": "a482f723-6602-4ef8-9e4a-7ec6b5ca89d6"
      },
      "execution_count": 157,
      "outputs": [
        {
          "output_type": "stream",
          "name": "stderr",
          "text": [
            "/usr/local/lib/python3.7/dist-packages/pandas/core/indexing.py:873: PerformanceWarning: indexing past lexsort depth may impact performance.\n",
            "  return self._getitem_tuple(key)\n"
          ]
        },
        {
          "output_type": "execute_result",
          "data": {
            "text/plain": [
              "Currency  Country\n",
              "Other     Turkey     5.328\n",
              "Name: Annual salary, dtype: float64"
            ]
          },
          "metadata": {},
          "execution_count": 157
        }
      ]
    },
    {
      "cell_type": "code",
      "source": [
        ""
      ],
      "metadata": {
        "id": "7Aby3LoFcK6h"
      },
      "execution_count": 157,
      "outputs": []
    },
    {
      "cell_type": "code",
      "source": [
        "salary_df.loc[(\"Other\", \"Australia\"), \"Annual salary\"]"
      ],
      "metadata": {
        "colab": {
          "base_uri": "https://localhost:8080/"
        },
        "id": "Jok50C5zSnr2",
        "outputId": "15d161c0-10a9-4aed-baee-6b6364444a71"
      },
      "execution_count": 158,
      "outputs": [
        {
          "output_type": "stream",
          "name": "stderr",
          "text": [
            "/usr/local/lib/python3.7/dist-packages/pandas/core/indexing.py:873: PerformanceWarning: indexing past lexsort depth may impact performance.\n",
            "  return self._getitem_tuple(key)\n"
          ]
        },
        {
          "output_type": "execute_result",
          "data": {
            "text/plain": [
              "Currency  Country  \n",
              "Other     Australia     80000.0\n",
              "          Australia     52000.0\n",
              "          Australia    730000.0\n",
              "Name: Annual salary, dtype: float64"
            ]
          },
          "metadata": {},
          "execution_count": 158
        }
      ]
    },
    {
      "cell_type": "code",
      "source": [
        "salary_df.loc[(\"Other\", \"Australia\"), \"Annual salary\"] = salary_df.loc[(\"Other\", \"Australia\"), \"Annual salary\"].mul(0.71)"
      ],
      "metadata": {
        "colab": {
          "base_uri": "https://localhost:8080/"
        },
        "id": "7JYKyoWJrpGe",
        "outputId": "0a0f3854-f16f-4667-8865-579550051773"
      },
      "execution_count": 159,
      "outputs": [
        {
          "output_type": "stream",
          "name": "stderr",
          "text": [
            "/usr/local/lib/python3.7/dist-packages/pandas/core/indexing.py:873: PerformanceWarning: indexing past lexsort depth may impact performance.\n",
            "  return self._getitem_tuple(key)\n",
            "/usr/local/lib/python3.7/dist-packages/ipykernel/zmqshell.py:537: PerformanceWarning: indexing past lexsort depth may impact performance.\n",
            "  return super(ZMQInteractiveShell, self).run_cell(*args, **kwargs)\n"
          ]
        }
      ]
    },
    {
      "cell_type": "code",
      "source": [
        "salary_df.loc[(\"Other\", \"Australia\"), \"Annual salary\"]"
      ],
      "metadata": {
        "colab": {
          "base_uri": "https://localhost:8080/"
        },
        "id": "hMPKV5MpSvBi",
        "outputId": "69d6eceb-b3d9-40e1-c365-d8fedd9b162d"
      },
      "execution_count": 160,
      "outputs": [
        {
          "output_type": "stream",
          "name": "stderr",
          "text": [
            "/usr/local/lib/python3.7/dist-packages/pandas/core/indexing.py:873: PerformanceWarning: indexing past lexsort depth may impact performance.\n",
            "  return self._getitem_tuple(key)\n"
          ]
        },
        {
          "output_type": "execute_result",
          "data": {
            "text/plain": [
              "Currency  Country  \n",
              "Other     Australia     56800.0\n",
              "          Australia     36920.0\n",
              "          Australia    518300.0\n",
              "Name: Annual salary, dtype: float64"
            ]
          },
          "metadata": {},
          "execution_count": 160
        }
      ]
    },
    {
      "cell_type": "code",
      "source": [
        ""
      ],
      "metadata": {
        "id": "CpAzeNFncMQx"
      },
      "execution_count": 160,
      "outputs": []
    },
    {
      "cell_type": "code",
      "source": [
        "salary_df.loc[(\"Other\", \"Brasil\"), \"Annual salary\"]"
      ],
      "metadata": {
        "colab": {
          "base_uri": "https://localhost:8080/"
        },
        "id": "LQmvzJuhSwOK",
        "outputId": "3895e674-21e4-4c50-ed51-58802ab88834"
      },
      "execution_count": 161,
      "outputs": [
        {
          "output_type": "stream",
          "name": "stderr",
          "text": [
            "/usr/local/lib/python3.7/dist-packages/pandas/core/indexing.py:873: PerformanceWarning: indexing past lexsort depth may impact performance.\n",
            "  return self._getitem_tuple(key)\n"
          ]
        },
        {
          "output_type": "execute_result",
          "data": {
            "text/plain": [
              "Currency  Country\n",
              "Other     Brasil     182000.0\n",
              "Name: Annual salary, dtype: float64"
            ]
          },
          "metadata": {},
          "execution_count": 161
        }
      ]
    },
    {
      "cell_type": "code",
      "source": [
        "salary_df.loc[(\"Other\", \"Brasil\"), \"Annual salary\"] = salary_df.loc[(\"Other\", \"Brasil\"), \"Annual salary\"].mul(0.18)"
      ],
      "metadata": {
        "colab": {
          "base_uri": "https://localhost:8080/"
        },
        "id": "JZeBFQbBrpEI",
        "outputId": "632922b3-0fd3-43a3-deb1-1ea49a12326f"
      },
      "execution_count": 162,
      "outputs": [
        {
          "output_type": "stream",
          "name": "stderr",
          "text": [
            "/usr/local/lib/python3.7/dist-packages/pandas/core/indexing.py:873: PerformanceWarning: indexing past lexsort depth may impact performance.\n",
            "  return self._getitem_tuple(key)\n",
            "/usr/local/lib/python3.7/dist-packages/ipykernel/zmqshell.py:537: PerformanceWarning: indexing past lexsort depth may impact performance.\n",
            "  return super(ZMQInteractiveShell, self).run_cell(*args, **kwargs)\n"
          ]
        }
      ]
    },
    {
      "cell_type": "code",
      "source": [
        "salary_df.loc[(\"Other\", \"Brasil\"), \"Annual salary\"]"
      ],
      "metadata": {
        "colab": {
          "base_uri": "https://localhost:8080/"
        },
        "id": "H4MAZ5ZtSr3I",
        "outputId": "0d16727c-305a-4080-c1b0-106c019a9993"
      },
      "execution_count": 163,
      "outputs": [
        {
          "output_type": "stream",
          "name": "stderr",
          "text": [
            "/usr/local/lib/python3.7/dist-packages/pandas/core/indexing.py:873: PerformanceWarning: indexing past lexsort depth may impact performance.\n",
            "  return self._getitem_tuple(key)\n"
          ]
        },
        {
          "output_type": "execute_result",
          "data": {
            "text/plain": [
              "Currency  Country\n",
              "Other     Brasil     32760.0\n",
              "Name: Annual salary, dtype: float64"
            ]
          },
          "metadata": {},
          "execution_count": 163
        }
      ]
    },
    {
      "cell_type": "code",
      "source": [
        ""
      ],
      "metadata": {
        "id": "clR2gR8DcNeH"
      },
      "execution_count": 163,
      "outputs": []
    },
    {
      "cell_type": "code",
      "source": [
        "salary_df.loc[(\"Other\", \"South Africa\"), \"Annual salary\"]"
      ],
      "metadata": {
        "colab": {
          "base_uri": "https://localhost:8080/"
        },
        "id": "OIO83BfjS2fx",
        "outputId": "3be79601-71f4-400b-cc74-66f230ba2091"
      },
      "execution_count": 164,
      "outputs": [
        {
          "output_type": "stream",
          "name": "stderr",
          "text": [
            "/usr/local/lib/python3.7/dist-packages/pandas/core/indexing.py:873: PerformanceWarning: indexing past lexsort depth may impact performance.\n",
            "  return self._getitem_tuple(key)\n"
          ]
        },
        {
          "output_type": "execute_result",
          "data": {
            "text/plain": [
              "Currency  Country     \n",
              "Other     South Africa    288000.0\n",
              "Name: Annual salary, dtype: float64"
            ]
          },
          "metadata": {},
          "execution_count": 164
        }
      ]
    },
    {
      "cell_type": "code",
      "source": [
        "salary_df.loc[(\"Other\", \"South Africa\"), \"Annual salary\"] = salary_df.loc[(\"Other\", \"South Africa\"), \"Annual salary\"].mul(0.065)"
      ],
      "metadata": {
        "colab": {
          "base_uri": "https://localhost:8080/"
        },
        "id": "P0zdeb-xrpBY",
        "outputId": "9f9f97e9-6b30-47d9-b6b0-4bbdb06fe21a"
      },
      "execution_count": 165,
      "outputs": [
        {
          "output_type": "stream",
          "name": "stderr",
          "text": [
            "/usr/local/lib/python3.7/dist-packages/pandas/core/indexing.py:873: PerformanceWarning: indexing past lexsort depth may impact performance.\n",
            "  return self._getitem_tuple(key)\n",
            "/usr/local/lib/python3.7/dist-packages/ipykernel/zmqshell.py:537: PerformanceWarning: indexing past lexsort depth may impact performance.\n",
            "  return super(ZMQInteractiveShell, self).run_cell(*args, **kwargs)\n"
          ]
        }
      ]
    },
    {
      "cell_type": "code",
      "source": [
        "salary_df.loc[(\"Other\", \"South Africa\"), \"Annual salary\"]"
      ],
      "metadata": {
        "colab": {
          "base_uri": "https://localhost:8080/"
        },
        "id": "-n5Zq8yuS6Q9",
        "outputId": "073a6bae-ed0d-426f-bf02-8289e419449d"
      },
      "execution_count": 166,
      "outputs": [
        {
          "output_type": "stream",
          "name": "stderr",
          "text": [
            "/usr/local/lib/python3.7/dist-packages/pandas/core/indexing.py:873: PerformanceWarning: indexing past lexsort depth may impact performance.\n",
            "  return self._getitem_tuple(key)\n"
          ]
        },
        {
          "output_type": "execute_result",
          "data": {
            "text/plain": [
              "Currency  Country     \n",
              "Other     South Africa    18720.0\n",
              "Name: Annual salary, dtype: float64"
            ]
          },
          "metadata": {},
          "execution_count": 166
        }
      ]
    },
    {
      "cell_type": "code",
      "source": [
        ""
      ],
      "metadata": {
        "id": "da0YDn80cOqy"
      },
      "execution_count": 166,
      "outputs": []
    },
    {
      "cell_type": "code",
      "source": [
        "salary_df.loc[(\"Other\", \"Canada\"), \"Annual salary\"]"
      ],
      "metadata": {
        "colab": {
          "base_uri": "https://localhost:8080/"
        },
        "id": "7GbhUFBNS8iu",
        "outputId": "5857735e-3779-4656-9f04-2a4fba8c48aa"
      },
      "execution_count": 167,
      "outputs": [
        {
          "output_type": "stream",
          "name": "stderr",
          "text": [
            "/usr/local/lib/python3.7/dist-packages/pandas/core/indexing.py:873: PerformanceWarning: indexing past lexsort depth may impact performance.\n",
            "  return self._getitem_tuple(key)\n"
          ]
        },
        {
          "output_type": "execute_result",
          "data": {
            "text/plain": [
              "Currency  Country\n",
              "Other     Canada     110000.0\n",
              "Name: Annual salary, dtype: float64"
            ]
          },
          "metadata": {},
          "execution_count": 167
        }
      ]
    },
    {
      "cell_type": "code",
      "source": [
        "salary_df.loc[(\"Other\", \"Canada\"), \"Annual salary\"] = salary_df.loc[(\"Other\", \"Canada\"), \"Annual salary\"].mul(0.79)"
      ],
      "metadata": {
        "colab": {
          "base_uri": "https://localhost:8080/"
        },
        "id": "ZEB0Y0fdro-w",
        "outputId": "cc44cfb8-98fc-4c33-cb67-ed2dd9287ba2"
      },
      "execution_count": 168,
      "outputs": [
        {
          "output_type": "stream",
          "name": "stderr",
          "text": [
            "/usr/local/lib/python3.7/dist-packages/pandas/core/indexing.py:873: PerformanceWarning: indexing past lexsort depth may impact performance.\n",
            "  return self._getitem_tuple(key)\n",
            "/usr/local/lib/python3.7/dist-packages/ipykernel/zmqshell.py:537: PerformanceWarning: indexing past lexsort depth may impact performance.\n",
            "  return super(ZMQInteractiveShell, self).run_cell(*args, **kwargs)\n"
          ]
        }
      ]
    },
    {
      "cell_type": "code",
      "source": [
        "salary_df.loc[(\"Other\", \"Canada\"), \"Annual salary\"]"
      ],
      "metadata": {
        "colab": {
          "base_uri": "https://localhost:8080/"
        },
        "id": "pUS3MJY_TE3D",
        "outputId": "19a06b00-78bb-432b-fd61-1c0dc41f3cdc"
      },
      "execution_count": 169,
      "outputs": [
        {
          "output_type": "stream",
          "name": "stderr",
          "text": [
            "/usr/local/lib/python3.7/dist-packages/pandas/core/indexing.py:873: PerformanceWarning: indexing past lexsort depth may impact performance.\n",
            "  return self._getitem_tuple(key)\n"
          ]
        },
        {
          "output_type": "execute_result",
          "data": {
            "text/plain": [
              "Currency  Country\n",
              "Other     Canada     86900.0\n",
              "Name: Annual salary, dtype: float64"
            ]
          },
          "metadata": {},
          "execution_count": 169
        }
      ]
    },
    {
      "cell_type": "code",
      "source": [
        ""
      ],
      "metadata": {
        "id": "hSd33j_wcPzo"
      },
      "execution_count": 169,
      "outputs": []
    },
    {
      "cell_type": "code",
      "source": [
        "salary_df.loc[(\"Other\", \"Scotland\"), \"Annual salary\"]"
      ],
      "metadata": {
        "colab": {
          "base_uri": "https://localhost:8080/"
        },
        "id": "f6JiV1jCTFog",
        "outputId": "53d9eaa9-c7fe-43f8-85ae-85d262ef3b41"
      },
      "execution_count": 170,
      "outputs": [
        {
          "output_type": "stream",
          "name": "stderr",
          "text": [
            "/usr/local/lib/python3.7/dist-packages/pandas/core/indexing.py:873: PerformanceWarning: indexing past lexsort depth may impact performance.\n",
            "  return self._getitem_tuple(key)\n"
          ]
        },
        {
          "output_type": "execute_result",
          "data": {
            "text/plain": [
              "Currency  Country \n",
              "Other     Scotland    41000.0\n",
              "Name: Annual salary, dtype: float64"
            ]
          },
          "metadata": {},
          "execution_count": 170
        }
      ]
    },
    {
      "cell_type": "code",
      "source": [
        "salary_df.loc[(\"Other\", \"Scotland\"), \"Annual salary\"] = salary_df.loc[(\"Other\", \"Scotland\"), \"Annual salary\"].mul(1.35)"
      ],
      "metadata": {
        "colab": {
          "base_uri": "https://localhost:8080/"
        },
        "id": "mww90FEAro8O",
        "outputId": "bc163e36-2efa-46fd-aa94-a0823eb96917"
      },
      "execution_count": 171,
      "outputs": [
        {
          "output_type": "stream",
          "name": "stderr",
          "text": [
            "/usr/local/lib/python3.7/dist-packages/pandas/core/indexing.py:873: PerformanceWarning: indexing past lexsort depth may impact performance.\n",
            "  return self._getitem_tuple(key)\n",
            "/usr/local/lib/python3.7/dist-packages/ipykernel/zmqshell.py:537: PerformanceWarning: indexing past lexsort depth may impact performance.\n",
            "  return super(ZMQInteractiveShell, self).run_cell(*args, **kwargs)\n"
          ]
        }
      ]
    },
    {
      "cell_type": "code",
      "source": [
        "salary_df.loc[(\"Other\", \"Scotland\"), \"Annual salary\"]"
      ],
      "metadata": {
        "colab": {
          "base_uri": "https://localhost:8080/"
        },
        "id": "d0uQBQ1zTJH8",
        "outputId": "947e3151-8c63-41d6-9694-7d8ff8e32fee"
      },
      "execution_count": 172,
      "outputs": [
        {
          "output_type": "stream",
          "name": "stderr",
          "text": [
            "/usr/local/lib/python3.7/dist-packages/pandas/core/indexing.py:873: PerformanceWarning: indexing past lexsort depth may impact performance.\n",
            "  return self._getitem_tuple(key)\n"
          ]
        },
        {
          "output_type": "execute_result",
          "data": {
            "text/plain": [
              "Currency  Country \n",
              "Other     Scotland    55350.0\n",
              "Name: Annual salary, dtype: float64"
            ]
          },
          "metadata": {},
          "execution_count": 172
        }
      ]
    },
    {
      "cell_type": "code",
      "source": [
        ""
      ],
      "metadata": {
        "id": "Pw_HMIkLcQvG"
      },
      "execution_count": 172,
      "outputs": []
    },
    {
      "cell_type": "code",
      "source": [
        "salary_df.loc[(\"Other\", \"Sri Lanka\"), \"Annual salary\"]"
      ],
      "metadata": {
        "colab": {
          "base_uri": "https://localhost:8080/"
        },
        "id": "JVN8yyNHTKrF",
        "outputId": "47409fc5-0e56-4697-a405-711520746fa0"
      },
      "execution_count": 173,
      "outputs": [
        {
          "output_type": "stream",
          "name": "stderr",
          "text": [
            "/usr/local/lib/python3.7/dist-packages/pandas/core/indexing.py:873: PerformanceWarning: indexing past lexsort depth may impact performance.\n",
            "  return self._getitem_tuple(key)\n"
          ]
        },
        {
          "output_type": "execute_result",
          "data": {
            "text/plain": [
              "Currency  Country  \n",
              "Other     Sri Lanka    2500000.0\n",
              "Name: Annual salary, dtype: float64"
            ]
          },
          "metadata": {},
          "execution_count": 173
        }
      ]
    },
    {
      "cell_type": "code",
      "source": [
        "salary_df.loc[(\"Other\", \"Sri Lanka\"), \"Annual salary\"] = salary_df.loc[(\"Other\", \"Sri Lanka\"), \"Annual salary\"].mul(0.0049)"
      ],
      "metadata": {
        "colab": {
          "base_uri": "https://localhost:8080/"
        },
        "id": "GLpnAbCKro5n",
        "outputId": "34040abf-87b2-4a64-9b40-2861bb090f81"
      },
      "execution_count": 174,
      "outputs": [
        {
          "output_type": "stream",
          "name": "stderr",
          "text": [
            "/usr/local/lib/python3.7/dist-packages/pandas/core/indexing.py:873: PerformanceWarning: indexing past lexsort depth may impact performance.\n",
            "  return self._getitem_tuple(key)\n",
            "/usr/local/lib/python3.7/dist-packages/ipykernel/zmqshell.py:537: PerformanceWarning: indexing past lexsort depth may impact performance.\n",
            "  return super(ZMQInteractiveShell, self).run_cell(*args, **kwargs)\n"
          ]
        }
      ]
    },
    {
      "cell_type": "code",
      "source": [
        "salary_df.loc[(\"Other\", \"Sri Lanka\"), \"Annual salary\"]"
      ],
      "metadata": {
        "colab": {
          "base_uri": "https://localhost:8080/"
        },
        "id": "3zNDQwTLTNt6",
        "outputId": "be9e5930-963b-4694-e678-e0ccc5e57cb6"
      },
      "execution_count": 175,
      "outputs": [
        {
          "output_type": "stream",
          "name": "stderr",
          "text": [
            "/usr/local/lib/python3.7/dist-packages/pandas/core/indexing.py:873: PerformanceWarning: indexing past lexsort depth may impact performance.\n",
            "  return self._getitem_tuple(key)\n"
          ]
        },
        {
          "output_type": "execute_result",
          "data": {
            "text/plain": [
              "Currency  Country  \n",
              "Other     Sri Lanka    12250.0\n",
              "Name: Annual salary, dtype: float64"
            ]
          },
          "metadata": {},
          "execution_count": 175
        }
      ]
    },
    {
      "cell_type": "code",
      "source": [
        ""
      ],
      "metadata": {
        "id": "QL24aUrNcRwT"
      },
      "execution_count": 175,
      "outputs": []
    },
    {
      "cell_type": "code",
      "source": [
        "salary_df.loc[(\"Other\", \"Czech republic\"), \"Annual salary\"]"
      ],
      "metadata": {
        "colab": {
          "base_uri": "https://localhost:8080/"
        },
        "id": "NAOIyxkmTO9n",
        "outputId": "78a14f03-ab9b-480a-ba2c-d5d8a65ec431"
      },
      "execution_count": 176,
      "outputs": [
        {
          "output_type": "stream",
          "name": "stderr",
          "text": [
            "/usr/local/lib/python3.7/dist-packages/pandas/core/indexing.py:873: PerformanceWarning: indexing past lexsort depth may impact performance.\n",
            "  return self._getitem_tuple(key)\n"
          ]
        },
        {
          "output_type": "execute_result",
          "data": {
            "text/plain": [
              "Currency  Country       \n",
              "Other     Czech republic    1100000.0\n",
              "Name: Annual salary, dtype: float64"
            ]
          },
          "metadata": {},
          "execution_count": 176
        }
      ]
    },
    {
      "cell_type": "code",
      "source": [
        "salary_df.loc[(\"Other\", \"Czech republic\"), \"Annual salary\"] = salary_df.loc[(\"Other\", \"Czech republic\"), \"Annual salary\"].mul(0.046)"
      ],
      "metadata": {
        "colab": {
          "base_uri": "https://localhost:8080/"
        },
        "id": "x49_Adsuro27",
        "outputId": "9baa2f9f-a529-45dd-994f-162ce9856f63"
      },
      "execution_count": 177,
      "outputs": [
        {
          "output_type": "stream",
          "name": "stderr",
          "text": [
            "/usr/local/lib/python3.7/dist-packages/pandas/core/indexing.py:873: PerformanceWarning: indexing past lexsort depth may impact performance.\n",
            "  return self._getitem_tuple(key)\n",
            "/usr/local/lib/python3.7/dist-packages/ipykernel/zmqshell.py:537: PerformanceWarning: indexing past lexsort depth may impact performance.\n",
            "  return super(ZMQInteractiveShell, self).run_cell(*args, **kwargs)\n"
          ]
        }
      ]
    },
    {
      "cell_type": "code",
      "source": [
        "salary_df.loc[(\"Other\", \"Czech republic\"), \"Annual salary\"]"
      ],
      "metadata": {
        "colab": {
          "base_uri": "https://localhost:8080/"
        },
        "id": "RU4hFQP0TSB5",
        "outputId": "ff23e3b4-a381-4c92-ac6b-4ba0c452655d"
      },
      "execution_count": 178,
      "outputs": [
        {
          "output_type": "stream",
          "name": "stderr",
          "text": [
            "/usr/local/lib/python3.7/dist-packages/pandas/core/indexing.py:873: PerformanceWarning: indexing past lexsort depth may impact performance.\n",
            "  return self._getitem_tuple(key)\n"
          ]
        },
        {
          "output_type": "execute_result",
          "data": {
            "text/plain": [
              "Currency  Country       \n",
              "Other     Czech republic    50600.0\n",
              "Name: Annual salary, dtype: float64"
            ]
          },
          "metadata": {},
          "execution_count": 178
        }
      ]
    },
    {
      "cell_type": "code",
      "source": [
        ""
      ],
      "metadata": {
        "id": "Kkv2b2lRcTCq"
      },
      "execution_count": 178,
      "outputs": []
    },
    {
      "cell_type": "markdown",
      "source": [
        "# **Now reset the index back to numeric after converting all the other currencies to Dollars**"
      ],
      "metadata": {
        "id": "9nWe_VxP09UK"
      }
    },
    {
      "cell_type": "code",
      "source": [
        "salary_df.reset_index(inplace=True)\n",
        "salary_df"
      ],
      "metadata": {
        "id": "kHte5-4Zroux",
        "colab": {
          "base_uri": "https://localhost:8080/",
          "height": 763
        },
        "outputId": "fee0a706-251a-4eba-9864-62d9f589c643"
      },
      "execution_count": 179,
      "outputs": [
        {
          "output_type": "execute_result",
          "data": {
            "text/html": [
              "\n",
              "  <div id=\"df-d53697c9-ea92-49e2-a86f-b04e255a77e3\">\n",
              "    <div class=\"colab-df-container\">\n",
              "      <div>\n",
              "<style scoped>\n",
              "    .dataframe tbody tr th:only-of-type {\n",
              "        vertical-align: middle;\n",
              "    }\n",
              "\n",
              "    .dataframe tbody tr th {\n",
              "        vertical-align: top;\n",
              "    }\n",
              "\n",
              "    .dataframe thead th {\n",
              "        text-align: right;\n",
              "    }\n",
              "</style>\n",
              "<table border=\"1\" class=\"dataframe\">\n",
              "  <thead>\n",
              "    <tr style=\"text-align: right;\">\n",
              "      <th></th>\n",
              "      <th>Currency</th>\n",
              "      <th>Country</th>\n",
              "      <th>Timestamp</th>\n",
              "      <th>How old are you?</th>\n",
              "      <th>Industry</th>\n",
              "      <th>Job title</th>\n",
              "      <th>Annual salary</th>\n",
              "      <th>State</th>\n",
              "      <th>City</th>\n",
              "      <th>Overall years of professional experience</th>\n",
              "      <th>Years of experience in field</th>\n",
              "      <th>Highest level of education completed</th>\n",
              "      <th>Gender</th>\n",
              "      <th>Race</th>\n",
              "    </tr>\n",
              "  </thead>\n",
              "  <tbody>\n",
              "    <tr>\n",
              "      <th>0</th>\n",
              "      <td>AUD/NZD</td>\n",
              "      <td>Australia</td>\n",
              "      <td>4/28/2021 4:12:50</td>\n",
              "      <td>45-54</td>\n",
              "      <td>Education (Higher Education)</td>\n",
              "      <td>ESOL Teacher</td>\n",
              "      <td>150300.0</td>\n",
              "      <td>NaN</td>\n",
              "      <td>Sydney</td>\n",
              "      <td>31 - 40 years</td>\n",
              "      <td>2 - 4 years</td>\n",
              "      <td>Master's degree</td>\n",
              "      <td>Woman</td>\n",
              "      <td>White</td>\n",
              "    </tr>\n",
              "    <tr>\n",
              "      <th>1</th>\n",
              "      <td>AUD/NZD</td>\n",
              "      <td>Australia</td>\n",
              "      <td>5/5/2021 22:19:51</td>\n",
              "      <td>25-34</td>\n",
              "      <td>Education (Primary/Secondary)</td>\n",
              "      <td>Teacher</td>\n",
              "      <td>67245.3</td>\n",
              "      <td>NaN</td>\n",
              "      <td>Melbourne</td>\n",
              "      <td>8 - 10 years</td>\n",
              "      <td>2 - 4 years</td>\n",
              "      <td>Master's degree</td>\n",
              "      <td>Woman</td>\n",
              "      <td>White</td>\n",
              "    </tr>\n",
              "    <tr>\n",
              "      <th>2</th>\n",
              "      <td>AUD/NZD</td>\n",
              "      <td>Australia</td>\n",
              "      <td>4/28/2021 5:45:11</td>\n",
              "      <td>45-54</td>\n",
              "      <td>Health care</td>\n",
              "      <td>Executive Assistant</td>\n",
              "      <td>56700.0</td>\n",
              "      <td>NaN</td>\n",
              "      <td>Adelaide</td>\n",
              "      <td>21 - 30 years</td>\n",
              "      <td>21 - 30 years</td>\n",
              "      <td>Some college</td>\n",
              "      <td>Woman</td>\n",
              "      <td>White</td>\n",
              "    </tr>\n",
              "    <tr>\n",
              "      <th>3</th>\n",
              "      <td>AUD/NZD</td>\n",
              "      <td>Australia</td>\n",
              "      <td>4/29/2021 7:22:57</td>\n",
              "      <td>25-34</td>\n",
              "      <td>Leisure, Sport &amp; Tourism</td>\n",
              "      <td>Business Development Officer</td>\n",
              "      <td>45000.0</td>\n",
              "      <td>NaN</td>\n",
              "      <td>Adelaide</td>\n",
              "      <td>2 - 4 years</td>\n",
              "      <td>2 - 4 years</td>\n",
              "      <td>College degree</td>\n",
              "      <td>Woman</td>\n",
              "      <td>White</td>\n",
              "    </tr>\n",
              "    <tr>\n",
              "      <th>4</th>\n",
              "      <td>AUD/NZD</td>\n",
              "      <td>Australia</td>\n",
              "      <td>5/5/2021 22:33:49</td>\n",
              "      <td>18-24</td>\n",
              "      <td>Marketing, Advertising &amp; PR</td>\n",
              "      <td>Platform Executive</td>\n",
              "      <td>40500.0</td>\n",
              "      <td>NaN</td>\n",
              "      <td>Brisbane</td>\n",
              "      <td>2 - 4 years</td>\n",
              "      <td>1 year or less</td>\n",
              "      <td>College degree</td>\n",
              "      <td>Woman</td>\n",
              "      <td>White</td>\n",
              "    </tr>\n",
              "    <tr>\n",
              "      <th>...</th>\n",
              "      <td>...</td>\n",
              "      <td>...</td>\n",
              "      <td>...</td>\n",
              "      <td>...</td>\n",
              "      <td>...</td>\n",
              "      <td>...</td>\n",
              "      <td>...</td>\n",
              "      <td>...</td>\n",
              "      <td>...</td>\n",
              "      <td>...</td>\n",
              "      <td>...</td>\n",
              "      <td>...</td>\n",
              "      <td>...</td>\n",
              "      <td>...</td>\n",
              "    </tr>\n",
              "    <tr>\n",
              "      <th>27020</th>\n",
              "      <td>ZAR</td>\n",
              "      <td>South Africa</td>\n",
              "      <td>4/27/2021 11:53:46</td>\n",
              "      <td>25-34</td>\n",
              "      <td>Media &amp; Digital</td>\n",
              "      <td>SEO Specialist</td>\n",
              "      <td>35295.0</td>\n",
              "      <td>NaN</td>\n",
              "      <td>Cape Town</td>\n",
              "      <td>8 - 10 years</td>\n",
              "      <td>2 - 4 years</td>\n",
              "      <td>College degree</td>\n",
              "      <td>Woman</td>\n",
              "      <td>Another option not listed here or prefer not t...</td>\n",
              "    </tr>\n",
              "    <tr>\n",
              "      <th>27021</th>\n",
              "      <td>ZAR</td>\n",
              "      <td>South africa</td>\n",
              "      <td>4/28/2021 17:09:35</td>\n",
              "      <td>35-44</td>\n",
              "      <td>Accounting, Banking &amp; Finance</td>\n",
              "      <td>Business Analyst</td>\n",
              "      <td>52325.0</td>\n",
              "      <td>NaN</td>\n",
              "      <td>Cape town</td>\n",
              "      <td>11 - 20 years</td>\n",
              "      <td>8 - 10 years</td>\n",
              "      <td>College degree</td>\n",
              "      <td>Man</td>\n",
              "      <td>Black or African American</td>\n",
              "    </tr>\n",
              "    <tr>\n",
              "      <th>27022</th>\n",
              "      <td>ZAR</td>\n",
              "      <td>South Africa</td>\n",
              "      <td>4/27/2021 14:36:47</td>\n",
              "      <td>35-44</td>\n",
              "      <td>Education (Higher Education)</td>\n",
              "      <td>Associate Professor</td>\n",
              "      <td>63336.0</td>\n",
              "      <td>NaN</td>\n",
              "      <td>Cape Town</td>\n",
              "      <td>21 - 30 years</td>\n",
              "      <td>11 - 20 years</td>\n",
              "      <td>Professional degree (MD, JD, etc.)</td>\n",
              "      <td>Woman</td>\n",
              "      <td>Asian or Asian American</td>\n",
              "    </tr>\n",
              "    <tr>\n",
              "      <th>27023</th>\n",
              "      <td>ZAR</td>\n",
              "      <td>South Africa</td>\n",
              "      <td>4/29/2021 14:39:01</td>\n",
              "      <td>45-54</td>\n",
              "      <td>Engineering or Manufacturing</td>\n",
              "      <td>Account Manager</td>\n",
              "      <td>26000.0</td>\n",
              "      <td>NaN</td>\n",
              "      <td>Pietermaritzburg</td>\n",
              "      <td>11 - 20 years</td>\n",
              "      <td>2 - 4 years</td>\n",
              "      <td>College degree</td>\n",
              "      <td>Woman</td>\n",
              "      <td>White</td>\n",
              "    </tr>\n",
              "    <tr>\n",
              "      <th>27024</th>\n",
              "      <td>ZAR</td>\n",
              "      <td>South Africa</td>\n",
              "      <td>4/27/2021 12:05:46</td>\n",
              "      <td>18-24</td>\n",
              "      <td>Nonprofits</td>\n",
              "      <td>System administration and project manager</td>\n",
              "      <td>15600.0</td>\n",
              "      <td>NaN</td>\n",
              "      <td>Gauteng</td>\n",
              "      <td>2 - 4 years</td>\n",
              "      <td>2 - 4 years</td>\n",
              "      <td>College degree</td>\n",
              "      <td>Woman</td>\n",
              "      <td>White</td>\n",
              "    </tr>\n",
              "  </tbody>\n",
              "</table>\n",
              "<p>27025 rows × 14 columns</p>\n",
              "</div>\n",
              "      <button class=\"colab-df-convert\" onclick=\"convertToInteractive('df-d53697c9-ea92-49e2-a86f-b04e255a77e3')\"\n",
              "              title=\"Convert this dataframe to an interactive table.\"\n",
              "              style=\"display:none;\">\n",
              "        \n",
              "  <svg xmlns=\"http://www.w3.org/2000/svg\" height=\"24px\"viewBox=\"0 0 24 24\"\n",
              "       width=\"24px\">\n",
              "    <path d=\"M0 0h24v24H0V0z\" fill=\"none\"/>\n",
              "    <path d=\"M18.56 5.44l.94 2.06.94-2.06 2.06-.94-2.06-.94-.94-2.06-.94 2.06-2.06.94zm-11 1L8.5 8.5l.94-2.06 2.06-.94-2.06-.94L8.5 2.5l-.94 2.06-2.06.94zm10 10l.94 2.06.94-2.06 2.06-.94-2.06-.94-.94-2.06-.94 2.06-2.06.94z\"/><path d=\"M17.41 7.96l-1.37-1.37c-.4-.4-.92-.59-1.43-.59-.52 0-1.04.2-1.43.59L10.3 9.45l-7.72 7.72c-.78.78-.78 2.05 0 2.83L4 21.41c.39.39.9.59 1.41.59.51 0 1.02-.2 1.41-.59l7.78-7.78 2.81-2.81c.8-.78.8-2.07 0-2.86zM5.41 20L4 18.59l7.72-7.72 1.47 1.35L5.41 20z\"/>\n",
              "  </svg>\n",
              "      </button>\n",
              "      \n",
              "  <style>\n",
              "    .colab-df-container {\n",
              "      display:flex;\n",
              "      flex-wrap:wrap;\n",
              "      gap: 12px;\n",
              "    }\n",
              "\n",
              "    .colab-df-convert {\n",
              "      background-color: #E8F0FE;\n",
              "      border: none;\n",
              "      border-radius: 50%;\n",
              "      cursor: pointer;\n",
              "      display: none;\n",
              "      fill: #1967D2;\n",
              "      height: 32px;\n",
              "      padding: 0 0 0 0;\n",
              "      width: 32px;\n",
              "    }\n",
              "\n",
              "    .colab-df-convert:hover {\n",
              "      background-color: #E2EBFA;\n",
              "      box-shadow: 0px 1px 2px rgba(60, 64, 67, 0.3), 0px 1px 3px 1px rgba(60, 64, 67, 0.15);\n",
              "      fill: #174EA6;\n",
              "    }\n",
              "\n",
              "    [theme=dark] .colab-df-convert {\n",
              "      background-color: #3B4455;\n",
              "      fill: #D2E3FC;\n",
              "    }\n",
              "\n",
              "    [theme=dark] .colab-df-convert:hover {\n",
              "      background-color: #434B5C;\n",
              "      box-shadow: 0px 1px 3px 1px rgba(0, 0, 0, 0.15);\n",
              "      filter: drop-shadow(0px 1px 2px rgba(0, 0, 0, 0.3));\n",
              "      fill: #FFFFFF;\n",
              "    }\n",
              "  </style>\n",
              "\n",
              "      <script>\n",
              "        const buttonEl =\n",
              "          document.querySelector('#df-d53697c9-ea92-49e2-a86f-b04e255a77e3 button.colab-df-convert');\n",
              "        buttonEl.style.display =\n",
              "          google.colab.kernel.accessAllowed ? 'block' : 'none';\n",
              "\n",
              "        async function convertToInteractive(key) {\n",
              "          const element = document.querySelector('#df-d53697c9-ea92-49e2-a86f-b04e255a77e3');\n",
              "          const dataTable =\n",
              "            await google.colab.kernel.invokeFunction('convertToInteractive',\n",
              "                                                     [key], {});\n",
              "          if (!dataTable) return;\n",
              "\n",
              "          const docLinkHtml = 'Like what you see? Visit the ' +\n",
              "            '<a target=\"_blank\" href=https://colab.research.google.com/notebooks/data_table.ipynb>data table notebook</a>'\n",
              "            + ' to learn more about interactive tables.';\n",
              "          element.innerHTML = '';\n",
              "          dataTable['output_type'] = 'display_data';\n",
              "          await google.colab.output.renderOutput(dataTable, element);\n",
              "          const docLink = document.createElement('div');\n",
              "          docLink.innerHTML = docLinkHtml;\n",
              "          element.appendChild(docLink);\n",
              "        }\n",
              "      </script>\n",
              "    </div>\n",
              "  </div>\n",
              "  "
            ],
            "text/plain": [
              "      Currency  ...                                               Race\n",
              "0      AUD/NZD  ...                                              White\n",
              "1      AUD/NZD  ...                                              White\n",
              "2      AUD/NZD  ...                                              White\n",
              "3      AUD/NZD  ...                                              White\n",
              "4      AUD/NZD  ...                                              White\n",
              "...        ...  ...                                                ...\n",
              "27020      ZAR  ...  Another option not listed here or prefer not t...\n",
              "27021      ZAR  ...                          Black or African American\n",
              "27022      ZAR  ...                            Asian or Asian American\n",
              "27023      ZAR  ...                                              White\n",
              "27024      ZAR  ...                                              White\n",
              "\n",
              "[27025 rows x 14 columns]"
            ]
          },
          "metadata": {},
          "execution_count": 179
        }
      ]
    },
    {
      "cell_type": "code",
      "source": [
        ""
      ],
      "metadata": {
        "id": "DV8UwWN1cVJX"
      },
      "execution_count": 179,
      "outputs": []
    },
    {
      "cell_type": "markdown",
      "source": [
        "# **Now turn all the currencies to USD since we have converted all the values into Dollars**"
      ],
      "metadata": {
        "id": "vhCYTtBT1En6"
      }
    },
    {
      "cell_type": "code",
      "source": [
        "salary_df = salary_df.assign(Currency='USD')"
      ],
      "metadata": {
        "id": "MUjkyAFNfZaK"
      },
      "execution_count": 180,
      "outputs": []
    },
    {
      "cell_type": "code",
      "source": [
        ""
      ],
      "metadata": {
        "id": "R5GV3UfWcVug"
      },
      "execution_count": 180,
      "outputs": []
    },
    {
      "cell_type": "markdown",
      "source": [
        "# **Determine the mean value of all the values in the Annual Salary column to fill the NaN spaces**"
      ],
      "metadata": {
        "id": "pxrATQ5Z1KZK"
      }
    },
    {
      "cell_type": "code",
      "source": [
        "salary_df.groupby('Currency')['Annual salary'].mean()"
      ],
      "metadata": {
        "colab": {
          "base_uri": "https://localhost:8080/"
        },
        "id": "wq_TqmUMPvuG",
        "outputId": "3e8c0407-a3dd-4e7b-83bf-120b0b42dadb"
      },
      "execution_count": 181,
      "outputs": [
        {
          "output_type": "execute_result",
          "data": {
            "text/plain": [
              "Currency\n",
              "USD    92081.12757\n",
              "Name: Annual salary, dtype: float64"
            ]
          },
          "metadata": {},
          "execution_count": 181
        }
      ]
    },
    {
      "cell_type": "code",
      "source": [
        ""
      ],
      "metadata": {
        "id": "Ldb1cRIQcWiG"
      },
      "execution_count": 181,
      "outputs": []
    },
    {
      "cell_type": "markdown",
      "source": [
        "# **Check the rows in the Annual Salary column that has values less than 500**"
      ],
      "metadata": {
        "id": "wyx66TLq1Qcm"
      }
    },
    {
      "cell_type": "code",
      "source": [
        "salary_df['Annual salary'].where(salary_df['Annual salary'] < 500).value_counts()"
      ],
      "metadata": {
        "colab": {
          "base_uri": "https://localhost:8080/"
        },
        "id": "Gqsk2G3NmbNj",
        "outputId": "596be119-67b2-457b-cac3-c48d14429735"
      },
      "execution_count": 182,
      "outputs": [
        {
          "output_type": "execute_result",
          "data": {
            "text/plain": [
              "0.0      12\n",
              "55.0      6\n",
              "40.0      4\n",
              "70.0      3\n",
              "80.0      2\n",
              "         ..\n",
              "160.0     1\n",
              "52.0      1\n",
              "71.1      1\n",
              "110.0     1\n",
              "54.0      1\n",
              "Name: Annual salary, Length: 62, dtype: int64"
            ]
          },
          "metadata": {},
          "execution_count": 182
        }
      ]
    },
    {
      "cell_type": "code",
      "source": [
        ""
      ],
      "metadata": {
        "id": "4LsaQgBycXeF"
      },
      "execution_count": 182,
      "outputs": []
    },
    {
      "cell_type": "markdown",
      "source": [
        "# **Assign the mean value to the spots that has 0 values in them**"
      ],
      "metadata": {
        "id": "VLQkupIT1WhD"
      }
    },
    {
      "cell_type": "code",
      "source": [
        "salary_df.loc[salary_df['Annual salary'] == 0.000, 'Annual salary'] = 92081"
      ],
      "metadata": {
        "id": "XrLbH6p2mbDw"
      },
      "execution_count": 183,
      "outputs": []
    },
    {
      "cell_type": "code",
      "source": [
        "salary_df.loc[salary_df['Annual salary'] == 0.0, 'Annual salary'] = 92081"
      ],
      "metadata": {
        "id": "7oyZnnX9DveV"
      },
      "execution_count": 184,
      "outputs": []
    },
    {
      "cell_type": "code",
      "source": [
        "salary_df"
      ],
      "metadata": {
        "id": "E4bg4Or4ma5M",
        "colab": {
          "base_uri": "https://localhost:8080/",
          "height": 763
        },
        "outputId": "e27d1966-e85e-499e-959a-e1f6aedbe27b"
      },
      "execution_count": 185,
      "outputs": [
        {
          "output_type": "execute_result",
          "data": {
            "text/html": [
              "\n",
              "  <div id=\"df-e1617cc9-d9af-4f04-ad1d-f5cc59011e93\">\n",
              "    <div class=\"colab-df-container\">\n",
              "      <div>\n",
              "<style scoped>\n",
              "    .dataframe tbody tr th:only-of-type {\n",
              "        vertical-align: middle;\n",
              "    }\n",
              "\n",
              "    .dataframe tbody tr th {\n",
              "        vertical-align: top;\n",
              "    }\n",
              "\n",
              "    .dataframe thead th {\n",
              "        text-align: right;\n",
              "    }\n",
              "</style>\n",
              "<table border=\"1\" class=\"dataframe\">\n",
              "  <thead>\n",
              "    <tr style=\"text-align: right;\">\n",
              "      <th></th>\n",
              "      <th>Currency</th>\n",
              "      <th>Country</th>\n",
              "      <th>Timestamp</th>\n",
              "      <th>How old are you?</th>\n",
              "      <th>Industry</th>\n",
              "      <th>Job title</th>\n",
              "      <th>Annual salary</th>\n",
              "      <th>State</th>\n",
              "      <th>City</th>\n",
              "      <th>Overall years of professional experience</th>\n",
              "      <th>Years of experience in field</th>\n",
              "      <th>Highest level of education completed</th>\n",
              "      <th>Gender</th>\n",
              "      <th>Race</th>\n",
              "    </tr>\n",
              "  </thead>\n",
              "  <tbody>\n",
              "    <tr>\n",
              "      <th>0</th>\n",
              "      <td>USD</td>\n",
              "      <td>Australia</td>\n",
              "      <td>4/28/2021 4:12:50</td>\n",
              "      <td>45-54</td>\n",
              "      <td>Education (Higher Education)</td>\n",
              "      <td>ESOL Teacher</td>\n",
              "      <td>150300.0</td>\n",
              "      <td>NaN</td>\n",
              "      <td>Sydney</td>\n",
              "      <td>31 - 40 years</td>\n",
              "      <td>2 - 4 years</td>\n",
              "      <td>Master's degree</td>\n",
              "      <td>Woman</td>\n",
              "      <td>White</td>\n",
              "    </tr>\n",
              "    <tr>\n",
              "      <th>1</th>\n",
              "      <td>USD</td>\n",
              "      <td>Australia</td>\n",
              "      <td>5/5/2021 22:19:51</td>\n",
              "      <td>25-34</td>\n",
              "      <td>Education (Primary/Secondary)</td>\n",
              "      <td>Teacher</td>\n",
              "      <td>67245.3</td>\n",
              "      <td>NaN</td>\n",
              "      <td>Melbourne</td>\n",
              "      <td>8 - 10 years</td>\n",
              "      <td>2 - 4 years</td>\n",
              "      <td>Master's degree</td>\n",
              "      <td>Woman</td>\n",
              "      <td>White</td>\n",
              "    </tr>\n",
              "    <tr>\n",
              "      <th>2</th>\n",
              "      <td>USD</td>\n",
              "      <td>Australia</td>\n",
              "      <td>4/28/2021 5:45:11</td>\n",
              "      <td>45-54</td>\n",
              "      <td>Health care</td>\n",
              "      <td>Executive Assistant</td>\n",
              "      <td>56700.0</td>\n",
              "      <td>NaN</td>\n",
              "      <td>Adelaide</td>\n",
              "      <td>21 - 30 years</td>\n",
              "      <td>21 - 30 years</td>\n",
              "      <td>Some college</td>\n",
              "      <td>Woman</td>\n",
              "      <td>White</td>\n",
              "    </tr>\n",
              "    <tr>\n",
              "      <th>3</th>\n",
              "      <td>USD</td>\n",
              "      <td>Australia</td>\n",
              "      <td>4/29/2021 7:22:57</td>\n",
              "      <td>25-34</td>\n",
              "      <td>Leisure, Sport &amp; Tourism</td>\n",
              "      <td>Business Development Officer</td>\n",
              "      <td>45000.0</td>\n",
              "      <td>NaN</td>\n",
              "      <td>Adelaide</td>\n",
              "      <td>2 - 4 years</td>\n",
              "      <td>2 - 4 years</td>\n",
              "      <td>College degree</td>\n",
              "      <td>Woman</td>\n",
              "      <td>White</td>\n",
              "    </tr>\n",
              "    <tr>\n",
              "      <th>4</th>\n",
              "      <td>USD</td>\n",
              "      <td>Australia</td>\n",
              "      <td>5/5/2021 22:33:49</td>\n",
              "      <td>18-24</td>\n",
              "      <td>Marketing, Advertising &amp; PR</td>\n",
              "      <td>Platform Executive</td>\n",
              "      <td>40500.0</td>\n",
              "      <td>NaN</td>\n",
              "      <td>Brisbane</td>\n",
              "      <td>2 - 4 years</td>\n",
              "      <td>1 year or less</td>\n",
              "      <td>College degree</td>\n",
              "      <td>Woman</td>\n",
              "      <td>White</td>\n",
              "    </tr>\n",
              "    <tr>\n",
              "      <th>...</th>\n",
              "      <td>...</td>\n",
              "      <td>...</td>\n",
              "      <td>...</td>\n",
              "      <td>...</td>\n",
              "      <td>...</td>\n",
              "      <td>...</td>\n",
              "      <td>...</td>\n",
              "      <td>...</td>\n",
              "      <td>...</td>\n",
              "      <td>...</td>\n",
              "      <td>...</td>\n",
              "      <td>...</td>\n",
              "      <td>...</td>\n",
              "      <td>...</td>\n",
              "    </tr>\n",
              "    <tr>\n",
              "      <th>27020</th>\n",
              "      <td>USD</td>\n",
              "      <td>South Africa</td>\n",
              "      <td>4/27/2021 11:53:46</td>\n",
              "      <td>25-34</td>\n",
              "      <td>Media &amp; Digital</td>\n",
              "      <td>SEO Specialist</td>\n",
              "      <td>35295.0</td>\n",
              "      <td>NaN</td>\n",
              "      <td>Cape Town</td>\n",
              "      <td>8 - 10 years</td>\n",
              "      <td>2 - 4 years</td>\n",
              "      <td>College degree</td>\n",
              "      <td>Woman</td>\n",
              "      <td>Another option not listed here or prefer not t...</td>\n",
              "    </tr>\n",
              "    <tr>\n",
              "      <th>27021</th>\n",
              "      <td>USD</td>\n",
              "      <td>South africa</td>\n",
              "      <td>4/28/2021 17:09:35</td>\n",
              "      <td>35-44</td>\n",
              "      <td>Accounting, Banking &amp; Finance</td>\n",
              "      <td>Business Analyst</td>\n",
              "      <td>52325.0</td>\n",
              "      <td>NaN</td>\n",
              "      <td>Cape town</td>\n",
              "      <td>11 - 20 years</td>\n",
              "      <td>8 - 10 years</td>\n",
              "      <td>College degree</td>\n",
              "      <td>Man</td>\n",
              "      <td>Black or African American</td>\n",
              "    </tr>\n",
              "    <tr>\n",
              "      <th>27022</th>\n",
              "      <td>USD</td>\n",
              "      <td>South Africa</td>\n",
              "      <td>4/27/2021 14:36:47</td>\n",
              "      <td>35-44</td>\n",
              "      <td>Education (Higher Education)</td>\n",
              "      <td>Associate Professor</td>\n",
              "      <td>63336.0</td>\n",
              "      <td>NaN</td>\n",
              "      <td>Cape Town</td>\n",
              "      <td>21 - 30 years</td>\n",
              "      <td>11 - 20 years</td>\n",
              "      <td>Professional degree (MD, JD, etc.)</td>\n",
              "      <td>Woman</td>\n",
              "      <td>Asian or Asian American</td>\n",
              "    </tr>\n",
              "    <tr>\n",
              "      <th>27023</th>\n",
              "      <td>USD</td>\n",
              "      <td>South Africa</td>\n",
              "      <td>4/29/2021 14:39:01</td>\n",
              "      <td>45-54</td>\n",
              "      <td>Engineering or Manufacturing</td>\n",
              "      <td>Account Manager</td>\n",
              "      <td>26000.0</td>\n",
              "      <td>NaN</td>\n",
              "      <td>Pietermaritzburg</td>\n",
              "      <td>11 - 20 years</td>\n",
              "      <td>2 - 4 years</td>\n",
              "      <td>College degree</td>\n",
              "      <td>Woman</td>\n",
              "      <td>White</td>\n",
              "    </tr>\n",
              "    <tr>\n",
              "      <th>27024</th>\n",
              "      <td>USD</td>\n",
              "      <td>South Africa</td>\n",
              "      <td>4/27/2021 12:05:46</td>\n",
              "      <td>18-24</td>\n",
              "      <td>Nonprofits</td>\n",
              "      <td>System administration and project manager</td>\n",
              "      <td>15600.0</td>\n",
              "      <td>NaN</td>\n",
              "      <td>Gauteng</td>\n",
              "      <td>2 - 4 years</td>\n",
              "      <td>2 - 4 years</td>\n",
              "      <td>College degree</td>\n",
              "      <td>Woman</td>\n",
              "      <td>White</td>\n",
              "    </tr>\n",
              "  </tbody>\n",
              "</table>\n",
              "<p>27025 rows × 14 columns</p>\n",
              "</div>\n",
              "      <button class=\"colab-df-convert\" onclick=\"convertToInteractive('df-e1617cc9-d9af-4f04-ad1d-f5cc59011e93')\"\n",
              "              title=\"Convert this dataframe to an interactive table.\"\n",
              "              style=\"display:none;\">\n",
              "        \n",
              "  <svg xmlns=\"http://www.w3.org/2000/svg\" height=\"24px\"viewBox=\"0 0 24 24\"\n",
              "       width=\"24px\">\n",
              "    <path d=\"M0 0h24v24H0V0z\" fill=\"none\"/>\n",
              "    <path d=\"M18.56 5.44l.94 2.06.94-2.06 2.06-.94-2.06-.94-.94-2.06-.94 2.06-2.06.94zm-11 1L8.5 8.5l.94-2.06 2.06-.94-2.06-.94L8.5 2.5l-.94 2.06-2.06.94zm10 10l.94 2.06.94-2.06 2.06-.94-2.06-.94-.94-2.06-.94 2.06-2.06.94z\"/><path d=\"M17.41 7.96l-1.37-1.37c-.4-.4-.92-.59-1.43-.59-.52 0-1.04.2-1.43.59L10.3 9.45l-7.72 7.72c-.78.78-.78 2.05 0 2.83L4 21.41c.39.39.9.59 1.41.59.51 0 1.02-.2 1.41-.59l7.78-7.78 2.81-2.81c.8-.78.8-2.07 0-2.86zM5.41 20L4 18.59l7.72-7.72 1.47 1.35L5.41 20z\"/>\n",
              "  </svg>\n",
              "      </button>\n",
              "      \n",
              "  <style>\n",
              "    .colab-df-container {\n",
              "      display:flex;\n",
              "      flex-wrap:wrap;\n",
              "      gap: 12px;\n",
              "    }\n",
              "\n",
              "    .colab-df-convert {\n",
              "      background-color: #E8F0FE;\n",
              "      border: none;\n",
              "      border-radius: 50%;\n",
              "      cursor: pointer;\n",
              "      display: none;\n",
              "      fill: #1967D2;\n",
              "      height: 32px;\n",
              "      padding: 0 0 0 0;\n",
              "      width: 32px;\n",
              "    }\n",
              "\n",
              "    .colab-df-convert:hover {\n",
              "      background-color: #E2EBFA;\n",
              "      box-shadow: 0px 1px 2px rgba(60, 64, 67, 0.3), 0px 1px 3px 1px rgba(60, 64, 67, 0.15);\n",
              "      fill: #174EA6;\n",
              "    }\n",
              "\n",
              "    [theme=dark] .colab-df-convert {\n",
              "      background-color: #3B4455;\n",
              "      fill: #D2E3FC;\n",
              "    }\n",
              "\n",
              "    [theme=dark] .colab-df-convert:hover {\n",
              "      background-color: #434B5C;\n",
              "      box-shadow: 0px 1px 3px 1px rgba(0, 0, 0, 0.15);\n",
              "      filter: drop-shadow(0px 1px 2px rgba(0, 0, 0, 0.3));\n",
              "      fill: #FFFFFF;\n",
              "    }\n",
              "  </style>\n",
              "\n",
              "      <script>\n",
              "        const buttonEl =\n",
              "          document.querySelector('#df-e1617cc9-d9af-4f04-ad1d-f5cc59011e93 button.colab-df-convert');\n",
              "        buttonEl.style.display =\n",
              "          google.colab.kernel.accessAllowed ? 'block' : 'none';\n",
              "\n",
              "        async function convertToInteractive(key) {\n",
              "          const element = document.querySelector('#df-e1617cc9-d9af-4f04-ad1d-f5cc59011e93');\n",
              "          const dataTable =\n",
              "            await google.colab.kernel.invokeFunction('convertToInteractive',\n",
              "                                                     [key], {});\n",
              "          if (!dataTable) return;\n",
              "\n",
              "          const docLinkHtml = 'Like what you see? Visit the ' +\n",
              "            '<a target=\"_blank\" href=https://colab.research.google.com/notebooks/data_table.ipynb>data table notebook</a>'\n",
              "            + ' to learn more about interactive tables.';\n",
              "          element.innerHTML = '';\n",
              "          dataTable['output_type'] = 'display_data';\n",
              "          await google.colab.output.renderOutput(dataTable, element);\n",
              "          const docLink = document.createElement('div');\n",
              "          docLink.innerHTML = docLinkHtml;\n",
              "          element.appendChild(docLink);\n",
              "        }\n",
              "      </script>\n",
              "    </div>\n",
              "  </div>\n",
              "  "
            ],
            "text/plain": [
              "      Currency  ...                                               Race\n",
              "0          USD  ...                                              White\n",
              "1          USD  ...                                              White\n",
              "2          USD  ...                                              White\n",
              "3          USD  ...                                              White\n",
              "4          USD  ...                                              White\n",
              "...        ...  ...                                                ...\n",
              "27020      USD  ...  Another option not listed here or prefer not t...\n",
              "27021      USD  ...                          Black or African American\n",
              "27022      USD  ...                            Asian or Asian American\n",
              "27023      USD  ...                                              White\n",
              "27024      USD  ...                                              White\n",
              "\n",
              "[27025 rows x 14 columns]"
            ]
          },
          "metadata": {},
          "execution_count": 185
        }
      ]
    },
    {
      "cell_type": "markdown",
      "source": [
        "# **There are a lot of inconsistencies in the data, So in these case, i add 3 zeros to the values that are less than or equal to 500**"
      ],
      "metadata": {
        "id": "Ccb_BGW11oAO"
      }
    },
    {
      "cell_type": "code",
      "source": [
        "salary_df.loc[salary_df['Annual salary'] <= 500, 'Annual salary'] = +000"
      ],
      "metadata": {
        "id": "2fBirUFhCgG_"
      },
      "execution_count": 186,
      "outputs": []
    },
    {
      "cell_type": "markdown",
      "source": [
        "# **I check again for values that are lss than 500**"
      ],
      "metadata": {
        "id": "gIipKmr51x7w"
      }
    },
    {
      "cell_type": "code",
      "source": [
        "salary_df['Annual salary'].where(salary_df['Annual salary'] < 500).value_counts()"
      ],
      "metadata": {
        "colab": {
          "base_uri": "https://localhost:8080/"
        },
        "id": "M2IVdrxsgvvN",
        "outputId": "cf253480-8adb-4c4a-8ce0-1d3cd5cc4f03"
      },
      "execution_count": 187,
      "outputs": [
        {
          "output_type": "execute_result",
          "data": {
            "text/plain": [
              "0.0    78\n",
              "Name: Annual salary, dtype: int64"
            ]
          },
          "metadata": {},
          "execution_count": 187
        }
      ]
    },
    {
      "cell_type": "markdown",
      "source": [
        "# **I sort all the values using the Annual Salary Column as point of refference so it can start from smallest to highest**"
      ],
      "metadata": {
        "id": "ptYXdlwb14QZ"
      }
    },
    {
      "cell_type": "code",
      "source": [
        "salary_df.sort_values(by = 'Annual salary', ascending = False).head(10)"
      ],
      "metadata": {
        "id": "R8wvEfijgvd2",
        "colab": {
          "base_uri": "https://localhost:8080/",
          "height": 737
        },
        "outputId": "08298075-4e2d-4b4f-defb-5ab9fc6b7ae1"
      },
      "execution_count": 188,
      "outputs": [
        {
          "output_type": "execute_result",
          "data": {
            "text/html": [
              "\n",
              "  <div id=\"df-027919e9-aef9-4493-bb9f-6ac8af15b952\">\n",
              "    <div class=\"colab-df-container\">\n",
              "      <div>\n",
              "<style scoped>\n",
              "    .dataframe tbody tr th:only-of-type {\n",
              "        vertical-align: middle;\n",
              "    }\n",
              "\n",
              "    .dataframe tbody tr th {\n",
              "        vertical-align: top;\n",
              "    }\n",
              "\n",
              "    .dataframe thead th {\n",
              "        text-align: right;\n",
              "    }\n",
              "</style>\n",
              "<table border=\"1\" class=\"dataframe\">\n",
              "  <thead>\n",
              "    <tr style=\"text-align: right;\">\n",
              "      <th></th>\n",
              "      <th>Currency</th>\n",
              "      <th>Country</th>\n",
              "      <th>Timestamp</th>\n",
              "      <th>How old are you?</th>\n",
              "      <th>Industry</th>\n",
              "      <th>Job title</th>\n",
              "      <th>Annual salary</th>\n",
              "      <th>State</th>\n",
              "      <th>City</th>\n",
              "      <th>Overall years of professional experience</th>\n",
              "      <th>Years of experience in field</th>\n",
              "      <th>Highest level of education completed</th>\n",
              "      <th>Gender</th>\n",
              "      <th>Race</th>\n",
              "    </tr>\n",
              "  </thead>\n",
              "  <tbody>\n",
              "    <tr>\n",
              "      <th>19832</th>\n",
              "      <td>USD</td>\n",
              "      <td>Colombia</td>\n",
              "      <td>4/27/2021 12:11:17</td>\n",
              "      <td>25-34</td>\n",
              "      <td>Utilities &amp; Telecommunications</td>\n",
              "      <td>Operations Manager</td>\n",
              "      <td>102000000.0</td>\n",
              "      <td>NaN</td>\n",
              "      <td>Bogota</td>\n",
              "      <td>8 - 10 years</td>\n",
              "      <td>1 year or less</td>\n",
              "      <td>Some college</td>\n",
              "      <td>Man</td>\n",
              "      <td>Hispanic, Latino, or Spanish origin</td>\n",
              "    </tr>\n",
              "    <tr>\n",
              "      <th>11210</th>\n",
              "      <td>USD</td>\n",
              "      <td>Usa</td>\n",
              "      <td>6/14/2021 4:19:17</td>\n",
              "      <td>55-64</td>\n",
              "      <td>Sales</td>\n",
              "      <td>Inside sales manager</td>\n",
              "      <td>5000044.0</td>\n",
              "      <td>New Jersey</td>\n",
              "      <td>Pinebrook</td>\n",
              "      <td>31 - 40 years</td>\n",
              "      <td>21 - 30 years</td>\n",
              "      <td>Master's degree</td>\n",
              "      <td>Woman</td>\n",
              "      <td>Black or African American</td>\n",
              "    </tr>\n",
              "    <tr>\n",
              "      <th>20099</th>\n",
              "      <td>USD</td>\n",
              "      <td>USA</td>\n",
              "      <td>4/27/2021 11:38:28</td>\n",
              "      <td>55-64</td>\n",
              "      <td>Art &amp; Design</td>\n",
              "      <td>Owner and CEO</td>\n",
              "      <td>3000000.0</td>\n",
              "      <td>New York</td>\n",
              "      <td>New York</td>\n",
              "      <td>21 - 30 years</td>\n",
              "      <td>21 - 30 years</td>\n",
              "      <td>Master's degree</td>\n",
              "      <td>Woman</td>\n",
              "      <td>White</td>\n",
              "    </tr>\n",
              "    <tr>\n",
              "      <th>7444</th>\n",
              "      <td>USD</td>\n",
              "      <td>Singapore</td>\n",
              "      <td>4/28/2021 17:09:29</td>\n",
              "      <td>35-44</td>\n",
              "      <td>Computing or Tech</td>\n",
              "      <td>Product Manager</td>\n",
              "      <td>2111538.0</td>\n",
              "      <td>NaN</td>\n",
              "      <td>Singapore</td>\n",
              "      <td>11 - 20 years</td>\n",
              "      <td>11 - 20 years</td>\n",
              "      <td>College degree</td>\n",
              "      <td>Man</td>\n",
              "      <td>Asian or Asian American</td>\n",
              "    </tr>\n",
              "    <tr>\n",
              "      <th>17170</th>\n",
              "      <td>USD</td>\n",
              "      <td>USA</td>\n",
              "      <td>4/27/2021 13:22:34</td>\n",
              "      <td>25-34</td>\n",
              "      <td>Health care</td>\n",
              "      <td>Attending Physician (general internal medicine)</td>\n",
              "      <td>1900000.0</td>\n",
              "      <td>Connecticut</td>\n",
              "      <td>New Haven</td>\n",
              "      <td>5-7 years</td>\n",
              "      <td>5-7 years</td>\n",
              "      <td>Professional degree (MD, JD, etc.)</td>\n",
              "      <td>Woman</td>\n",
              "      <td>White</td>\n",
              "    </tr>\n",
              "    <tr>\n",
              "      <th>16868</th>\n",
              "      <td>USD</td>\n",
              "      <td>United States</td>\n",
              "      <td>4/27/2021 14:08:47</td>\n",
              "      <td>25-34</td>\n",
              "      <td>Computing or Tech</td>\n",
              "      <td>Principal Software Engineer</td>\n",
              "      <td>1650000.0</td>\n",
              "      <td>Massachusetts</td>\n",
              "      <td>Boston</td>\n",
              "      <td>8 - 10 years</td>\n",
              "      <td>5-7 years</td>\n",
              "      <td>Master's degree</td>\n",
              "      <td>Man</td>\n",
              "      <td>Asian or Asian American, White</td>\n",
              "    </tr>\n",
              "    <tr>\n",
              "      <th>26603</th>\n",
              "      <td>USD</td>\n",
              "      <td>US</td>\n",
              "      <td>4/27/2021 17:30:20</td>\n",
              "      <td>35-44</td>\n",
              "      <td>Government and Public Administration</td>\n",
              "      <td>Senior Policy Advisor</td>\n",
              "      <td>1334782.0</td>\n",
              "      <td>District of Columbia</td>\n",
              "      <td>DC</td>\n",
              "      <td>11 - 20 years</td>\n",
              "      <td>11 - 20 years</td>\n",
              "      <td>PhD</td>\n",
              "      <td>Woman</td>\n",
              "      <td>Black or African American, White</td>\n",
              "    </tr>\n",
              "    <tr>\n",
              "      <th>2896</th>\n",
              "      <td>USD</td>\n",
              "      <td>United Kingdom</td>\n",
              "      <td>4/28/2021 14:12:10</td>\n",
              "      <td>25-34</td>\n",
              "      <td>Computing or Tech</td>\n",
              "      <td>Consultant</td>\n",
              "      <td>1282500.0</td>\n",
              "      <td>NaN</td>\n",
              "      <td>London</td>\n",
              "      <td>8 - 10 years</td>\n",
              "      <td>8 - 10 years</td>\n",
              "      <td>College degree</td>\n",
              "      <td>Man</td>\n",
              "      <td>Another option not listed here or prefer not t...</td>\n",
              "    </tr>\n",
              "    <tr>\n",
              "      <th>8066</th>\n",
              "      <td>USD</td>\n",
              "      <td>USA</td>\n",
              "      <td>4/28/2021 21:11:39</td>\n",
              "      <td>25-34</td>\n",
              "      <td>Business or Consulting</td>\n",
              "      <td>Senior Consultant</td>\n",
              "      <td>1260000.0</td>\n",
              "      <td>Washington</td>\n",
              "      <td>Seattle</td>\n",
              "      <td>5-7 years</td>\n",
              "      <td>5-7 years</td>\n",
              "      <td>Master's degree</td>\n",
              "      <td>Man</td>\n",
              "      <td>White</td>\n",
              "    </tr>\n",
              "    <tr>\n",
              "      <th>8838</th>\n",
              "      <td>USD</td>\n",
              "      <td>United States</td>\n",
              "      <td>5/5/2021 23:11:01</td>\n",
              "      <td>25-34</td>\n",
              "      <td>Health care</td>\n",
              "      <td>Marketing Manager</td>\n",
              "      <td>1250000.0</td>\n",
              "      <td>District of Columbia</td>\n",
              "      <td>DC</td>\n",
              "      <td>8 - 10 years</td>\n",
              "      <td>8 - 10 years</td>\n",
              "      <td>Master's degree</td>\n",
              "      <td>Woman</td>\n",
              "      <td>White</td>\n",
              "    </tr>\n",
              "  </tbody>\n",
              "</table>\n",
              "</div>\n",
              "      <button class=\"colab-df-convert\" onclick=\"convertToInteractive('df-027919e9-aef9-4493-bb9f-6ac8af15b952')\"\n",
              "              title=\"Convert this dataframe to an interactive table.\"\n",
              "              style=\"display:none;\">\n",
              "        \n",
              "  <svg xmlns=\"http://www.w3.org/2000/svg\" height=\"24px\"viewBox=\"0 0 24 24\"\n",
              "       width=\"24px\">\n",
              "    <path d=\"M0 0h24v24H0V0z\" fill=\"none\"/>\n",
              "    <path d=\"M18.56 5.44l.94 2.06.94-2.06 2.06-.94-2.06-.94-.94-2.06-.94 2.06-2.06.94zm-11 1L8.5 8.5l.94-2.06 2.06-.94-2.06-.94L8.5 2.5l-.94 2.06-2.06.94zm10 10l.94 2.06.94-2.06 2.06-.94-2.06-.94-.94-2.06-.94 2.06-2.06.94z\"/><path d=\"M17.41 7.96l-1.37-1.37c-.4-.4-.92-.59-1.43-.59-.52 0-1.04.2-1.43.59L10.3 9.45l-7.72 7.72c-.78.78-.78 2.05 0 2.83L4 21.41c.39.39.9.59 1.41.59.51 0 1.02-.2 1.41-.59l7.78-7.78 2.81-2.81c.8-.78.8-2.07 0-2.86zM5.41 20L4 18.59l7.72-7.72 1.47 1.35L5.41 20z\"/>\n",
              "  </svg>\n",
              "      </button>\n",
              "      \n",
              "  <style>\n",
              "    .colab-df-container {\n",
              "      display:flex;\n",
              "      flex-wrap:wrap;\n",
              "      gap: 12px;\n",
              "    }\n",
              "\n",
              "    .colab-df-convert {\n",
              "      background-color: #E8F0FE;\n",
              "      border: none;\n",
              "      border-radius: 50%;\n",
              "      cursor: pointer;\n",
              "      display: none;\n",
              "      fill: #1967D2;\n",
              "      height: 32px;\n",
              "      padding: 0 0 0 0;\n",
              "      width: 32px;\n",
              "    }\n",
              "\n",
              "    .colab-df-convert:hover {\n",
              "      background-color: #E2EBFA;\n",
              "      box-shadow: 0px 1px 2px rgba(60, 64, 67, 0.3), 0px 1px 3px 1px rgba(60, 64, 67, 0.15);\n",
              "      fill: #174EA6;\n",
              "    }\n",
              "\n",
              "    [theme=dark] .colab-df-convert {\n",
              "      background-color: #3B4455;\n",
              "      fill: #D2E3FC;\n",
              "    }\n",
              "\n",
              "    [theme=dark] .colab-df-convert:hover {\n",
              "      background-color: #434B5C;\n",
              "      box-shadow: 0px 1px 3px 1px rgba(0, 0, 0, 0.15);\n",
              "      filter: drop-shadow(0px 1px 2px rgba(0, 0, 0, 0.3));\n",
              "      fill: #FFFFFF;\n",
              "    }\n",
              "  </style>\n",
              "\n",
              "      <script>\n",
              "        const buttonEl =\n",
              "          document.querySelector('#df-027919e9-aef9-4493-bb9f-6ac8af15b952 button.colab-df-convert');\n",
              "        buttonEl.style.display =\n",
              "          google.colab.kernel.accessAllowed ? 'block' : 'none';\n",
              "\n",
              "        async function convertToInteractive(key) {\n",
              "          const element = document.querySelector('#df-027919e9-aef9-4493-bb9f-6ac8af15b952');\n",
              "          const dataTable =\n",
              "            await google.colab.kernel.invokeFunction('convertToInteractive',\n",
              "                                                     [key], {});\n",
              "          if (!dataTable) return;\n",
              "\n",
              "          const docLinkHtml = 'Like what you see? Visit the ' +\n",
              "            '<a target=\"_blank\" href=https://colab.research.google.com/notebooks/data_table.ipynb>data table notebook</a>'\n",
              "            + ' to learn more about interactive tables.';\n",
              "          element.innerHTML = '';\n",
              "          dataTable['output_type'] = 'display_data';\n",
              "          await google.colab.output.renderOutput(dataTable, element);\n",
              "          const docLink = document.createElement('div');\n",
              "          docLink.innerHTML = docLinkHtml;\n",
              "          element.appendChild(docLink);\n",
              "        }\n",
              "      </script>\n",
              "    </div>\n",
              "  </div>\n",
              "  "
            ],
            "text/plain": [
              "      Currency  ...                                               Race\n",
              "19832      USD  ...                Hispanic, Latino, or Spanish origin\n",
              "11210      USD  ...                          Black or African American\n",
              "20099      USD  ...                                              White\n",
              "7444       USD  ...                            Asian or Asian American\n",
              "17170      USD  ...                                              White\n",
              "16868      USD  ...                     Asian or Asian American, White\n",
              "26603      USD  ...                   Black or African American, White\n",
              "2896       USD  ...  Another option not listed here or prefer not t...\n",
              "8066       USD  ...                                              White\n",
              "8838       USD  ...                                              White\n",
              "\n",
              "[10 rows x 14 columns]"
            ]
          },
          "metadata": {},
          "execution_count": 188
        }
      ]
    },
    {
      "cell_type": "code",
      "source": [
        ""
      ],
      "metadata": {
        "id": "7bKVib0CzN_q"
      },
      "execution_count": 188,
      "outputs": []
    },
    {
      "cell_type": "markdown",
      "source": [
        "# **Apparently the Columbia value dosen't have value in the currency column so i had to convert it also as you can see in the dataframe above this comment**"
      ],
      "metadata": {
        "id": "z2PlZSvs1KNu"
      }
    },
    {
      "cell_type": "code",
      "source": [
        "salary_df.iloc[[19832], [6]] = salary_df.iloc[[19832], [6]].mul(0.00025)"
      ],
      "metadata": {
        "id": "ncYW0pILzN4g"
      },
      "execution_count": 189,
      "outputs": []
    },
    {
      "cell_type": "code",
      "source": [
        "salary_df.sort_values(by = 'Annual salary', ascending = False).head(4)"
      ],
      "metadata": {
        "colab": {
          "base_uri": "https://localhost:8080/",
          "height": 375
        },
        "id": "IEg_Bo4gzO3P",
        "outputId": "d218f6b3-958f-4b73-9656-8f7763f770ab"
      },
      "execution_count": 190,
      "outputs": [
        {
          "output_type": "execute_result",
          "data": {
            "text/html": [
              "\n",
              "  <div id=\"df-c43071d3-8e5e-496a-b1c3-16e847f19286\">\n",
              "    <div class=\"colab-df-container\">\n",
              "      <div>\n",
              "<style scoped>\n",
              "    .dataframe tbody tr th:only-of-type {\n",
              "        vertical-align: middle;\n",
              "    }\n",
              "\n",
              "    .dataframe tbody tr th {\n",
              "        vertical-align: top;\n",
              "    }\n",
              "\n",
              "    .dataframe thead th {\n",
              "        text-align: right;\n",
              "    }\n",
              "</style>\n",
              "<table border=\"1\" class=\"dataframe\">\n",
              "  <thead>\n",
              "    <tr style=\"text-align: right;\">\n",
              "      <th></th>\n",
              "      <th>Currency</th>\n",
              "      <th>Country</th>\n",
              "      <th>Timestamp</th>\n",
              "      <th>How old are you?</th>\n",
              "      <th>Industry</th>\n",
              "      <th>Job title</th>\n",
              "      <th>Annual salary</th>\n",
              "      <th>State</th>\n",
              "      <th>City</th>\n",
              "      <th>Overall years of professional experience</th>\n",
              "      <th>Years of experience in field</th>\n",
              "      <th>Highest level of education completed</th>\n",
              "      <th>Gender</th>\n",
              "      <th>Race</th>\n",
              "    </tr>\n",
              "  </thead>\n",
              "  <tbody>\n",
              "    <tr>\n",
              "      <th>11210</th>\n",
              "      <td>USD</td>\n",
              "      <td>Usa</td>\n",
              "      <td>6/14/2021 4:19:17</td>\n",
              "      <td>55-64</td>\n",
              "      <td>Sales</td>\n",
              "      <td>Inside sales manager</td>\n",
              "      <td>5000044.0</td>\n",
              "      <td>New Jersey</td>\n",
              "      <td>Pinebrook</td>\n",
              "      <td>31 - 40 years</td>\n",
              "      <td>21 - 30 years</td>\n",
              "      <td>Master's degree</td>\n",
              "      <td>Woman</td>\n",
              "      <td>Black or African American</td>\n",
              "    </tr>\n",
              "    <tr>\n",
              "      <th>20099</th>\n",
              "      <td>USD</td>\n",
              "      <td>USA</td>\n",
              "      <td>4/27/2021 11:38:28</td>\n",
              "      <td>55-64</td>\n",
              "      <td>Art &amp; Design</td>\n",
              "      <td>Owner and CEO</td>\n",
              "      <td>3000000.0</td>\n",
              "      <td>New York</td>\n",
              "      <td>New York</td>\n",
              "      <td>21 - 30 years</td>\n",
              "      <td>21 - 30 years</td>\n",
              "      <td>Master's degree</td>\n",
              "      <td>Woman</td>\n",
              "      <td>White</td>\n",
              "    </tr>\n",
              "    <tr>\n",
              "      <th>7444</th>\n",
              "      <td>USD</td>\n",
              "      <td>Singapore</td>\n",
              "      <td>4/28/2021 17:09:29</td>\n",
              "      <td>35-44</td>\n",
              "      <td>Computing or Tech</td>\n",
              "      <td>Product Manager</td>\n",
              "      <td>2111538.0</td>\n",
              "      <td>NaN</td>\n",
              "      <td>Singapore</td>\n",
              "      <td>11 - 20 years</td>\n",
              "      <td>11 - 20 years</td>\n",
              "      <td>College degree</td>\n",
              "      <td>Man</td>\n",
              "      <td>Asian or Asian American</td>\n",
              "    </tr>\n",
              "    <tr>\n",
              "      <th>17170</th>\n",
              "      <td>USD</td>\n",
              "      <td>USA</td>\n",
              "      <td>4/27/2021 13:22:34</td>\n",
              "      <td>25-34</td>\n",
              "      <td>Health care</td>\n",
              "      <td>Attending Physician (general internal medicine)</td>\n",
              "      <td>1900000.0</td>\n",
              "      <td>Connecticut</td>\n",
              "      <td>New Haven</td>\n",
              "      <td>5-7 years</td>\n",
              "      <td>5-7 years</td>\n",
              "      <td>Professional degree (MD, JD, etc.)</td>\n",
              "      <td>Woman</td>\n",
              "      <td>White</td>\n",
              "    </tr>\n",
              "  </tbody>\n",
              "</table>\n",
              "</div>\n",
              "      <button class=\"colab-df-convert\" onclick=\"convertToInteractive('df-c43071d3-8e5e-496a-b1c3-16e847f19286')\"\n",
              "              title=\"Convert this dataframe to an interactive table.\"\n",
              "              style=\"display:none;\">\n",
              "        \n",
              "  <svg xmlns=\"http://www.w3.org/2000/svg\" height=\"24px\"viewBox=\"0 0 24 24\"\n",
              "       width=\"24px\">\n",
              "    <path d=\"M0 0h24v24H0V0z\" fill=\"none\"/>\n",
              "    <path d=\"M18.56 5.44l.94 2.06.94-2.06 2.06-.94-2.06-.94-.94-2.06-.94 2.06-2.06.94zm-11 1L8.5 8.5l.94-2.06 2.06-.94-2.06-.94L8.5 2.5l-.94 2.06-2.06.94zm10 10l.94 2.06.94-2.06 2.06-.94-2.06-.94-.94-2.06-.94 2.06-2.06.94z\"/><path d=\"M17.41 7.96l-1.37-1.37c-.4-.4-.92-.59-1.43-.59-.52 0-1.04.2-1.43.59L10.3 9.45l-7.72 7.72c-.78.78-.78 2.05 0 2.83L4 21.41c.39.39.9.59 1.41.59.51 0 1.02-.2 1.41-.59l7.78-7.78 2.81-2.81c.8-.78.8-2.07 0-2.86zM5.41 20L4 18.59l7.72-7.72 1.47 1.35L5.41 20z\"/>\n",
              "  </svg>\n",
              "      </button>\n",
              "      \n",
              "  <style>\n",
              "    .colab-df-container {\n",
              "      display:flex;\n",
              "      flex-wrap:wrap;\n",
              "      gap: 12px;\n",
              "    }\n",
              "\n",
              "    .colab-df-convert {\n",
              "      background-color: #E8F0FE;\n",
              "      border: none;\n",
              "      border-radius: 50%;\n",
              "      cursor: pointer;\n",
              "      display: none;\n",
              "      fill: #1967D2;\n",
              "      height: 32px;\n",
              "      padding: 0 0 0 0;\n",
              "      width: 32px;\n",
              "    }\n",
              "\n",
              "    .colab-df-convert:hover {\n",
              "      background-color: #E2EBFA;\n",
              "      box-shadow: 0px 1px 2px rgba(60, 64, 67, 0.3), 0px 1px 3px 1px rgba(60, 64, 67, 0.15);\n",
              "      fill: #174EA6;\n",
              "    }\n",
              "\n",
              "    [theme=dark] .colab-df-convert {\n",
              "      background-color: #3B4455;\n",
              "      fill: #D2E3FC;\n",
              "    }\n",
              "\n",
              "    [theme=dark] .colab-df-convert:hover {\n",
              "      background-color: #434B5C;\n",
              "      box-shadow: 0px 1px 3px 1px rgba(0, 0, 0, 0.15);\n",
              "      filter: drop-shadow(0px 1px 2px rgba(0, 0, 0, 0.3));\n",
              "      fill: #FFFFFF;\n",
              "    }\n",
              "  </style>\n",
              "\n",
              "      <script>\n",
              "        const buttonEl =\n",
              "          document.querySelector('#df-c43071d3-8e5e-496a-b1c3-16e847f19286 button.colab-df-convert');\n",
              "        buttonEl.style.display =\n",
              "          google.colab.kernel.accessAllowed ? 'block' : 'none';\n",
              "\n",
              "        async function convertToInteractive(key) {\n",
              "          const element = document.querySelector('#df-c43071d3-8e5e-496a-b1c3-16e847f19286');\n",
              "          const dataTable =\n",
              "            await google.colab.kernel.invokeFunction('convertToInteractive',\n",
              "                                                     [key], {});\n",
              "          if (!dataTable) return;\n",
              "\n",
              "          const docLinkHtml = 'Like what you see? Visit the ' +\n",
              "            '<a target=\"_blank\" href=https://colab.research.google.com/notebooks/data_table.ipynb>data table notebook</a>'\n",
              "            + ' to learn more about interactive tables.';\n",
              "          element.innerHTML = '';\n",
              "          dataTable['output_type'] = 'display_data';\n",
              "          await google.colab.output.renderOutput(dataTable, element);\n",
              "          const docLink = document.createElement('div');\n",
              "          docLink.innerHTML = docLinkHtml;\n",
              "          element.appendChild(docLink);\n",
              "        }\n",
              "      </script>\n",
              "    </div>\n",
              "  </div>\n",
              "  "
            ],
            "text/plain": [
              "      Currency    Country  ... Gender                       Race\n",
              "11210      USD        Usa  ...  Woman  Black or African American\n",
              "20099      USD        USA  ...  Woman                      White\n",
              "7444       USD  Singapore  ...    Man    Asian or Asian American\n",
              "17170      USD        USA  ...  Woman                      White\n",
              "\n",
              "[4 rows x 14 columns]"
            ]
          },
          "metadata": {},
          "execution_count": 190
        }
      ]
    },
    {
      "cell_type": "code",
      "source": [
        ""
      ],
      "metadata": {
        "id": "c664uLew0sOm"
      },
      "execution_count": 190,
      "outputs": []
    },
    {
      "cell_type": "markdown",
      "source": [
        "# **Now there are still some values that are way too small to be an annual salary, So i thought maybe the person filling this survey actaully put in what he/she earns on a monthly bases**"
      ],
      "metadata": {
        "id": "rrRaXe5S2Nqw"
      }
    },
    {
      "cell_type": "markdown",
      "source": [
        "# **So i multiple all the values that are less than or equal to USD10,000 by 12 making it a full year value**"
      ],
      "metadata": {
        "id": "-7lvWh6g2a2-"
      }
    },
    {
      "cell_type": "code",
      "source": [
        "salary_df.loc[salary_df['Annual salary'] <= 10000.0, 'Annual salary'] *= 12"
      ],
      "metadata": {
        "id": "ILyJnELsMrlT"
      },
      "execution_count": 191,
      "outputs": []
    },
    {
      "cell_type": "code",
      "source": [
        "salary_df.head(5)"
      ],
      "metadata": {
        "id": "MfrgoaAmMrik",
        "colab": {
          "base_uri": "https://localhost:8080/",
          "height": 389
        },
        "outputId": "8cad67cb-0db8-4c98-e7b2-6aab62dcce26"
      },
      "execution_count": 192,
      "outputs": [
        {
          "output_type": "execute_result",
          "data": {
            "text/html": [
              "\n",
              "  <div id=\"df-5f65c7ec-30b0-4c9b-81bd-61096dfed898\">\n",
              "    <div class=\"colab-df-container\">\n",
              "      <div>\n",
              "<style scoped>\n",
              "    .dataframe tbody tr th:only-of-type {\n",
              "        vertical-align: middle;\n",
              "    }\n",
              "\n",
              "    .dataframe tbody tr th {\n",
              "        vertical-align: top;\n",
              "    }\n",
              "\n",
              "    .dataframe thead th {\n",
              "        text-align: right;\n",
              "    }\n",
              "</style>\n",
              "<table border=\"1\" class=\"dataframe\">\n",
              "  <thead>\n",
              "    <tr style=\"text-align: right;\">\n",
              "      <th></th>\n",
              "      <th>Currency</th>\n",
              "      <th>Country</th>\n",
              "      <th>Timestamp</th>\n",
              "      <th>How old are you?</th>\n",
              "      <th>Industry</th>\n",
              "      <th>Job title</th>\n",
              "      <th>Annual salary</th>\n",
              "      <th>State</th>\n",
              "      <th>City</th>\n",
              "      <th>Overall years of professional experience</th>\n",
              "      <th>Years of experience in field</th>\n",
              "      <th>Highest level of education completed</th>\n",
              "      <th>Gender</th>\n",
              "      <th>Race</th>\n",
              "    </tr>\n",
              "  </thead>\n",
              "  <tbody>\n",
              "    <tr>\n",
              "      <th>0</th>\n",
              "      <td>USD</td>\n",
              "      <td>Australia</td>\n",
              "      <td>4/28/2021 4:12:50</td>\n",
              "      <td>45-54</td>\n",
              "      <td>Education (Higher Education)</td>\n",
              "      <td>ESOL Teacher</td>\n",
              "      <td>150300.0</td>\n",
              "      <td>NaN</td>\n",
              "      <td>Sydney</td>\n",
              "      <td>31 - 40 years</td>\n",
              "      <td>2 - 4 years</td>\n",
              "      <td>Master's degree</td>\n",
              "      <td>Woman</td>\n",
              "      <td>White</td>\n",
              "    </tr>\n",
              "    <tr>\n",
              "      <th>1</th>\n",
              "      <td>USD</td>\n",
              "      <td>Australia</td>\n",
              "      <td>5/5/2021 22:19:51</td>\n",
              "      <td>25-34</td>\n",
              "      <td>Education (Primary/Secondary)</td>\n",
              "      <td>Teacher</td>\n",
              "      <td>67245.3</td>\n",
              "      <td>NaN</td>\n",
              "      <td>Melbourne</td>\n",
              "      <td>8 - 10 years</td>\n",
              "      <td>2 - 4 years</td>\n",
              "      <td>Master's degree</td>\n",
              "      <td>Woman</td>\n",
              "      <td>White</td>\n",
              "    </tr>\n",
              "    <tr>\n",
              "      <th>2</th>\n",
              "      <td>USD</td>\n",
              "      <td>Australia</td>\n",
              "      <td>4/28/2021 5:45:11</td>\n",
              "      <td>45-54</td>\n",
              "      <td>Health care</td>\n",
              "      <td>Executive Assistant</td>\n",
              "      <td>56700.0</td>\n",
              "      <td>NaN</td>\n",
              "      <td>Adelaide</td>\n",
              "      <td>21 - 30 years</td>\n",
              "      <td>21 - 30 years</td>\n",
              "      <td>Some college</td>\n",
              "      <td>Woman</td>\n",
              "      <td>White</td>\n",
              "    </tr>\n",
              "    <tr>\n",
              "      <th>3</th>\n",
              "      <td>USD</td>\n",
              "      <td>Australia</td>\n",
              "      <td>4/29/2021 7:22:57</td>\n",
              "      <td>25-34</td>\n",
              "      <td>Leisure, Sport &amp; Tourism</td>\n",
              "      <td>Business Development Officer</td>\n",
              "      <td>45000.0</td>\n",
              "      <td>NaN</td>\n",
              "      <td>Adelaide</td>\n",
              "      <td>2 - 4 years</td>\n",
              "      <td>2 - 4 years</td>\n",
              "      <td>College degree</td>\n",
              "      <td>Woman</td>\n",
              "      <td>White</td>\n",
              "    </tr>\n",
              "    <tr>\n",
              "      <th>4</th>\n",
              "      <td>USD</td>\n",
              "      <td>Australia</td>\n",
              "      <td>5/5/2021 22:33:49</td>\n",
              "      <td>18-24</td>\n",
              "      <td>Marketing, Advertising &amp; PR</td>\n",
              "      <td>Platform Executive</td>\n",
              "      <td>40500.0</td>\n",
              "      <td>NaN</td>\n",
              "      <td>Brisbane</td>\n",
              "      <td>2 - 4 years</td>\n",
              "      <td>1 year or less</td>\n",
              "      <td>College degree</td>\n",
              "      <td>Woman</td>\n",
              "      <td>White</td>\n",
              "    </tr>\n",
              "  </tbody>\n",
              "</table>\n",
              "</div>\n",
              "      <button class=\"colab-df-convert\" onclick=\"convertToInteractive('df-5f65c7ec-30b0-4c9b-81bd-61096dfed898')\"\n",
              "              title=\"Convert this dataframe to an interactive table.\"\n",
              "              style=\"display:none;\">\n",
              "        \n",
              "  <svg xmlns=\"http://www.w3.org/2000/svg\" height=\"24px\"viewBox=\"0 0 24 24\"\n",
              "       width=\"24px\">\n",
              "    <path d=\"M0 0h24v24H0V0z\" fill=\"none\"/>\n",
              "    <path d=\"M18.56 5.44l.94 2.06.94-2.06 2.06-.94-2.06-.94-.94-2.06-.94 2.06-2.06.94zm-11 1L8.5 8.5l.94-2.06 2.06-.94-2.06-.94L8.5 2.5l-.94 2.06-2.06.94zm10 10l.94 2.06.94-2.06 2.06-.94-2.06-.94-.94-2.06-.94 2.06-2.06.94z\"/><path d=\"M17.41 7.96l-1.37-1.37c-.4-.4-.92-.59-1.43-.59-.52 0-1.04.2-1.43.59L10.3 9.45l-7.72 7.72c-.78.78-.78 2.05 0 2.83L4 21.41c.39.39.9.59 1.41.59.51 0 1.02-.2 1.41-.59l7.78-7.78 2.81-2.81c.8-.78.8-2.07 0-2.86zM5.41 20L4 18.59l7.72-7.72 1.47 1.35L5.41 20z\"/>\n",
              "  </svg>\n",
              "      </button>\n",
              "      \n",
              "  <style>\n",
              "    .colab-df-container {\n",
              "      display:flex;\n",
              "      flex-wrap:wrap;\n",
              "      gap: 12px;\n",
              "    }\n",
              "\n",
              "    .colab-df-convert {\n",
              "      background-color: #E8F0FE;\n",
              "      border: none;\n",
              "      border-radius: 50%;\n",
              "      cursor: pointer;\n",
              "      display: none;\n",
              "      fill: #1967D2;\n",
              "      height: 32px;\n",
              "      padding: 0 0 0 0;\n",
              "      width: 32px;\n",
              "    }\n",
              "\n",
              "    .colab-df-convert:hover {\n",
              "      background-color: #E2EBFA;\n",
              "      box-shadow: 0px 1px 2px rgba(60, 64, 67, 0.3), 0px 1px 3px 1px rgba(60, 64, 67, 0.15);\n",
              "      fill: #174EA6;\n",
              "    }\n",
              "\n",
              "    [theme=dark] .colab-df-convert {\n",
              "      background-color: #3B4455;\n",
              "      fill: #D2E3FC;\n",
              "    }\n",
              "\n",
              "    [theme=dark] .colab-df-convert:hover {\n",
              "      background-color: #434B5C;\n",
              "      box-shadow: 0px 1px 3px 1px rgba(0, 0, 0, 0.15);\n",
              "      filter: drop-shadow(0px 1px 2px rgba(0, 0, 0, 0.3));\n",
              "      fill: #FFFFFF;\n",
              "    }\n",
              "  </style>\n",
              "\n",
              "      <script>\n",
              "        const buttonEl =\n",
              "          document.querySelector('#df-5f65c7ec-30b0-4c9b-81bd-61096dfed898 button.colab-df-convert');\n",
              "        buttonEl.style.display =\n",
              "          google.colab.kernel.accessAllowed ? 'block' : 'none';\n",
              "\n",
              "        async function convertToInteractive(key) {\n",
              "          const element = document.querySelector('#df-5f65c7ec-30b0-4c9b-81bd-61096dfed898');\n",
              "          const dataTable =\n",
              "            await google.colab.kernel.invokeFunction('convertToInteractive',\n",
              "                                                     [key], {});\n",
              "          if (!dataTable) return;\n",
              "\n",
              "          const docLinkHtml = 'Like what you see? Visit the ' +\n",
              "            '<a target=\"_blank\" href=https://colab.research.google.com/notebooks/data_table.ipynb>data table notebook</a>'\n",
              "            + ' to learn more about interactive tables.';\n",
              "          element.innerHTML = '';\n",
              "          dataTable['output_type'] = 'display_data';\n",
              "          await google.colab.output.renderOutput(dataTable, element);\n",
              "          const docLink = document.createElement('div');\n",
              "          docLink.innerHTML = docLinkHtml;\n",
              "          element.appendChild(docLink);\n",
              "        }\n",
              "      </script>\n",
              "    </div>\n",
              "  </div>\n",
              "  "
            ],
            "text/plain": [
              "  Currency    Country  ... Gender   Race\n",
              "0      USD  Australia  ...  Woman  White\n",
              "1      USD  Australia  ...  Woman  White\n",
              "2      USD  Australia  ...  Woman  White\n",
              "3      USD  Australia  ...  Woman  White\n",
              "4      USD  Australia  ...  Woman  White\n",
              "\n",
              "[5 rows x 14 columns]"
            ]
          },
          "metadata": {},
          "execution_count": 192
        }
      ]
    },
    {
      "cell_type": "markdown",
      "source": [
        "# **I replaced all the NaN values with the object Null so i can select them like every other object in the dataset**"
      ],
      "metadata": {
        "id": "G77VKeWa2-Hw"
      }
    },
    {
      "cell_type": "code",
      "source": [
        "salary_df['State'].fillna('Null', inplace=True)"
      ],
      "metadata": {
        "id": "_ivaB0EsABa8"
      },
      "execution_count": 193,
      "outputs": []
    },
    {
      "cell_type": "code",
      "source": [
        "salary_df"
      ],
      "metadata": {
        "colab": {
          "base_uri": "https://localhost:8080/",
          "height": 763
        },
        "id": "So4BtXh0ABXl",
        "outputId": "a0006c22-9510-42a9-b2ea-ea0a46de4e9b"
      },
      "execution_count": 194,
      "outputs": [
        {
          "output_type": "execute_result",
          "data": {
            "text/html": [
              "\n",
              "  <div id=\"df-5c63ad16-218b-456f-bf2f-60f286beb496\">\n",
              "    <div class=\"colab-df-container\">\n",
              "      <div>\n",
              "<style scoped>\n",
              "    .dataframe tbody tr th:only-of-type {\n",
              "        vertical-align: middle;\n",
              "    }\n",
              "\n",
              "    .dataframe tbody tr th {\n",
              "        vertical-align: top;\n",
              "    }\n",
              "\n",
              "    .dataframe thead th {\n",
              "        text-align: right;\n",
              "    }\n",
              "</style>\n",
              "<table border=\"1\" class=\"dataframe\">\n",
              "  <thead>\n",
              "    <tr style=\"text-align: right;\">\n",
              "      <th></th>\n",
              "      <th>Currency</th>\n",
              "      <th>Country</th>\n",
              "      <th>Timestamp</th>\n",
              "      <th>How old are you?</th>\n",
              "      <th>Industry</th>\n",
              "      <th>Job title</th>\n",
              "      <th>Annual salary</th>\n",
              "      <th>State</th>\n",
              "      <th>City</th>\n",
              "      <th>Overall years of professional experience</th>\n",
              "      <th>Years of experience in field</th>\n",
              "      <th>Highest level of education completed</th>\n",
              "      <th>Gender</th>\n",
              "      <th>Race</th>\n",
              "    </tr>\n",
              "  </thead>\n",
              "  <tbody>\n",
              "    <tr>\n",
              "      <th>0</th>\n",
              "      <td>USD</td>\n",
              "      <td>Australia</td>\n",
              "      <td>4/28/2021 4:12:50</td>\n",
              "      <td>45-54</td>\n",
              "      <td>Education (Higher Education)</td>\n",
              "      <td>ESOL Teacher</td>\n",
              "      <td>150300.0</td>\n",
              "      <td>Null</td>\n",
              "      <td>Sydney</td>\n",
              "      <td>31 - 40 years</td>\n",
              "      <td>2 - 4 years</td>\n",
              "      <td>Master's degree</td>\n",
              "      <td>Woman</td>\n",
              "      <td>White</td>\n",
              "    </tr>\n",
              "    <tr>\n",
              "      <th>1</th>\n",
              "      <td>USD</td>\n",
              "      <td>Australia</td>\n",
              "      <td>5/5/2021 22:19:51</td>\n",
              "      <td>25-34</td>\n",
              "      <td>Education (Primary/Secondary)</td>\n",
              "      <td>Teacher</td>\n",
              "      <td>67245.3</td>\n",
              "      <td>Null</td>\n",
              "      <td>Melbourne</td>\n",
              "      <td>8 - 10 years</td>\n",
              "      <td>2 - 4 years</td>\n",
              "      <td>Master's degree</td>\n",
              "      <td>Woman</td>\n",
              "      <td>White</td>\n",
              "    </tr>\n",
              "    <tr>\n",
              "      <th>2</th>\n",
              "      <td>USD</td>\n",
              "      <td>Australia</td>\n",
              "      <td>4/28/2021 5:45:11</td>\n",
              "      <td>45-54</td>\n",
              "      <td>Health care</td>\n",
              "      <td>Executive Assistant</td>\n",
              "      <td>56700.0</td>\n",
              "      <td>Null</td>\n",
              "      <td>Adelaide</td>\n",
              "      <td>21 - 30 years</td>\n",
              "      <td>21 - 30 years</td>\n",
              "      <td>Some college</td>\n",
              "      <td>Woman</td>\n",
              "      <td>White</td>\n",
              "    </tr>\n",
              "    <tr>\n",
              "      <th>3</th>\n",
              "      <td>USD</td>\n",
              "      <td>Australia</td>\n",
              "      <td>4/29/2021 7:22:57</td>\n",
              "      <td>25-34</td>\n",
              "      <td>Leisure, Sport &amp; Tourism</td>\n",
              "      <td>Business Development Officer</td>\n",
              "      <td>45000.0</td>\n",
              "      <td>Null</td>\n",
              "      <td>Adelaide</td>\n",
              "      <td>2 - 4 years</td>\n",
              "      <td>2 - 4 years</td>\n",
              "      <td>College degree</td>\n",
              "      <td>Woman</td>\n",
              "      <td>White</td>\n",
              "    </tr>\n",
              "    <tr>\n",
              "      <th>4</th>\n",
              "      <td>USD</td>\n",
              "      <td>Australia</td>\n",
              "      <td>5/5/2021 22:33:49</td>\n",
              "      <td>18-24</td>\n",
              "      <td>Marketing, Advertising &amp; PR</td>\n",
              "      <td>Platform Executive</td>\n",
              "      <td>40500.0</td>\n",
              "      <td>Null</td>\n",
              "      <td>Brisbane</td>\n",
              "      <td>2 - 4 years</td>\n",
              "      <td>1 year or less</td>\n",
              "      <td>College degree</td>\n",
              "      <td>Woman</td>\n",
              "      <td>White</td>\n",
              "    </tr>\n",
              "    <tr>\n",
              "      <th>...</th>\n",
              "      <td>...</td>\n",
              "      <td>...</td>\n",
              "      <td>...</td>\n",
              "      <td>...</td>\n",
              "      <td>...</td>\n",
              "      <td>...</td>\n",
              "      <td>...</td>\n",
              "      <td>...</td>\n",
              "      <td>...</td>\n",
              "      <td>...</td>\n",
              "      <td>...</td>\n",
              "      <td>...</td>\n",
              "      <td>...</td>\n",
              "      <td>...</td>\n",
              "    </tr>\n",
              "    <tr>\n",
              "      <th>27020</th>\n",
              "      <td>USD</td>\n",
              "      <td>South Africa</td>\n",
              "      <td>4/27/2021 11:53:46</td>\n",
              "      <td>25-34</td>\n",
              "      <td>Media &amp; Digital</td>\n",
              "      <td>SEO Specialist</td>\n",
              "      <td>35295.0</td>\n",
              "      <td>Null</td>\n",
              "      <td>Cape Town</td>\n",
              "      <td>8 - 10 years</td>\n",
              "      <td>2 - 4 years</td>\n",
              "      <td>College degree</td>\n",
              "      <td>Woman</td>\n",
              "      <td>Another option not listed here or prefer not t...</td>\n",
              "    </tr>\n",
              "    <tr>\n",
              "      <th>27021</th>\n",
              "      <td>USD</td>\n",
              "      <td>South africa</td>\n",
              "      <td>4/28/2021 17:09:35</td>\n",
              "      <td>35-44</td>\n",
              "      <td>Accounting, Banking &amp; Finance</td>\n",
              "      <td>Business Analyst</td>\n",
              "      <td>52325.0</td>\n",
              "      <td>Null</td>\n",
              "      <td>Cape town</td>\n",
              "      <td>11 - 20 years</td>\n",
              "      <td>8 - 10 years</td>\n",
              "      <td>College degree</td>\n",
              "      <td>Man</td>\n",
              "      <td>Black or African American</td>\n",
              "    </tr>\n",
              "    <tr>\n",
              "      <th>27022</th>\n",
              "      <td>USD</td>\n",
              "      <td>South Africa</td>\n",
              "      <td>4/27/2021 14:36:47</td>\n",
              "      <td>35-44</td>\n",
              "      <td>Education (Higher Education)</td>\n",
              "      <td>Associate Professor</td>\n",
              "      <td>63336.0</td>\n",
              "      <td>Null</td>\n",
              "      <td>Cape Town</td>\n",
              "      <td>21 - 30 years</td>\n",
              "      <td>11 - 20 years</td>\n",
              "      <td>Professional degree (MD, JD, etc.)</td>\n",
              "      <td>Woman</td>\n",
              "      <td>Asian or Asian American</td>\n",
              "    </tr>\n",
              "    <tr>\n",
              "      <th>27023</th>\n",
              "      <td>USD</td>\n",
              "      <td>South Africa</td>\n",
              "      <td>4/29/2021 14:39:01</td>\n",
              "      <td>45-54</td>\n",
              "      <td>Engineering or Manufacturing</td>\n",
              "      <td>Account Manager</td>\n",
              "      <td>26000.0</td>\n",
              "      <td>Null</td>\n",
              "      <td>Pietermaritzburg</td>\n",
              "      <td>11 - 20 years</td>\n",
              "      <td>2 - 4 years</td>\n",
              "      <td>College degree</td>\n",
              "      <td>Woman</td>\n",
              "      <td>White</td>\n",
              "    </tr>\n",
              "    <tr>\n",
              "      <th>27024</th>\n",
              "      <td>USD</td>\n",
              "      <td>South Africa</td>\n",
              "      <td>4/27/2021 12:05:46</td>\n",
              "      <td>18-24</td>\n",
              "      <td>Nonprofits</td>\n",
              "      <td>System administration and project manager</td>\n",
              "      <td>15600.0</td>\n",
              "      <td>Null</td>\n",
              "      <td>Gauteng</td>\n",
              "      <td>2 - 4 years</td>\n",
              "      <td>2 - 4 years</td>\n",
              "      <td>College degree</td>\n",
              "      <td>Woman</td>\n",
              "      <td>White</td>\n",
              "    </tr>\n",
              "  </tbody>\n",
              "</table>\n",
              "<p>27025 rows × 14 columns</p>\n",
              "</div>\n",
              "      <button class=\"colab-df-convert\" onclick=\"convertToInteractive('df-5c63ad16-218b-456f-bf2f-60f286beb496')\"\n",
              "              title=\"Convert this dataframe to an interactive table.\"\n",
              "              style=\"display:none;\">\n",
              "        \n",
              "  <svg xmlns=\"http://www.w3.org/2000/svg\" height=\"24px\"viewBox=\"0 0 24 24\"\n",
              "       width=\"24px\">\n",
              "    <path d=\"M0 0h24v24H0V0z\" fill=\"none\"/>\n",
              "    <path d=\"M18.56 5.44l.94 2.06.94-2.06 2.06-.94-2.06-.94-.94-2.06-.94 2.06-2.06.94zm-11 1L8.5 8.5l.94-2.06 2.06-.94-2.06-.94L8.5 2.5l-.94 2.06-2.06.94zm10 10l.94 2.06.94-2.06 2.06-.94-2.06-.94-.94-2.06-.94 2.06-2.06.94z\"/><path d=\"M17.41 7.96l-1.37-1.37c-.4-.4-.92-.59-1.43-.59-.52 0-1.04.2-1.43.59L10.3 9.45l-7.72 7.72c-.78.78-.78 2.05 0 2.83L4 21.41c.39.39.9.59 1.41.59.51 0 1.02-.2 1.41-.59l7.78-7.78 2.81-2.81c.8-.78.8-2.07 0-2.86zM5.41 20L4 18.59l7.72-7.72 1.47 1.35L5.41 20z\"/>\n",
              "  </svg>\n",
              "      </button>\n",
              "      \n",
              "  <style>\n",
              "    .colab-df-container {\n",
              "      display:flex;\n",
              "      flex-wrap:wrap;\n",
              "      gap: 12px;\n",
              "    }\n",
              "\n",
              "    .colab-df-convert {\n",
              "      background-color: #E8F0FE;\n",
              "      border: none;\n",
              "      border-radius: 50%;\n",
              "      cursor: pointer;\n",
              "      display: none;\n",
              "      fill: #1967D2;\n",
              "      height: 32px;\n",
              "      padding: 0 0 0 0;\n",
              "      width: 32px;\n",
              "    }\n",
              "\n",
              "    .colab-df-convert:hover {\n",
              "      background-color: #E2EBFA;\n",
              "      box-shadow: 0px 1px 2px rgba(60, 64, 67, 0.3), 0px 1px 3px 1px rgba(60, 64, 67, 0.15);\n",
              "      fill: #174EA6;\n",
              "    }\n",
              "\n",
              "    [theme=dark] .colab-df-convert {\n",
              "      background-color: #3B4455;\n",
              "      fill: #D2E3FC;\n",
              "    }\n",
              "\n",
              "    [theme=dark] .colab-df-convert:hover {\n",
              "      background-color: #434B5C;\n",
              "      box-shadow: 0px 1px 3px 1px rgba(0, 0, 0, 0.15);\n",
              "      filter: drop-shadow(0px 1px 2px rgba(0, 0, 0, 0.3));\n",
              "      fill: #FFFFFF;\n",
              "    }\n",
              "  </style>\n",
              "\n",
              "      <script>\n",
              "        const buttonEl =\n",
              "          document.querySelector('#df-5c63ad16-218b-456f-bf2f-60f286beb496 button.colab-df-convert');\n",
              "        buttonEl.style.display =\n",
              "          google.colab.kernel.accessAllowed ? 'block' : 'none';\n",
              "\n",
              "        async function convertToInteractive(key) {\n",
              "          const element = document.querySelector('#df-5c63ad16-218b-456f-bf2f-60f286beb496');\n",
              "          const dataTable =\n",
              "            await google.colab.kernel.invokeFunction('convertToInteractive',\n",
              "                                                     [key], {});\n",
              "          if (!dataTable) return;\n",
              "\n",
              "          const docLinkHtml = 'Like what you see? Visit the ' +\n",
              "            '<a target=\"_blank\" href=https://colab.research.google.com/notebooks/data_table.ipynb>data table notebook</a>'\n",
              "            + ' to learn more about interactive tables.';\n",
              "          element.innerHTML = '';\n",
              "          dataTable['output_type'] = 'display_data';\n",
              "          await google.colab.output.renderOutput(dataTable, element);\n",
              "          const docLink = document.createElement('div');\n",
              "          docLink.innerHTML = docLinkHtml;\n",
              "          element.appendChild(docLink);\n",
              "        }\n",
              "      </script>\n",
              "    </div>\n",
              "  </div>\n",
              "  "
            ],
            "text/plain": [
              "      Currency  ...                                               Race\n",
              "0          USD  ...                                              White\n",
              "1          USD  ...                                              White\n",
              "2          USD  ...                                              White\n",
              "3          USD  ...                                              White\n",
              "4          USD  ...                                              White\n",
              "...        ...  ...                                                ...\n",
              "27020      USD  ...  Another option not listed here or prefer not t...\n",
              "27021      USD  ...                          Black or African American\n",
              "27022      USD  ...                            Asian or Asian American\n",
              "27023      USD  ...                                              White\n",
              "27024      USD  ...                                              White\n",
              "\n",
              "[27025 rows x 14 columns]"
            ]
          },
          "metadata": {},
          "execution_count": 194
        }
      ]
    },
    {
      "cell_type": "markdown",
      "source": [
        "# **I started filling in all the Null values in the State column using the cities and google**"
      ],
      "metadata": {
        "id": "Lj-8RuOR3LvB"
      }
    },
    {
      "cell_type": "code",
      "source": [
        "salary_df.loc[salary_df['City'] == 'London', ['State']] = 'United Kingdom'"
      ],
      "metadata": {
        "id": "OonfL61KAAye"
      },
      "execution_count": 195,
      "outputs": []
    },
    {
      "cell_type": "code",
      "source": [
        "salary_df.loc[salary_df['City'] == 'Amsterdam', ['State']] = 'North Holland'"
      ],
      "metadata": {
        "id": "Ho5vPr44U01q"
      },
      "execution_count": 196,
      "outputs": []
    },
    {
      "cell_type": "code",
      "source": [
        "salary_df.loc[salary_df['City'] == 'Manchester ', ['State']] = 'North West England'"
      ],
      "metadata": {
        "id": "_6YPGwRNU0yR"
      },
      "execution_count": 197,
      "outputs": []
    },
    {
      "cell_type": "code",
      "source": [
        "salary_df.loc[salary_df['City'] == 'Singapore', ['State']] = 'Republic of Singapore'"
      ],
      "metadata": {
        "id": "GHoBQ-jBU0vs"
      },
      "execution_count": 198,
      "outputs": []
    },
    {
      "cell_type": "code",
      "source": [
        "salary_df.loc[salary_df['City'] == 'Bogota', ['State']] = 'Capital District Cundinamarca'"
      ],
      "metadata": {
        "id": "bzD-EIEQU0sG"
      },
      "execution_count": 199,
      "outputs": []
    },
    {
      "cell_type": "code",
      "source": [
        "salary_df.loc[salary_df['City'] == 'bilbao', ['State']] = 'Biscay'"
      ],
      "metadata": {
        "id": "826fn-0GU0WO"
      },
      "execution_count": 200,
      "outputs": []
    },
    {
      "cell_type": "code",
      "source": [
        "salary_df.loc[salary_df['City'] == 'Düsseldorf', ['State']] = 'North Rhine–Westphalia'"
      ],
      "metadata": {
        "id": "ssbeWiwKbVp8"
      },
      "execution_count": 201,
      "outputs": []
    },
    {
      "cell_type": "code",
      "source": [
        "salary_df.loc[salary_df['City'] == 'Toronto ', ['State']] = 'Ontario'"
      ],
      "metadata": {
        "id": "WoT1pZ6bbVmd"
      },
      "execution_count": 202,
      "outputs": []
    },
    {
      "cell_type": "code",
      "source": [
        "salary_df.loc[salary_df['City'] == 'Toronto', ['State']] = 'Ontario'"
      ],
      "metadata": {
        "id": "dz_Wp2I-sy4j"
      },
      "execution_count": 203,
      "outputs": []
    },
    {
      "cell_type": "code",
      "source": [
        "salary_df.loc[salary_df['City'] == 'Toronto, Ontario', ['State']] = 'Ontario'"
      ],
      "metadata": {
        "id": "SyHG0hMQFGfi"
      },
      "execution_count": 204,
      "outputs": []
    },
    {
      "cell_type": "code",
      "source": [
        "salary_df.loc[salary_df['City'] == 'Ontario', ['State']] = 'Ontario'"
      ],
      "metadata": {
        "id": "9bIlhz9Dp_pm"
      },
      "execution_count": 205,
      "outputs": []
    },
    {
      "cell_type": "code",
      "source": [
        "salary_df.loc[salary_df['City'] == 'BASEL', ['State']] = 'Basel-Stadt'"
      ],
      "metadata": {
        "id": "JF5vB5sNbVkF"
      },
      "execution_count": 206,
      "outputs": []
    },
    {
      "cell_type": "code",
      "source": [
        "salary_df.loc[salary_df['City'] == 'Herne', ['State']] = 'North Rhine-Westphalia'"
      ],
      "metadata": {
        "id": "dWhkR8uBbVeq"
      },
      "execution_count": 207,
      "outputs": []
    },
    {
      "cell_type": "code",
      "source": [
        "salary_df.loc[salary_df['City'] == 'Vancouver', ['State']] = 'British Columbia'"
      ],
      "metadata": {
        "id": "hgPBchQRf8IV"
      },
      "execution_count": 208,
      "outputs": []
    },
    {
      "cell_type": "code",
      "source": [
        "salary_df.loc[salary_df['City'] == 'Vancouver ', ['State']] = 'British Columbia'"
      ],
      "metadata": {
        "id": "zu-Kc1Ab61vm"
      },
      "execution_count": 209,
      "outputs": []
    },
    {
      "cell_type": "code",
      "source": [
        "salary_df.loc[salary_df['City'] == 'Vancouver, BC', ['State']] = 'British Columbia'"
      ],
      "metadata": {
        "id": "u9v3vKr59wd8"
      },
      "execution_count": 210,
      "outputs": []
    },
    {
      "cell_type": "code",
      "source": [
        "salary_df.loc[salary_df['City'] == 'Berlin', ['State']] = 'Brandenburg'"
      ],
      "metadata": {
        "id": "sho3Oskef8E3"
      },
      "execution_count": 211,
      "outputs": []
    },
    {
      "cell_type": "code",
      "source": [
        "salary_df.loc[salary_df['City'] == 'Hamburg ', ['State']] = 'Hamburg Lower Saxony Schleswig'"
      ],
      "metadata": {
        "id": "N1mee3Tef8CZ"
      },
      "execution_count": 212,
      "outputs": []
    },
    {
      "cell_type": "code",
      "source": [
        "salary_df.loc[salary_df['City'] == 'Dortmund', ['State']] = 'North Rhine-Westphalia'"
      ],
      "metadata": {
        "id": "omp6dItrf7_t"
      },
      "execution_count": 213,
      "outputs": []
    },
    {
      "cell_type": "code",
      "source": [
        "salary_df.loc[salary_df['City'] == 'Belfast', ['State']] = 'Ulster'"
      ],
      "metadata": {
        "id": "wV0ITE4Qf79U"
      },
      "execution_count": 214,
      "outputs": []
    },
    {
      "cell_type": "code",
      "source": [
        "salary_df.loc[salary_df['City'] == 'Munich', ['State']] = 'Bavaria'"
      ],
      "metadata": {
        "id": "9IbI9L-1f76q"
      },
      "execution_count": 215,
      "outputs": []
    },
    {
      "cell_type": "code",
      "source": [
        "salary_df.loc[salary_df['City'] == 'uk', ['State']] = 'United Kingdom'"
      ],
      "metadata": {
        "id": "mEouD8_Vf74H"
      },
      "execution_count": 216,
      "outputs": []
    },
    {
      "cell_type": "code",
      "source": [
        "salary_df.loc[salary_df['City'] == 'São Paulo', ['State']] = 'São Paulo estado'"
      ],
      "metadata": {
        "id": "xWxblkfGf71e"
      },
      "execution_count": 217,
      "outputs": []
    },
    {
      "cell_type": "code",
      "source": [
        "salary_df.loc[salary_df['City'] == 'İstanbul', ['State']] = 'Marmara'"
      ],
      "metadata": {
        "id": "In_t-ke_f7y6"
      },
      "execution_count": 218,
      "outputs": []
    },
    {
      "cell_type": "code",
      "source": [
        "salary_df.loc[salary_df['City'] == 'Batangas', ['State']] = 'Calabarzon'"
      ],
      "metadata": {
        "id": "LhtK8XR5bVb7"
      },
      "execution_count": 219,
      "outputs": []
    },
    {
      "cell_type": "code",
      "source": [
        "salary_df.loc[salary_df['City'] == 'Budapest', ['State']] = 'Central Hungary'"
      ],
      "metadata": {
        "id": "r8RgKg60jplY"
      },
      "execution_count": 220,
      "outputs": []
    },
    {
      "cell_type": "code",
      "source": [
        "salary_df.loc[salary_df['City'] == 'Tokyo', ['State']] = 'Kantō'"
      ],
      "metadata": {
        "id": "yWlXsXqgjph9"
      },
      "execution_count": 221,
      "outputs": []
    },
    {
      "cell_type": "code",
      "source": [
        "salary_df.loc[salary_df['City'] == 'Milan', ['State']] = 'Lombardy'"
      ],
      "metadata": {
        "id": "3nAJ--UNjpe4"
      },
      "execution_count": 222,
      "outputs": []
    },
    {
      "cell_type": "code",
      "source": [
        "salary_df.loc[salary_df['City'] == 'Brighton', ['State']] = 'Brighton and Hove'"
      ],
      "metadata": {
        "id": "17yorYsXjpb1"
      },
      "execution_count": 223,
      "outputs": []
    },
    {
      "cell_type": "code",
      "source": [
        "salary_df.loc[salary_df['City'] == 'Paris', ['State']] = 'Île-de-France'"
      ],
      "metadata": {
        "id": "YttSWJJUjpYf"
      },
      "execution_count": 224,
      "outputs": []
    },
    {
      "cell_type": "code",
      "source": [
        "salary_df.loc[salary_df['City'] == 'Fraser valley', ['State']] = 'British Columbia'"
      ],
      "metadata": {
        "id": "-vBQLetUjpU_"
      },
      "execution_count": 225,
      "outputs": []
    },
    {
      "cell_type": "code",
      "source": [
        "salary_df.loc[salary_df['City'] == 'Galway', ['State']] = 'Connacht'"
      ],
      "metadata": {
        "id": "4nBofImqjpRf"
      },
      "execution_count": 226,
      "outputs": []
    },
    {
      "cell_type": "code",
      "source": [
        "salary_df.loc[salary_df['City'] == 'helsinki', ['State']] = 'Etelä'"
      ],
      "metadata": {
        "id": "d4Zd1ziMjpN7"
      },
      "execution_count": 227,
      "outputs": []
    },
    {
      "cell_type": "code",
      "source": [
        "salary_df.loc[salary_df['City'] == 'Johannesburg', ['State']] = 'Gauteng'"
      ],
      "metadata": {
        "id": "4dRvna7tjpKj"
      },
      "execution_count": 228,
      "outputs": []
    },
    {
      "cell_type": "code",
      "source": [
        "salary_df.loc[salary_df['City'] == 'Ottawa', ['State']] = 'Ontario'"
      ],
      "metadata": {
        "id": "UbrIyZsHjpHG"
      },
      "execution_count": 229,
      "outputs": []
    },
    {
      "cell_type": "code",
      "source": [
        "salary_df.loc[salary_df['City'] == 'Melbourne', ['State']] = 'state of Victoria'"
      ],
      "metadata": {
        "id": "Tde-yIdrjpDM"
      },
      "execution_count": 230,
      "outputs": []
    },
    {
      "cell_type": "code",
      "source": [
        "salary_df.loc[salary_df['City'] == 'Melbourne ', ['State']] = 'state of Victoria'"
      ],
      "metadata": {
        "id": "jTnJZLGw8zN0"
      },
      "execution_count": 231,
      "outputs": []
    },
    {
      "cell_type": "code",
      "source": [
        "salary_df.loc[salary_df['City'] == 'Sydney', ['State']] = 'New South Wales'"
      ],
      "metadata": {
        "id": "NONF3xaQjo_z"
      },
      "execution_count": 232,
      "outputs": []
    },
    {
      "cell_type": "code",
      "source": [
        "salary_df.loc[salary_df['City'] == 'Montreal', ['State']] = 'Quebec'"
      ],
      "metadata": {
        "id": "VL33u_d1jo8Z"
      },
      "execution_count": 233,
      "outputs": []
    },
    {
      "cell_type": "code",
      "source": [
        "salary_df.loc[salary_df['City'] == 'Calgary', ['State']] = 'Alberta'"
      ],
      "metadata": {
        "id": "y56KvjSLjo5a"
      },
      "execution_count": 234,
      "outputs": []
    },
    {
      "cell_type": "code",
      "source": [
        "salary_df.loc[salary_df['City'] == 'Dublin', ['State']] = 'Leinster'"
      ],
      "metadata": {
        "id": "79Gm57Cyjo3x"
      },
      "execution_count": 235,
      "outputs": []
    },
    {
      "cell_type": "code",
      "source": [
        "salary_df.loc[salary_df['City'] == 'Dublin ', ['State']] = 'Leinster'"
      ],
      "metadata": {
        "id": "Yc9QzlXjCmB7"
      },
      "execution_count": 236,
      "outputs": []
    },
    {
      "cell_type": "code",
      "source": [
        "salary_df.loc[salary_df['City'] == 'Edmonton', ['State']] = 'Alberta'"
      ],
      "metadata": {
        "id": "MnV7LoP-jo2S"
      },
      "execution_count": 237,
      "outputs": []
    },
    {
      "cell_type": "code",
      "source": [
        "salary_df.loc[salary_df['City'] == 'Edinburgh', ['State']] = 'United Kingdom'"
      ],
      "metadata": {
        "id": "0aXjr8KMjoy_"
      },
      "execution_count": 238,
      "outputs": []
    },
    {
      "cell_type": "code",
      "source": [
        "salary_df.loc[salary_df['City'] == 'Manchester', ['State']] = 'United Kingdom'"
      ],
      "metadata": {
        "id": "mNryKk_UjowG"
      },
      "execution_count": 239,
      "outputs": []
    },
    {
      "cell_type": "code",
      "source": [
        "salary_df.loc[salary_df['City'] == 'Glasgow', ['State']] = 'United Kingdom'"
      ],
      "metadata": {
        "id": "k4sM_AJFjotX"
      },
      "execution_count": 240,
      "outputs": []
    },
    {
      "cell_type": "code",
      "source": [
        "salary_df.loc[salary_df['City'] == 'Leeds', ['State']] = 'West Yorkshire'"
      ],
      "metadata": {
        "id": "gBEC8mCfjopA"
      },
      "execution_count": 241,
      "outputs": []
    },
    {
      "cell_type": "code",
      "source": [
        "salary_df.loc[salary_df['City'] == 'Winnipeg', ['State']] = 'Manitoba'"
      ],
      "metadata": {
        "id": "48U77cBujomB"
      },
      "execution_count": 242,
      "outputs": []
    },
    {
      "cell_type": "code",
      "source": [
        "salary_df.loc[salary_df['City'] == 'London ', ['State']] = 'United Kingdom'"
      ],
      "metadata": {
        "id": "hTKa4DNajoja"
      },
      "execution_count": 243,
      "outputs": []
    },
    {
      "cell_type": "code",
      "source": [
        "salary_df.loc[salary_df['City'] == 'Halifax', ['State']] = 'Nova Scotia'"
      ],
      "metadata": {
        "id": "dKm5BalEjogi"
      },
      "execution_count": 244,
      "outputs": []
    },
    {
      "cell_type": "code",
      "source": [
        "salary_df.loc[salary_df['City'] == 'Brisbane', ['State']] = 'Queensland'"
      ],
      "metadata": {
        "id": "x6AcRs0Z2FxW"
      },
      "execution_count": 245,
      "outputs": []
    },
    {
      "cell_type": "code",
      "source": [
        "salary_df.loc[salary_df['City'] == 'Auckland', ['State']] = 'New Zealand'"
      ],
      "metadata": {
        "id": "SeMn_AlQ2Ft5"
      },
      "execution_count": 246,
      "outputs": []
    },
    {
      "cell_type": "code",
      "source": [
        "salary_df.loc[salary_df['City'] == 'Wellington', ['State']] = 'New Zealand'"
      ],
      "metadata": {
        "id": "VhissPKS2Fqy"
      },
      "execution_count": 247,
      "outputs": []
    },
    {
      "cell_type": "code",
      "source": [
        "salary_df.loc[salary_df['City'] == 'Wellington ', ['State']] = 'New Zealand'"
      ],
      "metadata": {
        "id": "K4nwcr7EEJrO"
      },
      "execution_count": 248,
      "outputs": []
    },
    {
      "cell_type": "code",
      "source": [
        "salary_df.loc[salary_df['City'] == 'Bristol', ['State']] = 'outh West England'"
      ],
      "metadata": {
        "id": "sFJRuPEI2FoP"
      },
      "execution_count": 249,
      "outputs": []
    },
    {
      "cell_type": "code",
      "source": [
        "salary_df.loc[salary_df['City'] == 'Cambridge', ['State']] = 'United Kingdom'"
      ],
      "metadata": {
        "id": "dPhScsc-2Flr"
      },
      "execution_count": 250,
      "outputs": []
    },
    {
      "cell_type": "code",
      "source": [
        "salary_df.loc[salary_df['City'] == 'Cambridge ', ['State']] = 'United Kingdom'"
      ],
      "metadata": {
        "id": "py-1vNzXCXeD"
      },
      "execution_count": 251,
      "outputs": []
    },
    {
      "cell_type": "code",
      "source": [
        "salary_df.loc[salary_df['City'] == 'Birmingham', ['State']] = 'West Midlands'"
      ],
      "metadata": {
        "id": "NybFj5sp2Fi0"
      },
      "execution_count": 252,
      "outputs": []
    },
    {
      "cell_type": "code",
      "source": [
        "salary_df.loc[salary_df['City'] == 'Birmingham ', ['State']] = 'West Midlands'"
      ],
      "metadata": {
        "id": "QwwqS9kZDF1U"
      },
      "execution_count": 253,
      "outputs": []
    },
    {
      "cell_type": "code",
      "source": [
        "salary_df.loc[salary_df['City'] == 'Oxford', ['State']] = 'Oxfordshire'"
      ],
      "metadata": {
        "id": "McHEjY242FgG"
      },
      "execution_count": 254,
      "outputs": []
    },
    {
      "cell_type": "code",
      "source": [
        "salary_df.loc[salary_df['City'] == 'Perth', ['State']] = 'Archbishop of Perth'"
      ],
      "metadata": {
        "id": "qOUuzrw64Hpo"
      },
      "execution_count": 255,
      "outputs": []
    },
    {
      "cell_type": "code",
      "source": [
        "salary_df.loc[salary_df['City'] == 'Adelaide', ['State']] = 'South Australia'"
      ],
      "metadata": {
        "id": "_g35bqXa4HmJ"
      },
      "execution_count": 256,
      "outputs": []
    },
    {
      "cell_type": "code",
      "source": [
        "salary_df.loc[salary_df['City'] == 'Victoria', ['State']] = 'southeastern Australia'"
      ],
      "metadata": {
        "id": "f0Qevp724Hjb"
      },
      "execution_count": 257,
      "outputs": []
    },
    {
      "cell_type": "code",
      "source": [
        "salary_df.loc[salary_df['City'] == 'Canberra', ['State']] = 'Australian Capital Territory'"
      ],
      "metadata": {
        "id": "TkKZKCgQ4HgQ"
      },
      "execution_count": 258,
      "outputs": []
    },
    {
      "cell_type": "code",
      "source": [
        "salary_df.loc[salary_df['City'] == 'Nottingham', ['State']] = 'Nottinghamshire'"
      ],
      "metadata": {
        "id": "3lujpGlq4Hd9"
      },
      "execution_count": 259,
      "outputs": []
    },
    {
      "cell_type": "code",
      "source": [
        "salary_df.loc[salary_df['City'] == 'Brussels', ['State']] = 'north-central Belgium'"
      ],
      "metadata": {
        "id": "uV06DNBj7Jkf"
      },
      "execution_count": 260,
      "outputs": []
    },
    {
      "cell_type": "code",
      "source": [
        "salary_df.loc[salary_df['City'] == 'Barcelona', ['State']] = 'Eastern Spain'"
      ],
      "metadata": {
        "id": "NXQKtdOK7I8n"
      },
      "execution_count": 261,
      "outputs": []
    },
    {
      "cell_type": "code",
      "source": [
        "salary_df.loc[salary_df['City'] == 'Stockholm', ['State']] = 'Södermanland'"
      ],
      "metadata": {
        "id": "74gUIynV7Ix8"
      },
      "execution_count": 262,
      "outputs": []
    },
    {
      "cell_type": "code",
      "source": [
        "salary_df.loc[salary_df['City'] == 'Regina', ['State']] = 'Saskatchewan'"
      ],
      "metadata": {
        "id": "CQrXk4Ss4HbD"
      },
      "execution_count": 263,
      "outputs": []
    },
    {
      "cell_type": "code",
      "source": [
        "salary_df.loc[salary_df['City'] == 'Sheffield', ['State']] = 'South Yorkshire'"
      ],
      "metadata": {
        "id": "L0gm4Tji79Kb"
      },
      "execution_count": 264,
      "outputs": []
    },
    {
      "cell_type": "code",
      "source": [
        "salary_df.loc[salary_df['City'] == 'Kitchener', ['State']] = 'Ontario'"
      ],
      "metadata": {
        "id": "GtIwUUQf79G8"
      },
      "execution_count": 265,
      "outputs": []
    },
    {
      "cell_type": "code",
      "source": [
        "salary_df.loc[salary_df['City'] == 'Vienna', ['State']] = 'Austria'"
      ],
      "metadata": {
        "id": "FzVc7WvD79DX"
      },
      "execution_count": 266,
      "outputs": []
    },
    {
      "cell_type": "code",
      "source": [
        "salary_df.loc[salary_df['City'] == 'Saskatoon', ['State']] = 'Saskatchewan'"
      ],
      "metadata": {
        "id": "aOUglpz-78-N"
      },
      "execution_count": 267,
      "outputs": []
    },
    {
      "cell_type": "code",
      "source": [
        "salary_df.loc[salary_df['City'] == 'Hamburg', ['State']] = 'Hamburg Lower Saxony Schleswig-Holstein Mecklenburg-Vorpommern'"
      ],
      "metadata": {
        "id": "Nuvd4HPZ783H"
      },
      "execution_count": 268,
      "outputs": []
    },
    {
      "cell_type": "code",
      "source": [
        "salary_df.loc[salary_df['City'] == 'Waterloo', ['State']] = 'Ontario'"
      ],
      "metadata": {
        "id": "V7VRKwGW9k7s"
      },
      "execution_count": 269,
      "outputs": []
    },
    {
      "cell_type": "code",
      "source": [
        "salary_df.loc[salary_df['City'] == 'Christchurch', ['State']] = 'Canterbury'"
      ],
      "metadata": {
        "id": "yAGd9IMa9k4D"
      },
      "execution_count": 270,
      "outputs": []
    },
    {
      "cell_type": "code",
      "source": [
        "salary_df.loc[salary_df['City'] == 'York', ['State']] = 'Yorkshire'"
      ],
      "metadata": {
        "id": "-0SgyImc9k12"
      },
      "execution_count": 271,
      "outputs": []
    },
    {
      "cell_type": "code",
      "source": [
        "salary_df.loc[salary_df['City'] == 'Cardiff', ['State']] = 'Welsh Caerdydd'"
      ],
      "metadata": {
        "id": "engKViS19kyy"
      },
      "execution_count": 272,
      "outputs": []
    },
    {
      "cell_type": "code",
      "source": [
        "salary_df.loc[salary_df['City'] == 'Hamilton', ['State']] = 'Ontario'"
      ],
      "metadata": {
        "id": "MOI8OwWP9kvs"
      },
      "execution_count": 273,
      "outputs": []
    },
    {
      "cell_type": "code",
      "source": [
        "salary_df.loc[salary_df['City'] == 'Liverpool', ['State']] = 'North West England'"
      ],
      "metadata": {
        "id": "M4E6FYau_e9Y"
      },
      "execution_count": 274,
      "outputs": []
    },
    {
      "cell_type": "code",
      "source": [
        "salary_df.loc[salary_df['City'] == 'Oslo', ['State']] = 'East Norway'"
      ],
      "metadata": {
        "id": "Nvy5NGBI_e4O"
      },
      "execution_count": 275,
      "outputs": []
    },
    {
      "cell_type": "code",
      "source": [
        "salary_df.loc[salary_df['City'] == 'Utrecht', ['State']] = 'Utrecht'"
      ],
      "metadata": {
        "id": "Vjvnital_e0y"
      },
      "execution_count": 276,
      "outputs": []
    },
    {
      "cell_type": "code",
      "source": [
        "salary_df.loc[salary_df['City'] == 'Copenhagen', ['State']] = 'Capital City Region'"
      ],
      "metadata": {
        "id": "nB24Dn7j_exX"
      },
      "execution_count": 277,
      "outputs": []
    },
    {
      "cell_type": "code",
      "source": [
        "salary_df.loc[salary_df['City'] == 'Reading', ['State']] = 'Berkshire'"
      ],
      "metadata": {
        "id": "orpDzQGS_eu6"
      },
      "execution_count": 278,
      "outputs": []
    },
    {
      "cell_type": "code",
      "source": [
        "salary_df.loc[salary_df['City'] == 'Sydney', ['State']] = 'New South Wales'"
      ],
      "metadata": {
        "id": "yz5tLKJeA5YY"
      },
      "execution_count": 279,
      "outputs": []
    },
    {
      "cell_type": "code",
      "source": [
        "salary_df.loc[salary_df['City'] == 'Sydney ', ['State']] = 'New South Wales'"
      ],
      "metadata": {
        "id": "A_N8g2TJCPPF"
      },
      "execution_count": 280,
      "outputs": []
    },
    {
      "cell_type": "code",
      "source": [
        "salary_df.loc[salary_df['City'] == 'Aberdeen', ['State']] = 'Aberdeen City'"
      ],
      "metadata": {
        "id": "X84j5RM_A5Ph"
      },
      "execution_count": 281,
      "outputs": []
    },
    {
      "cell_type": "code",
      "source": [
        "salary_df.loc[salary_df['City'] == 'Cork', ['State']] = 'Munster'"
      ],
      "metadata": {
        "id": "ZxOOEoepA5MP"
      },
      "execution_count": 282,
      "outputs": []
    },
    {
      "cell_type": "code",
      "source": [
        "salary_df.loc[salary_df['City'] == 'Zurich', ['State']] = 'Canton of Zürich'"
      ],
      "metadata": {
        "id": "wArFbhQ3A5JT"
      },
      "execution_count": 283,
      "outputs": []
    },
    {
      "cell_type": "code",
      "source": [
        "salary_df.loc[salary_df['City'] == 'Guelph', ['State']] = 'Ontario'"
      ],
      "metadata": {
        "id": "U5-e7GEHA5Gu"
      },
      "execution_count": 284,
      "outputs": []
    },
    {
      "cell_type": "code",
      "source": [
        "salary_df.loc[salary_df['City'] == 'Madrid', ['State']] = 'Community of Madrid'"
      ],
      "metadata": {
        "id": "ljppFAeNB5wa"
      },
      "execution_count": 285,
      "outputs": []
    },
    {
      "cell_type": "code",
      "source": [
        "salary_df.loc[salary_df['City'] == 'Surrey', ['State']] = 'British Columbia'"
      ],
      "metadata": {
        "id": "Rk6ms4XbB5s3"
      },
      "execution_count": 286,
      "outputs": []
    },
    {
      "cell_type": "code",
      "source": [
        "salary_df.loc[salary_df['City'] == 'Durham', ['State']] = 'North Carolina'"
      ],
      "metadata": {
        "id": "oS0BlCNPB5pt"
      },
      "execution_count": 287,
      "outputs": []
    },
    {
      "cell_type": "code",
      "source": [
        "salary_df.loc[salary_df['City'] == 'Southampton', ['State']] = 'Hampshire'"
      ],
      "metadata": {
        "id": "AlmN1A_uDuLE"
      },
      "execution_count": 288,
      "outputs": []
    },
    {
      "cell_type": "markdown",
      "source": [
        "# **I set the index back to State so i can check the highest missing values in the state column and deal with those**"
      ],
      "metadata": {
        "id": "c3MkX2Qy3hlN"
      }
    },
    {
      "cell_type": "markdown",
      "source": [
        "# **There are 1112 values left to be filled out of 4988 missing values**"
      ],
      "metadata": {
        "id": "MW7S7Kpq4br7"
      }
    },
    {
      "cell_type": "code",
      "source": [
        "salary_df.set_index(keys = [\"State\"], inplace = True)"
      ],
      "metadata": {
        "id": "dpKzf4R5jodx"
      },
      "execution_count": 289,
      "outputs": []
    },
    {
      "cell_type": "code",
      "source": [
        "salary_df.loc[(\"Null\"), \"City\"].value_counts()"
      ],
      "metadata": {
        "colab": {
          "base_uri": "https://localhost:8080/"
        },
        "id": "l5JA40zgjobP",
        "outputId": "be23ecf6-052f-4a1b-87d8-9fbf5f8a34ed"
      },
      "execution_count": 290,
      "outputs": [
        {
          "output_type": "execute_result",
          "data": {
            "text/plain": [
              "Remote                        20\n",
              "Brisbane                       7\n",
              "Newcastle                      7\n",
              "Ottawa, Ontario                7\n",
              "Amsterdam                      7\n",
              "                              ..\n",
              "MCOL New England               1\n",
              "Wakefield                      1\n",
              "Stoke                          1\n",
              "San Nicolás de los Arroyos     1\n",
              "Moose Jaw, sk.                 1\n",
              "Name: City, Length: 1112, dtype: int64"
            ]
          },
          "metadata": {},
          "execution_count": 290
        }
      ]
    },
    {
      "cell_type": "markdown",
      "source": [
        "# **I reset the Column back to numeric**"
      ],
      "metadata": {
        "id": "Yw0kP6LG3vr7"
      }
    },
    {
      "cell_type": "code",
      "source": [
        "salary_df.reset_index(inplace=True)\n",
        "salary_df"
      ],
      "metadata": {
        "id": "wmSh41Xb-0AD",
        "colab": {
          "base_uri": "https://localhost:8080/",
          "height": 763
        },
        "outputId": "b9c7a9f3-6af2-430b-95e0-76ee3007cbc5"
      },
      "execution_count": 291,
      "outputs": [
        {
          "output_type": "execute_result",
          "data": {
            "text/html": [
              "\n",
              "  <div id=\"df-8214218a-3af0-46b1-aa36-b756451d5b9d\">\n",
              "    <div class=\"colab-df-container\">\n",
              "      <div>\n",
              "<style scoped>\n",
              "    .dataframe tbody tr th:only-of-type {\n",
              "        vertical-align: middle;\n",
              "    }\n",
              "\n",
              "    .dataframe tbody tr th {\n",
              "        vertical-align: top;\n",
              "    }\n",
              "\n",
              "    .dataframe thead th {\n",
              "        text-align: right;\n",
              "    }\n",
              "</style>\n",
              "<table border=\"1\" class=\"dataframe\">\n",
              "  <thead>\n",
              "    <tr style=\"text-align: right;\">\n",
              "      <th></th>\n",
              "      <th>State</th>\n",
              "      <th>Currency</th>\n",
              "      <th>Country</th>\n",
              "      <th>Timestamp</th>\n",
              "      <th>How old are you?</th>\n",
              "      <th>Industry</th>\n",
              "      <th>Job title</th>\n",
              "      <th>Annual salary</th>\n",
              "      <th>City</th>\n",
              "      <th>Overall years of professional experience</th>\n",
              "      <th>Years of experience in field</th>\n",
              "      <th>Highest level of education completed</th>\n",
              "      <th>Gender</th>\n",
              "      <th>Race</th>\n",
              "    </tr>\n",
              "  </thead>\n",
              "  <tbody>\n",
              "    <tr>\n",
              "      <th>0</th>\n",
              "      <td>New South Wales</td>\n",
              "      <td>USD</td>\n",
              "      <td>Australia</td>\n",
              "      <td>4/28/2021 4:12:50</td>\n",
              "      <td>45-54</td>\n",
              "      <td>Education (Higher Education)</td>\n",
              "      <td>ESOL Teacher</td>\n",
              "      <td>150300.0</td>\n",
              "      <td>Sydney</td>\n",
              "      <td>31 - 40 years</td>\n",
              "      <td>2 - 4 years</td>\n",
              "      <td>Master's degree</td>\n",
              "      <td>Woman</td>\n",
              "      <td>White</td>\n",
              "    </tr>\n",
              "    <tr>\n",
              "      <th>1</th>\n",
              "      <td>state of Victoria</td>\n",
              "      <td>USD</td>\n",
              "      <td>Australia</td>\n",
              "      <td>5/5/2021 22:19:51</td>\n",
              "      <td>25-34</td>\n",
              "      <td>Education (Primary/Secondary)</td>\n",
              "      <td>Teacher</td>\n",
              "      <td>67245.3</td>\n",
              "      <td>Melbourne</td>\n",
              "      <td>8 - 10 years</td>\n",
              "      <td>2 - 4 years</td>\n",
              "      <td>Master's degree</td>\n",
              "      <td>Woman</td>\n",
              "      <td>White</td>\n",
              "    </tr>\n",
              "    <tr>\n",
              "      <th>2</th>\n",
              "      <td>South Australia</td>\n",
              "      <td>USD</td>\n",
              "      <td>Australia</td>\n",
              "      <td>4/28/2021 5:45:11</td>\n",
              "      <td>45-54</td>\n",
              "      <td>Health care</td>\n",
              "      <td>Executive Assistant</td>\n",
              "      <td>56700.0</td>\n",
              "      <td>Adelaide</td>\n",
              "      <td>21 - 30 years</td>\n",
              "      <td>21 - 30 years</td>\n",
              "      <td>Some college</td>\n",
              "      <td>Woman</td>\n",
              "      <td>White</td>\n",
              "    </tr>\n",
              "    <tr>\n",
              "      <th>3</th>\n",
              "      <td>South Australia</td>\n",
              "      <td>USD</td>\n",
              "      <td>Australia</td>\n",
              "      <td>4/29/2021 7:22:57</td>\n",
              "      <td>25-34</td>\n",
              "      <td>Leisure, Sport &amp; Tourism</td>\n",
              "      <td>Business Development Officer</td>\n",
              "      <td>45000.0</td>\n",
              "      <td>Adelaide</td>\n",
              "      <td>2 - 4 years</td>\n",
              "      <td>2 - 4 years</td>\n",
              "      <td>College degree</td>\n",
              "      <td>Woman</td>\n",
              "      <td>White</td>\n",
              "    </tr>\n",
              "    <tr>\n",
              "      <th>4</th>\n",
              "      <td>Queensland</td>\n",
              "      <td>USD</td>\n",
              "      <td>Australia</td>\n",
              "      <td>5/5/2021 22:33:49</td>\n",
              "      <td>18-24</td>\n",
              "      <td>Marketing, Advertising &amp; PR</td>\n",
              "      <td>Platform Executive</td>\n",
              "      <td>40500.0</td>\n",
              "      <td>Brisbane</td>\n",
              "      <td>2 - 4 years</td>\n",
              "      <td>1 year or less</td>\n",
              "      <td>College degree</td>\n",
              "      <td>Woman</td>\n",
              "      <td>White</td>\n",
              "    </tr>\n",
              "    <tr>\n",
              "      <th>...</th>\n",
              "      <td>...</td>\n",
              "      <td>...</td>\n",
              "      <td>...</td>\n",
              "      <td>...</td>\n",
              "      <td>...</td>\n",
              "      <td>...</td>\n",
              "      <td>...</td>\n",
              "      <td>...</td>\n",
              "      <td>...</td>\n",
              "      <td>...</td>\n",
              "      <td>...</td>\n",
              "      <td>...</td>\n",
              "      <td>...</td>\n",
              "      <td>...</td>\n",
              "    </tr>\n",
              "    <tr>\n",
              "      <th>27020</th>\n",
              "      <td>Null</td>\n",
              "      <td>USD</td>\n",
              "      <td>South Africa</td>\n",
              "      <td>4/27/2021 11:53:46</td>\n",
              "      <td>25-34</td>\n",
              "      <td>Media &amp; Digital</td>\n",
              "      <td>SEO Specialist</td>\n",
              "      <td>35295.0</td>\n",
              "      <td>Cape Town</td>\n",
              "      <td>8 - 10 years</td>\n",
              "      <td>2 - 4 years</td>\n",
              "      <td>College degree</td>\n",
              "      <td>Woman</td>\n",
              "      <td>Another option not listed here or prefer not t...</td>\n",
              "    </tr>\n",
              "    <tr>\n",
              "      <th>27021</th>\n",
              "      <td>Null</td>\n",
              "      <td>USD</td>\n",
              "      <td>South africa</td>\n",
              "      <td>4/28/2021 17:09:35</td>\n",
              "      <td>35-44</td>\n",
              "      <td>Accounting, Banking &amp; Finance</td>\n",
              "      <td>Business Analyst</td>\n",
              "      <td>52325.0</td>\n",
              "      <td>Cape town</td>\n",
              "      <td>11 - 20 years</td>\n",
              "      <td>8 - 10 years</td>\n",
              "      <td>College degree</td>\n",
              "      <td>Man</td>\n",
              "      <td>Black or African American</td>\n",
              "    </tr>\n",
              "    <tr>\n",
              "      <th>27022</th>\n",
              "      <td>Null</td>\n",
              "      <td>USD</td>\n",
              "      <td>South Africa</td>\n",
              "      <td>4/27/2021 14:36:47</td>\n",
              "      <td>35-44</td>\n",
              "      <td>Education (Higher Education)</td>\n",
              "      <td>Associate Professor</td>\n",
              "      <td>63336.0</td>\n",
              "      <td>Cape Town</td>\n",
              "      <td>21 - 30 years</td>\n",
              "      <td>11 - 20 years</td>\n",
              "      <td>Professional degree (MD, JD, etc.)</td>\n",
              "      <td>Woman</td>\n",
              "      <td>Asian or Asian American</td>\n",
              "    </tr>\n",
              "    <tr>\n",
              "      <th>27023</th>\n",
              "      <td>Null</td>\n",
              "      <td>USD</td>\n",
              "      <td>South Africa</td>\n",
              "      <td>4/29/2021 14:39:01</td>\n",
              "      <td>45-54</td>\n",
              "      <td>Engineering or Manufacturing</td>\n",
              "      <td>Account Manager</td>\n",
              "      <td>26000.0</td>\n",
              "      <td>Pietermaritzburg</td>\n",
              "      <td>11 - 20 years</td>\n",
              "      <td>2 - 4 years</td>\n",
              "      <td>College degree</td>\n",
              "      <td>Woman</td>\n",
              "      <td>White</td>\n",
              "    </tr>\n",
              "    <tr>\n",
              "      <th>27024</th>\n",
              "      <td>Null</td>\n",
              "      <td>USD</td>\n",
              "      <td>South Africa</td>\n",
              "      <td>4/27/2021 12:05:46</td>\n",
              "      <td>18-24</td>\n",
              "      <td>Nonprofits</td>\n",
              "      <td>System administration and project manager</td>\n",
              "      <td>15600.0</td>\n",
              "      <td>Gauteng</td>\n",
              "      <td>2 - 4 years</td>\n",
              "      <td>2 - 4 years</td>\n",
              "      <td>College degree</td>\n",
              "      <td>Woman</td>\n",
              "      <td>White</td>\n",
              "    </tr>\n",
              "  </tbody>\n",
              "</table>\n",
              "<p>27025 rows × 14 columns</p>\n",
              "</div>\n",
              "      <button class=\"colab-df-convert\" onclick=\"convertToInteractive('df-8214218a-3af0-46b1-aa36-b756451d5b9d')\"\n",
              "              title=\"Convert this dataframe to an interactive table.\"\n",
              "              style=\"display:none;\">\n",
              "        \n",
              "  <svg xmlns=\"http://www.w3.org/2000/svg\" height=\"24px\"viewBox=\"0 0 24 24\"\n",
              "       width=\"24px\">\n",
              "    <path d=\"M0 0h24v24H0V0z\" fill=\"none\"/>\n",
              "    <path d=\"M18.56 5.44l.94 2.06.94-2.06 2.06-.94-2.06-.94-.94-2.06-.94 2.06-2.06.94zm-11 1L8.5 8.5l.94-2.06 2.06-.94-2.06-.94L8.5 2.5l-.94 2.06-2.06.94zm10 10l.94 2.06.94-2.06 2.06-.94-2.06-.94-.94-2.06-.94 2.06-2.06.94z\"/><path d=\"M17.41 7.96l-1.37-1.37c-.4-.4-.92-.59-1.43-.59-.52 0-1.04.2-1.43.59L10.3 9.45l-7.72 7.72c-.78.78-.78 2.05 0 2.83L4 21.41c.39.39.9.59 1.41.59.51 0 1.02-.2 1.41-.59l7.78-7.78 2.81-2.81c.8-.78.8-2.07 0-2.86zM5.41 20L4 18.59l7.72-7.72 1.47 1.35L5.41 20z\"/>\n",
              "  </svg>\n",
              "      </button>\n",
              "      \n",
              "  <style>\n",
              "    .colab-df-container {\n",
              "      display:flex;\n",
              "      flex-wrap:wrap;\n",
              "      gap: 12px;\n",
              "    }\n",
              "\n",
              "    .colab-df-convert {\n",
              "      background-color: #E8F0FE;\n",
              "      border: none;\n",
              "      border-radius: 50%;\n",
              "      cursor: pointer;\n",
              "      display: none;\n",
              "      fill: #1967D2;\n",
              "      height: 32px;\n",
              "      padding: 0 0 0 0;\n",
              "      width: 32px;\n",
              "    }\n",
              "\n",
              "    .colab-df-convert:hover {\n",
              "      background-color: #E2EBFA;\n",
              "      box-shadow: 0px 1px 2px rgba(60, 64, 67, 0.3), 0px 1px 3px 1px rgba(60, 64, 67, 0.15);\n",
              "      fill: #174EA6;\n",
              "    }\n",
              "\n",
              "    [theme=dark] .colab-df-convert {\n",
              "      background-color: #3B4455;\n",
              "      fill: #D2E3FC;\n",
              "    }\n",
              "\n",
              "    [theme=dark] .colab-df-convert:hover {\n",
              "      background-color: #434B5C;\n",
              "      box-shadow: 0px 1px 3px 1px rgba(0, 0, 0, 0.15);\n",
              "      filter: drop-shadow(0px 1px 2px rgba(0, 0, 0, 0.3));\n",
              "      fill: #FFFFFF;\n",
              "    }\n",
              "  </style>\n",
              "\n",
              "      <script>\n",
              "        const buttonEl =\n",
              "          document.querySelector('#df-8214218a-3af0-46b1-aa36-b756451d5b9d button.colab-df-convert');\n",
              "        buttonEl.style.display =\n",
              "          google.colab.kernel.accessAllowed ? 'block' : 'none';\n",
              "\n",
              "        async function convertToInteractive(key) {\n",
              "          const element = document.querySelector('#df-8214218a-3af0-46b1-aa36-b756451d5b9d');\n",
              "          const dataTable =\n",
              "            await google.colab.kernel.invokeFunction('convertToInteractive',\n",
              "                                                     [key], {});\n",
              "          if (!dataTable) return;\n",
              "\n",
              "          const docLinkHtml = 'Like what you see? Visit the ' +\n",
              "            '<a target=\"_blank\" href=https://colab.research.google.com/notebooks/data_table.ipynb>data table notebook</a>'\n",
              "            + ' to learn more about interactive tables.';\n",
              "          element.innerHTML = '';\n",
              "          dataTable['output_type'] = 'display_data';\n",
              "          await google.colab.output.renderOutput(dataTable, element);\n",
              "          const docLink = document.createElement('div');\n",
              "          docLink.innerHTML = docLinkHtml;\n",
              "          element.appendChild(docLink);\n",
              "        }\n",
              "      </script>\n",
              "    </div>\n",
              "  </div>\n",
              "  "
            ],
            "text/plain": [
              "                   State  ...                                               Race\n",
              "0        New South Wales  ...                                              White\n",
              "1      state of Victoria  ...                                              White\n",
              "2        South Australia  ...                                              White\n",
              "3        South Australia  ...                                              White\n",
              "4             Queensland  ...                                              White\n",
              "...                  ...  ...                                                ...\n",
              "27020               Null  ...  Another option not listed here or prefer not t...\n",
              "27021               Null  ...                          Black or African American\n",
              "27022               Null  ...                            Asian or Asian American\n",
              "27023               Null  ...                                              White\n",
              "27024               Null  ...                                              White\n",
              "\n",
              "[27025 rows x 14 columns]"
            ]
          },
          "metadata": {},
          "execution_count": 291
        }
      ]
    },
    {
      "cell_type": "markdown",
      "source": [
        "# **i checked for missing values again and there are non**"
      ],
      "metadata": {
        "id": "z6uA04nf37vm"
      }
    },
    {
      "cell_type": "code",
      "source": [
        "salary_df.isnull().sum()"
      ],
      "metadata": {
        "colab": {
          "base_uri": "https://localhost:8080/"
        },
        "id": "IK33YqyZM9D1",
        "outputId": "cd8a8315-fb22-4ff0-bbe0-bbc864682fac"
      },
      "execution_count": 292,
      "outputs": [
        {
          "output_type": "execute_result",
          "data": {
            "text/plain": [
              "State                                       0\n",
              "Currency                                    0\n",
              "Country                                     0\n",
              "Timestamp                                   0\n",
              "How old are you?                            0\n",
              "Industry                                    0\n",
              "Job title                                   0\n",
              "Annual salary                               0\n",
              "City                                        0\n",
              "Overall years of professional experience    0\n",
              "Years of experience in field                0\n",
              "Highest level of education completed        0\n",
              "Gender                                      0\n",
              "Race                                        0\n",
              "dtype: int64"
            ]
          },
          "metadata": {},
          "execution_count": 292
        }
      ]
    },
    {
      "cell_type": "markdown",
      "source": [
        "# **i checked the Data info and 572 NaN values are deleted from the dataset**"
      ],
      "metadata": {
        "id": "z7fHItHh4H0c"
      }
    },
    {
      "cell_type": "code",
      "source": [
        "salary_df.info()"
      ],
      "metadata": {
        "colab": {
          "base_uri": "https://localhost:8080/"
        },
        "id": "bg3JRMkKNZSc",
        "outputId": "77b39928-ac14-438d-def3-754c5fb70c10"
      },
      "execution_count": 293,
      "outputs": [
        {
          "output_type": "stream",
          "name": "stdout",
          "text": [
            "<class 'pandas.core.frame.DataFrame'>\n",
            "RangeIndex: 27025 entries, 0 to 27024\n",
            "Data columns (total 14 columns):\n",
            " #   Column                                    Non-Null Count  Dtype  \n",
            "---  ------                                    --------------  -----  \n",
            " 0   State                                     27025 non-null  object \n",
            " 1   Currency                                  27025 non-null  object \n",
            " 2   Country                                   27025 non-null  object \n",
            " 3   Timestamp                                 27025 non-null  object \n",
            " 4   How old are you?                          27025 non-null  object \n",
            " 5   Industry                                  27025 non-null  object \n",
            " 6   Job title                                 27025 non-null  object \n",
            " 7   Annual salary                             27025 non-null  float64\n",
            " 8   City                                      27025 non-null  object \n",
            " 9   Overall years of professional experience  27025 non-null  object \n",
            " 10  Years of experience in field              27025 non-null  object \n",
            " 11  Highest level of education completed      27025 non-null  object \n",
            " 12  Gender                                    27025 non-null  object \n",
            " 13  Race                                      27025 non-null  object \n",
            "dtypes: float64(1), object(13)\n",
            "memory usage: 2.9+ MB\n"
          ]
        }
      ]
    },
    {
      "cell_type": "code",
      "source": [
        ""
      ],
      "metadata": {
        "id": "-wldjyLb_g_m"
      },
      "execution_count": 293,
      "outputs": []
    },
    {
      "cell_type": "markdown",
      "source": [
        "# **Checking the Salary Column from the highest**"
      ],
      "metadata": {
        "id": "p-PtuY_x3iek"
      }
    },
    {
      "cell_type": "code",
      "source": [
        "salary_df.sort_values(by = 'Annual salary', ascending = False).head(4)"
      ],
      "metadata": {
        "colab": {
          "base_uri": "https://localhost:8080/",
          "height": 375
        },
        "id": "UWuIuQcB3RS4",
        "outputId": "8d071ecb-039b-4002-9150-6920828d22d6"
      },
      "execution_count": 294,
      "outputs": [
        {
          "output_type": "execute_result",
          "data": {
            "text/html": [
              "\n",
              "  <div id=\"df-42322d14-eb1e-4396-9eb2-abf4ec52ae97\">\n",
              "    <div class=\"colab-df-container\">\n",
              "      <div>\n",
              "<style scoped>\n",
              "    .dataframe tbody tr th:only-of-type {\n",
              "        vertical-align: middle;\n",
              "    }\n",
              "\n",
              "    .dataframe tbody tr th {\n",
              "        vertical-align: top;\n",
              "    }\n",
              "\n",
              "    .dataframe thead th {\n",
              "        text-align: right;\n",
              "    }\n",
              "</style>\n",
              "<table border=\"1\" class=\"dataframe\">\n",
              "  <thead>\n",
              "    <tr style=\"text-align: right;\">\n",
              "      <th></th>\n",
              "      <th>State</th>\n",
              "      <th>Currency</th>\n",
              "      <th>Country</th>\n",
              "      <th>Timestamp</th>\n",
              "      <th>How old are you?</th>\n",
              "      <th>Industry</th>\n",
              "      <th>Job title</th>\n",
              "      <th>Annual salary</th>\n",
              "      <th>City</th>\n",
              "      <th>Overall years of professional experience</th>\n",
              "      <th>Years of experience in field</th>\n",
              "      <th>Highest level of education completed</th>\n",
              "      <th>Gender</th>\n",
              "      <th>Race</th>\n",
              "    </tr>\n",
              "  </thead>\n",
              "  <tbody>\n",
              "    <tr>\n",
              "      <th>11210</th>\n",
              "      <td>New Jersey</td>\n",
              "      <td>USD</td>\n",
              "      <td>Usa</td>\n",
              "      <td>6/14/2021 4:19:17</td>\n",
              "      <td>55-64</td>\n",
              "      <td>Sales</td>\n",
              "      <td>Inside sales manager</td>\n",
              "      <td>5000044.0</td>\n",
              "      <td>Pinebrook</td>\n",
              "      <td>31 - 40 years</td>\n",
              "      <td>21 - 30 years</td>\n",
              "      <td>Master's degree</td>\n",
              "      <td>Woman</td>\n",
              "      <td>Black or African American</td>\n",
              "    </tr>\n",
              "    <tr>\n",
              "      <th>20099</th>\n",
              "      <td>New York</td>\n",
              "      <td>USD</td>\n",
              "      <td>USA</td>\n",
              "      <td>4/27/2021 11:38:28</td>\n",
              "      <td>55-64</td>\n",
              "      <td>Art &amp; Design</td>\n",
              "      <td>Owner and CEO</td>\n",
              "      <td>3000000.0</td>\n",
              "      <td>New York</td>\n",
              "      <td>21 - 30 years</td>\n",
              "      <td>21 - 30 years</td>\n",
              "      <td>Master's degree</td>\n",
              "      <td>Woman</td>\n",
              "      <td>White</td>\n",
              "    </tr>\n",
              "    <tr>\n",
              "      <th>7444</th>\n",
              "      <td>Republic of Singapore</td>\n",
              "      <td>USD</td>\n",
              "      <td>Singapore</td>\n",
              "      <td>4/28/2021 17:09:29</td>\n",
              "      <td>35-44</td>\n",
              "      <td>Computing or Tech</td>\n",
              "      <td>Product Manager</td>\n",
              "      <td>2111538.0</td>\n",
              "      <td>Singapore</td>\n",
              "      <td>11 - 20 years</td>\n",
              "      <td>11 - 20 years</td>\n",
              "      <td>College degree</td>\n",
              "      <td>Man</td>\n",
              "      <td>Asian or Asian American</td>\n",
              "    </tr>\n",
              "    <tr>\n",
              "      <th>17170</th>\n",
              "      <td>Connecticut</td>\n",
              "      <td>USD</td>\n",
              "      <td>USA</td>\n",
              "      <td>4/27/2021 13:22:34</td>\n",
              "      <td>25-34</td>\n",
              "      <td>Health care</td>\n",
              "      <td>Attending Physician (general internal medicine)</td>\n",
              "      <td>1900000.0</td>\n",
              "      <td>New Haven</td>\n",
              "      <td>5-7 years</td>\n",
              "      <td>5-7 years</td>\n",
              "      <td>Professional degree (MD, JD, etc.)</td>\n",
              "      <td>Woman</td>\n",
              "      <td>White</td>\n",
              "    </tr>\n",
              "  </tbody>\n",
              "</table>\n",
              "</div>\n",
              "      <button class=\"colab-df-convert\" onclick=\"convertToInteractive('df-42322d14-eb1e-4396-9eb2-abf4ec52ae97')\"\n",
              "              title=\"Convert this dataframe to an interactive table.\"\n",
              "              style=\"display:none;\">\n",
              "        \n",
              "  <svg xmlns=\"http://www.w3.org/2000/svg\" height=\"24px\"viewBox=\"0 0 24 24\"\n",
              "       width=\"24px\">\n",
              "    <path d=\"M0 0h24v24H0V0z\" fill=\"none\"/>\n",
              "    <path d=\"M18.56 5.44l.94 2.06.94-2.06 2.06-.94-2.06-.94-.94-2.06-.94 2.06-2.06.94zm-11 1L8.5 8.5l.94-2.06 2.06-.94-2.06-.94L8.5 2.5l-.94 2.06-2.06.94zm10 10l.94 2.06.94-2.06 2.06-.94-2.06-.94-.94-2.06-.94 2.06-2.06.94z\"/><path d=\"M17.41 7.96l-1.37-1.37c-.4-.4-.92-.59-1.43-.59-.52 0-1.04.2-1.43.59L10.3 9.45l-7.72 7.72c-.78.78-.78 2.05 0 2.83L4 21.41c.39.39.9.59 1.41.59.51 0 1.02-.2 1.41-.59l7.78-7.78 2.81-2.81c.8-.78.8-2.07 0-2.86zM5.41 20L4 18.59l7.72-7.72 1.47 1.35L5.41 20z\"/>\n",
              "  </svg>\n",
              "      </button>\n",
              "      \n",
              "  <style>\n",
              "    .colab-df-container {\n",
              "      display:flex;\n",
              "      flex-wrap:wrap;\n",
              "      gap: 12px;\n",
              "    }\n",
              "\n",
              "    .colab-df-convert {\n",
              "      background-color: #E8F0FE;\n",
              "      border: none;\n",
              "      border-radius: 50%;\n",
              "      cursor: pointer;\n",
              "      display: none;\n",
              "      fill: #1967D2;\n",
              "      height: 32px;\n",
              "      padding: 0 0 0 0;\n",
              "      width: 32px;\n",
              "    }\n",
              "\n",
              "    .colab-df-convert:hover {\n",
              "      background-color: #E2EBFA;\n",
              "      box-shadow: 0px 1px 2px rgba(60, 64, 67, 0.3), 0px 1px 3px 1px rgba(60, 64, 67, 0.15);\n",
              "      fill: #174EA6;\n",
              "    }\n",
              "\n",
              "    [theme=dark] .colab-df-convert {\n",
              "      background-color: #3B4455;\n",
              "      fill: #D2E3FC;\n",
              "    }\n",
              "\n",
              "    [theme=dark] .colab-df-convert:hover {\n",
              "      background-color: #434B5C;\n",
              "      box-shadow: 0px 1px 3px 1px rgba(0, 0, 0, 0.15);\n",
              "      filter: drop-shadow(0px 1px 2px rgba(0, 0, 0, 0.3));\n",
              "      fill: #FFFFFF;\n",
              "    }\n",
              "  </style>\n",
              "\n",
              "      <script>\n",
              "        const buttonEl =\n",
              "          document.querySelector('#df-42322d14-eb1e-4396-9eb2-abf4ec52ae97 button.colab-df-convert');\n",
              "        buttonEl.style.display =\n",
              "          google.colab.kernel.accessAllowed ? 'block' : 'none';\n",
              "\n",
              "        async function convertToInteractive(key) {\n",
              "          const element = document.querySelector('#df-42322d14-eb1e-4396-9eb2-abf4ec52ae97');\n",
              "          const dataTable =\n",
              "            await google.colab.kernel.invokeFunction('convertToInteractive',\n",
              "                                                     [key], {});\n",
              "          if (!dataTable) return;\n",
              "\n",
              "          const docLinkHtml = 'Like what you see? Visit the ' +\n",
              "            '<a target=\"_blank\" href=https://colab.research.google.com/notebooks/data_table.ipynb>data table notebook</a>'\n",
              "            + ' to learn more about interactive tables.';\n",
              "          element.innerHTML = '';\n",
              "          dataTable['output_type'] = 'display_data';\n",
              "          await google.colab.output.renderOutput(dataTable, element);\n",
              "          const docLink = document.createElement('div');\n",
              "          docLink.innerHTML = docLinkHtml;\n",
              "          element.appendChild(docLink);\n",
              "        }\n",
              "      </script>\n",
              "    </div>\n",
              "  </div>\n",
              "  "
            ],
            "text/plain": [
              "                       State Currency  ... Gender                       Race\n",
              "11210             New Jersey      USD  ...  Woman  Black or African American\n",
              "20099               New York      USD  ...  Woman                      White\n",
              "7444   Republic of Singapore      USD  ...    Man    Asian or Asian American\n",
              "17170            Connecticut      USD  ...  Woman                      White\n",
              "\n",
              "[4 rows x 14 columns]"
            ]
          },
          "metadata": {},
          "execution_count": 294
        }
      ]
    },
    {
      "cell_type": "code",
      "source": [
        ""
      ],
      "metadata": {
        "id": "am0S0uEU3bRB"
      },
      "execution_count": 294,
      "outputs": []
    },
    {
      "cell_type": "markdown",
      "source": [
        "# **Checking the Salary Column from the Lowest**"
      ],
      "metadata": {
        "id": "PyuPXVyg3qHK"
      }
    },
    {
      "cell_type": "code",
      "source": [
        "salary_df.sort_values(by = 'Annual salary', ascending = True).head(4)"
      ],
      "metadata": {
        "colab": {
          "base_uri": "https://localhost:8080/",
          "height": 392
        },
        "id": "eNrKE4jE3bye",
        "outputId": "802b21a5-930e-4ab0-93e1-c8011dca776a"
      },
      "execution_count": 295,
      "outputs": [
        {
          "output_type": "execute_result",
          "data": {
            "text/html": [
              "\n",
              "  <div id=\"df-d231cff4-e189-4c4f-9699-6bf435ef1cba\">\n",
              "    <div class=\"colab-df-container\">\n",
              "      <div>\n",
              "<style scoped>\n",
              "    .dataframe tbody tr th:only-of-type {\n",
              "        vertical-align: middle;\n",
              "    }\n",
              "\n",
              "    .dataframe tbody tr th {\n",
              "        vertical-align: top;\n",
              "    }\n",
              "\n",
              "    .dataframe thead th {\n",
              "        text-align: right;\n",
              "    }\n",
              "</style>\n",
              "<table border=\"1\" class=\"dataframe\">\n",
              "  <thead>\n",
              "    <tr style=\"text-align: right;\">\n",
              "      <th></th>\n",
              "      <th>State</th>\n",
              "      <th>Currency</th>\n",
              "      <th>Country</th>\n",
              "      <th>Timestamp</th>\n",
              "      <th>How old are you?</th>\n",
              "      <th>Industry</th>\n",
              "      <th>Job title</th>\n",
              "      <th>Annual salary</th>\n",
              "      <th>City</th>\n",
              "      <th>Overall years of professional experience</th>\n",
              "      <th>Years of experience in field</th>\n",
              "      <th>Highest level of education completed</th>\n",
              "      <th>Gender</th>\n",
              "      <th>Race</th>\n",
              "    </tr>\n",
              "  </thead>\n",
              "  <tbody>\n",
              "    <tr>\n",
              "      <th>10307</th>\n",
              "      <td>District of Columbia</td>\n",
              "      <td>USD</td>\n",
              "      <td>USA</td>\n",
              "      <td>8/15/2021 10:48:04</td>\n",
              "      <td>45-54</td>\n",
              "      <td>Nonprofits</td>\n",
              "      <td>Director of Operations</td>\n",
              "      <td>0.0</td>\n",
              "      <td>Washington, DC</td>\n",
              "      <td>21 - 30 years</td>\n",
              "      <td>8 - 10 years</td>\n",
              "      <td>Professional degree (MD, JD, etc.)</td>\n",
              "      <td>Woman</td>\n",
              "      <td>Another option not listed here or prefer not t...</td>\n",
              "    </tr>\n",
              "    <tr>\n",
              "      <th>2626</th>\n",
              "      <td>Île-de-France</td>\n",
              "      <td>USD</td>\n",
              "      <td>France</td>\n",
              "      <td>4/28/2021 14:22:58</td>\n",
              "      <td>25-34</td>\n",
              "      <td>Accounting, Banking &amp; Finance</td>\n",
              "      <td>FP&amp;A</td>\n",
              "      <td>0.0</td>\n",
              "      <td>Paris</td>\n",
              "      <td>1 year or less</td>\n",
              "      <td>1 year or less</td>\n",
              "      <td>Master's degree</td>\n",
              "      <td>Man</td>\n",
              "      <td>Asian or Asian American</td>\n",
              "    </tr>\n",
              "    <tr>\n",
              "      <th>23788</th>\n",
              "      <td>Virginia</td>\n",
              "      <td>USD</td>\n",
              "      <td>United States</td>\n",
              "      <td>4/28/2021 13:30:19</td>\n",
              "      <td>25-34</td>\n",
              "      <td>Marketing, Advertising &amp; PR</td>\n",
              "      <td>Content Specialist</td>\n",
              "      <td>0.0</td>\n",
              "      <td>Arlington</td>\n",
              "      <td>2 - 4 years</td>\n",
              "      <td>2 - 4 years</td>\n",
              "      <td>College degree</td>\n",
              "      <td>Woman</td>\n",
              "      <td>White</td>\n",
              "    </tr>\n",
              "    <tr>\n",
              "      <th>2590</th>\n",
              "      <td>North Rhine–Westphalia</td>\n",
              "      <td>USD</td>\n",
              "      <td>Germany</td>\n",
              "      <td>4/29/2021 8:48:06</td>\n",
              "      <td>25-34</td>\n",
              "      <td>Education (Higher Education)</td>\n",
              "      <td>Academic Librarian</td>\n",
              "      <td>0.0</td>\n",
              "      <td>Düsseldorf</td>\n",
              "      <td>2 - 4 years</td>\n",
              "      <td>2 - 4 years</td>\n",
              "      <td>College degree</td>\n",
              "      <td>Woman</td>\n",
              "      <td>White</td>\n",
              "    </tr>\n",
              "  </tbody>\n",
              "</table>\n",
              "</div>\n",
              "      <button class=\"colab-df-convert\" onclick=\"convertToInteractive('df-d231cff4-e189-4c4f-9699-6bf435ef1cba')\"\n",
              "              title=\"Convert this dataframe to an interactive table.\"\n",
              "              style=\"display:none;\">\n",
              "        \n",
              "  <svg xmlns=\"http://www.w3.org/2000/svg\" height=\"24px\"viewBox=\"0 0 24 24\"\n",
              "       width=\"24px\">\n",
              "    <path d=\"M0 0h24v24H0V0z\" fill=\"none\"/>\n",
              "    <path d=\"M18.56 5.44l.94 2.06.94-2.06 2.06-.94-2.06-.94-.94-2.06-.94 2.06-2.06.94zm-11 1L8.5 8.5l.94-2.06 2.06-.94-2.06-.94L8.5 2.5l-.94 2.06-2.06.94zm10 10l.94 2.06.94-2.06 2.06-.94-2.06-.94-.94-2.06-.94 2.06-2.06.94z\"/><path d=\"M17.41 7.96l-1.37-1.37c-.4-.4-.92-.59-1.43-.59-.52 0-1.04.2-1.43.59L10.3 9.45l-7.72 7.72c-.78.78-.78 2.05 0 2.83L4 21.41c.39.39.9.59 1.41.59.51 0 1.02-.2 1.41-.59l7.78-7.78 2.81-2.81c.8-.78.8-2.07 0-2.86zM5.41 20L4 18.59l7.72-7.72 1.47 1.35L5.41 20z\"/>\n",
              "  </svg>\n",
              "      </button>\n",
              "      \n",
              "  <style>\n",
              "    .colab-df-container {\n",
              "      display:flex;\n",
              "      flex-wrap:wrap;\n",
              "      gap: 12px;\n",
              "    }\n",
              "\n",
              "    .colab-df-convert {\n",
              "      background-color: #E8F0FE;\n",
              "      border: none;\n",
              "      border-radius: 50%;\n",
              "      cursor: pointer;\n",
              "      display: none;\n",
              "      fill: #1967D2;\n",
              "      height: 32px;\n",
              "      padding: 0 0 0 0;\n",
              "      width: 32px;\n",
              "    }\n",
              "\n",
              "    .colab-df-convert:hover {\n",
              "      background-color: #E2EBFA;\n",
              "      box-shadow: 0px 1px 2px rgba(60, 64, 67, 0.3), 0px 1px 3px 1px rgba(60, 64, 67, 0.15);\n",
              "      fill: #174EA6;\n",
              "    }\n",
              "\n",
              "    [theme=dark] .colab-df-convert {\n",
              "      background-color: #3B4455;\n",
              "      fill: #D2E3FC;\n",
              "    }\n",
              "\n",
              "    [theme=dark] .colab-df-convert:hover {\n",
              "      background-color: #434B5C;\n",
              "      box-shadow: 0px 1px 3px 1px rgba(0, 0, 0, 0.15);\n",
              "      filter: drop-shadow(0px 1px 2px rgba(0, 0, 0, 0.3));\n",
              "      fill: #FFFFFF;\n",
              "    }\n",
              "  </style>\n",
              "\n",
              "      <script>\n",
              "        const buttonEl =\n",
              "          document.querySelector('#df-d231cff4-e189-4c4f-9699-6bf435ef1cba button.colab-df-convert');\n",
              "        buttonEl.style.display =\n",
              "          google.colab.kernel.accessAllowed ? 'block' : 'none';\n",
              "\n",
              "        async function convertToInteractive(key) {\n",
              "          const element = document.querySelector('#df-d231cff4-e189-4c4f-9699-6bf435ef1cba');\n",
              "          const dataTable =\n",
              "            await google.colab.kernel.invokeFunction('convertToInteractive',\n",
              "                                                     [key], {});\n",
              "          if (!dataTable) return;\n",
              "\n",
              "          const docLinkHtml = 'Like what you see? Visit the ' +\n",
              "            '<a target=\"_blank\" href=https://colab.research.google.com/notebooks/data_table.ipynb>data table notebook</a>'\n",
              "            + ' to learn more about interactive tables.';\n",
              "          element.innerHTML = '';\n",
              "          dataTable['output_type'] = 'display_data';\n",
              "          await google.colab.output.renderOutput(dataTable, element);\n",
              "          const docLink = document.createElement('div');\n",
              "          docLink.innerHTML = docLinkHtml;\n",
              "          element.appendChild(docLink);\n",
              "        }\n",
              "      </script>\n",
              "    </div>\n",
              "  </div>\n",
              "  "
            ],
            "text/plain": [
              "                        State  ...                                               Race\n",
              "10307    District of Columbia  ...  Another option not listed here or prefer not t...\n",
              "2626            Île-de-France  ...                            Asian or Asian American\n",
              "23788                Virginia  ...                                              White\n",
              "2590   North Rhine–Westphalia  ...                                              White\n",
              "\n",
              "[4 rows x 14 columns]"
            ]
          },
          "metadata": {},
          "execution_count": 295
        }
      ]
    },
    {
      "cell_type": "code",
      "source": [
        ""
      ],
      "metadata": {
        "id": "-A0EEIRe4b8z"
      },
      "execution_count": 295,
      "outputs": []
    },
    {
      "cell_type": "code",
      "source": [
        "import seaborn as sns"
      ],
      "metadata": {
        "id": "Cvga8DZPDaEw"
      },
      "execution_count": 296,
      "outputs": []
    },
    {
      "cell_type": "code",
      "source": [
        ""
      ],
      "metadata": {
        "id": "9EoFj2eOJ-ld"
      },
      "execution_count": 296,
      "outputs": []
    },
    {
      "cell_type": "code",
      "source": [
        ""
      ],
      "metadata": {
        "id": "zl7meLseO5vr"
      },
      "execution_count": 296,
      "outputs": []
    },
    {
      "cell_type": "code",
      "source": [
        ""
      ],
      "metadata": {
        "id": "lWyQiIOtO5na"
      },
      "execution_count": 296,
      "outputs": []
    },
    {
      "cell_type": "code",
      "source": [
        "plt.figure(figsize=(25, 10))\n",
        "sns.barplot(x = 'Years of experience in field', y = 'Annual salary', data = salary_df, palette='deep')\n",
        "plt.xticks(rotation = 0)"
      ],
      "metadata": {
        "colab": {
          "base_uri": "https://localhost:8080/",
          "height": 623
        },
        "id": "KU2AuRlFJ-Wn",
        "outputId": "d0904b34-4d96-48ac-aba8-26e50bb0074f"
      },
      "execution_count": 297,
      "outputs": [
        {
          "output_type": "execute_result",
          "data": {
            "text/plain": [
              "(array([0, 1, 2, 3, 4, 5, 6, 7]), <a list of 8 Text major ticklabel objects>)"
            ]
          },
          "metadata": {},
          "execution_count": 297
        },
        {
          "output_type": "display_data",
          "data": {
            "image/png": "[encoded data removed]",
            "text/plain": [
              "<Figure size 1800x720 with 1 Axes>"
            ]
          },
          "metadata": {
            "needs_background": "light"
          }
        }
      ]
    },
    {
      "cell_type": "code",
      "source": [
        ""
      ],
      "metadata": {
        "id": "c1MwwaibGaeO"
      },
      "execution_count": 297,
      "outputs": []
    },
    {
      "cell_type": "code",
      "source": [
        "plt.figure(figsize=(25, 10))\n",
        "sns.barplot(x = 'Highest level of education completed', y = 'Annual salary', data = salary_df, palette='deep')\n",
        "plt.xticks(rotation = 0)"
      ],
      "metadata": {
        "colab": {
          "base_uri": "https://localhost:8080/",
          "height": 623
        },
        "id": "s0626Ow5Izyg",
        "outputId": "b9f33225-7a0b-4eba-db31-ca0427d6473b"
      },
      "execution_count": 298,
      "outputs": [
        {
          "output_type": "execute_result",
          "data": {
            "text/plain": [
              "(array([0, 1, 2, 3, 4, 5]), <a list of 6 Text major ticklabel objects>)"
            ]
          },
          "metadata": {},
          "execution_count": 298
        },
        {
          "output_type": "display_data",
          "data": {
            "image/png": "[encoded data removed]",
            "text/plain": [
              "<Figure size 1800x720 with 1 Axes>"
            ]
          },
          "metadata": {
            "needs_background": "light"
          }
        }
      ]
    },
    {
      "cell_type": "code",
      "source": [
        ""
      ],
      "metadata": {
        "id": "ho7Ea2yWIzmc"
      },
      "execution_count": 298,
      "outputs": []
    },
    {
      "cell_type": "code",
      "source": [
        "plt.figure(figsize=(25, 10))\n",
        "sns.barplot(x = 'Race', y = 'Annual salary', data = salary_df, palette='deep')\n",
        "plt.xticks(rotation = 90)"
      ],
      "metadata": {
        "colab": {
          "base_uri": "https://localhost:8080/",
          "height": 1000
        },
        "id": "ka7SAFf9GaEG",
        "outputId": "d2260e1c-d11c-4950-8859-7f2efd4eefd8"
      },
      "execution_count": 299,
      "outputs": [
        {
          "output_type": "execute_result",
          "data": {
            "text/plain": [
              "(array([ 0,  1,  2,  3,  4,  5,  6,  7,  8,  9, 10, 11, 12, 13, 14, 15, 16,\n",
              "        17, 18, 19, 20, 21, 22, 23, 24, 25, 26, 27, 28, 29, 30, 31, 32, 33,\n",
              "        34, 35, 36, 37, 38, 39, 40, 41, 42, 43, 44, 45, 46, 47]),\n",
              " <a list of 48 Text major ticklabel objects>)"
            ]
          },
          "metadata": {},
          "execution_count": 299
        },
        {
          "output_type": "display_data",
          "data": {
            "image/png": "[encoded data removed]",
            "text/plain": [
              "<Figure size 1800x720 with 1 Axes>"
            ]
          },
          "metadata": {
            "needs_background": "light"
          }
        }
      ]
    },
    {
      "cell_type": "code",
      "source": [
        ""
      ],
      "metadata": {
        "id": "BbCpTgq1GZ1_"
      },
      "execution_count": 299,
      "outputs": []
    },
    {
      "cell_type": "code",
      "source": [
        "plt.figure(figsize=(25, 10))\n",
        "sns.barplot(x = 'Gender', y = 'Annual salary', data = salary_df, palette='deep')\n",
        "plt.xticks(rotation = 0)"
      ],
      "metadata": {
        "colab": {
          "base_uri": "https://localhost:8080/",
          "height": 623
        },
        "id": "3rmhdW8-DZ_T",
        "outputId": "2a9f2652-022d-406a-8574-584e242b4937"
      },
      "execution_count": 300,
      "outputs": [
        {
          "output_type": "execute_result",
          "data": {
            "text/plain": [
              "(array([0, 1, 2, 3, 4]), <a list of 5 Text major ticklabel objects>)"
            ]
          },
          "metadata": {},
          "execution_count": 300
        },
        {
          "output_type": "display_data",
          "data": {
            "image/png": "[encoded data removed]",
            "text/plain": [
              "<Figure size 1800x720 with 1 Axes>"
            ]
          },
          "metadata": {
            "needs_background": "light"
          }
        }
      ]
    },
    {
      "cell_type": "code",
      "source": [
        ""
      ],
      "metadata": {
        "id": "ym-NX8J0DZ6Y"
      },
      "execution_count": 300,
      "outputs": []
    },
    {
      "cell_type": "code",
      "source": [
        ""
      ],
      "metadata": {
        "id": "nMmSG3gbDZ2s"
      },
      "execution_count": 300,
      "outputs": []
    },
    {
      "cell_type": "code",
      "source": [
        ""
      ],
      "metadata": {
        "id": "URERWWaWDZz7"
      },
      "execution_count": 300,
      "outputs": []
    },
    {
      "cell_type": "code",
      "source": [
        ""
      ],
      "metadata": {
        "id": "Gf8h3WiADZn2"
      },
      "execution_count": 300,
      "outputs": []
    },
    {
      "cell_type": "markdown",
      "source": [
        "# **Write the cleaned version to file**"
      ],
      "metadata": {
        "id": "qfplCZAf4x29"
      }
    },
    {
      "cell_type": "code",
      "source": [
        "salary_df.to_csv('Salary Dataframe_CLEANED.csv')"
      ],
      "metadata": {
        "id": "akdqG8ad4buk"
      },
      "execution_count": 301,
      "outputs": []
    }
  ]
}